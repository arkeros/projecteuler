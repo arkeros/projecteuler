{
 "cells": [
  {
   "cell_type": "markdown",
   "metadata": {},
   "source": [
    "# Maximum number of divisors\n",
    "## Problem 485 \n",
    "\n",
    "<div class=\"problem_content\" role=\"problem\">\n",
    "<p>\n",
    "Let d(n) be the number of divisors of n.<br/>\n",
    "Let M(n,k) be the maximum value of d(j) for n &#8804; j &#8804; n+k-1.<br/>\n",
    "Let S(u,k) be the sum of M(n,k) for 1 &#8804; n &#8804; u-k+1.\n",
    "</p>\n",
    "<p>\n",
    "You are given that S(1000,10)=17176.\n",
    "</p>\n",
    "<p>\n",
    "Find S(100 000 000,100 000).\n",
    "</p>\n",
    "</div>"
   ]
  },
  {
   "cell_type": "code",
   "execution_count": null,
   "metadata": {},
   "outputs": [],
   "source": [
    "def solve():\n",
    "    # Your code here\n",
    "    \n"
   ]
  },
  {
   "cell_type": "markdown",
   "metadata": {},
   "source": [
    "## Solution"
   ]
  },
  {
   "cell_type": "code",
   "execution_count": null,
   "metadata": {},
   "outputs": [],
   "source": [
    "solve()"
   ]
  }
 ],
 "metadata": {},
 "nbformat": 4,
 "nbformat_minor": 2
}
