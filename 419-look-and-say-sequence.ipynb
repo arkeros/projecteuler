{
 "cells": [
  {
   "cell_type": "markdown",
   "metadata": {},
   "source": [
    "# Look and say sequence\n",
    "## Problem 419 \n",
    "\n",
    "<div class=\"problem_content\" role=\"problem\">\n",
    "<p>\n",
    "The <b>look and say</b> sequence goes 1, 11, 21, 1211, 111221, 312211, 13112221, 1113213211, ...<br/>\n",
    "The sequence starts with 1 and all other members are obtained by describing the previous member in terms of consecutive digits.<br/>\n",
    "It helps to do this out loud:<br/>\n",
    "1 is 'one one' &#8594; 11<br/>\n",
    "11 is 'two ones' &#8594; 21<br/>\n",
    "21 is 'one two and one one' &#8594; 1211 <br/>\n",
    "1211 is 'one one, one two and two ones' &#8594; 111221<br/>\n",
    "111221 is 'three ones, two twos and one one' &#8594; 312211<br/>\n",
    "...\n",
    "</p>\n",
    "<p>\n",
    "Define A(n), B(n) and C(n) as the number of ones, twos and threes in the n'th element of the sequence respectively.<br/>\n",
    "One can verify that A(40) = 31254, B(40) = 20259 and C(40) = 11625.\n",
    "</p>\n",
    "<p>\n",
    "Find A(n), B(n) and C(n) for n = 10<sup>12</sup>.<br/> \n",
    "Give your answer modulo 2<sup>30</sup> and separate your values for A, B and C by a comma.<br/> \n",
    "E.g. for n = 40 the answer would be 31254,20259,11625\n",
    "</p>\n",
    "</div>"
   ]
  },
  {
   "cell_type": "code",
   "execution_count": null,
   "metadata": {},
   "outputs": [],
   "source": [
    "def solve():\n",
    "    # Your code here\n",
    "    \n"
   ]
  },
  {
   "cell_type": "markdown",
   "metadata": {},
   "source": [
    "## Solution"
   ]
  },
  {
   "cell_type": "code",
   "execution_count": null,
   "metadata": {},
   "outputs": [],
   "source": [
    "solve()"
   ]
  }
 ],
 "metadata": {},
 "nbformat": 4,
 "nbformat_minor": 2
}
