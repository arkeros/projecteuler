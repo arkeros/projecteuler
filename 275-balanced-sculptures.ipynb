{
 "cells": [
  {
   "cell_type": "markdown",
   "metadata": {},
   "source": [
    "# Balanced Sculptures\n",
    "## Problem 275 \n",
    "\n",
    "<div class=\"problem_content\" role=\"problem\">\n",
    "<p>Let us define a <i>balanced sculpture</i> of order <var>n</var> as follows:\n",
    "</p><ul><li>A <dfn title=\"An arrangement of identical squares connected through shared edges; holes are allowed.\">polyomino</dfn> made up of <var>n</var>+1 tiles known as the <i>blocks</i> (<var>n</var> tiles)<br/> and the <i>plinth</i> (remaining tile);</li>\n",
    "<li>the plinth has its centre at position (<var>x</var>&#8201;=&#8201;0, <var>y</var>&#8201;=&#8201;0);</li>\n",
    "<li>the blocks have <var>y</var>-coordinates greater than zero (so the plinth is the unique lowest tile);</li>\n",
    "<li>the centre of mass of all the blocks, combined, has <var>x</var>-coordinate equal to zero.</li>\n",
    "</ul><p>When counting the sculptures, any arrangements which are simply reflections about the <var>y</var>-axis, are <u>not</u> counted as distinct. For example, the 18 balanced sculptures of order 6 are shown below; note that each pair of mirror images (about the <var>y</var>-axis) is counted as one sculpture:</p>\n",
    "<div align=\"center\"><img alt=\"p275_sculptures2.gif\" src=\"project/images/p275_sculptures2.gif\"/></div>\n",
    "<p>There are 964 balanced sculptures of order 10 and 360505 of order 15.<br/>How many balanced sculptures are there of order 18?</p>\n",
    "</div>"
   ]
  },
  {
   "cell_type": "code",
   "execution_count": null,
   "metadata": {},
   "outputs": [],
   "source": [
    "def solve():\n",
    "    # Your code here\n",
    "    \n"
   ]
  },
  {
   "cell_type": "markdown",
   "metadata": {},
   "source": [
    "## Solution"
   ]
  },
  {
   "cell_type": "code",
   "execution_count": null,
   "metadata": {},
   "outputs": [],
   "source": [
    "solve()"
   ]
  }
 ],
 "metadata": {},
 "nbformat": 4,
 "nbformat_minor": 2
}
