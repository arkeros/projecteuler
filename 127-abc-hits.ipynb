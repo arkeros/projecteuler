{
 "cells": [
  {
   "cell_type": "markdown",
   "metadata": {},
   "source": [
    "# abc-hits\n",
    "## Problem 127 \n",
    "\n",
    "<div class=\"problem_content\" role=\"problem\">\n",
    "<p>The radical of <i>n</i>, rad(<i>n</i>), is the product of distinct prime factors of <i>n</i>. For example, 504 = 2<sup>3</sup> &#215; 3<sup>2</sup> &#215; 7, so rad(504) = 2 &#215; 3 &#215; 7 = 42.</p>\n",
    "<p>We shall define the triplet of positive integers (<i>a</i>, <i>b</i>, <i>c</i>) to be an abc-hit if:</p>\n",
    "<ol><li>GCD(<i>a,</i> <i>b</i>) = GCD(<i>a</i>, <i>c</i>) = GCD(<i>b</i>, <i>c</i>) = 1</li>\n",
    "<li><i>a</i> &lt; <i>b</i></li>\n",
    "<li><i>a</i> + <i>b</i> = <i>c</i></li>\n",
    "<li>rad(<i>abc</i>) &lt; <i>c</i></li>\n",
    "</ol><p>For example, (5, 27, 32) is an abc-hit, because:</p>\n",
    "<ol><li>GCD(5, 27) = GCD(5, 32) = GCD(27, 32) = 1</li>\n",
    "<li>5 &lt; 27</li>\n",
    "<li>5 + 27 = 32</li>\n",
    "<li>rad(4320) = 30 &lt; 32</li>\n",
    "</ol><p>It turns out that abc-hits are quite rare and there are only thirty-one abc-hits for <i>c</i> &lt; 1000, with &#8721;<i>c</i> = 12523.</p>\n",
    "<p>Find &#8721;<i>c</i> for <i>c</i> &lt; 120000.</p>\n",
    "</div>"
   ]
  },
  {
   "cell_type": "code",
   "execution_count": null,
   "metadata": {},
   "outputs": [],
   "source": [
    "def solve():\n",
    "    # Your code here\n",
    "    \n"
   ]
  },
  {
   "cell_type": "markdown",
   "metadata": {},
   "source": [
    "## Solution"
   ]
  },
  {
   "cell_type": "code",
   "execution_count": null,
   "metadata": {},
   "outputs": [],
   "source": [
    "solve()"
   ]
  }
 ],
 "metadata": {},
 "nbformat": 4,
 "nbformat_minor": 2
}
