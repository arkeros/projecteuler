{
 "cells": [
  {
   "cell_type": "markdown",
   "metadata": {},
   "source": [
    "# Factorial trailing digits\n",
    "## Problem 160 \n",
    "\n",
    "<div class=\"problem_content\" role=\"problem\">\n",
    "<p>For any N, let f(N) be the last five digits before the trailing zeroes in N!.<br/>\n",
    "For example,</p>\n",
    "<p style=\"margin-left:50px;\">9! = 362880 so f(9)=36288<br/>\n",
    "10! = 3628800 so f(10)=36288<br/>\n",
    "20! = 2432902008176640000 so f(20)=17664</p>\n",
    "<p>Find f(1,000,000,000,000)</p>\n",
    "</div>"
   ]
  },
  {
   "cell_type": "code",
   "execution_count": null,
   "metadata": {},
   "outputs": [],
   "source": [
    "def solve():\n",
    "    # Your code here\n",
    "    \n"
   ]
  },
  {
   "cell_type": "markdown",
   "metadata": {},
   "source": [
    "## Solution"
   ]
  },
  {
   "cell_type": "code",
   "execution_count": null,
   "metadata": {},
   "outputs": [],
   "source": [
    "solve()"
   ]
  }
 ],
 "metadata": {},
 "nbformat": 4,
 "nbformat_minor": 2
}
