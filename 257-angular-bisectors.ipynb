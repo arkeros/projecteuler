{
 "cells": [
  {
   "cell_type": "markdown",
   "metadata": {},
   "source": [
    "# Angular Bisectors\n",
    "## Problem 257 \n",
    "\n",
    "<div class=\"problem_content\" role=\"problem\">\n",
    "<span style=\"font-size:11pt;\">\n",
    "</span><p>Given is an integer sided triangle ABC with sides a &#8804; b &#8804; c. \n",
    "(AB = c, BC = a and AC = b).<br/>\n",
    "The angular bisectors of the triangle intersect the sides at points E, F and G (see picture below).\n",
    "</p>\n",
    "<div align=\"center\">\n",
    "<img alt=\"p257_bisector.gif\" src=\"project/images/p257_bisector.gif\"/><br/></div>\n",
    "<p>\n",
    "The segments EF, EG and FG partition the triangle ABC into four smaller triangles: AEG, BFE, CGF and EFG.<br/>\n",
    "It can be proven that for each of these four triangles the ratio area(ABC)/area(subtriangle) is rational.<br/>\n",
    "However, there exist triangles for which some or all of these ratios are integral.\n",
    "</p>\n",
    "<p>\n",
    "How many triangles ABC with perimeter&#8804;100,000,000 exist so that the ratio area(ABC)/area(AEG) is integral?\n",
    "</p>\n",
    "</div>"
   ]
  },
  {
   "cell_type": "code",
   "execution_count": null,
   "metadata": {},
   "outputs": [],
   "source": [
    "def solve():\n",
    "    # Your code here\n",
    "    \n"
   ]
  },
  {
   "cell_type": "markdown",
   "metadata": {},
   "source": [
    "## Solution"
   ]
  },
  {
   "cell_type": "code",
   "execution_count": null,
   "metadata": {},
   "outputs": [],
   "source": [
    "solve()"
   ]
  }
 ],
 "metadata": {},
 "nbformat": 4,
 "nbformat_minor": 2
}
