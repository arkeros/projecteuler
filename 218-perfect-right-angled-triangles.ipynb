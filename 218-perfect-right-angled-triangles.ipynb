{
 "cells": [
  {
   "cell_type": "markdown",
   "metadata": {},
   "source": [
    "# Perfect right-angled triangles\n",
    "## Problem 218 \n",
    "\n",
    "<div class=\"problem_content\" role=\"problem\">\n",
    "<p>Consider the right angled triangle with sides a=7, b=24 and c=25.\n",
    "The area of this triangle is 84, which is divisible by the perfect numbers 6 and 28.<br/>\n",
    "Moreover it is a primitive right angled triangle as gcd(a,b)=1 and gcd(b,c)=1.<br/>\n",
    "Also c is a perfect square.</p>\n",
    "<p>We will call a right angled triangle perfect if<br/>\n",
    "-it is a primitive right angled triangle<br/>\n",
    "-its hypotenuse is a perfect square</p>\n",
    "<p>We will call a right angled triangle super-perfect if<br/>\n",
    "-it is a perfect right angled triangle and<br/>\n",
    "-its area is a multiple of the perfect numbers 6 and 28.\n",
    "</p>\n",
    "<p>How many perfect right-angled triangles with c&#8804;10<sup>16</sup> exist that are not super-perfect?</p>\n",
    "</div>"
   ]
  },
  {
   "cell_type": "code",
   "execution_count": null,
   "metadata": {},
   "outputs": [],
   "source": [
    "def solve():\n",
    "    # Your code here\n",
    "    \n"
   ]
  },
  {
   "cell_type": "markdown",
   "metadata": {},
   "source": [
    "## Solution"
   ]
  },
  {
   "cell_type": "code",
   "execution_count": null,
   "metadata": {},
   "outputs": [],
   "source": [
    "solve()"
   ]
  }
 ],
 "metadata": {},
 "nbformat": 4,
 "nbformat_minor": 2
}
