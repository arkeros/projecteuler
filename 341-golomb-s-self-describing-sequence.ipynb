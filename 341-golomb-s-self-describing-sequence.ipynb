{
 "cells": [
  {
   "cell_type": "markdown",
   "metadata": {},
   "source": [
    "# Golomb's self-describing sequence\n",
    "## Problem 341 \n",
    "\n",
    "<div class=\"problem_content\" role=\"problem\">\n",
    "<p>The <b>Golomb's self-describing sequence</b> {G(<var>n</var>)} is the only nondecreasing sequence of natural numbers such that <var>n</var> appears exactly G(<var>n</var>) times in the sequence. The values of G(<var>n</var>) for the first few <var>n</var> are</p>\n",
    "<p></p><div align=\"center\">\n",
    "<table align=\"center\" border=\"0\" cellpadding=\"5\" cellspacing=\"1\"><tr><td align=\"left\"><var>n</var></td><td>1</td><td>2</td><td>3</td><td>4</td><td>5</td><td>6</td><td>7</td><td>8</td><td>9</td><td>10</td><td>11</td><td>12</td><td>13</td><td>14</td><td>15</td><td>&#8230;</td></tr><tr><td>G(<var>n</var>)</td><td>1</td><td>2</td><td>2</td><td>3</td><td>3</td><td>4</td><td>4</td><td>4</td><td>5</td><td>5</td><td>5</td><td>6</td><td>6</td><td>6</td><td>6</td><td>&#8230;</td></tr></table></div>\n",
    "<p>You are given that G(10<sup>3</sup>) = 86, G(10<sup>6</sup>) = 6137.<br/>\n",
    "You are also given that &#931;G(<var>n</var><sup>3</sup>) = 153506976 for 1 &#8804; <var>n</var> &lt; 10<sup>3</sup>.</p>\n",
    "<p>Find &#931;G(<var>n</var><sup>3</sup>) for 1 &#8804; <var>n</var> &lt; 10<sup>6</sup>.</p>\n",
    "</div>"
   ]
  },
  {
   "cell_type": "code",
   "execution_count": null,
   "metadata": {},
   "outputs": [],
   "source": [
    "def solve():\n",
    "    # Your code here\n",
    "    \n"
   ]
  },
  {
   "cell_type": "markdown",
   "metadata": {},
   "source": [
    "## Solution"
   ]
  },
  {
   "cell_type": "code",
   "execution_count": null,
   "metadata": {},
   "outputs": [],
   "source": [
    "solve()"
   ]
  }
 ],
 "metadata": {},
 "nbformat": 4,
 "nbformat_minor": 2
}
