{
 "cells": [
  {
   "cell_type": "markdown",
   "metadata": {},
   "source": [
    "# Crazy Function\n",
    "## Problem 340 \n",
    "\n",
    "<div class=\"problem_content\" role=\"problem\">\n",
    "<p>\n",
    "For fixed integers a, b, c, define the <i>crazy function</i> F(<var>n</var>) as follows:<br/>\n",
    "F(<var>n</var>) = <var>n</var> - c for all <var>n</var> &gt; b <br/>\n",
    "F(<var>n</var>) = F(a + F(a + F(a + F(a + <var>n</var>)))) for all <var>n</var> &#8804; b.\n",
    "</p>\n",
    "<p>\n",
    "Also, define S(a, b, c) = <img alt=\"p340_formula.gif\" src=\"project/images/p340_formula.gif\" style=\"vertical-align:middle;\"/>.\n",
    "</p>\n",
    "<p>\n",
    "For example, if a = 50, b = 2000 and c = 40, then F(0) = 3240 and F(2000) = 2040.<br/>\n",
    "Also, S(50, 2000, 40) = 5204240.\n",
    "</p>\n",
    "<p>\n",
    "Find the last 9 digits of S(21<sup>7</sup>, 7<sup>21</sup>, 12<sup>7</sup>).\n",
    "</p>\n",
    "</div>"
   ]
  },
  {
   "cell_type": "code",
   "execution_count": null,
   "metadata": {},
   "outputs": [],
   "source": [
    "def solve():\n",
    "    # Your code here\n",
    "    \n"
   ]
  },
  {
   "cell_type": "markdown",
   "metadata": {},
   "source": [
    "## Solution"
   ]
  },
  {
   "cell_type": "code",
   "execution_count": null,
   "metadata": {},
   "outputs": [],
   "source": [
    "solve()"
   ]
  }
 ],
 "metadata": {},
 "nbformat": 4,
 "nbformat_minor": 2
}
