{
 "cells": [
  {
   "cell_type": "markdown",
   "metadata": {},
   "source": [
    "# Odd Triplets\n",
    "## Problem 242 \n",
    "\n",
    "<div class=\"problem_content\" role=\"problem\">\n",
    "<p>Given the set {1,2,...,<var>n</var>}, we define <var>f</var>(<var>n</var>,<var>k</var>) as the number of its <var>k</var>-element subsets with an odd sum of elements. For example, <var>f</var>(5,3)&#8201;=&#8201;4, since the set {1,2,3,4,5} has four 3-element subsets having an odd sum of elements, i.e.: {1,2,4}, {1,3,5}, {2,3,4} and {2,4,5}.</p>\n",
    "<p>When all three values <var>n</var>, <var>k</var> and <var>f</var>(<var>n</var>,<var>k</var>) are odd, we say that they make <br/>\n",
    "an <i>odd-triplet</i> [<var>n</var>,<var>k</var>,<var>f</var>(<var>n</var>,<var>k</var>)].</p>\n",
    "<p>There are exactly five odd-triplets with <var>n</var>&#8201;&#8804;&#8201;10, namely:<br/>\n",
    "[1,1,<var>f</var>(1,1)&#8201;=&#8201;1], [5,1,<var>f</var>(5,1)&#8201;=&#8201;3], [5,5,<var>f</var>(5,5)&#8201;=&#8201;1], [9,1,<var>f</var>(9,1)&#8201;=&#8201;5] and [9,9,<var>f</var>(9,9)&#8201;=&#8201;1].</p>\n",
    "<p>How many odd-triplets are there with <var>n</var>&#8201;&#8804;&#8201;10<sup>12</sup>&#8201;?</p>\n",
    "</div>"
   ]
  },
  {
   "cell_type": "code",
   "execution_count": null,
   "metadata": {},
   "outputs": [],
   "source": [
    "def solve():\n",
    "    # Your code here\n",
    "    \n"
   ]
  },
  {
   "cell_type": "markdown",
   "metadata": {},
   "source": [
    "## Solution"
   ]
  },
  {
   "cell_type": "code",
   "execution_count": null,
   "metadata": {},
   "outputs": [],
   "source": [
    "solve()"
   ]
  }
 ],
 "metadata": {},
 "nbformat": 4,
 "nbformat_minor": 2
}
