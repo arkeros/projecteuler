{
 "cells": [
  {
   "cell_type": "markdown",
   "metadata": {},
   "source": [
    "# An engineers' dream come true\n",
    "## Problem 263 \n",
    "\n",
    "<div class=\"problem_content\" role=\"problem\">\n",
    "<p>\n",
    "Consider the number 6. The divisors of 6 are: 1,2,3 and 6.<br/>\n",
    "Every number from 1 up to and including 6 can be written as a sum of distinct divisors of 6:<br/>\n",
    "1=1, 2=2, 3=1+2, 4=1+3, 5=2+3, 6=6.<br/>\n",
    "A number <var>n</var> is called a practical number if every number from 1 up to and including <var>n</var> can be expressed as a sum of distinct divisors of <var>n</var>.\n",
    "</p>\n",
    "<p>\n",
    "A pair of consecutive prime numbers with a difference of six is called a sexy pair (since \"sex\" is the Latin word for \"six\"). The first sexy pair is (23, 29).\n",
    "</p>\n",
    "<p>\n",
    "We may occasionally find a triple-pair, which means three consecutive sexy prime pairs, such that the second member of each pair is the first member of the next pair.\n",
    "</p>\n",
    "<p>\n",
    "We shall call a number <var>n</var> such that :\n",
    "</p><ul><li>(<var>n</var>-9, <var>n</var>-3), (<var>n</var>-3,<var>n</var>+3), (<var>n</var>+3, <var>n</var>+9) form a triple-pair, and \n",
    "</li><li>the numbers <var>n</var>-8, <var>n</var>-4, <var>n</var>, <var>n</var>+4 and <var>n</var>+8 are all practical,\n",
    "</li></ul> \n",
    "an engineers&#8217; paradise.\n",
    "\n",
    "<p>\n",
    "Find the sum of the first four engineers&#8217; paradises.\n",
    "</p>\n",
    "</div>"
   ]
  },
  {
   "cell_type": "code",
   "execution_count": null,
   "metadata": {},
   "outputs": [],
   "source": [
    "def solve():\n",
    "    # Your code here\n",
    "    \n"
   ]
  },
  {
   "cell_type": "markdown",
   "metadata": {},
   "source": [
    "## Solution"
   ]
  },
  {
   "cell_type": "code",
   "execution_count": null,
   "metadata": {},
   "outputs": [],
   "source": [
    "solve()"
   ]
  }
 ],
 "metadata": {},
 "nbformat": 4,
 "nbformat_minor": 2
}
