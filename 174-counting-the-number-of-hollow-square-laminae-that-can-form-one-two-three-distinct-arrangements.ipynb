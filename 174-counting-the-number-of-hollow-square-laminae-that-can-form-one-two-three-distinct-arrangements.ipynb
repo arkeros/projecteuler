{
 "cells": [
  {
   "cell_type": "markdown",
   "metadata": {},
   "source": [
    "# Counting the number of \"hollow\" square laminae that can form one, two, three, ... distinct arrangements\n",
    "## Problem 174 \n",
    "\n",
    "<div class=\"problem_content\" role=\"problem\">\n",
    "<p>We shall define a square lamina to be a square outline with a square \"hole\" so that the shape possesses vertical and horizontal symmetry.</p>\n",
    "<p>Given eight tiles it is possible to form a lamina in only one way: 3x3 square with a 1x1 hole in the middle. However, using thirty-two tiles it is possible to form two distinct laminae.</p>\n",
    "<div style=\"text-align:center;\">\n",
    "<img alt=\"\" src=\"project/images/p173_square_laminas.gif\"/></div>\n",
    "<p>If <var>t</var> represents the number of tiles used, we shall say that <var>t</var> = 8 is type L(1) and <var>t</var> = 32 is type L(2).</p>\n",
    "<p>Let N(<var>n</var>) be the number of <var>t</var> &#8804; 1000000 such that <var>t</var> is type L(<var>n</var>); for example, N(15) = 832.</p>\n",
    "<p>What is &#8721; N(<var>n</var>) for 1 &#8804; <var>n</var> &#8804; 10?</p>\n",
    "</div>"
   ]
  },
  {
   "cell_type": "code",
   "execution_count": null,
   "metadata": {},
   "outputs": [],
   "source": [
    "def solve():\n",
    "    # Your code here\n",
    "    \n"
   ]
  },
  {
   "cell_type": "markdown",
   "metadata": {},
   "source": [
    "## Solution"
   ]
  },
  {
   "cell_type": "code",
   "execution_count": null,
   "metadata": {},
   "outputs": [],
   "source": [
    "solve()"
   ]
  }
 ],
 "metadata": {},
 "nbformat": 4,
 "nbformat_minor": 2
}
