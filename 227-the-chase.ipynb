{
 "cells": [
  {
   "cell_type": "markdown",
   "metadata": {},
   "source": [
    "# The Chase\n",
    "## Problem 227 \n",
    "\n",
    "<div class=\"problem_content\" role=\"problem\">\n",
    "<p>\"<i>The Chase</i>\" is a game played with two dice and an even number of players.</p>\n",
    "<p>The players sit around a table; the game begins with two opposite players having one die each. On each turn, the two players with a die roll it.<br/>\n",
    "If a player rolls a 1, he passes the die to his neighbour on the left; if he rolls a 6, he passes the die to his neighbour on the right; otherwise, he keeps the die for the next turn.<br/>\n",
    "The game ends when one player has both dice after they have been rolled and passed; that player has then lost.</p>\n",
    "<p>In a game with 100 players, what is the expected number of turns the game lasts?</p>\n",
    "<p>Give your answer rounded to ten significant digits.</p>\n",
    "</div>"
   ]
  },
  {
   "cell_type": "code",
   "execution_count": null,
   "metadata": {},
   "outputs": [],
   "source": [
    "def solve():\n",
    "    # Your code here\n",
    "    \n"
   ]
  },
  {
   "cell_type": "markdown",
   "metadata": {},
   "source": [
    "## Solution"
   ]
  },
  {
   "cell_type": "code",
   "execution_count": null,
   "metadata": {},
   "outputs": [],
   "source": [
    "solve()"
   ]
  }
 ],
 "metadata": {},
 "nbformat": 4,
 "nbformat_minor": 2
}
