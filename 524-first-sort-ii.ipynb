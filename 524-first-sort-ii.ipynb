{
 "cells": [
  {
   "cell_type": "markdown",
   "metadata": {},
   "source": [
    "# First Sort II\n",
    "## Problem 524 \n",
    "\n",
    "<div class=\"problem_content\" role=\"problem\">\n",
    "<p>Consider the following algorithm for sorting a list:</p>\n",
    "<ul style=\"list-style-type:none;\"><li>1. Starting from the beginning of the list, check each pair of adjacent elements in turn.</li>\n",
    "<li>2. If the elements are out of order:\n",
    "<ul style=\"list-style-type:none;\"><li>a. Move the smallest element of the pair at the beginning of the list.</li>\n",
    "<li>b. Restart the process from step 1.</li></ul></li>\n",
    "<li>3. If all pairs are in order, stop.</li></ul><p>For example, the list { 4 1 3 2 } is sorted as follows:</p>\n",
    "<ul style=\"list-style-type:none;\"><li><u>4 1</u> 3 2  (4 and 1 are out of order so move 1 to the front of the list)</li>\n",
    "<li>1 <u>4 3</u> 2  (4 and 3 are out of order so move 3 to the front of the list)</li>\n",
    "<li><u>3 1</u> 4 2  (3 and 1 are out of order so move 1 to the front of the list)</li>\n",
    "<li>1 3 <u>4 2</u>  (4 and 2 are out of order so move 2 to the front of the list)</li>\n",
    "<li><u>2 1</u> 3 4  (2 and 1 are out of order so move 1 to the front of the list)</li>\n",
    "<li>1 2 3 4  (The list is now sorted)</li></ul><p>Let <var>F</var>(<var>L</var>) be the number of times step 2a is executed to sort list <var>L</var>. For example, <var>F</var>({ 4 1 3 2 }) = 5.</p>\n",
    "<p>We can list all permutations <var>P</var> of the integers {1, 2, ..., <var>n</var>} in <b>lexicographical order</b>, and assign to each permutation an index <var>I</var><sub><var>n</var></sub>(<var>P</var>) from 1 to <var>n</var>! corresponding to its position in the list.\n",
    "\n",
    "</p><p>Let <var>Q</var>(<var>n</var>, <var>k</var>) = min(<var>I</var><sub><var>n</var></sub>(<var>P</var>)) for <var>F</var>(<var>P</var>) = <var>k</var>, the index of the first permutation requiring exactly <var>k</var> steps to sort with First Sort. If there is no permutation for which <var>F</var>(<var>P</var>) = <var>k</var>, then <var>Q</var>(<var>n</var>, <var>k</var>) is undefined.</p>\n",
    "<p>For <var>n</var> = 4 we have:</p>\n",
    "<p></p><table border=\"1\" style=\"text-align:left;\"><tr><th><var>P</var></th><th><var>I</var><sub>4</sub>(<var>P</var>)</th><th><var>F</var>(<var>P</var>)</th><th></th></tr><tr><td>{1, 2, 3, 4}</td><td>1</td><td>0</td><td>Q(4, 0) = 1</td></tr><tr><td>{1, 2, 4, 3}</td><td>2</td><td>4</td><td>Q(4, 4) = 2</td></tr><tr><td>{1, 3, 2, 4}</td><td>3</td><td>2</td><td>Q(4, 2) = 3</td></tr><tr><td>{1, 3, 4, 2}</td><td>4</td><td>2</td><td></td></tr><tr><td>{1, 4, 2, 3}</td><td>5</td><td>6</td><td>Q(4, 6) = 5</td></tr><tr><td>{1, 4, 3, 2}</td><td>6</td><td>4</td><td></td></tr><tr><td>{2, 1, 3, 4}</td><td>7</td><td>1</td><td>Q(4, 1) = 7</td></tr><tr><td>{2, 1, 4, 3}</td><td>8</td><td>5</td><td>Q(4, 5) = 8</td></tr><tr><td>{2, 3, 1, 4}</td><td>9</td><td>1</td><td></td></tr><tr><td>{2, 3, 4, 1}</td><td>10</td><td>1</td><td></td></tr><tr><td>{2, 4, 1, 3}</td><td>11</td><td>5</td><td></td></tr><tr><td>{2, 4, 3, 1}</td><td>12</td><td>3</td><td>Q(4, 3) = 12</td></tr><tr><td>{3, 1, 2, 4}</td><td>13</td><td>3</td><td></td></tr><tr><td>{3, 1, 4, 2}</td><td>14</td><td>3</td><td></td></tr><tr><td>{3, 2, 1, 4}</td><td>15</td><td>2</td><td></td></tr><tr><td>{3, 2, 4, 1}</td><td>16</td><td>2</td><td></td></tr><tr><td>{3, 4, 1, 2}</td><td>17</td><td>3</td><td></td></tr><tr><td>{3, 4, 2, 1}</td><td>18</td><td>2</td><td></td></tr><tr><td>{4, 1, 2, 3}</td><td>19</td><td>7</td><td>Q(4, 7) = 19</td></tr><tr><td>{4, 1, 3, 2}</td><td>20</td><td>5</td><td></td></tr><tr><td>{4, 2, 1, 3}</td><td>21</td><td>6</td><td></td></tr><tr><td>{4, 2, 3, 1}</td><td>22</td><td>4</td><td></td></tr><tr><td>{4, 3, 1, 2}</td><td>23</td><td>4</td><td></td></tr><tr><td>{4, 3, 2, 1}</td><td>24</td><td>3</td><td></td></tr></table><p>Let <var>R</var>(<var>k</var>) = min(<var>Q</var>(<var>n</var>, <var>k</var>)) over all <var>n</var> for which <var>Q</var>(<var>n</var>, <var>k</var>) is defined.</p>\n",
    "<p>Find <var>R</var>(12<sup>12</sup>).</p>\n",
    "</div>"
   ]
  },
  {
   "cell_type": "code",
   "execution_count": null,
   "metadata": {},
   "outputs": [],
   "source": [
    "def solve():\n",
    "    # Your code here\n",
    "    \n"
   ]
  },
  {
   "cell_type": "markdown",
   "metadata": {},
   "source": [
    "## Solution"
   ]
  },
  {
   "cell_type": "code",
   "execution_count": null,
   "metadata": {},
   "outputs": [],
   "source": [
    "solve()"
   ]
  }
 ],
 "metadata": {},
 "nbformat": 4,
 "nbformat_minor": 2
}
