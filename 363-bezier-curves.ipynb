{
 "cells": [
  {
   "cell_type": "markdown",
   "metadata": {},
   "source": [
    "# Bezier Curves\n",
    "## Problem 363 \n",
    "\n",
    "<div class=\"problem_content\" role=\"problem\">\n",
    "<p>A cubic B&#233;zier curve is defined by four points: P<sub>0</sub>, P<sub>1</sub>, P<sub>2</sub> and P<sub>3</sub>.</p>\n",
    "<div style=\"float:right;\"><img alt=\"p363_bezier.png\" src=\"project/images/p363_bezier.png\"/></div>\n",
    "<p>The curve is constructed as follows:<br/>\n",
    "On the segments P<sub>0</sub>P<sub>1</sub>, P<sub>1</sub>P<sub>2</sub> and P<sub>2</sub>P<sub>3</sub> the points Q<sub>0</sub>,Q<sub>1</sub> and Q<sub>2</sub> are drawn such that<br/>\n",
    "P<sub>0</sub>Q<sub>0</sub> / P<sub>0</sub>P<sub>1</sub> = P<sub>1</sub>Q<sub>1</sub> / P<sub>1</sub>P<sub>2</sub> = P<sub>2</sub>Q<sub>2</sub> / P<sub>2</sub>P<sub>3</sub> = t (t in [0,1]).<br/>\n",
    "On the segments Q<sub>0</sub>Q<sub>1</sub> and Q<sub>1</sub>Q<sub>2</sub> the points R<sub>0</sub> and R<sub>1</sub> are drawn such that<br/>\n",
    "Q<sub>0</sub>R<sub>0</sub>  / Q<sub>0</sub>Q<sub>1</sub> = Q<sub>1</sub>R<sub>1</sub> / Q<sub>1</sub>Q<sub>2</sub> = t for the same value of t.<br/>\n",
    "On the segment R<sub>0</sub>R<sub>1</sub> the point B is drawn such that R<sub>0</sub>B / R<sub>0</sub>R<sub>1</sub> = t for the same value of t.<br/>\n",
    "The B&#233;zier curve defined by the points P<sub>0</sub>, P<sub>1</sub>, P<sub>2</sub>, P<sub>3</sub> is the locus of B as Q<sub>0</sub> takes all possible positions on the segment P<sub>0</sub>P<sub>1</sub>.<br/>\n",
    "(Please note that for all points the value of t is the same.)</p>\n",
    "<p style=\"clear:right;\">At <a href=\"http://home.kpn.nl/hklein/bezier/bezier.html\">this (external) web address</a> you will find an applet that allows you to drag the points P<sub>0</sub>, P<sub>1</sub>, P<sub>2</sub> and P<sub>3</sub> to see what the B&#233;zier curve (green curve) defined by those points looks like. You can also drag the point Q<sub>0</sub> along the segment P<sub>0</sub>P<sub>1</sub>.</p>\n",
    "<p>From the construction it is clear that the B&#233;zier curve will be tangent to the segments P<sub>0</sub>P<sub>1</sub> in P<sub>0</sub> and P<sub>2</sub>P<sub>3</sub> in P<sub>3</sub>.</p>\n",
    "<p>A cubic B&#233;zier curve with P<sub>0</sub>=(1,0), P<sub>1</sub>=(1,<var>v</var>), P<sub>2</sub>=(<var>v</var>,1) and P<sub>3</sub>=(0,1) is used to approximate a quarter circle.<br/>\n",
    "The value <var>v</var> &gt; 0 is chosen such that the area enclosed by the lines OP<sub>0</sub>, OP<sub>3</sub> and the curve is equal to <sup>&#960;</sup>/<sub>4</sub> (the area of the quarter circle).</p>\n",
    "<div>By how many percent does the length of the curve differ from the length of the quarter circle?</div>\n",
    "<table><tr><td>That is, if L is the length of the curve, calculate  100 &#215; </td><td><div style=\"text-align:center;\"><div style=\"border-bottom:1px solid #000;\">L &#8722; &#960;/2</div>&#960;/2</div></td></tr></table><div>Give your answer rounded to 10 digits behind the decimal point.</div>\n",
    "</div>"
   ]
  },
  {
   "cell_type": "code",
   "execution_count": null,
   "metadata": {},
   "outputs": [],
   "source": [
    "def solve():\n",
    "    # Your code here\n",
    "    \n"
   ]
  },
  {
   "cell_type": "markdown",
   "metadata": {},
   "source": [
    "## Solution"
   ]
  },
  {
   "cell_type": "code",
   "execution_count": null,
   "metadata": {},
   "outputs": [],
   "source": [
    "solve()"
   ]
  }
 ],
 "metadata": {},
 "nbformat": 4,
 "nbformat_minor": 2
}
