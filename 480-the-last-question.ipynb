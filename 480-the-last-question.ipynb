{
 "cells": [
  {
   "cell_type": "markdown",
   "metadata": {},
   "source": [
    "# The Last Question\n",
    "## Problem 480 \n",
    "\n",
    "<div class=\"problem_content\" role=\"problem\">\n",
    "<p>Consider all the words which can be formed by selecting letters, in any order, from the phrase:</p>\n",
    "<p></p><div style=\"text-align:center;\"><b>thereisasyetinsufficientdataforameaningfulanswer</b></div>\n",
    "<p>Suppose those with 15 letters or less are listed in <b>alphabetical order</b> and numbered sequentially starting at 1.<br/>\n",
    "The list would include:</p>\n",
    "<ul style=\"list-style-type:none;\"><li>1 : a</li>\n",
    "<li>2 : aa</li>\n",
    "<li>3 : aaa</li>\n",
    "<li>4 : aaaa</li>\n",
    "<li>5 : aaaaa</li>\n",
    "<li>6 : aaaaaa</li>\n",
    "<li>7 : aaaaaac</li>\n",
    "<li>8 : aaaaaacd</li>\n",
    "<li>9 : aaaaaacde</li>\n",
    "<li>10 : aaaaaacdee</li>\n",
    "<li>11 : aaaaaacdeee</li>\n",
    "<li>12 : aaaaaacdeeee</li>\n",
    "<li>13 : aaaaaacdeeeee</li>\n",
    "<li>14 : aaaaaacdeeeeee</li>\n",
    "<li>15 : aaaaaacdeeeeeef</li>\n",
    "<li>16 : aaaaaacdeeeeeeg</li>\n",
    "<li>17 : aaaaaacdeeeeeeh</li>\n",
    "<li>...</li>\n",
    "<li>28 : aaaaaacdeeeeeey</li>\n",
    "<li>29 : aaaaaacdeeeeef</li>\n",
    "<li>30 : aaaaaacdeeeeefe</li>\n",
    "<li>...</li>\n",
    "<li>115246685191495242: euleoywuttttsss</li>\n",
    "<li>115246685191495243: euler</li>\n",
    "<li>115246685191495244: eulera</li>\n",
    "<li>...</li>\n",
    "<li>525069350231428029: ywuuttttssssrrr</li></ul><p>Define <var>P</var>(<var>w</var>) as the position of the word <var>w</var>.<br/>\n",
    "Define <var>W</var>(<var>p</var>) as the word in position <var>p</var>.<br/>\n",
    "We can see that <var>P</var>(<var>w</var>) and <var>W</var>(<var>p</var>) are inverses: <var>P</var>(<var>W</var>(<var>p</var>)) = <var>p</var> and <var>W</var>(<var>P</var>(<var>w</var>)) = <var>w</var>.</p>\n",
    "<p>Examples:</p>\n",
    "<ul style=\"list-style-type:none;\"><li><var>W</var>(10) = aaaaaacdee</li>\n",
    "<li><var>P</var>(aaaaaacdee) = 10</li>\n",
    "<li><var>W</var>(115246685191495243) = euler</li>\n",
    "<li><var>P</var>(euler) = 115246685191495243</li></ul><p>Find <var>W</var>(<var>P</var>(legionary) + <var>P</var>(calorimeters) - <var>P</var>(annihilate) + <var>P</var>(orchestrated) - <var>P</var>(fluttering)).<br/>\n",
    "Give your answer using lowercase characters (no punctuation or space).</p>\n",
    "</div>"
   ]
  },
  {
   "cell_type": "code",
   "execution_count": null,
   "metadata": {},
   "outputs": [],
   "source": [
    "def solve():\n",
    "    # Your code here\n",
    "    \n"
   ]
  },
  {
   "cell_type": "markdown",
   "metadata": {},
   "source": [
    "## Solution"
   ]
  },
  {
   "cell_type": "code",
   "execution_count": null,
   "metadata": {},
   "outputs": [],
   "source": [
    "solve()"
   ]
  }
 ],
 "metadata": {},
 "nbformat": 4,
 "nbformat_minor": 2
}
