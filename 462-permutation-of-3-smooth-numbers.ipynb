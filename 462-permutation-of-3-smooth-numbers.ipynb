{
 "cells": [
  {
   "cell_type": "markdown",
   "metadata": {},
   "source": [
    "# Permutation of 3-smooth numbers\n",
    "## Problem 462 \n",
    "\n",
    "<div class=\"problem_content\" role=\"problem\">\n",
    "<p>\n",
    "A <b>3-smooth number</b> is an integer which has no prime factor larger than 3. For an integer <var>N</var>, we define S(<var>N</var>) as the set of 3-smooth numbers less than or equal to <var>N</var> . For example, S(20) = { 1, 2, 3, 4, 6, 8, 9, 12, 16, 18 }.\n",
    "</p>\n",
    "<p>\n",
    "We define F(<var>N</var>) as the number of permutations of S(<var>N</var>) in which each element comes after all of its proper divisors.\n",
    "</p>\n",
    "<p>\n",
    "This is one of the possible permutations for <var>N</var> = 20.<br/>\n",
    "- 1, 2, 4, 3, 9, 8, 16, 6, 18, 12.<br/>\n",
    "This is not a valid permutation because 12 comes before its divisor 6.<br/>\n",
    "- 1, 2, 4, 3, 9, 8, <b>12</b>, 16, <b>6</b>, 18.\n",
    "</p>\n",
    "<p>\n",
    "We can verify that F(6) = 5, F(8) = 9, F(20) = 450 and F(1000) &#8776; 8.8521816557e21.<br/>\n",
    "Find F(10<sup>18</sup>). Give as your answer its scientific notation rounded to ten digits after the decimal point.<br/>\n",
    "When giving your answer, use a lowercase e to separate mantissa and exponent. E.g. if the answer is 112,233,445,566,778,899 then the answer format would be 1.1223344557e17.\n",
    "</p>\n",
    "</div>"
   ]
  },
  {
   "cell_type": "code",
   "execution_count": null,
   "metadata": {},
   "outputs": [],
   "source": [
    "def solve():\n",
    "    # Your code here\n",
    "    \n"
   ]
  },
  {
   "cell_type": "markdown",
   "metadata": {},
   "source": [
    "## Solution"
   ]
  },
  {
   "cell_type": "code",
   "execution_count": null,
   "metadata": {},
   "outputs": [],
   "source": [
    "solve()"
   ]
  }
 ],
 "metadata": {},
 "nbformat": 4,
 "nbformat_minor": 2
}
