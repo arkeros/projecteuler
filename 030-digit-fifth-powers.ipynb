{
 "cells": [
  {
   "cell_type": "markdown",
   "metadata": {},
   "source": [
    "# Digit fifth powers\n",
    "## Problem 30 \n",
    "\n",
    "<div class=\"problem_content\" role=\"problem\">\n",
    "<p>Surprisingly there are only three numbers that can be written as the sum of fourth powers of their digits:</p>\n",
    "<blockquote>1634 = 1<sup>4</sup> + 6<sup>4</sup> + 3<sup>4</sup> + 4<sup>4</sup><br/>\n",
    "8208 = 8<sup>4</sup> + 2<sup>4</sup> + 0<sup>4</sup> + 8<sup>4</sup><br/>\n",
    "9474 = 9<sup>4</sup> + 4<sup>4</sup> + 7<sup>4</sup> + 4<sup>4</sup></blockquote>\n",
    "<p class=\"info\">As 1 = 1<sup>4</sup> is not a sum it is not included.</p>\n",
    "<p>The sum of these numbers is 1634 + 8208 + 9474 = 19316.</p>\n",
    "<p>Find the sum of all the numbers that can be written as the sum of fifth powers of their digits.</p>\n",
    "</div>"
   ]
  },
  {
   "cell_type": "code",
   "execution_count": null,
   "metadata": {},
   "outputs": [],
   "source": [
    "def solve():\n",
    "    # Your code here\n",
    "    \n"
   ]
  },
  {
   "cell_type": "markdown",
   "metadata": {},
   "source": [
    "## Solution"
   ]
  },
  {
   "cell_type": "code",
   "execution_count": null,
   "metadata": {},
   "outputs": [],
   "source": [
    "solve()"
   ]
  }
 ],
 "metadata": {},
 "nbformat": 4,
 "nbformat_minor": 2
}
