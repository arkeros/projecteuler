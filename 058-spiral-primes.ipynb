{
 "cells": [
  {
   "cell_type": "markdown",
   "metadata": {},
   "source": [
    "# Spiral primes\n",
    "## Problem 58 \n",
    "\n",
    "<div class=\"problem_content\" role=\"problem\">\n",
    "<p>Starting with 1 and spiralling anticlockwise in the following way, a square spiral with side length 7 is formed.</p>\n",
    "<p style=\"text-align:center;font-family:'courier new';\"><span style=\"color:#ff0000;font-family:'courier new';\"><b>37</b></span> 36 35 34 33 32 <span style=\"color:#ff0000;font-family:'courier new';\"><b>31</b></span><br/>\n",
    "38 <span style=\"color:#ff0000;font-family:'courier new';\"><b>17</b></span> 16 15 14 <span style=\"color:#ff0000;font-family:'courier new';\"><b>13</b></span> 30<br/>\n",
    "39 18 <span style=\"color:#ff0000;font-family:'courier new';\">&#160;<b>5</b></span> &#160;4 <span style=\"color:#ff0000;font-family:'courier new';\">&#160;<b>3</b></span> 12 29<br/>\n",
    "40 19 &#160;6 &#160;1 &#160;2 11 28<br/>\n",
    "41 20 <span style=\"color:#ff0000;font-family:'courier new';\">&#160;<b>7</b></span> &#160;8 &#160;9 10 27<br/>\n",
    "42 21 22 23 24 25 26<br/><span style=\"color:#ff0000;font-family:'courier new';\"><b>43</b></span> 44 45 46 47 48 49</p>\n",
    "<p>It is interesting to note that the odd squares lie along the bottom right diagonal, but what is more interesting is that 8 out of the 13 numbers lying along both diagonals are prime; that is, a ratio of 8/13 &#8776; 62%.</p>\n",
    "<p>If one complete new layer is wrapped around the spiral above, a square spiral with side length 9 will be formed. If this process is continued, what is the side length of the square spiral for which the ratio of primes along both diagonals first falls below 10%?</p>\n",
    "</div>"
   ]
  },
  {
   "cell_type": "code",
   "execution_count": null,
   "metadata": {},
   "outputs": [],
   "source": [
    "def solve():\n",
    "    # Your code here\n",
    "    \n"
   ]
  },
  {
   "cell_type": "markdown",
   "metadata": {},
   "source": [
    "## Solution"
   ]
  },
  {
   "cell_type": "code",
   "execution_count": null,
   "metadata": {},
   "outputs": [],
   "source": [
    "solve()"
   ]
  }
 ],
 "metadata": {},
 "nbformat": 4,
 "nbformat_minor": 2
}
