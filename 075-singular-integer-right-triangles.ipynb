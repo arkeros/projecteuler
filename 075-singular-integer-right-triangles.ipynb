{
 "cells": [
  {
   "cell_type": "markdown",
   "metadata": {},
   "source": [
    "# Singular integer right triangles\n",
    "## Problem 75 \n",
    "\n",
    "<div class=\"problem_content\" role=\"problem\">\n",
    "<p>It turns out that 12 cm is the smallest length of wire that can be bent to form an integer sided right angle triangle in exactly one way, but there are many more examples.</p>\n",
    "<p style=\"margin-left:50px;\"><b>12 cm</b>: (3,4,5)<br/><b>24 cm</b>: (6,8,10)<br/><b>30 cm</b>: (5,12,13)<br/><b>36 cm</b>: (9,12,15)<br/><b>40 cm</b>: (8,15,17)<br/><b>48 cm</b>: (12,16,20)</p>\n",
    "<p>In contrast, some lengths of wire, like 20 cm, cannot be bent to form an integer sided right angle triangle, and other lengths allow more than one solution to be found; for example, using 120 cm it is possible to form exactly three different integer sided right angle triangles.</p>\n",
    "<p style=\"margin-left:50px;\"><b>120 cm</b>: (30,40,50), (20,48,52), (24,45,51)</p>\n",
    "<p>Given that L is the length of the wire, for how many values of L &#8804; 1,500,000 can exactly one integer sided right angle triangle be formed?</p>\n",
    "</div>"
   ]
  },
  {
   "cell_type": "code",
   "execution_count": null,
   "metadata": {},
   "outputs": [],
   "source": [
    "def solve():\n",
    "    # Your code here\n",
    "    \n"
   ]
  },
  {
   "cell_type": "markdown",
   "metadata": {},
   "source": [
    "## Solution"
   ]
  },
  {
   "cell_type": "code",
   "execution_count": null,
   "metadata": {},
   "outputs": [],
   "source": [
    "solve()"
   ]
  }
 ],
 "metadata": {},
 "nbformat": 4,
 "nbformat_minor": 2
}
