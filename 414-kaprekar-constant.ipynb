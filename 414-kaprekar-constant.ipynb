{
 "cells": [
  {
   "cell_type": "markdown",
   "metadata": {},
   "source": [
    "# Kaprekar constant\n",
    "## Problem 414 \n",
    "\n",
    "<div class=\"problem_content\" role=\"problem\">\n",
    "<p>\n",
    "6174 is a remarkable number; if we sort its digits in increasing order and subtract that number from the number you get when you sort the digits in decreasing order, we get 7641-1467=6174.<br/>\n",
    "Even more remarkable is that if we start from any 4 digit number and repeat this process of sorting and subtracting, we'll eventually end up with 6174 or immediately with 0 if all digits are equal.<br/> \n",
    "This also works with numbers that have less than 4 digits if we pad the number with leading zeroes until we have 4 digits.<br/>\n",
    "E.g. let's start with the number 0837:<br/>\n",
    "8730-0378=8352<br/>\n",
    "8532-2358=6174\n",
    "</p>\n",
    "<p>\n",
    "6174 is called the <b>Kaprekar constant</b>. The process of sorting and subtracting and repeating this until either 0 or the Kaprekar constant is reached is called the <b>Kaprekar routine</b>.\n",
    "</p>\n",
    "<p>\n",
    "We can consider the Kaprekar routine for other bases and number of digits.<br/> \n",
    "Unfortunately, it is not guaranteed a Kaprekar constant exists in all cases; either the routine can end up in a cycle for some input numbers or the constant the routine arrives at can be different for different input numbers.<br/>\n",
    "However, it can be shown that for 5 digits and a base b = 6t+3&#8800;9, a Kaprekar constant exists.<br/>\n",
    "E.g. base 15: (10,4,14,9,5)<sub>15</sub><br/>\n",
    "base 21: (14,6,20,13,7)<sub>21</sub></p>\n",
    "<p>\n",
    "Define <var>C<sub>b</sub></var> to be the Kaprekar constant in base <var>b</var> for 5 digits.\n",
    "Define the function <var>sb(i)</var> to be\n",
    "</p><ul><li> 0 if i = <var>C<sub>b</sub></var> or if <var>i</var> written in base <var>b</var> consists of 5 identical digits\n",
    "</li><li> the number of iterations it takes the Kaprekar routine in base <var>b</var> to arrive at <var>C<sub>b</sub></var>, otherwise\n",
    "</li></ul>\n",
    "Note that we can define <var>sb(i)</var> for all integers <var>i</var> &lt; <var>b</var><sup>5</sup>. If <var>i</var> written in base <var>b</var> takes less than 5 digits, the number is padded with leading zero digits until we have 5 digits before applying the Kaprekar routine.\n",
    "\n",
    "<p>\n",
    "Define <var>S(b)</var> as the sum of <var>sb(i)</var> for 0 &lt; <var>i</var> &lt; <var>b</var><sup>5</sup>.<br/>\n",
    "E.g. S(15) = 5274369<br/> \n",
    "S(111) = 400668930299\n",
    "</p>\n",
    "<p>\n",
    "Find the sum of S(6k+3) for 2 &#8804; k &#8804; 300.<br/>\n",
    "Give the last 18 digits as your answer.\n",
    "</p>\n",
    "</div>"
   ]
  },
  {
   "cell_type": "code",
   "execution_count": null,
   "metadata": {},
   "outputs": [],
   "source": [
    "def solve():\n",
    "    # Your code here\n",
    "    \n"
   ]
  },
  {
   "cell_type": "markdown",
   "metadata": {},
   "source": [
    "## Solution"
   ]
  },
  {
   "cell_type": "code",
   "execution_count": null,
   "metadata": {},
   "outputs": [],
   "source": [
    "solve()"
   ]
  }
 ],
 "metadata": {},
 "nbformat": 4,
 "nbformat_minor": 2
}
