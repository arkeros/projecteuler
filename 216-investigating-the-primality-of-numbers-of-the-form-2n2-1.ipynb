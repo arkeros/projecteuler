{
 "cells": [
  {
   "cell_type": "markdown",
   "metadata": {},
   "source": [
    "# Investigating the primality of numbers of the form 2n2-1\n",
    "## Problem 216 \n",
    "\n",
    "<div class=\"problem_content\" role=\"problem\">\n",
    "<p>Consider numbers <var>t</var>(<var>n</var>) of the form <var>t</var>(<var>n</var>) = 2<var>n</var><sup>2</sup>-1 with <var>n</var> &gt; 1.<br/>\n",
    "The first such numbers are 7, 17, 31, 49, 71, 97, 127 and 161.<br/>\n",
    "It turns out that only 49 = 7*7 and 161 = 7*23 are not prime.<br/>\n",
    "For <var>n</var> &#8804; 10000 there are 2202 numbers <var>t</var>(<var>n</var>)  that are prime.</p>\n",
    "<p>How many numbers <var>t</var>(<var>n</var>) are prime for <var>n</var> &#8804; 50,000,000 ?</p>\n",
    "</div>"
   ]
  },
  {
   "cell_type": "code",
   "execution_count": null,
   "metadata": {},
   "outputs": [],
   "source": [
    "def solve():\n",
    "    # Your code here\n",
    "    \n"
   ]
  },
  {
   "cell_type": "markdown",
   "metadata": {},
   "source": [
    "## Solution"
   ]
  },
  {
   "cell_type": "code",
   "execution_count": null,
   "metadata": {},
   "outputs": [],
   "source": [
    "solve()"
   ]
  }
 ],
 "metadata": {},
 "nbformat": 4,
 "nbformat_minor": 2
}
