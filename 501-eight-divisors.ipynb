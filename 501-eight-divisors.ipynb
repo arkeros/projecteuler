{
 "cells": [
  {
   "cell_type": "markdown",
   "metadata": {},
   "source": [
    "# Eight Divisors\n",
    "## Problem 501 \n",
    "\n",
    "<div class=\"problem_content\" role=\"problem\">\n",
    "<p>The eight divisors of 24 are 1, 2, 3, 4, 6, 8, 12 and 24.\n",
    "The ten numbers not exceeding 100 having exactly eight divisors are 24, 30, 40, 42, 54, 56, 66, 70, 78 and 88.\n",
    "Let <var>f</var>(<var>n</var>) be the count of numbers not exceeding <var>n</var> with exactly eight divisors.<br/>\n",
    "You are given <var>f</var>(100)&#160;=&#160;10, <var>f</var>(1000)&#160;=&#160;180 and <var>f</var>(10<sup>6</sup>)&#160;=&#160;224427.<br/>\n",
    "Find <var>f</var>(10<sup>12</sup>).</p>\n",
    "</div>"
   ]
  },
  {
   "cell_type": "code",
   "execution_count": null,
   "metadata": {},
   "outputs": [],
   "source": [
    "def solve():\n",
    "    # Your code here\n",
    "    \n"
   ]
  },
  {
   "cell_type": "markdown",
   "metadata": {},
   "source": [
    "## Solution"
   ]
  },
  {
   "cell_type": "code",
   "execution_count": null,
   "metadata": {},
   "outputs": [],
   "source": [
    "solve()"
   ]
  }
 ],
 "metadata": {},
 "nbformat": 4,
 "nbformat_minor": 2
}
