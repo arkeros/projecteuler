{
 "cells": [
  {
   "cell_type": "markdown",
   "metadata": {},
   "source": [
    "# Writing n as the product of k distinct positive integers\n",
    "## Problem 495 \n",
    "\n",
    "<div class=\"problem_content\" role=\"problem\">\n",
    "<p>Let <var>W</var>(<var>n</var>,<var>k</var>) be the number of ways in which <var>n</var> can be written as the product of <var>k</var> distinct positive integers.</p>\n",
    "<p>For example, <var>W</var>(144,4) = 7. There are 7 ways in which 144 can be written as a product of 4 distinct positive integers:</p>\n",
    "<p></p><ul><li>144 = 1&#215;2&#215;4&#215;18</li>\n",
    "<li>144 = 1&#215;2&#215;8&#215;9</li>\n",
    "<li>144 = 1&#215;2&#215;3&#215;24</li>\n",
    "<li>144 = 1&#215;2&#215;6&#215;12</li>\n",
    "<li>144 = 1&#215;3&#215;4&#215;12</li>\n",
    "<li>144 = 1&#215;3&#215;6&#215;8</li>\n",
    "<li>144 = 2&#215;3&#215;4&#215;6</li>\n",
    "</ul><p>Note that permutations of the integers themselves are not considered distinct.</p>\n",
    "<p>Furthermore, <var>W</var>(100!,10) modulo 1&#160;000&#160;000&#160;007 = 287549200.</p>\n",
    "<p>Find <var>W</var>(10000!,30) modulo 1&#160;000&#160;000&#160;007.</p>\n",
    "</div>"
   ]
  },
  {
   "cell_type": "code",
   "execution_count": null,
   "metadata": {},
   "outputs": [],
   "source": [
    "def solve():\n",
    "    # Your code here\n",
    "    \n"
   ]
  },
  {
   "cell_type": "markdown",
   "metadata": {},
   "source": [
    "## Solution"
   ]
  },
  {
   "cell_type": "code",
   "execution_count": null,
   "metadata": {},
   "outputs": [],
   "source": [
    "solve()"
   ]
  }
 ],
 "metadata": {},
 "nbformat": 4,
 "nbformat_minor": 2
}
