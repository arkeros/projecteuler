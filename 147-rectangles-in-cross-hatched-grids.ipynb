{
 "cells": [
  {
   "cell_type": "markdown",
   "metadata": {},
   "source": [
    "# Rectangles in cross-hatched grids\n",
    "## Problem 147 \n",
    "\n",
    "<div class=\"problem_content\" role=\"problem\">\n",
    "<p>In a 3x2 cross-hatched grid, a total of 37 different rectangles could be situated within that grid as indicated in the sketch.</p>\n",
    "<div style=\"text-align:center;\"><img alt=\"\" height=\"176\" src=\"project/images/p147.gif\" width=\"361\"/></div>\n",
    "<p>There are 5 grids smaller than 3x2, vertical and horizontal dimensions being important, i.e. 1x1, 2x1, 3x1, 1x2 and 2x2. If each of them is cross-hatched, the following number of different rectangles could be situated within those smaller grids:</p>\n",
    "<p>1x1: 1\n",
    "<br/>2x1: 4\n",
    "<br/>3x1: 8\n",
    "<br/>1x2: 4\n",
    "<br/>2x2: 18</p>\n",
    "<p>Adding those to the 37 of the 3x2 grid, a total of 72 different rectangles could be situated within 3x2 and smaller grids.</p>\n",
    "<p>How many different rectangles could be situated within 47x43 and smaller grids?</p>\n",
    "</div>"
   ]
  },
  {
   "cell_type": "code",
   "execution_count": null,
   "metadata": {},
   "outputs": [],
   "source": [
    "def solve():\n",
    "    # Your code here\n",
    "    \n"
   ]
  },
  {
   "cell_type": "markdown",
   "metadata": {},
   "source": [
    "## Solution"
   ]
  },
  {
   "cell_type": "code",
   "execution_count": null,
   "metadata": {},
   "outputs": [],
   "source": [
    "solve()"
   ]
  }
 ],
 "metadata": {},
 "nbformat": 4,
 "nbformat_minor": 2
}
