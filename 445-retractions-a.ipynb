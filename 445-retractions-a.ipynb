{
 "cells": [
  {
   "cell_type": "markdown",
   "metadata": {},
   "source": [
    "# Retractions A\n",
    "## Problem 445 \n",
    "\n",
    "<div class=\"problem_content\" role=\"problem\">\n",
    "<p>\n",
    "For every integer n&gt;1, the family of functions f<sub>n,a,b</sub>  is defined \n",
    "by f<sub>n,a,b</sub>(<var>x</var>)&#8801;a<var>x</var>+b mod n for a,b,<var>x</var> integer and  0&lt;a&lt;n, 0&#8804;b&lt;n, 0&#8804;<var>x</var>&lt;n.<br/>\n",
    "We will call f<sub>n,a,b</sub> a <i>retraction</i> if f<sub>n,a,b</sub>(f<sub>n,a,b</sub>(<var>x</var>))&#8801;f<sub>n,a,b</sub>(<var>x</var>) mod n for every 0&#8804;<var>x</var>&lt;n.<br/>\n",
    "Let R(n) be the number of retractions for n.\n",
    "</p>\n",
    "<p>\n",
    "You are given that<br/>\n",
    "&#8721; R(c) for c=C(100 000,k), and 1 &#8804; k &#8804;99 999 &#8801;628701600 (mod 1 000 000 007).<br/>\n",
    "(C(n,k) is the binomial coefficient).<br/></p>\n",
    "<p> \n",
    "Find &#8721; R(c) for c=C(10 000 000,k), and 1 &#8804;k&#8804; 9 999 999.<br/>\n",
    "Give your answer modulo 1 000 000 007.\n",
    "</p>\n",
    "</div>"
   ]
  },
  {
   "cell_type": "code",
   "execution_count": null,
   "metadata": {},
   "outputs": [],
   "source": [
    "def solve():\n",
    "    # Your code here\n",
    "    \n"
   ]
  },
  {
   "cell_type": "markdown",
   "metadata": {},
   "source": [
    "## Solution"
   ]
  },
  {
   "cell_type": "code",
   "execution_count": null,
   "metadata": {},
   "outputs": [],
   "source": [
    "solve()"
   ]
  }
 ],
 "metadata": {},
 "nbformat": 4,
 "nbformat_minor": 2
}
