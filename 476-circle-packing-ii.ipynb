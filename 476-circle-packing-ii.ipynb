{
 "cells": [
  {
   "cell_type": "markdown",
   "metadata": {},
   "source": [
    "# Circle Packing II\n",
    "## Problem 476 \n",
    "\n",
    "<div class=\"problem_content\" role=\"problem\">\n",
    "<p>Let <var>R</var>(<var>a</var>, <var>b</var>, <var>c</var>) be the maximum area covered by three non-overlapping circles inside a triangle with edge lengths <var>a</var>, <var>b</var> and <var>c</var>.</p>\n",
    "<p>Let <var>S</var>(<var>n</var>) be the average value of <var>R</var>(<var>a</var>, <var>b</var>, <var>c</var>) over all integer triplets (<var>a</var>, <var>b</var>, <var>c</var>) such that 1&#160;&#8804;&#160;<var>a</var>&#160;&#8804;&#160;<var>b</var>&#160;&#8804;&#160;<var>c</var>&#160;&lt;&#160;<var>a</var>&#160;+&#160;<var>b</var>&#160;&#8804;&#160;<var>n</var></p>\n",
    "<p>You are given <var>S</var>(2) = <var>R</var>(1, 1, 1) &#8776; 0.31998, <var>S</var>(5) &#8776; 1.25899.</p>\n",
    "<p>Find <var>S</var>(1803) rounded to 5 decimal places behind the decimal point.</p>\n",
    "</div>"
   ]
  },
  {
   "cell_type": "code",
   "execution_count": null,
   "metadata": {},
   "outputs": [],
   "source": [
    "def solve():\n",
    "    # Your code here\n",
    "    \n"
   ]
  },
  {
   "cell_type": "markdown",
   "metadata": {},
   "source": [
    "## Solution"
   ]
  },
  {
   "cell_type": "code",
   "execution_count": null,
   "metadata": {},
   "outputs": [],
   "source": [
    "solve()"
   ]
  }
 ],
 "metadata": {},
 "nbformat": 4,
 "nbformat_minor": 2
}
