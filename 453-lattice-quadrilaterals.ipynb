{
 "cells": [
  {
   "cell_type": "markdown",
   "metadata": {},
   "source": [
    "# Lattice Quadrilaterals\n",
    "## Problem 453 \n",
    "\n",
    "<div class=\"problem_content\" role=\"problem\">\n",
    "<p>A <b>simple quadrilateral</b> is a polygon that has four distinct vertices, has no straight angles and does not self-intersect.</p>\n",
    "<p>Let Q(m, n) be the number of simple quadrilaterals whose vertices are lattice points with coordinates (x,y) satisfying 0 &#8804; x &#8804; m and 0 &#8804; y &#8804; n.</p>\n",
    "<p>For example, Q(2, 2) = 94 as can be seen below:</p>\n",
    "<p align=\"center\"><img alt=\"p453_quad.png\" src=\"project/images/p453_quad.png\"/></p>\n",
    "<p>It can also be verified that Q(3, 7) = 39590, Q(12, 3) = 309000 and Q(123, 45) = 70542215894646.</p>\n",
    "<p>Find Q(12345, 6789) mod 135707531.</p>\n",
    "</div>"
   ]
  },
  {
   "cell_type": "code",
   "execution_count": null,
   "metadata": {},
   "outputs": [],
   "source": [
    "def solve():\n",
    "    # Your code here\n",
    "    \n"
   ]
  },
  {
   "cell_type": "markdown",
   "metadata": {},
   "source": [
    "## Solution"
   ]
  },
  {
   "cell_type": "code",
   "execution_count": null,
   "metadata": {},
   "outputs": [],
   "source": [
    "solve()"
   ]
  }
 ],
 "metadata": {},
 "nbformat": 4,
 "nbformat_minor": 2
}
