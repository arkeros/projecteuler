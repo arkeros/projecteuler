{
 "cells": [
  {
   "cell_type": "markdown",
   "metadata": {},
   "source": [
    "# Clock sequence\n",
    "## Problem 506 \n",
    "\n",
    "<div class=\"problem_content\" role=\"problem\">\n",
    "<p>Consider the infinite repeating sequence of digits:<br/>\n",
    "1234321234321234321...</p>\n",
    "<p>Amazingly, you can break this sequence of digits into a sequence of integers such that the sum of the digits in the <var>n</var>'th value is <var>n</var>.</p>\n",
    "<p>The sequence goes as follows:<br/>\n",
    "1, 2, 3, 4, 32, 123, 43, 2123, 432, 1234, 32123, ...</p>\n",
    "<p>Let <var>v<sub>n</sub></var> be the <var>n</var>'th value in this sequence. For example, <var>v</var><sub>2</sub>&#160;=&#160;2, <var>v</var><sub>5</sub>&#160;=&#160;32 and <var>v</var><sub>11</sub>&#160;=&#160;32123.</p>\n",
    "<p>Let <var>S</var>(<var>n</var>) be <var>v</var><sub>1</sub>&#160;+&#160;<var>v</var><sub>2</sub>&#160;+&#160;...&#160;+&#160;<var>v<sub>n</sub></var>. For example, <var>S</var>(11)&#160;=&#160;36120, and <var>S</var>(1000)&#160;mod&#160;123454321&#160;=&#160;18232686.</p>\n",
    "<p>Find <var>S</var>(10<sup>14</sup>)&#160;mod&#160;123454321.</p>\n",
    "</div>"
   ]
  },
  {
   "cell_type": "code",
   "execution_count": null,
   "metadata": {},
   "outputs": [],
   "source": [
    "def solve():\n",
    "    # Your code here\n",
    "    \n"
   ]
  },
  {
   "cell_type": "markdown",
   "metadata": {},
   "source": [
    "## Solution"
   ]
  },
  {
   "cell_type": "code",
   "execution_count": null,
   "metadata": {},
   "outputs": [],
   "source": [
    "solve()"
   ]
  }
 ],
 "metadata": {},
 "nbformat": 4,
 "nbformat_minor": 2
}
