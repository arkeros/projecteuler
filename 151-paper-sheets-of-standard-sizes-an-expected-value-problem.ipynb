{
 "cells": [
  {
   "cell_type": "markdown",
   "metadata": {},
   "source": [
    "# Paper sheets of standard sizes: an expected-value problem\n",
    "## Problem 151 \n",
    "\n",
    "<div class=\"problem_content\" role=\"problem\">\n",
    "<p>A printing shop runs 16 batches (jobs) every week and each batch requires a sheet of special colour-proofing paper of size A5.</p>\n",
    "<p>Every Monday morning, the foreman opens a new envelope, containing a large sheet of the special paper with size A1.</p>\n",
    "<p>He proceeds to cut it in half, thus getting two sheets of size A2. Then he cuts one of them in half to get two sheets of size A3 and so on until he obtains the A5-size sheet needed for the first batch of the week.</p>\n",
    "<p>All the unused sheets are placed back in the envelope.</p>\n",
    "<div style=\"text-align:center;\"><img alt=\"\" height=\"227\" src=\"project/images/p151.gif\" width=\"314\"/></div>\n",
    "<p>At the beginning of each subsequent batch, he takes from the envelope one sheet of paper at random. If it is of size A5, he uses it. If it is larger, he repeats the 'cut-in-half' procedure until he has what he needs and any remaining sheets are always placed back in the envelope.</p>\n",
    "<p>Excluding the first and last batch of the week, find the expected number of times (during each week) that the foreman finds a single sheet of paper in the envelope.</p>\n",
    "<p>Give your answer rounded to six decimal places using the format x.xxxxxx&#160;.</p>\n",
    "</div>"
   ]
  },
  {
   "cell_type": "code",
   "execution_count": null,
   "metadata": {},
   "outputs": [],
   "source": [
    "def solve():\n",
    "    # Your code here\n",
    "    \n"
   ]
  },
  {
   "cell_type": "markdown",
   "metadata": {},
   "source": [
    "## Solution"
   ]
  },
  {
   "cell_type": "code",
   "execution_count": null,
   "metadata": {},
   "outputs": [],
   "source": [
    "solve()"
   ]
  }
 ],
 "metadata": {},
 "nbformat": 4,
 "nbformat_minor": 2
}
