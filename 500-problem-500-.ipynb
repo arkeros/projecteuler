{
 "cells": [
  {
   "cell_type": "markdown",
   "metadata": {},
   "source": [
    "# Problem 500!!!\n",
    "## Problem 500 \n",
    "\n",
    "<div class=\"problem_content\" role=\"problem\">\n",
    "<p>The number of divisors of 120 is 16.<br/>\n",
    "In fact 120 is the smallest number having 16 divisors.\n",
    "</p>\n",
    "<p>\n",
    "Find the smallest number with 2<sup>500500</sup> divisors.<br/>\n",
    "Give your answer modulo 500500507.\n",
    "</p>\n",
    "</div>"
   ]
  },
  {
   "cell_type": "code",
   "execution_count": null,
   "metadata": {},
   "outputs": [],
   "source": [
    "def solve():\n",
    "    # Your code here\n",
    "    \n"
   ]
  },
  {
   "cell_type": "markdown",
   "metadata": {},
   "source": [
    "## Solution"
   ]
  },
  {
   "cell_type": "code",
   "execution_count": null,
   "metadata": {},
   "outputs": [],
   "source": [
    "solve()"
   ]
  }
 ],
 "metadata": {},
 "nbformat": 4,
 "nbformat_minor": 2
}
