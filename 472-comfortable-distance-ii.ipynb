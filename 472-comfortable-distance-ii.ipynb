{
 "cells": [
  {
   "cell_type": "markdown",
   "metadata": {},
   "source": [
    "# Comfortable Distance II\n",
    "## Problem 472 \n",
    "\n",
    "<div class=\"problem_content\" role=\"problem\">\n",
    "<p>There are <var>N</var> seats in a row. <var>N</var> people come one after another to fill the seats according to the following rules:\n",
    "</p><ol><li>No person sits beside another.</li>\n",
    "<li>The first person chooses any seat.</li>\n",
    "<li>Each subsequent person chooses the seat furthest from anyone else already seated, as long as it does not violate rule 1. If there is more than one choice satisfying this condition, then the person chooses the leftmost choice.</li>\n",
    "</ol><p>Note that due to rule 1, some seats will surely be left unoccupied, and the maximum number of people that can be seated is less than <var>N</var> (for <var>N</var> &gt; 1).</p>\n",
    "<p>Here are the possible seating arrangements for <var>N</var> = 15:\n",
    "</p><p align=\"center\"><img alt=\"p472_n15.png\" src=\"project/images/p472_n15.png\"/></p>\n",
    "<p>We see that if the first person chooses correctly, the 15 seats can seat up to 7 people.<br/>\n",
    "We can also see that the first person has 9 choices to maximize the number of people that may be seated.</p>\n",
    "<p>Let f(N) be the number of choices the first person has to maximize the number of occupants for <var>N</var> seats in a row. Thus, f(1)&#160;=&#160;1, f(15)&#160;=&#160;9, f(20)&#160;=&#160;6, and f(500)&#160;=&#160;16.</p>\n",
    "<p>Also, &#8721;f(N) = 83 for 1&#160;&#8804;&#160;<var>N</var>&#160;&#8804;&#160;20 and  &#8721;f(N) = 13343 for 1&#160;&#8804;&#160;<var>N</var>&#160;&#8804;&#160;500.</p>\n",
    "<p>Find &#8721;f(N) for 1&#160;&#8804;&#160;<var>N</var>&#160;&#8804;&#160;10<sup>12</sup>. Give the last 8 digits of your answer.</p>\n",
    "</div>"
   ]
  },
  {
   "cell_type": "code",
   "execution_count": null,
   "metadata": {},
   "outputs": [],
   "source": [
    "def solve():\n",
    "    # Your code here\n",
    "    \n"
   ]
  },
  {
   "cell_type": "markdown",
   "metadata": {},
   "source": [
    "## Solution"
   ]
  },
  {
   "cell_type": "code",
   "execution_count": null,
   "metadata": {},
   "outputs": [],
   "source": [
    "solve()"
   ]
  }
 ],
 "metadata": {},
 "nbformat": 4,
 "nbformat_minor": 2
}
