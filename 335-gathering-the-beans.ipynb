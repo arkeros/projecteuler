{
 "cells": [
  {
   "cell_type": "markdown",
   "metadata": {},
   "source": [
    "# Gathering the beans\n",
    "## Problem 335 \n",
    "\n",
    "<div class=\"problem_content\" role=\"problem\">\n",
    "<p>Whenever Peter feels bored, he places some bowls, containing one bean each, in a circle. After this, he takes all the beans out of a certain bowl and drops them one by one in the bowls going clockwise. He repeats this, starting from the bowl he dropped the last bean in, until the initial situation appears again. For example with 5 bowls he acts as follows:</p>\n",
    "<div align=\"center\"><img alt=\"p335_mancala.gif\" src=\"project/images/p335_mancala.gif\"/></div>\n",
    "<p>So with 5 bowls it takes Peter 15 moves to return to the initial situation.</p>\n",
    "<p>Let <var>M</var>(<var>x</var>) represent the number of moves required to return to the initial situation, starting with <var>x</var> bowls. Thus, <var>M</var>(5) = 15. It can also be verified that <var>M</var>(100) = 10920.</p>\n",
    "<p>Find <img alt=\"p335_sum.gif\" src=\"project/images/p335_sum.gif\" style=\"vertical-align:middle;\"/><var>M</var>(2<sup><var>k</var></sup>+1). Give your answer modulo 7<sup>9</sup>.</p>\n",
    "</div>"
   ]
  },
  {
   "cell_type": "code",
   "execution_count": null,
   "metadata": {},
   "outputs": [],
   "source": [
    "def solve():\n",
    "    # Your code here\n",
    "    \n"
   ]
  },
  {
   "cell_type": "markdown",
   "metadata": {},
   "source": [
    "## Solution"
   ]
  },
  {
   "cell_type": "code",
   "execution_count": null,
   "metadata": {},
   "outputs": [],
   "source": [
    "solve()"
   ]
  }
 ],
 "metadata": {},
 "nbformat": 4,
 "nbformat_minor": 2
}
