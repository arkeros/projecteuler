{
 "cells": [
  {
   "cell_type": "markdown",
   "metadata": {},
   "source": [
    "# Tangent Circles\n",
    "## Problem 510 \n",
    "\n",
    "<div class=\"problem_content\" role=\"problem\">\n",
    "<p>Circles A and B are tangent to each other and to line L at three distinct points.<br/>\n",
    "Circle C is inside the space between A, B and L, and tangent to all three.<br/>\n",
    "Let <var>r</var><sub>A</sub>, <var>r</var><sub>B</sub> and <var>r</var><sub>C</sub> be the radii of A, B and C respectively.<br/></p><div align=\"center\"><img alt=\"p510_tangent_circles.png\" src=\"project/images/p510_tangent_circles.png\"/></div>\n",
    "<p>Let <var>S</var>(<var>n</var>)&#160;=&#160;&#931;&#160;<var>r</var><sub>A</sub>&#160;+&#160;<var>r</var><sub>B</sub>&#160;+&#160;<var>r</var><sub>C</sub>, for 0&#160;&lt;&#160;<var>r</var><sub>A</sub>&#160;&#8804;&#160;<var>r</var><sub>B</sub>&#160;&#8804;&#160;<var>n</var> where <var>r</var><sub>A</sub>, <var>r</var><sub>B</sub> and <var>r</var><sub>C</sub> are integers.\n",
    "The only solution for 0&#160;&lt;&#160;<var>r</var><sub>A</sub>&#160;&#8804;&#160;<var>r</var><sub>B</sub>&#160;&#8804;&#160;5 is <var>r</var><sub>A</sub>&#160;=&#160;4, <var>r</var><sub>B</sub>&#160;=&#160;4 and <var>r</var><sub>C</sub>&#160;=&#160;1, so <var>S</var>(5)&#160;=&#160;4&#160;+&#160;4&#160;+&#160;1&#160;=&#160;9.\n",
    "You are also given <var>S</var>(100)&#160;=&#160;3072.</p>\n",
    "<p>Find <var>S</var>(10<sup>9</sup>).</p>\n",
    "</div>"
   ]
  },
  {
   "cell_type": "code",
   "execution_count": null,
   "metadata": {},
   "outputs": [],
   "source": [
    "def solve():\n",
    "    # Your code here\n",
    "    \n"
   ]
  },
  {
   "cell_type": "markdown",
   "metadata": {},
   "source": [
    "## Solution"
   ]
  },
  {
   "cell_type": "code",
   "execution_count": null,
   "metadata": {},
   "outputs": [],
   "source": [
    "solve()"
   ]
  }
 ],
 "metadata": {},
 "nbformat": 4,
 "nbformat_minor": 2
}
