{
 "cells": [
  {
   "cell_type": "markdown",
   "metadata": {},
   "source": [
    "# Maximum Integer Partition Product\n",
    "## Problem 374 \n",
    "\n",
    "<div class=\"problem_content\" role=\"problem\">\n",
    "<p>An integer partition of a number <var>n</var> is a way of writing <var>n</var> as a sum of positive integers.</p>\n",
    "<p>Partitions that differ only in the order of their summands are considered the same.\n",
    "A partition of <var>n</var> into <b>distinct parts</b> is a partition of <var>n</var> in which every part occurs at most once.</p>\n",
    "<p>The partitions of 5 into distinct parts are:\n",
    "<br/>5, 4+1 and 3+2.</p>\n",
    "<p>Let f(<var>n</var>) be the maximum product of the parts of any such partition of <var>n</var> into distinct parts and let m(<var>n</var>) be the number of elements of any such partition of <var>n</var> with that product.</p>\n",
    "<p>So f(5)=6 and m(5)=2.</p>\n",
    "<p>For <var>n</var>=10 the partition with the largest product is 10=2+3+5, which gives f(10)=30 and m(10)=3.\n",
    "<br/>And their product, f(10)&#183;m(10) = 30&#183;3 = 90</p>\n",
    "<p>It can be verified that\n",
    "<br/>&#8721;f(<var>n</var>)&#183;m(<var>n</var>) for 1 &#8804; <var>n</var> &#8804; 100 = 1683550844462.</p>\n",
    "<p>Find &#8721;f(<var>n</var>)&#183;m(<var>n</var>) for 1 &#8804; <var>n</var> &#8804; 10<sup>14</sup>.\n",
    "<br/>Give your answer modulo 982451653, the 50 millionth prime.</p>\n",
    "</div>"
   ]
  },
  {
   "cell_type": "code",
   "execution_count": null,
   "metadata": {},
   "outputs": [],
   "source": [
    "def solve():\n",
    "    # Your code here\n",
    "    \n"
   ]
  },
  {
   "cell_type": "markdown",
   "metadata": {},
   "source": [
    "## Solution"
   ]
  },
  {
   "cell_type": "code",
   "execution_count": null,
   "metadata": {},
   "outputs": [],
   "source": [
    "solve()"
   ]
  }
 ],
 "metadata": {},
 "nbformat": 4,
 "nbformat_minor": 2
}
