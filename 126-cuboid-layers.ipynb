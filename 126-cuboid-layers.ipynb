{
 "cells": [
  {
   "cell_type": "markdown",
   "metadata": {},
   "source": [
    "# Cuboid layers\n",
    "## Problem 126 \n",
    "\n",
    "<div class=\"problem_content\" role=\"problem\">\n",
    "<p>The minimum number of cubes to cover every visible face on a cuboid measuring 3&#160;x&#160;2&#160;x&#160;1 is twenty-two.</p>\n",
    "<div style=\"text-align:center;\">\n",
    "<img alt=\"\" height=\"247\" src=\"project/images/p126.gif\" width=\"499\"/><br/></div>\n",
    "<p>If we then add a second layer to this solid it would require forty-six cubes to cover every visible face, the third layer would require seventy-eight cubes, and the fourth layer would require one-hundred and eighteen cubes to cover every visible face.</p>\n",
    "<p>However, the first layer on a cuboid measuring 5&#160;x&#160;1&#160;x&#160;1 also requires twenty-two cubes; similarly the first layer on cuboids measuring 5&#160;x&#160;3&#160;x&#160;1, 7&#160;x&#160;2&#160;x&#160;1, and 11&#160;x&#160;1&#160;x&#160;1 all contain forty-six cubes.</p>\n",
    "<p>We shall define C(<i>n</i>) to represent the number of cuboids that contain <i>n</i> cubes in one of its layers. So C(22) = 2, C(46) = 4, C(78) = 5, and C(118) = 8.</p>\n",
    "<p>It turns out that 154 is the least value of <i>n</i> for which C(<i>n</i>) = 10.</p>\n",
    "<p>Find the least value of <i>n</i> for which C(<i>n</i>) = 1000.</p>\n",
    "</div>"
   ]
  },
  {
   "cell_type": "code",
   "execution_count": null,
   "metadata": {},
   "outputs": [],
   "source": [
    "def solve():\n",
    "    # Your code here\n",
    "    \n"
   ]
  },
  {
   "cell_type": "markdown",
   "metadata": {},
   "source": [
    "## Solution"
   ]
  },
  {
   "cell_type": "code",
   "execution_count": null,
   "metadata": {},
   "outputs": [],
   "source": [
    "solve()"
   ]
  }
 ],
 "metadata": {},
 "nbformat": 4,
 "nbformat_minor": 2
}
