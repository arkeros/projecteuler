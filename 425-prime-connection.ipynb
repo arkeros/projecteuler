{
 "cells": [
  {
   "cell_type": "markdown",
   "metadata": {},
   "source": [
    "# Prime connection\n",
    "## Problem 425 \n",
    "\n",
    "<div class=\"problem_content\" role=\"problem\">\n",
    "<p>\n",
    "Two positive numbers A and B are said to be <i>connected</i> (denoted by \"A &#8596; B\") if one of these conditions holds:<br/>\n",
    "(1) A and B have the same length and differ in exactly one digit; for example, 123 &#8596; 173.<br/>\n",
    "(2) Adding one digit to the left of A (or B) makes B (or A); for example, 23 &#8596; 223 and 123 &#8596; 23.\n",
    "</p>\n",
    "<p>\n",
    "We call a prime P a <i>2's relative</i> if there exists a chain of connected primes between 2 and P and no prime in the chain exceeds P.\n",
    "</p>\n",
    "<p>\n",
    "For example, 127 is a 2's relative. One of the possible chains is shown below:<br/>\n",
    "2 &#8596; 3 &#8596; 13 &#8596; 113 &#8596; 103 &#8596; 107 &#8596; 127<br/>\n",
    "However, 11 and 103 are not 2's relatives.\n",
    "</p>\n",
    "<p>\n",
    "Let F(N) be the sum of the primes &#8804; N which are not 2's relatives.<br/>\n",
    "We can verify that F(10<sup>3</sup>) = 431 and F(10<sup>4</sup>) = 78728.\n",
    "</p>\n",
    "<p>\n",
    "Find F(10<sup>7</sup>).\n",
    "</p>\n",
    "</div>"
   ]
  },
  {
   "cell_type": "code",
   "execution_count": null,
   "metadata": {},
   "outputs": [],
   "source": [
    "def solve():\n",
    "    # Your code here\n",
    "    \n"
   ]
  },
  {
   "cell_type": "markdown",
   "metadata": {},
   "source": [
    "## Solution"
   ]
  },
  {
   "cell_type": "code",
   "execution_count": null,
   "metadata": {},
   "outputs": [],
   "source": [
    "solve()"
   ]
  }
 ],
 "metadata": {},
 "nbformat": 4,
 "nbformat_minor": 2
}
