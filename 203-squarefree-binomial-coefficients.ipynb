{
 "cells": [
  {
   "cell_type": "markdown",
   "metadata": {},
   "source": [
    "# Squarefree Binomial Coefficients\n",
    "## Problem 203 \n",
    "\n",
    "<div class=\"problem_content\" role=\"problem\">\n",
    "<p>The binomial coefficients <sup>n</sup>C<sub>k</sub> can be arranged in triangular form, Pascal's triangle, like this:</p>\n",
    "<div style=\"text-align:center;\">\n",
    "<table align=\"center\"><tr><td colspan=\"7\"></td><td>1</td><td colspan=\"7\"></td></tr><tr><td colspan=\"6\"></td><td>1</td><td></td><td>1</td><td colspan=\"6\"></td></tr><tr><td colspan=\"5\"></td><td>1</td><td></td><td>2</td><td></td><td>1</td><td colspan=\"5\"></td></tr><tr><td colspan=\"4\"></td><td>1</td><td></td><td>3</td><td></td><td>3</td><td></td><td>1</td><td colspan=\"4\"></td></tr><tr><td colspan=\"3\"></td><td>1</td><td></td><td>4</td><td></td><td>6</td><td></td><td>4</td><td></td><td>1</td><td colspan=\"3\"></td></tr><tr><td colspan=\"2\"></td><td>1</td><td></td><td>5</td><td></td><td>10</td><td></td><td>10</td><td></td><td>5</td><td></td><td>1</td><td colspan=\"2\"></td></tr><tr><td colspan=\"1\"></td><td>1</td><td></td><td>6</td><td></td><td>15</td><td></td><td>20</td><td></td><td>15</td><td></td><td>6</td><td></td><td>1</td><td colspan=\"1\"></td></tr><tr><td>1</td><td></td><td>7</td><td></td><td>21</td><td></td><td>35</td><td></td><td>35</td><td></td><td>21</td><td></td><td>7</td><td></td><td>1</td></tr></table>\n",
    ".........\n",
    "</div>\n",
    "<p>It can be seen that the first eight rows of Pascal's triangle contain twelve distinct numbers: 1,&#160;2,&#160;3,&#160;4,&#160;5,&#160;6,&#160;7,&#160;10,&#160;15,&#160;20,&#160;21&#160;and&#160;35.</p>\n",
    "<p>A positive integer <var>n</var> is called squarefree if no square of a prime divides <var>n</var>.\n",
    "Of the twelve distinct numbers in the first eight rows of Pascal's triangle, all except 4 and 20 are squarefree.\n",
    "The sum of the distinct squarefree numbers in the first eight rows is 105.</p>\n",
    "<p>Find the sum of the distinct squarefree numbers in the first 51 rows of Pascal's triangle.</p>\n",
    "</div>"
   ]
  },
  {
   "cell_type": "code",
   "execution_count": null,
   "metadata": {},
   "outputs": [],
   "source": [
    "def solve():\n",
    "    # Your code here\n",
    "    \n"
   ]
  },
  {
   "cell_type": "markdown",
   "metadata": {},
   "source": [
    "## Solution"
   ]
  },
  {
   "cell_type": "code",
   "execution_count": null,
   "metadata": {},
   "outputs": [],
   "source": [
    "solve()"
   ]
  }
 ],
 "metadata": {},
 "nbformat": 4,
 "nbformat_minor": 2
}
