{
 "cells": [
  {
   "cell_type": "markdown",
   "metadata": {},
   "source": [
    "# Geometric Progression with Maximum Sum\n",
    "## Problem 542 \n",
    "\n",
    "<div class=\"problem_content\" role=\"problem\">\n",
    "<p>Let <var>S</var>(<var>k</var>) be the sum of three or more distinct positive integers having the following properties:</p>\n",
    "<ul><li>No value exceeds <var>k</var>.</li>\n",
    "<li>The values form a <b>geometric progression</b>.</li>\n",
    "<li>The sum is maximal.</li></ul><p><var>S</var>(4)&#160;=&#160;4&#160;+&#160;2&#160;+&#160;1&#160;=&#160;7<br/><var>S</var>(10)&#160;=&#160;9&#160;+&#160;6&#160;+&#160;4&#160;=&#160;19<br/><var>S</var>(12)&#160;=&#160;12&#160;+&#160;6&#160;+&#160;3&#160;=&#160;21<br/><var>S</var>(1000)&#160;=&#160;1000&#160;+&#160;900&#160;+&#160;810&#160;+&#160;729&#160;=&#160;3439</p>\n",
    "<p>Let $T(n) = \\sum_{k=4}^n (-1)^k S(k)$.<br/><var>T</var>(1000) = 2268</p>\n",
    "<p>Find <var>T</var>(10<sup>17</sup>).</p>\n",
    "</div>"
   ]
  },
  {
   "cell_type": "code",
   "execution_count": null,
   "metadata": {},
   "outputs": [],
   "source": [
    "def solve():\n",
    "    # Your code here\n",
    "    \n"
   ]
  },
  {
   "cell_type": "markdown",
   "metadata": {},
   "source": [
    "## Solution"
   ]
  },
  {
   "cell_type": "code",
   "execution_count": null,
   "metadata": {},
   "outputs": [],
   "source": [
    "solve()"
   ]
  }
 ],
 "metadata": {},
 "nbformat": 4,
 "nbformat_minor": 2
}
