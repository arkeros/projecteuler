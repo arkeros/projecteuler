{
 "cells": [
  {
   "cell_type": "markdown",
   "metadata": {},
   "source": [
    "# Totient sum\n",
    "## Problem 432 \n",
    "\n",
    "<div class=\"problem_content\" role=\"problem\">\n",
    "<p>\n",
    "Let S(<var>n,m</var>) = &#8721;&#966;(<var>n &#215; i</var>) for 1 &#8804; <var>i &#8804; m</var>. (&#966; is Euler's totient function)<br/>\n",
    "You are given that S(510510,10<sup>6</sup> )= 45480596821125120. \n",
    "</p>\n",
    "<p>\n",
    "Find S(510510,10<sup>11</sup>).<br/>\n",
    "Give the last 9 digits of your answer.\n",
    "</p>\n",
    "</div>"
   ]
  },
  {
   "cell_type": "code",
   "execution_count": null,
   "metadata": {},
   "outputs": [],
   "source": [
    "def solve():\n",
    "    # Your code here\n",
    "    \n"
   ]
  },
  {
   "cell_type": "markdown",
   "metadata": {},
   "source": [
    "## Solution"
   ]
  },
  {
   "cell_type": "code",
   "execution_count": null,
   "metadata": {},
   "outputs": [],
   "source": [
    "solve()"
   ]
  }
 ],
 "metadata": {},
 "nbformat": 4,
 "nbformat_minor": 2
}
