{
 "cells": [
  {
   "cell_type": "markdown",
   "metadata": {},
   "source": [
    "# Best Approximations\n",
    "## Problem 192 \n",
    "\n",
    "<div class=\"problem_content\" role=\"problem\">\n",
    "<p>Let <var>x</var> be a real number.<br/>\n",
    "A <i>best approximation</i> to <var>x</var> for the <i>denominator bound</i> <var>d</var> is a rational number <var>r</var>/<var>s</var> <i>in reduced form</i>, with <var>s</var> &#8804; <var>d</var>, such that any rational number which is closer to <var>x</var> than <var>r</var>/<var>s</var> has a denominator larger than <var>d</var>:</p>\n",
    "<div style=\"text-align:center;\">|<var>p</var>/<var>q</var>-<var>x</var>| &lt; |<var>r</var>/<var>s</var>-<var>x</var>| &#8658; <var>q</var> &gt; <var>d</var></div>\n",
    "<p>For example, the best approximation to &#8730;13 for the denominator bound 20 is 18/5 and the best approximation to &#8730;13 for the denominator bound 30 is 101/28.</p>\n",
    "<p>Find the sum of all denominators of the best approximations to &#8730;<var>n</var> for the denominator bound 10<sup>12</sup>, where <var>n</var> is not a perfect square and 1 &lt; <var>n</var> &#8804; 100000.</p>\n",
    "</div>"
   ]
  },
  {
   "cell_type": "code",
   "execution_count": null,
   "metadata": {},
   "outputs": [],
   "source": [
    "def solve():\n",
    "    # Your code here\n",
    "    \n"
   ]
  },
  {
   "cell_type": "markdown",
   "metadata": {},
   "source": [
    "## Solution"
   ]
  },
  {
   "cell_type": "code",
   "execution_count": null,
   "metadata": {},
   "outputs": [],
   "source": [
    "solve()"
   ]
  }
 ],
 "metadata": {},
 "nbformat": 4,
 "nbformat_minor": 2
}
