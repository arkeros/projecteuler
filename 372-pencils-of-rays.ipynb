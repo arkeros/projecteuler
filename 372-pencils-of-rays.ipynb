{
 "cells": [
  {
   "cell_type": "markdown",
   "metadata": {},
   "source": [
    "# Pencils of rays\n",
    "## Problem 372 \n",
    "\n",
    "<div class=\"problem_content\" role=\"problem\">\n",
    "<p>\n",
    "Let R(<var>M</var>, <var>N</var>) be the number of lattice points (<var>x</var>, <var>y</var>) which satisfy <var>M</var>&lt;<var>x</var>&#8804;<var>N</var>, <var>M</var>&lt;<var>y</var>&#8804;<var>N</var> and <img alt=\"p372_pencilray1.jpg\" src=\"project/images/p372_pencilray1.jpg\" style=\"vertical-align:middle;\"/> is odd.<br/>\n",
    "We can verify that R(0, 100) = 3019 and R(100, 10000) = 29750422.<br/>\n",
    "Find R(2&#183;10<sup>6</sup>, 10<sup>9</sup>).\n",
    "</p>\n",
    "<p>\n",
    "<u><i>Note</i></u>: <img alt=\"p372_pencilray2.gif\" src=\"project/images/p372_pencilray2.gif\" style=\"vertical-align:middle;\"/> represents the floor function.</p>\n",
    "</div>"
   ]
  },
  {
   "cell_type": "code",
   "execution_count": null,
   "metadata": {},
   "outputs": [],
   "source": [
    "def solve():\n",
    "    # Your code here\n",
    "    \n"
   ]
  },
  {
   "cell_type": "markdown",
   "metadata": {},
   "source": [
    "## Solution"
   ]
  },
  {
   "cell_type": "code",
   "execution_count": null,
   "metadata": {},
   "outputs": [],
   "source": [
    "solve()"
   ]
  }
 ],
 "metadata": {},
 "nbformat": 4,
 "nbformat_minor": 2
}
