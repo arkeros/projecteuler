{
 "cells": [
  {
   "cell_type": "markdown",
   "metadata": {},
   "source": [
    "# Distinct primes factors\n",
    "## Problem 47 \n",
    "\n",
    "<div class=\"problem_content\" role=\"problem\">\n",
    "<p>The first two consecutive numbers to have two distinct prime factors are:</p>\n",
    "<p style=\"margin-left:100px;\">14 = 2 &#215; 7<br/>15 = 3 &#215; 5</p>\n",
    "<p>The first three consecutive numbers to have three distinct prime factors are:</p>\n",
    "<p style=\"margin-left:100px;\">644 = 2&#178; &#215; 7 &#215; 23<br/>645 = 3 &#215; 5 &#215; 43<br/>646 = 2 &#215; 17 &#215; 19.</p>\n",
    "<p>Find the first four consecutive integers to have four distinct prime factors each. What is the first of these numbers?</p>\n",
    "</div>"
   ]
  },
  {
   "cell_type": "code",
   "execution_count": null,
   "metadata": {},
   "outputs": [],
   "source": [
    "def solve():\n",
    "    # Your code here\n",
    "    \n"
   ]
  },
  {
   "cell_type": "markdown",
   "metadata": {},
   "source": [
    "## Solution"
   ]
  },
  {
   "cell_type": "code",
   "execution_count": null,
   "metadata": {},
   "outputs": [],
   "source": [
    "solve()"
   ]
  }
 ],
 "metadata": {},
 "nbformat": 4,
 "nbformat_minor": 2
}
