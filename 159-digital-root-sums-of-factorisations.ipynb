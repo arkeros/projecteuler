{
 "cells": [
  {
   "cell_type": "markdown",
   "metadata": {},
   "source": [
    "# Digital root sums of factorisations\n",
    "## Problem 159 \n",
    "\n",
    "<div class=\"problem_content\" role=\"problem\">\n",
    "<p>A composite number can be factored many different ways.  \n",
    "For instance, not including multiplication by one, 24 can be factored in 7 distinct ways:</p>\n",
    "<div style=\"margin-left:50px;\">\n",
    "24 = 2x2x2x3<br/>\n",
    "24 = 2x3x4<br/>\n",
    "24 = 2x2x6<br/>\n",
    "24 = 4x6<br/>\n",
    "24 = 3x8<br/>\n",
    "24 = 2x12<br/>\n",
    "24 = 24\n",
    "</div>\n",
    "<p>Recall that the digital root of a number, in base 10, is found by adding together the digits of that number, \n",
    "and repeating that process until a number is arrived at that is less than 10.  \n",
    "Thus the digital root of 467 is 8.</p>\n",
    "<p>We shall call a Digital Root Sum (DRS) the sum of the digital roots of the individual factors of our number.<br/>\n",
    " The chart below demonstrates all of the DRS values for 24.</p>\n",
    "<table align=\"center\" border=\"1\" cellpadding=\"2\" cellspacing=\"0\"><tr><th>Factorisation</th><th>Digital Root Sum</th></tr><tr><td><div style=\"margin-left:20px;\">2x2x2x3</div></td>\n",
    "<td><div style=\"text-align:center;\">9</div></td></tr><tr><td><div style=\"margin-left:20px;\">2x3x4</div></td>\n",
    "<td><div style=\"text-align:center;\">9</div></td></tr><tr><td><div style=\"margin-left:20px;\">2x2x6</div></td>\n",
    "<td><div style=\"text-align:center;\">10</div></td></tr><tr><td><div style=\"margin-left:20px;\">4x6</div></td>\n",
    "<td><div style=\"text-align:center;\">10</div></td></tr><tr><td><div style=\"margin-left:20px;\">3x8</div></td>\n",
    "<td><div style=\"text-align:center;\">11</div></td></tr><tr><td><div style=\"margin-left:20px;\">2x12</div></td>\n",
    "<td><div style=\"text-align:center;\">5</div></td></tr><tr><td><div style=\"margin-left:20px;\">24</div></td>\n",
    "<td><div style=\"text-align:center;\">6</div></td></tr></table><p>The maximum Digital Root Sum  of 24 is 11.<br/>\n",
    "The function mdrs(<var>n</var>) gives the maximum Digital Root Sum of <var>n</var>. So  mdrs(24)=11.<br/>\n",
    "Find &#8721;mdrs(<var>n</var>) for 1 &lt; <var>n</var> &lt; 1,000,000.</p>\n",
    "</div>"
   ]
  },
  {
   "cell_type": "code",
   "execution_count": null,
   "metadata": {},
   "outputs": [],
   "source": [
    "def solve():\n",
    "    # Your code here\n",
    "    \n"
   ]
  },
  {
   "cell_type": "markdown",
   "metadata": {},
   "source": [
    "## Solution"
   ]
  },
  {
   "cell_type": "code",
   "execution_count": null,
   "metadata": {},
   "outputs": [],
   "source": [
    "solve()"
   ]
  }
 ],
 "metadata": {},
 "nbformat": 4,
 "nbformat_minor": 2
}
