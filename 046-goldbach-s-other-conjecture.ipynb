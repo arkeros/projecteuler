{
 "cells": [
  {
   "cell_type": "markdown",
   "metadata": {},
   "source": [
    "# Goldbach's other conjecture\n",
    "## Problem 46 \n",
    "\n",
    "<div class=\"problem_content\" role=\"problem\">\n",
    "<p>It was proposed by Christian Goldbach that every odd composite number can be written as the sum of a prime and twice a square.</p>\n",
    "<p style=\"margin-left:10px;\">9 = 7 + 2&#215;1<sup>2</sup><br/>\n",
    "15 = 7 + 2&#215;2<sup>2</sup><br/>\n",
    "21 = 3 + 2&#215;3<sup>2</sup><br/>\n",
    "25 = 7 + 2&#215;3<sup>2</sup><br/>\n",
    "27 = 19 + 2&#215;2<sup>2</sup><br/>\n",
    "33 = 31 + 2&#215;1<sup>2</sup></p>\n",
    "<p>It turns out that the conjecture was false.</p>\n",
    "<p>What is the smallest odd composite that cannot be written as the sum of a prime and twice a square?</p>\n",
    "</div>"
   ]
  },
  {
   "cell_type": "code",
   "execution_count": null,
   "metadata": {},
   "outputs": [],
   "source": [
    "def solve():\n",
    "    # Your code here\n",
    "    \n"
   ]
  },
  {
   "cell_type": "markdown",
   "metadata": {},
   "source": [
    "## Solution"
   ]
  },
  {
   "cell_type": "code",
   "execution_count": null,
   "metadata": {},
   "outputs": [],
   "source": [
    "solve()"
   ]
  }
 ],
 "metadata": {},
 "nbformat": 4,
 "nbformat_minor": 2
}
