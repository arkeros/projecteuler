{
 "cells": [
  {
   "cell_type": "markdown",
   "metadata": {},
   "source": [
    "# Totient Stairstep Sequences\n",
    "## Problem 337 \n",
    "\n",
    "<div class=\"problem_content\" role=\"problem\">\n",
    "<p>Let {a<sub>1</sub>, a<sub>2</sub>,..., a<sub><var>n</var></sub>} be an integer sequence of length <var>n</var> such that:</p>\n",
    "<ul><li>a<sub>1</sub> = 6</li>\n",
    "<li>for all 1 &#8804; <var>i</var> &lt; <var>n</var> : &#966;(a<sub><var>i</var></sub>) &lt; &#966;(a<sub><var>i</var>+1</sub>) &lt; a<sub><var>i</var></sub> &lt; a<sub><var>i</var>+1</sub><sup>1</sup></li>\n",
    "</ul><p>Let S(<var>N</var>) be the number of such sequences with a<sub><var>n</var></sub> &#8804; <var>N</var>.<br/>\n",
    "For example, S(10) = 4: {6}, {6, 8}, {6, 8, 9} and {6, 10}.<br/>\n",
    "We can verify that S(100) = 482073668 and S(10 000) mod 10<sup>8</sup> = 73808307.</p>\n",
    "<p>Find S(20 000 000) mod 10<sup>8</sup>.</p>\n",
    "<p><sup>1</sup> &#966; denotes <b>Euler's totient function</b>.</p>\n",
    "</div>"
   ]
  },
  {
   "cell_type": "code",
   "execution_count": null,
   "metadata": {},
   "outputs": [],
   "source": [
    "def solve():\n",
    "    # Your code here\n",
    "    \n"
   ]
  },
  {
   "cell_type": "markdown",
   "metadata": {},
   "source": [
    "## Solution"
   ]
  },
  {
   "cell_type": "code",
   "execution_count": null,
   "metadata": {},
   "outputs": [],
   "source": [
    "solve()"
   ]
  }
 ],
 "metadata": {},
 "nbformat": 4,
 "nbformat_minor": 2
}
