{
 "cells": [
  {
   "cell_type": "markdown",
   "metadata": {},
   "source": [
    "# Cake Icing Puzzle\n",
    "## Problem 566 \n",
    "\n",
    "<div class=\"problem_content\" role=\"problem\">\n",
    "<p>Adam plays the following game with his birthday cake.</p>\n",
    "<p>He cuts a piece forming a circular sector of 60 degrees and flips the piece upside down, with the icing on the bottom.<br/>\n",
    "He then rotates the cake by 60 degrees counterclockwise, cuts an adjacent 60 degree piece and flips it upside down.<br/>\n",
    "He keeps repeating this, until after a total of twelve steps, all the icing is back on top.</p>\n",
    "<p>Amazingly, this works for any piece size, even if the cutting angle is an irrational number: all the icing will be back on top after a finite number of steps.</p>\n",
    "<p>Now, Adam tries something different: he alternates cutting pieces of size $x=\\frac{360}{9}$ degrees, $y=\\frac{360}{10}$ degrees and $z=\\frac{360 }{\\sqrt{11}}$ degrees. The first piece he cuts has size <var>x</var> and he flips it. The second has size <var>y</var> and he flips it. The third has size <var>z</var> and he flips it. He repeats this with pieces of size <var>x</var>, <var>y</var> and <var>z</var> in that order until all the icing is back on top, and discovers he needs 60 flips altogether.</p>\n",
    "<div align=\"center\"><img alt=\"p566-cakeicingpuzzle.gif\" src=\"project/images/p566-cakeicingpuzzle.gif\"/></div>\n",
    "<p>Let <var>F</var>(<var>a</var>, <var>b</var>, <var>c</var>) be the minimum number of piece flips needed to get all the icing back on top for pieces of size $x=\\frac{360}{a}$ degrees, $y=\\frac{360}{b}$ degrees and $z=\\frac{360}{\\sqrt{c}}$ degrees.<br/>\n",
    "Let $G(n) = \\sum_{9 \\le a &lt; b &lt; c \\le n} F(a,b,c)$, for integers <var>a</var>, <var>b</var> and <var>c</var>.</p>\n",
    "<p>You are given that <var>F</var>(9,&#160;10,&#160;11)&#160;=&#160;60, <var>F</var>(10,&#160;14,&#160;16)&#160;=&#160;506, <var>F</var>(15,&#160;16,&#160;17)&#160;=&#160;785232.<br/>\n",
    "You are also given <var>G</var>(11)&#160;=&#160;60, <var>G</var>(14)&#160;=&#160;58020 and <var>G</var>(17)&#160;=&#160;1269260.</p>\n",
    "<p>Find <var>G</var>(53).</p>\n",
    "</div>"
   ]
  },
  {
   "cell_type": "code",
   "execution_count": null,
   "metadata": {},
   "outputs": [],
   "source": [
    "def solve():\n",
    "    # Your code here\n",
    "    \n"
   ]
  },
  {
   "cell_type": "markdown",
   "metadata": {},
   "source": [
    "## Solution"
   ]
  },
  {
   "cell_type": "code",
   "execution_count": null,
   "metadata": {},
   "outputs": [],
   "source": [
    "solve()"
   ]
  }
 ],
 "metadata": {},
 "nbformat": 4,
 "nbformat_minor": 2
}
