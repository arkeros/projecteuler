{
 "cells": [
  {
   "cell_type": "markdown",
   "metadata": {},
   "source": [
    "# Biclinic Integral Quadrilaterals\n",
    "## Problem 311 \n",
    "\n",
    "<div class=\"problem_content\" role=\"problem\">\n",
    "<p>ABCD is a convex, integer sided quadrilateral with 1 &#8804; AB &lt; BC &lt; CD &lt; AD.<br/>\n",
    "BD has integer length. O is the midpoint of BD. AO has integer length.<br/>\n",
    "We'll call ABCD a <i>biclinic integral quadrilateral</i> if AO = CO &#8804; BO = DO.<br/></p>\n",
    "<p>For example, the following quadrilateral is a biclinic integral quadrilateral:<br/>\n",
    "AB = 19, BC = 29, CD = 37, AD = 43, BD = 48 and AO = CO = 23.\n",
    "</p>\n",
    "<div align=\"center\"><img alt=\"p311_biclinic.gif\" src=\"project/images/p311_biclinic.gif\"/></div>\n",
    "<p>Let B(<var>N</var>) be the number of distinct biclinic integral quadrilaterals ABCD that satisfy AB<sup>2</sup>+BC<sup>2</sup>+CD<sup>2</sup>+AD<sup>2</sup> &#8804; <var>N</var>.<br/>\n",
    "We can verify that B(10 000) = 49 and B(1 000 000) = 38239.\n",
    "</p>\n",
    "<p>Find B(10 000 000 000).\n",
    "</p>\n",
    "</div>"
   ]
  },
  {
   "cell_type": "code",
   "execution_count": null,
   "metadata": {},
   "outputs": [],
   "source": [
    "def solve():\n",
    "    # Your code here\n",
    "    \n"
   ]
  },
  {
   "cell_type": "markdown",
   "metadata": {},
   "source": [
    "## Solution"
   ]
  },
  {
   "cell_type": "code",
   "execution_count": null,
   "metadata": {},
   "outputs": [],
   "source": [
    "solve()"
   ]
  }
 ],
 "metadata": {},
 "nbformat": 4,
 "nbformat_minor": 2
}
