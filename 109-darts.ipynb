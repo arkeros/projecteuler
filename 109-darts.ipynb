{
 "cells": [
  {
   "cell_type": "markdown",
   "metadata": {},
   "source": [
    "# Darts\n",
    "## Problem 109 \n",
    "\n",
    "<div class=\"problem_content\" role=\"problem\">\n",
    "<p>In the game of darts a player throws three darts at a target board which is split into twenty equal sized sections numbered one to twenty.</p>\n",
    "<div style=\"text-align:center;\">\n",
    "<img alt=\"\" height=\"400\" src=\"project/images/p109.gif\" width=\"400\"/><br/></div>\n",
    "<p>The score of a dart is determined by the number of the region that the dart lands in. A dart landing outside the red/green outer ring scores zero. The black and cream regions inside this ring represent single scores. However, the red/green outer ring and middle ring score double and treble scores respectively.</p>\n",
    "<p>At the centre of the board are two concentric circles called the bull region, or bulls-eye. The outer bull is worth 25 points and the inner bull is a double, worth 50 points.</p>\n",
    "<p>There are many variations of rules but in the most popular game the players will begin with a score 301 or 501 and the first player to reduce their running total to zero is a winner. However, it is normal to play a \"doubles out\" system, which means that the player must land a double (including the double bulls-eye at the centre of the board) on their final dart to win; any other dart that would reduce their running total to one or lower means the score for that set of three darts is \"bust\".</p>\n",
    "<p>When a player is able to finish  on their current score it is called a \"checkout\" and the highest checkout is 170: T20 T20 D25 (two treble 20s and double bull).</p>\n",
    "<p>There are exactly eleven distinct ways to checkout on a score of 6:</p>\n",
    "<div style=\"text-align:center;\">\n",
    "<table align=\"center\" border=\"1\" cellpadding=\"3\" cellspacing=\"0\"><tr><td><img alt=\"\" height=\"1\" src=\"images/spacer.gif\" width=\"80\"/><br/>D3</td>\n",
    "<td><img alt=\"\" height=\"1\" src=\"images/spacer.gif\" width=\"80\"/><br/>&#160;</td>\n",
    "<td><img alt=\"\" height=\"1\" src=\"images/spacer.gif\" width=\"80\"/><br/>&#160;</td>\n",
    "</tr><tr><td>D1</td>\n",
    "<td>D2</td>\n",
    "<td>&#160;</td>\n",
    "</tr><tr><td>S2</td>\n",
    "<td>D2</td>\n",
    "<td>&#160;</td>\n",
    "</tr><tr><td>D2</td>\n",
    "<td>D1</td>\n",
    "<td>&#160;</td>\n",
    "</tr><tr><td>S4</td>\n",
    "<td>D1</td>\n",
    "<td>&#160;</td>\n",
    "</tr><tr><td>S1</td>\n",
    "<td>S1</td>\n",
    "<td>D2</td>\n",
    "</tr><tr><td>S1</td>\n",
    "<td>T1</td>\n",
    "<td>D1</td>\n",
    "</tr><tr><td>S1</td>\n",
    "<td>S3</td>\n",
    "<td>D1</td>\n",
    "</tr><tr><td>D1</td>\n",
    "<td>D1</td>\n",
    "<td>D1</td>\n",
    "</tr><tr><td>D1</td>\n",
    "<td>S2</td>\n",
    "<td>D1</td>\n",
    "</tr><tr><td>S2</td>\n",
    "<td>S2</td>\n",
    "<td>D1</td>\n",
    "</tr></table></div>\n",
    "<p>Note that D1 D2 is considered <b>different</b> to D2 D1 as they finish on different doubles. However, the combination S1 T1 D1 is considered the <b>same</b> as T1 S1 D1.</p>\n",
    "<p>In addition we shall not include misses in considering combinations; for example, D3 is the <b>same</b> as 0 D3 and 0 0 D3.</p>\n",
    "<p>Incredibly there are 42336 distinct ways of checking out in total.</p>\n",
    "<p>How many distinct ways can a player checkout with a score less than 100?</p>\n",
    "</div>"
   ]
  },
  {
   "cell_type": "code",
   "execution_count": null,
   "metadata": {},
   "outputs": [],
   "source": [
    "def solve():\n",
    "    # Your code here\n",
    "    \n"
   ]
  },
  {
   "cell_type": "markdown",
   "metadata": {},
   "source": [
    "## Solution"
   ]
  },
  {
   "cell_type": "code",
   "execution_count": null,
   "metadata": {},
   "outputs": [],
   "source": [
    "solve()"
   ]
  }
 ],
 "metadata": {},
 "nbformat": 4,
 "nbformat_minor": 2
}
