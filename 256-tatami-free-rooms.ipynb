{
 "cells": [
  {
   "cell_type": "markdown",
   "metadata": {},
   "source": [
    "# Tatami-Free Rooms\n",
    "## Problem 256 \n",
    "\n",
    "<div class=\"problem_content\" role=\"problem\">\n",
    "<span style=\"font-size:10pt;\">\n",
    "</span><p>Tatami are rectangular mats, used to completely cover the floor of a room, without overlap.</p>\n",
    "<p>Assuming that the only type of available tatami has dimensions 1&#215;2, there are obviously some limitations for the shape and size of the rooms that can be covered.</p>\n",
    "<p>For this problem, we consider only rectangular rooms with integer dimensions <var>a</var>, <var>b</var> and even size <var>s</var> = <var>a</var>&#183;<var>b</var>.<br/>\n",
    "We use the term 'size' to denote the floor surface area of the room, and &#8212; without loss of generality &#8212; we add the condition <var>a</var> &#8804; <var>b</var>.</p>\n",
    "<p>There is one rule to follow when laying out tatami: there must be no points where corners of four different mats meet.<br/>\n",
    "For example, consider the two arrangements below for a 4&#215;4 room:</p>\n",
    "<div align=\"center\">\n",
    "<img alt=\"p256_tatami3.gif\" src=\"project/images/p256_tatami3.gif\"/><br/></div>\n",
    "<p>The arrangement on the left is acceptable, whereas the one on the right is not: a red \"<span style=\"color:#FF0000;\"><b>X</b></span>\" in the middle, marks the point where four tatami meet.</p>\n",
    "<p>Because of this rule, certain even-sized rooms cannot be covered with tatami: we call them tatami-free rooms.<br/>\n",
    "Further, we define <var>T</var>(<var>s</var>) as the number of tatami-free rooms of size <var>s</var>.</p>\n",
    "<p>The smallest tatami-free room has size <var>s</var> = 70 and dimensions 7&#215;10.<br/>\n",
    "All the other rooms of size <var>s</var> = 70 can be covered with tatami; they are: 1&#215;70, 2&#215;35 and 5&#215;14.<br/>\n",
    "Hence, <var>T</var>(70) = 1.</p>\n",
    "<p>Similarly, we can verify that <var>T</var>(1320) = 5 because there are exactly 5 tatami-free rooms of size <var>s</var> = 1320:<br/>\n",
    "20&#215;66, 22&#215;60, 24&#215;55, 30&#215;44 and 33&#215;40.<br/>\n",
    "In fact, <var>s</var> = 1320 is the smallest room-size <var>s</var> for which <var>T</var>(<var>s</var>) = 5.</p>\n",
    "<p>Find the smallest room-size <var>s</var> for which <var>T</var>(<var>s</var>) = 200.</p>\n",
    "</div>"
   ]
  },
  {
   "cell_type": "code",
   "execution_count": null,
   "metadata": {},
   "outputs": [],
   "source": [
    "def solve():\n",
    "    # Your code here\n",
    "    \n"
   ]
  },
  {
   "cell_type": "markdown",
   "metadata": {},
   "source": [
    "## Solution"
   ]
  },
  {
   "cell_type": "code",
   "execution_count": null,
   "metadata": {},
   "outputs": [],
   "source": [
    "solve()"
   ]
  }
 ],
 "metadata": {},
 "nbformat": 4,
 "nbformat_minor": 2
}
