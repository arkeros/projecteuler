{
 "cells": [
  {
   "cell_type": "markdown",
   "metadata": {},
   "source": [
    "# The inverse summation of coprime couples\n",
    "## Problem 441 \n",
    "\n",
    "<div class=\"problem_content\" role=\"problem\">\n",
    "<p>\n",
    "For an integer <var>M</var>, we define R(<var>M</var>) as the sum of 1/(<var>p</var>&#183;<var>q</var>) for all the integer pairs <var>p</var> and <var>q</var> which satisfy all of these conditions:\n",
    "</p>\n",
    "<ul><li> 1 &#8804; <var>p</var> &lt; <var>q</var> &#8804; <var>M</var></li>\n",
    "<li> <var>p</var> + <var>q</var> &#8805; <var>M</var></li>\n",
    "<li> <var>p</var> and <var>q</var> are coprime.</li>\n",
    "</ul><p>\n",
    "We also define S(<var>N</var>) as the sum of R(<var>i</var>) for 2 &#8804; <var>i</var> &#8804; <var>N</var>.<br/>\n",
    "We can verify that S(2) = R(2) = 1/2, S(10) &#8776; 6.9147 and S(100) &#8776; 58.2962.\n",
    "</p>\n",
    "<p>\n",
    "Find S(10<sup>7</sup>). Give your answer rounded to four decimal places.\n",
    "</p>\n",
    "</div>"
   ]
  },
  {
   "cell_type": "code",
   "execution_count": null,
   "metadata": {},
   "outputs": [],
   "source": [
    "def solve():\n",
    "    # Your code here\n",
    "    \n"
   ]
  },
  {
   "cell_type": "markdown",
   "metadata": {},
   "source": [
    "## Solution"
   ]
  },
  {
   "cell_type": "code",
   "execution_count": null,
   "metadata": {},
   "outputs": [],
   "source": [
    "solve()"
   ]
  }
 ],
 "metadata": {},
 "nbformat": 4,
 "nbformat_minor": 2
}
