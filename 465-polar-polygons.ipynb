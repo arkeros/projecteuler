{
 "cells": [
  {
   "cell_type": "markdown",
   "metadata": {},
   "source": [
    "# Polar polygons\n",
    "## Problem 465 \n",
    "\n",
    "<div class=\"problem_content\" role=\"problem\">\n",
    "<p>The <i>kernel</i> of a polygon is defined by the set of points from which the entire polygon's boundary is visible. We define a <i>polar polygon</i> as a polygon for which the origin is <u>strictly</u> contained inside its kernel.</p>\n",
    "<p>For this problem, a polygon can have collinear consecutive vertices. However, a polygon still cannot have self-intersection and cannot have zero area.</p>\n",
    "<p>For example, only the first of the following is a polar polygon (the kernels of the second, third, and fourth do not strictly contain the origin, and the fifth does not have a kernel at all):\n",
    "</p><p align=\"center\"><img alt=\"p465_polygons.png\" src=\"project/images/p465_polygons.png\"/></p>\n",
    "<p>Notice that the first polygon has three consecutive collinear vertices.</p>\n",
    "<p>Let P(<var>n</var>) be the number of polar polygons such that the vertices (<var>x</var>, <var>y</var>) have integer coordinates whose absolute values are not greater than <var>n</var>.</p>\n",
    "<p>Note that polygons should be counted as different if they have different set of edges, even if they enclose the same area. For example, the polygon with vertices [(0,0),(0,3),(1,1),(3,0)] is distinct from the polygon with vertices [(0,0),(0,3),(1,1),(3,0),(1,0)].</p>\n",
    "<p>For example, P(1) = 131, P(2) = 1648531, P(3) = 1099461296175 and P(343) mod 1&#160;000&#160;000&#160;007 = 937293740.</p>\n",
    "<p>Find P(7<sup>13</sup>) mod 1&#160;000&#160;000&#160;007.</p>\n",
    "</div>"
   ]
  },
  {
   "cell_type": "code",
   "execution_count": null,
   "metadata": {},
   "outputs": [],
   "source": [
    "def solve():\n",
    "    # Your code here\n",
    "    \n"
   ]
  },
  {
   "cell_type": "markdown",
   "metadata": {},
   "source": [
    "## Solution"
   ]
  },
  {
   "cell_type": "code",
   "execution_count": null,
   "metadata": {},
   "outputs": [],
   "source": [
    "solve()"
   ]
  }
 ],
 "metadata": {},
 "nbformat": 4,
 "nbformat_minor": 2
}
