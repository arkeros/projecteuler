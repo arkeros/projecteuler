{
 "cells": [
  {
   "cell_type": "markdown",
   "metadata": {},
   "source": [
    "# Four Representations using Squares\n",
    "## Problem 229 \n",
    "\n",
    "<div class=\"problem_content\" role=\"problem\">\n",
    "<p>Consider the number 3600. It is very special, because</p>\n",
    "<div style=\"margin-left:200px;\">\n",
    "3600 = 48<sup>2</sup> + &#160;&#160; &#160;36<sup>2</sup><br/><br/>\n",
    "3600 = 20<sup>2</sup> + 2&#215;40<sup>2</sup><br/><br/>\n",
    "3600 = 30<sup>2</sup> + 3&#215;30<sup>2</sup><br/><br/>\n",
    "3600 = 45<sup>2</sup> + 7&#215;15<sup>2</sup><br/><br/></div>\n",
    "<p>Similarly, we find that 88201 = 99<sup>2</sup> + 280<sup>2</sup> = 287<sup>2</sup> + 2&#215;54<sup>2</sup> = 283<sup>2</sup> + 3&#215;52<sup>2</sup> = 197<sup>2</sup> + 7&#215;84<sup>2</sup>.</p>\n",
    "<p>In 1747, Euler proved which numbers are representable as a sum of two squares.\n",
    "We are interested in the numbers <var>n</var> which admit representations of all of the following four types:</p>\n",
    "<div style=\"margin-left:200px;\">\n",
    "<var>n</var> = <var>a<sub>1</sub></var><sup>2</sup> + &#160; <var>b<sub>1</sub></var><sup>2</sup><br/><br/><var>n</var> = <var>a<sub>2</sub></var><sup>2</sup> + 2 <var>b<sub>2</sub></var><sup>2</sup><br/><br/><var>n</var> = <var>a<sub>3</sub></var><sup>2</sup> + 3 <var>b<sub>3</sub></var><sup>2</sup><br/><br/><var>n</var> = <var>a<sub>7</sub></var><sup>2</sup> + 7 <var>b<sub>7</sub></var><sup>2</sup>,\n",
    "</div>\n",
    "<p>where the <var>a</var><sub><var>k</var></sub> and <var>b</var><sub><var>k</var></sub> are positive integers.</p>\n",
    "<p>There are 75373 such numbers that do not exceed 10<sup>7</sup>.<br/>\n",
    "\n",
    "How many such numbers are there that do not exceed 2&#215;10<sup>9</sup>?</p>\n",
    "</div>"
   ]
  },
  {
   "cell_type": "code",
   "execution_count": null,
   "metadata": {},
   "outputs": [],
   "source": [
    "def solve():\n",
    "    # Your code here\n",
    "    \n"
   ]
  },
  {
   "cell_type": "markdown",
   "metadata": {},
   "source": [
    "## Solution"
   ]
  },
  {
   "cell_type": "code",
   "execution_count": null,
   "metadata": {},
   "outputs": [],
   "source": [
    "solve()"
   ]
  }
 ],
 "metadata": {},
 "nbformat": 4,
 "nbformat_minor": 2
}
