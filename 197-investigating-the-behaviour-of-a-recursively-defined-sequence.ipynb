{
 "cells": [
  {
   "cell_type": "markdown",
   "metadata": {},
   "source": [
    "# Investigating the behaviour of a recursively defined sequence\n",
    "## Problem 197 \n",
    "\n",
    "<div class=\"problem_content\" role=\"problem\">\n",
    "<p>Given is the function <var>f</var>(<var>x</var>) = &#8970;2<sup>30.403243784-<var>x</var><sup>2</sup></sup>&#8971; &#215; 10<sup>-9</sup> ( &#8970; &#8971; is the floor-function),<br/>\n",
    "the sequence <var>u<sub>n</sub></var> is defined by <var>u</var><sub>0</sub> = -1 and <var>u</var><sub><var>n</var>+1</sub> = <var>f</var>(<var>u<sub>n</sub></var>).</p>\n",
    "<p>Find <var>u<sub>n</sub></var> + <var>u</var><sub><var>n</var>+1</sub> for <var>n</var> = 10<sup>12</sup>.<br/>\n",
    "Give your answer with 9 digits after the decimal point.</p>\n",
    "</div>"
   ]
  },
  {
   "cell_type": "code",
   "execution_count": null,
   "metadata": {},
   "outputs": [],
   "source": [
    "def solve():\n",
    "    # Your code here\n",
    "    \n"
   ]
  },
  {
   "cell_type": "markdown",
   "metadata": {},
   "source": [
    "## Solution"
   ]
  },
  {
   "cell_type": "code",
   "execution_count": null,
   "metadata": {},
   "outputs": [],
   "source": [
    "solve()"
   ]
  }
 ],
 "metadata": {},
 "nbformat": 4,
 "nbformat_minor": 2
}
