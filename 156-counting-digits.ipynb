{
 "cells": [
  {
   "cell_type": "markdown",
   "metadata": {},
   "source": [
    "# Counting Digits\n",
    "## Problem 156 \n",
    "\n",
    "<div class=\"problem_content\" role=\"problem\">\n",
    "<p>Starting from zero the natural numbers are written down in base 10 like this:\n",
    "<br/>\n",
    "0 1 2 3 4 5 6 7 8 9 10 11 12....\n",
    "</p>\n",
    "<p>Consider the digit <var>d</var>=1. After we write down each number <var>n</var>, we will update the number of ones that have occurred and call this number <var>f</var>(<var>n</var>,1). The first values for <var>f</var>(<var>n</var>,1), then, are as follows:</p>\n",
    "<div style=\"text-align:center;\">\n",
    "<table align=\"center\" style=\"text-align:center;\"><tr><td><var>n</var></td><td><var>f</var>(<var>n</var>,1)</td>\n",
    "</tr><tr><td>0</td><td>0</td>\n",
    "</tr><tr><td>1</td><td>1</td>\n",
    "</tr><tr><td>2</td><td>1</td>\n",
    "</tr><tr><td>3</td><td>1</td>\n",
    "</tr><tr><td>4</td><td>1</td>\n",
    "</tr><tr><td>5</td><td>1</td>\n",
    "</tr><tr><td>6</td><td>1</td>\n",
    "</tr><tr><td>7</td><td>1</td>\n",
    "</tr><tr><td>8</td><td>1</td>\n",
    "</tr><tr><td>9</td><td>1</td>\n",
    "</tr><tr><td>10</td><td>2</td>\n",
    "</tr><tr><td>11</td><td>4</td>\n",
    "</tr><tr><td>12</td><td>5</td>\n",
    "</tr></table></div>\n",
    "<p>Note that <var>f</var>(<var>n</var>,1) never equals 3.\n",
    "<br/>\n",
    "So the first two solutions of the equation <var>f</var>(<var>n</var>,1)=<var>n</var> are <var>n</var>=0 and <var>n</var>=1. The next solution is <var>n</var>=199981.</p>\n",
    "<p>In the same manner the function <var>f</var>(<var>n,d</var>) gives the total number of digits <var>d</var> that have been written down after the number <var>n</var> has been written.\n",
    "<br/>\n",
    "In fact, for every digit <var>d</var> &#8800; 0, 0 is the first solution of the equation <var>f</var>(<var>n,d</var>)=<var>n</var>.</p>\n",
    "<p>Let <var>s</var>(<var>d</var>) be the sum of all the solutions for which <var>f</var>(<var>n,d</var>)=<var>n</var>.\n",
    "<br/>\n",
    "You are given that <var>s</var>(1)=22786974071.</p>\n",
    "<p>Find  &#8721; <var>s</var>(<var>d</var>) for 1 &#8804; d &#8804; 9.</p>\n",
    "<p>Note: if, for some <var>n</var>, <var>f</var>(<var>n,d</var>)=<var>n</var>\n",
    " for more than one value of <var>d</var> this value of <var>n</var> is counted again for every value of <var>d</var> for which <var>f</var>(<var>n,d</var>)=<var>n</var>.</p>\n",
    "</div>"
   ]
  },
  {
   "cell_type": "code",
   "execution_count": null,
   "metadata": {},
   "outputs": [],
   "source": [
    "def solve():\n",
    "    # Your code here\n",
    "    \n"
   ]
  },
  {
   "cell_type": "markdown",
   "metadata": {},
   "source": [
    "## Solution"
   ]
  },
  {
   "cell_type": "code",
   "execution_count": null,
   "metadata": {},
   "outputs": [],
   "source": [
    "solve()"
   ]
  }
 ],
 "metadata": {},
 "nbformat": 4,
 "nbformat_minor": 2
}
