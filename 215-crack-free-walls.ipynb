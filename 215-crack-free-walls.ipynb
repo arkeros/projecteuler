{
 "cells": [
  {
   "cell_type": "markdown",
   "metadata": {},
   "source": [
    "# Crack-free Walls\n",
    "## Problem 215 \n",
    "\n",
    "<div class=\"problem_content\" role=\"problem\">\n",
    "<p>Consider the problem of building a wall out of 2&#215;1 and 3&#215;1 bricks (horizontal&#215;vertical dimensions) such that, for extra strength, the gaps between horizontally-adjacent bricks never line up in consecutive layers, i.e. never form a \"running crack\".</p>\n",
    "<p>For example, the following 9&#215;3 wall is not acceptable due to the running crack shown in red:</p>\n",
    "<div style=\"text-align:center;\">\n",
    "<img alt=\"\" src=\"project/images/p215_crackfree.gif\"/></div>\n",
    "<p>There are eight ways of forming a crack-free 9&#215;3 wall, written W(9,3) = 8.</p>\n",
    "<p>Calculate W(32,10).</p>\n",
    "</div>"
   ]
  },
  {
   "cell_type": "code",
   "execution_count": null,
   "metadata": {},
   "outputs": [],
   "source": [
    "def solve():\n",
    "    # Your code here\n",
    "    \n"
   ]
  },
  {
   "cell_type": "markdown",
   "metadata": {},
   "source": [
    "## Solution"
   ]
  },
  {
   "cell_type": "code",
   "execution_count": null,
   "metadata": {},
   "outputs": [],
   "source": [
    "solve()"
   ]
  }
 ],
 "metadata": {},
 "nbformat": 4,
 "nbformat_minor": 2
}
