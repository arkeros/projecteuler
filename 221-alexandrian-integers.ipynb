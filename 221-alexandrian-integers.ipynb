{
 "cells": [
  {
   "cell_type": "markdown",
   "metadata": {},
   "source": [
    "# Alexandrian Integers\n",
    "## Problem 221 \n",
    "\n",
    "<div class=\"problem_content\" role=\"problem\">\n",
    "<p>We shall call a positive integer <var>A</var> an \"Alexandrian integer\", if there exist integers <var>p</var>, <var>q</var>, <var>r</var> such that:</p>\n",
    "<table class=\"formula\" style=\"margin-left:50px;\"><tr><td>\n",
    "<var>A</var> = <var>p</var> &#183; <var>q</var> &#183; <var>r</var> &#160;&#160;&#160;and&#160;&#160;\n",
    "   </td>\n",
    "<td>\n",
    "<table class=\"frac\"><tr><td>1</td></tr><tr><td class=\"overline\"><var>A</var></td></tr></table></td>\n",
    "<td>=</td>\n",
    "<td>\n",
    "<table class=\"frac\"><tr><td>1</td></tr><tr><td class=\"overline\"><var>p</var></td></tr></table></td>\n",
    "<td>+</td>\n",
    "<td>\n",
    "<table class=\"frac\"><tr><td>1</td></tr><tr><td class=\"overline\"><var>q</var></td></tr></table></td>\n",
    "<td>+</td>\n",
    "<td>\n",
    "<table class=\"frac\"><tr><td>1</td></tr><tr><td class=\"overline\"><var>r</var></td></tr></table></td>\n",
    "</tr></table><p>For example, 630 is an Alexandrian integer (<var>p</var>&#160;=&#160;5, <var>q</var>&#160;=&#160;&#8722;7, <var>r</var>&#160;=&#160;&#8722;18).\n",
    "In fact, 630 is the 6<sup>th</sup> Alexandrian integer,  the first 6 Alexandrian integers being: 6, 42, 120, 156, 420 and 630.</p>\n",
    "<p>Find the 150000<sup>th</sup> Alexandrian integer.</p>\n",
    "</div>"
   ]
  },
  {
   "cell_type": "code",
   "execution_count": null,
   "metadata": {},
   "outputs": [],
   "source": [
    "def solve():\n",
    "    # Your code here\n",
    "    \n"
   ]
  },
  {
   "cell_type": "markdown",
   "metadata": {},
   "source": [
    "## Solution"
   ]
  },
  {
   "cell_type": "code",
   "execution_count": null,
   "metadata": {},
   "outputs": [],
   "source": [
    "solve()"
   ]
  }
 ],
 "metadata": {},
 "nbformat": 4,
 "nbformat_minor": 2
}
