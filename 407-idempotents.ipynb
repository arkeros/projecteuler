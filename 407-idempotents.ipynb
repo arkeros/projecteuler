{
 "cells": [
  {
   "cell_type": "markdown",
   "metadata": {},
   "source": [
    "# Idempotents\n",
    "## Problem 407 \n",
    "\n",
    "<div class=\"problem_content\" role=\"problem\">\n",
    "<p>\n",
    "If we calculate <var>a</var><sup>2</sup> mod 6 for 0 &#8804; <var>a</var> &#8804; 5 we get: 0,1,4,3,4,1.\n",
    "</p>\n",
    "<p>\n",
    "The largest value of <var>a</var> such that <var>a</var><sup>2</sup> &#8801; <var>a</var> mod 6 is 4.<br/>\n",
    "Let's call M(<var>n</var>) the largest value of <var>a</var> &lt; <var>n</var> such that <var>a</var><sup>2</sup> &#8801; <var>a</var> (mod <var>n</var>).<br/>\n",
    "So M(6) = 4.\n",
    "</p>\n",
    "<p>\n",
    "Find &#8721;M(<var>n</var>) for 1 &#8804; <var>n</var> &#8804; 10<sup>7</sup>.\n",
    "</p>\n",
    "</div>"
   ]
  },
  {
   "cell_type": "code",
   "execution_count": null,
   "metadata": {},
   "outputs": [],
   "source": [
    "def solve():\n",
    "    # Your code here\n",
    "    \n"
   ]
  },
  {
   "cell_type": "markdown",
   "metadata": {},
   "source": [
    "## Solution"
   ]
  },
  {
   "cell_type": "code",
   "execution_count": null,
   "metadata": {},
   "outputs": [],
   "source": [
    "solve()"
   ]
  }
 ],
 "metadata": {},
 "nbformat": 4,
 "nbformat_minor": 2
}
