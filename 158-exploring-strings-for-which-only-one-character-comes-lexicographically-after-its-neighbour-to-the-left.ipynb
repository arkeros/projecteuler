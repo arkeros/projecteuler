{
 "cells": [
  {
   "cell_type": "markdown",
   "metadata": {},
   "source": [
    "# Exploring strings for which only one character comes lexicographically after its neighbour to the left\n",
    "## Problem 158 \n",
    "\n",
    "<div class=\"problem_content\" role=\"problem\">\n",
    "<p>Taking three different letters from the 26 letters of the alphabet, character strings of length three can be formed.<br/>\n",
    "Examples are 'abc', 'hat' and 'zyx'.<br/>\n",
    "When we study these three examples we see that for 'abc' two characters come lexicographically after its neighbour to the left.<br/> \n",
    "For 'hat' there is exactly one character that comes lexicographically after its neighbour to the left. For 'zyx' there are zero characters that come lexicographically after its neighbour to the left.<br/>\n",
    "In all there are 10400 strings of length 3 for which exactly one character comes lexicographically after its neighbour to the left.</p>\n",
    "<p>We now consider strings of <var>n</var> &#8804; 26 different characters from the alphabet.<br/> \n",
    "For every <var>n</var>, p(<var>n</var>) is the number of strings of length <var>n</var> for which exactly one character comes lexicographically after its neighbour to the left.</p>\n",
    "<p>What is the maximum value of p(<var>n</var>)?</p>\n",
    "</div>"
   ]
  },
  {
   "cell_type": "code",
   "execution_count": null,
   "metadata": {},
   "outputs": [],
   "source": [
    "def solve():\n",
    "    # Your code here\n",
    "    \n"
   ]
  },
  {
   "cell_type": "markdown",
   "metadata": {},
   "source": [
    "## Solution"
   ]
  },
  {
   "cell_type": "code",
   "execution_count": null,
   "metadata": {},
   "outputs": [],
   "source": [
    "solve()"
   ]
  }
 ],
 "metadata": {},
 "nbformat": 4,
 "nbformat_minor": 2
}
