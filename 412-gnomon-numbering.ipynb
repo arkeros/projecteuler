{
 "cells": [
  {
   "cell_type": "markdown",
   "metadata": {},
   "source": [
    "# Gnomon numbering\n",
    "## Problem 412 \n",
    "\n",
    "<div class=\"problem_content\" role=\"problem\">\n",
    "<p>For integers <var>m</var>, <var>n</var> (0&#160;&#8804;&#160;<var>n</var>&#160;&lt;&#160;<var>m</var>), let L(<var>m</var>,&#160;<var>n</var>) be an <var>m</var>&#215;<var>m</var> grid with the top-right <var>n</var>&#215;<var>n</var> grid removed.</p>\n",
    "<p>For example, L(5, 3) looks like this:</p>\n",
    "<p><img alt=\"p412_table53.png\" src=\"project/images/p412_table53.png\"/></p>\n",
    "<p>We want to number each cell of L(<var>m</var>,&#160;<var>n</var>) with consecutive integers 1, 2, 3, ... such that the number in every cell is smaller than the number below it and to the left of it.</p>\n",
    "<p>For example, here are two valid numberings of L(5,&#160;3):</p>\n",
    "<p><img alt=\"p412_tablenums.png\" src=\"project/images/p412_tablenums.png\"/></p>\n",
    "<p>Let LC(<var>m</var>, <var>n</var>) be the number of valid numberings of L(<var>m</var>, <var>n</var>).<br/>\n",
    "It can be verified that LC(3,&#160;0) = 42, LC(5,&#160;3) = 250250, LC(6,&#160;3) = 406029023400 and LC(10,&#160;5) mod 76543217 = 61251715.</p>\n",
    "<p>Find LC(10000,&#160;5000) mod 76543217.</p>\n",
    "</div>"
   ]
  },
  {
   "cell_type": "code",
   "execution_count": null,
   "metadata": {},
   "outputs": [],
   "source": [
    "def solve():\n",
    "    # Your code here\n",
    "    \n"
   ]
  },
  {
   "cell_type": "markdown",
   "metadata": {},
   "source": [
    "## Solution"
   ]
  },
  {
   "cell_type": "code",
   "execution_count": null,
   "metadata": {},
   "outputs": [],
   "source": [
    "solve()"
   ]
  }
 ],
 "metadata": {},
 "nbformat": 4,
 "nbformat_minor": 2
}
