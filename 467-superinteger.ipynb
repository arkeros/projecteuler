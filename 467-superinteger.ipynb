{
 "cells": [
  {
   "cell_type": "markdown",
   "metadata": {},
   "source": [
    "# Superinteger\n",
    "## Problem 467 \n",
    "\n",
    "<div class=\"problem_content\" role=\"problem\">\n",
    "<p>An integer <var>s</var> is called a <em>superinteger</em> of another integer <var>n</var> if the digits of <var>n</var> form a <dfn title=\"A subsequence is a sequence that can be derived from another sequence by deleting some elements without changing the order of the remaining elements.\">subsequence</dfn> of the digits of <var>s</var>.<br/>\n",
    "For example, 2718281828 is a superinteger of 18828, while 314159 is not a superinteger of 151.\n",
    "</p>\n",
    "<p>Let <var>p</var>(<var>n</var>) be the <var>n</var>th prime number, and let <var>c</var>(<var>n</var>) be the <var>n</var>th composite number. For example, <var>p</var>(1) = 2, <var>p</var>(10) = 29, <var>c</var>(1) = 4 and <var>c</var>(10) = 18.<br/>\n",
    "{<var>p</var>(<var>i</var>) : i &#8805; 1} = {2, 3, 5, 7, 11, 13, 17, 19, 23, 29, ...}<br/>\n",
    "{<var>c</var>(<var>i</var>) : i &#8805; 1} = {4, 6, 8, 9, 10, 12, 14, 15, 16, 18, ...}</p>\n",
    "<p>Let P<sup>D</sup> the sequence of the <strong>digital roots</strong> of {<var>p</var>(<var>i</var>)} (C<sup>D</sup> is defined similarly for {<var>c</var>(<var>i</var>)}):<br/>\n",
    "P<sup>D</sup> = {2, 3, 5, 7, 2, 4, 8, 1, 5, 2, ...}<br/>\n",
    "C<sup>D</sup> = {4, 6, 8, 9, 1, 3, 5, 6, 7, 9, ...}</p>\n",
    "<p>Let P<sub><var>n</var></sub> be the integer formed by concatenating the first <var>n</var> elements of P<sup>D</sup> (C<sub><var>n</var></sub> is defined similarly for C<sup>D</sup>).<br/>\n",
    "P<sub>10</sub> = 2357248152<br/>\n",
    "C<sub>10</sub> = 4689135679</p>\n",
    "<p>Let <var>f</var>(<var>n</var>) be the smallest positive integer that is a common superinteger of P<sub><var>n</var></sub> and C<sub><var>n</var></sub>. <br/>For example, <var>f</var>(10) = 2357246891352679, and <var>f</var>(100) mod 1&#160;000&#160;000&#160;007 = 771661825.</p>\n",
    "<p>Find <var>f</var>(10&#160;000) mod 1&#160;000&#160;000&#160;007.</p>\n",
    "</div>"
   ]
  },
  {
   "cell_type": "code",
   "execution_count": null,
   "metadata": {},
   "outputs": [],
   "source": [
    "def solve():\n",
    "    # Your code here\n",
    "    \n"
   ]
  },
  {
   "cell_type": "markdown",
   "metadata": {},
   "source": [
    "## Solution"
   ]
  },
  {
   "cell_type": "code",
   "execution_count": null,
   "metadata": {},
   "outputs": [],
   "source": [
    "solve()"
   ]
  }
 ],
 "metadata": {},
 "nbformat": 4,
 "nbformat_minor": 2
}
