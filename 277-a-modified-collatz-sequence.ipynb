{
 "cells": [
  {
   "cell_type": "markdown",
   "metadata": {},
   "source": [
    "# A Modified Collatz sequence\n",
    "## Problem 277 \n",
    "\n",
    "<div class=\"problem_content\" role=\"problem\">\n",
    "<p>\n",
    "A modified Collatz sequence of integers is obtained from a starting value a<sub>1</sub> in the following way:</p>\n",
    "<p>\n",
    "<var>a<sub>n+1</sub></var> = <var>a<sub>n</sub></var>/3 if <var>a<sub>n</sub></var> is divisible by 3. We shall denote this as a large downward step, \"D\".</p>\n",
    "<p>\n",
    "<var>a<sub>n+1</sub></var> = (4<var>a<sub>n</sub></var> + 2)/3 if <var>a<sub>n</sub></var> divided by 3 gives a remainder of 1. We shall denote this as an upward step, \"U\".\n",
    "</p>\n",
    "<p>\n",
    "<var>a<sub>n+1</sub></var> = (2<var>a<sub>n</sub></var> - 1)/3 if <var>a<sub>n</sub></var> divided by 3 gives a remainder of 2. We shall denote this as a small downward step, \"d\".\n",
    "</p>\n",
    "<p>\n",
    "The sequence terminates when some <var>a<sub>n</sub></var> = 1.\n",
    "</p>\n",
    "<p>\n",
    "Given any integer, we can list out the sequence of steps.<br/>\n",
    "For instance if <var>a</var><sub>1</sub>=231, then the sequence {<var>a<sub>n</sub></var>}={231,77,51,17,11,7,10,14,9,3,1} corresponds to the steps \"DdDddUUdDD\".\n",
    "</p>\n",
    "<p>\n",
    "Of course, there are other sequences that begin with that same sequence \"DdDddUUdDD....\".<br/>\n",
    "For instance, if <var>a</var><sub>1</sub>=1004064, then the sequence is DdDddUUdDDDdUDUUUdDdUUDDDUdDD.<br/>\n",
    "In fact, 1004064 is the smallest possible <var>a</var><sub>1</sub> &gt; 10<sup>6</sup> that begins with the sequence DdDddUUdDD.\n",
    "</p>\n",
    "<p>\n",
    "What is the smallest <var>a</var><sub>1</sub> &gt; 10<sup>15</sup> that begins with the sequence \"UDDDUdddDDUDDddDdDddDDUDDdUUDd\"?\n",
    "</p>\n",
    "</div>"
   ]
  },
  {
   "cell_type": "code",
   "execution_count": null,
   "metadata": {},
   "outputs": [],
   "source": [
    "def solve():\n",
    "    # Your code here\n",
    "    \n"
   ]
  },
  {
   "cell_type": "markdown",
   "metadata": {},
   "source": [
    "## Solution"
   ]
  },
  {
   "cell_type": "code",
   "execution_count": null,
   "metadata": {},
   "outputs": [],
   "source": [
    "solve()"
   ]
  }
 ],
 "metadata": {},
 "nbformat": 4,
 "nbformat_minor": 2
}
