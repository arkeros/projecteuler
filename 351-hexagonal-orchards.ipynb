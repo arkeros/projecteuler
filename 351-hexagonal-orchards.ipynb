{
 "cells": [
  {
   "cell_type": "markdown",
   "metadata": {},
   "source": [
    "# Hexagonal orchards\n",
    "## Problem 351 \n",
    "\n",
    "<div class=\"problem_content\" role=\"problem\">\n",
    "<p>A <i>hexagonal orchard</i> of order <var>n</var> is a triangular lattice made up of points within a regular hexagon with side <var>n</var>. The following is an example of a hexagonal orchard of order 5:\n",
    "</p>\n",
    "<div align=\"center\">\n",
    "<img alt=\"p351_hexorchard.png\" src=\"project/images/p351_hexorchard.png\"/><br/></div>\n",
    "<p>\n",
    "Highlighted in green are the points which are hidden from the center by a point closer to it. It can be seen that for a hexagonal orchard of order 5, 30 points are hidden from the center.\n",
    "</p>\n",
    "<p>\n",
    "Let H(<var>n</var>) be the number of points hidden from the center in a hexagonal orchard of order <var>n</var>.\n",
    "</p>\n",
    "<p>\n",
    "H(5) = 30. H(10) = 138. H(1 000) = 1177848.\n",
    "</p>\n",
    "<p>\n",
    "Find H(100 000 000).\n",
    "</p>\n",
    "</div>"
   ]
  },
  {
   "cell_type": "code",
   "execution_count": null,
   "metadata": {},
   "outputs": [],
   "source": [
    "def solve():\n",
    "    # Your code here\n",
    "    \n"
   ]
  },
  {
   "cell_type": "markdown",
   "metadata": {},
   "source": [
    "## Solution"
   ]
  },
  {
   "cell_type": "code",
   "execution_count": null,
   "metadata": {},
   "outputs": [],
   "source": [
    "solve()"
   ]
  }
 ],
 "metadata": {},
 "nbformat": 4,
 "nbformat_minor": 2
}
