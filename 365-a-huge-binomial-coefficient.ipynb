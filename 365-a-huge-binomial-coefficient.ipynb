{
 "cells": [
  {
   "cell_type": "markdown",
   "metadata": {},
   "source": [
    "# A huge binomial coefficient\n",
    "## Problem 365 \n",
    "\n",
    "<div class=\"problem_content\" role=\"problem\">\n",
    "<p>\n",
    "The binomial coefficient C(10<sup>18</sup>,10<sup>9</sup>) is a number with more than 9 billion (9&#215;10<sup>9</sup>) digits.\n",
    "</p>\n",
    "<p>\n",
    "Let M(n,k,m) denote the binomial coefficient C(n,k) modulo m.\n",
    "</p>\n",
    "<p>\n",
    "Calculate &#8721;M(10<sup>18</sup>,10<sup>9</sup>,p*q*r) for 1000&lt;p&lt;q&lt;r&lt;5000 and p,q,r prime.\n",
    "</p>\n",
    "</div>"
   ]
  },
  {
   "cell_type": "code",
   "execution_count": null,
   "metadata": {},
   "outputs": [],
   "source": [
    "def solve():\n",
    "    # Your code here\n",
    "    \n"
   ]
  },
  {
   "cell_type": "markdown",
   "metadata": {},
   "source": [
    "## Solution"
   ]
  },
  {
   "cell_type": "code",
   "execution_count": null,
   "metadata": {},
   "outputs": [],
   "source": [
    "solve()"
   ]
  }
 ],
 "metadata": {},
 "nbformat": 4,
 "nbformat_minor": 2
}
