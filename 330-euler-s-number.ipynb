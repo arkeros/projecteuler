{
 "cells": [
  {
   "cell_type": "markdown",
   "metadata": {},
   "source": [
    "# Euler's Number\n",
    "## Problem 330 \n",
    "\n",
    "<div class=\"problem_content\" role=\"problem\">\r\n",
    "An infinite sequence of real numbers <var>a</var>(<var>n</var>) is defined for all integers <var>n</var> as follows:\n",
    "<div align=\"center\"><img alt=\"p330_formula.gif\" src=\"project/images/p330_formula.gif\"/></div>\n",
    "<p>For example,<br/></p><table class=\"formula\"><tr><td><var>a</var>(0) = </td>\n",
    "<td><table class=\"frac\"><tr><td>1</td></tr><tr><td class=\"overline\">1!</td></tr></table></td>\n",
    "<td>+</td>\n",
    "<td><table class=\"frac\"><tr><td>1</td></tr><tr><td class=\"overline\">2!</td></tr></table></td>\n",
    "<td>+</td>\n",
    "<td><table class=\"frac\"><tr><td>1</td></tr><tr><td class=\"overline\">3!</td></tr></table></td>\n",
    "<td>+ ... = e &#8722; 1 </td>\n",
    "</tr></table><table class=\"formula\"><tr><td><var>a</var>(1) = </td>\n",
    "<td><table class=\"frac\"><tr><td>e &#8722; 1</td></tr><tr><td class=\"overline\">1!</td></tr></table></td>\n",
    "<td>+</td>\n",
    "<td><table class=\"frac\"><tr><td>1</td></tr><tr><td class=\"overline\">2!</td></tr></table></td>\n",
    "<td>+</td>\n",
    "<td><table class=\"frac\"><tr><td>1</td></tr><tr><td class=\"overline\">3!</td></tr></table></td>\n",
    "<td>+ ... = 2e &#8722; 3 </td>\n",
    "</tr></table><table class=\"formula\"><tr><td><var>a</var>(2) = </td>\n",
    "<td><table class=\"frac\"><tr><td>2e &#8722; 3</td></tr><tr><td class=\"overline\">1!</td></tr></table></td>\n",
    "<td>+</td>\n",
    "<td><table class=\"frac\"><tr><td>e &#8722; 1</td></tr><tr><td class=\"overline\">2!</td></tr></table></td>\n",
    "<td>+</td>\n",
    "<td><table class=\"frac\"><tr><td>1</td></tr><tr><td class=\"overline\">3!</td></tr></table></td>\n",
    "<td>+ ... =</td>\n",
    "<td><table class=\"frac\"><tr><td>7</td></tr><tr><td class=\"overline\">2</td></tr></table></td>\n",
    "<td>e &#8722; 6 </td>\n",
    "</tr></table>\n",
    "with e = 2.7182818... being Euler's constant.\n",
    "\n",
    "<p>\n",
    "</p><table class=\"formula\"><tr><td>It can be shown that <var>a</var>(<var>n</var>) is of the form \n",
    "    </td>\n",
    "<td><table class=\"frac\"><tr><td>A(<var>n</var>) e + B(<var>n</var>)</td></tr><tr><td class=\"overline\"><var>n</var>!</td></tr></table></td>\n",
    "<td>for integers A(<var>n</var>) and B(<var>n</var>). \n",
    "    </td>\n",
    "</tr></table><table class=\"formula\"><tr><td>For example <var>a</var>(10) = \n",
    "    </td>\n",
    "<td><table class=\"frac\"><tr><td>328161643 e &#8722; 652694486</td></tr><tr><td class=\"overline\">10!</td></tr></table></td>\n",
    "<td>.</td>\n",
    "</tr></table><p>\n",
    "Find A(10<sup>9</sup>) + B(10<sup>9</sup>) and give your answer mod 77 777 777.\n",
    "</p>\n",
    "</div>"
   ]
  },
  {
   "cell_type": "code",
   "execution_count": null,
   "metadata": {},
   "outputs": [],
   "source": [
    "def solve():\n",
    "    # Your code here\n",
    "    \n"
   ]
  },
  {
   "cell_type": "markdown",
   "metadata": {},
   "source": [
    "## Solution"
   ]
  },
  {
   "cell_type": "code",
   "execution_count": null,
   "metadata": {},
   "outputs": [],
   "source": [
    "solve()"
   ]
  }
 ],
 "metadata": {},
 "nbformat": 4,
 "nbformat_minor": 2
}
