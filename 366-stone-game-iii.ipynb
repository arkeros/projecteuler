{
 "cells": [
  {
   "cell_type": "markdown",
   "metadata": {},
   "source": [
    "# Stone Game III\n",
    "## Problem 366 \n",
    "\n",
    "<div class=\"problem_content\" role=\"problem\">\n",
    "<p>\n",
    "Two players, Anton and Bernhard, are playing the following game.<br/>\n",
    "There is one pile of n stones.<br/>\n",
    "The first player may remove any positive number of stones, but not the whole pile.<br/>\n",
    "Thereafter, each player may remove at most twice the number of stones his opponent took on the previous move.<br/>\n",
    "The player who removes the last stone wins.\n",
    "</p>\n",
    "<p>\n",
    "E.g. n=5<br/>\n",
    "If the first player takes anything more than one stone the next player will be able to take all remaining stones.<br/>\n",
    "If the first player takes one stone, leaving four, his opponent will take also one stone, leaving three stones.<br/>\n",
    "The first player cannot take all three because he may take at most 2x1=2 stones. So let's say he takes also one stone, leaving 2. The second player can take the two remaining stones and wins.<br/>\n",
    "So 5 is a losing position for the first player.<br/>\n",
    "For some winning positions there is more than one possible move for the first player.<br/>\n",
    "E.g. when n=17 the first player can remove one or four stones.\n",
    "</p>\n",
    "<p>\n",
    "Let M(n) be the maximum number of stones the first player can take from a winning position <i>at his first turn</i> and M(n)=0 for any other position.\n",
    "</p>\n",
    "<p>\n",
    "&#8721;M(n) for n&#8804;100 is 728.\n",
    "</p>\n",
    "<p>\n",
    "Find  &#8721;M(n) for n&#8804;10<sup>18</sup>.\n",
    "Give your answer modulo 10<sup>8</sup>.\n",
    "</p>\n",
    "</div>"
   ]
  },
  {
   "cell_type": "code",
   "execution_count": null,
   "metadata": {},
   "outputs": [],
   "source": [
    "def solve():\n",
    "    # Your code here\n",
    "    \n"
   ]
  },
  {
   "cell_type": "markdown",
   "metadata": {},
   "source": [
    "## Solution"
   ]
  },
  {
   "cell_type": "code",
   "execution_count": null,
   "metadata": {},
   "outputs": [],
   "source": [
    "solve()"
   ]
  }
 ],
 "metadata": {},
 "nbformat": 4,
 "nbformat_minor": 2
}
