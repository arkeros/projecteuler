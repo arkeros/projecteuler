{
 "cells": [
  {
   "cell_type": "markdown",
   "metadata": {},
   "source": [
    "# Counting tuples\n",
    "## Problem 537 \n",
    "\n",
    "<div class=\"problem_content\" role=\"problem\">\n",
    "<p>\n",
    "Let <var>&#960;</var>(<var>x</var>) be the prime counting function, i.e. the number of prime numbers less than or equal to <var>x</var>.<br/>\n",
    "For example, <var>&#960;</var>(1)=0, <var>&#960;</var>(2)=1, <var>&#960;</var>(100)=25.\n",
    "</p>\n",
    "<p>\n",
    "Let <var>T</var>(<var>n</var>,<var>k</var>) be the number of <var>k</var>-tuples (<var>x</var><sub>1</sub>,&#8230;,<var>x<sub>k</sub></var>) which satisfy:<br/>\n",
    "1. every <var>x<sub>i</sub></var> is a positive integer;<br/>\n",
    "2. $\\displaystyle \\sum_{i=1}^k \\pi(x_i)=n$\n",
    "</p>\n",
    "<p>\n",
    "For example <var>T</var>(3,3)=19.<br/>\n",
    "The 19 tuples are (1,1,5), (1,5,1), (5,1,1), (1,1,6), (1,6,1), (6,1,1), (1,2,3), (1,3,2), (2,1,3), (2,3,1), (3,1,2), (3,2,1), (1,2,4), (1,4,2), (2,1,4), (2,4,1), (4,1,2), (4,2,1), (2,2,2).\n",
    "</p>\n",
    "<p>\n",
    "You are given <var>T</var>(10,10) = 869 985 and <var>T</var>(10<sup>3</sup>,10<sup>3</sup>) &#8801; 578 270 566 (mod 1 004 535 809).\n",
    "</p><p>\n",
    "Find <var>T</var>(20 000, 20 000) mod 1 004 535 809.\n",
    "</p>\n",
    "</div>"
   ]
  },
  {
   "cell_type": "code",
   "execution_count": null,
   "metadata": {},
   "outputs": [],
   "source": [
    "def solve():\n",
    "    # Your code here\n",
    "    \n"
   ]
  },
  {
   "cell_type": "markdown",
   "metadata": {},
   "source": [
    "## Solution"
   ]
  },
  {
   "cell_type": "code",
   "execution_count": null,
   "metadata": {},
   "outputs": [],
   "source": [
    "solve()"
   ]
  }
 ],
 "metadata": {},
 "nbformat": 4,
 "nbformat_minor": 2
}
