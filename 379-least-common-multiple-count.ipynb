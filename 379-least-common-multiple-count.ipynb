{
 "cells": [
  {
   "cell_type": "markdown",
   "metadata": {},
   "source": [
    "# Least common multiple count\n",
    "## Problem 379 \n",
    "\n",
    "<div class=\"problem_content\" role=\"problem\">\n",
    "<p>\n",
    "Let <var>f</var>(<var>n</var>) be the number of couples (<var>x</var>,<var>y</var>) with <var>x</var> and <var>y</var> positive integers, <var>x</var> &#8804; <var>y</var> and the least common multiple of <var>x</var> and <var>y</var> equal to <var>n</var>.\n",
    "</p>\n",
    "<p>\n",
    "Let <var>g</var> be the <b>summatory function</b> of <var>f</var>, i.e.: \n",
    "<var>g</var>(<var>n</var>) = &#8721; <var>f</var>(<var>i</var>)  for 1 &#8804; <var>i</var> &#8804; <var>n</var>.\n",
    "</p><p>\n",
    "</p><p>\n",
    "You are given that <var>g</var>(10<sup>6</sup>) = 37429395.\n",
    "</p>\n",
    "<p>\n",
    "Find <var>g</var>(10<sup>12</sup>).\n",
    "</p>\n",
    "</div>"
   ]
  },
  {
   "cell_type": "code",
   "execution_count": null,
   "metadata": {},
   "outputs": [],
   "source": [
    "def solve():\n",
    "    # Your code here\n",
    "    \n"
   ]
  },
  {
   "cell_type": "markdown",
   "metadata": {},
   "source": [
    "## Solution"
   ]
  },
  {
   "cell_type": "code",
   "execution_count": null,
   "metadata": {},
   "outputs": [],
   "source": [
    "solve()"
   ]
  }
 ],
 "metadata": {},
 "nbformat": 4,
 "nbformat_minor": 2
}
