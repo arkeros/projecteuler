{
 "cells": [
  {
   "cell_type": "markdown",
   "metadata": {},
   "source": [
    "# Robot Welders\n",
    "## Problem 563 \n",
    "\n",
    "<div class=\"problem_content\" role=\"problem\">\n",
    "<p>A company specialises in producing large rectangular metal sheets, starting from unit square metal plates.  The welding is performed by a range of robots of increasing size.  Unfortunately, the programming options of these robots are rather limited.  Each one can only process up to 25 identical rectangles of metal, which they can weld along either edge to produce a larger rectangle.  The only programmable variables are the number of rectangles to be processed (up to and including 25), and whether to weld the long or short edge.</p>\n",
    "<p>For example, the first robot could be programmed to weld together 11 raw unit square plates to make a 11&#215;1 strip.  The next could take 10 of these 11&#215;1 strips, and weld them either to make a longer 110&#215;1 strip, or a 11&#215;10 rectangle.  Many, but not all, possible dimensions of  metal sheets can be constructed in this way.</p>\n",
    "<p>One regular customer has a particularly unusual order.  He always demands that the finished product should have an exact area, and that the long side must not be more than 10% larger than the short side.  If these requirements can be met in more than one way, in terms of the exact dimensions of the two sides, then he demands that all variants are produced.  For example, if he were to ask for metal sheet of area 889200, then there are three final dimensions that can be produced: 900&#215;988, 912&#215;975 and 936&#215;950.  The target area of 889200 is the smallest area which can be manufactured in three different variants, within the limitations of the robot welders.</p>\n",
    "<p>Let M(n) be the minimal area that can be manufactured in <u>exactly</u> n variants with the longer edge not greater than 10% bigger than the shorter edge.  Hence M(3) = 889200.</p>\n",
    "<p>Find $ \\sum_{n=2}^{100} M(n)$.</p>\n",
    "</div>"
   ]
  },
  {
   "cell_type": "code",
   "execution_count": null,
   "metadata": {},
   "outputs": [],
   "source": [
    "def solve():\n",
    "    # Your code here\n",
    "    \n"
   ]
  },
  {
   "cell_type": "markdown",
   "metadata": {},
   "source": [
    "## Solution"
   ]
  },
  {
   "cell_type": "code",
   "execution_count": null,
   "metadata": {},
   "outputs": [],
   "source": [
    "solve()"
   ]
  }
 ],
 "metadata": {},
 "nbformat": 4,
 "nbformat_minor": 2
}
