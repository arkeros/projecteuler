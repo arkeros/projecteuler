{
 "cells": [
  {
   "cell_type": "markdown",
   "metadata": {},
   "source": [
    "# Find the largest 0 to 9 pandigital that can be formed by concatenating products\n",
    "## Problem 170 \n",
    "\n",
    "<div class=\"problem_content\" role=\"problem\">\n",
    "<p>Take the number 6 and multiply it by each of 1273 and 9854:</p>\n",
    "<p style=\"margin-left:50px;\">6 &#215; 1273 =  7638<br/>\n",
    "6 &#215; 9854 = 59124</p>\n",
    "<p>By concatenating these products we get the 1 to 9 pandigital 763859124. We will call 763859124 the \"concatenated product of 6 and (1273,9854)\". Notice too, that the concatenation of the input numbers, 612739854, is also 1 to 9 pandigital.</p>\n",
    "<p>The same can be done for 0 to 9 pandigital numbers.</p>\n",
    "<p>What is the largest 0 to 9 pandigital 10-digit concatenated product of an integer with two or more other integers, such that the concatenation of the input numbers is also a 0 to 9 pandigital 10-digit number?</p>\n",
    "</div>"
   ]
  },
  {
   "cell_type": "code",
   "execution_count": null,
   "metadata": {},
   "outputs": [],
   "source": [
    "def solve():\n",
    "    # Your code here\n",
    "    \n"
   ]
  },
  {
   "cell_type": "markdown",
   "metadata": {},
   "source": [
    "## Solution"
   ]
  },
  {
   "cell_type": "code",
   "execution_count": null,
   "metadata": {},
   "outputs": [],
   "source": [
    "solve()"
   ]
  }
 ],
 "metadata": {},
 "nbformat": 4,
 "nbformat_minor": 2
}
