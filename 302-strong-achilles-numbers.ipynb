{
 "cells": [
  {
   "cell_type": "markdown",
   "metadata": {},
   "source": [
    "# Strong Achilles Numbers\n",
    "## Problem 302 \n",
    "\n",
    "<div class=\"problem_content\" role=\"problem\">\n",
    "<p>\n",
    "A positive integer <var>n</var> is <b>powerful</b> if p<sup>2</sup> is a divisor of <var>n</var> for every prime factor p in <var>n</var>.\n",
    "</p>\n",
    "<p>\n",
    "A positive integer <var>n</var> is a <b>perfect power</b> if <var>n</var> can be expressed as a power of another positive integer.\n",
    "</p>\n",
    "<p>\n",
    "A positive integer <var>n</var> is an <b>Achilles number</b> if <var>n</var> is powerful but not a perfect power. For example, 864 and 1800 are Achilles numbers: 864 = 2<sup>5</sup>&#183;3<sup>3</sup> and 1800 = 2<sup>3</sup>&#183;3<sup>2</sup>&#183;5<sup>2</sup>.\n",
    "</p>\n",
    "<p>\n",
    "We shall call a positive integer <var>S</var> a <i>Strong Achilles number</i> if both <var>S</var> and &#966;(<var>S</var>) are Achilles numbers.<sup>1</sup><br/>\n",
    "For example, 864 is a Strong Achilles number: &#966;(864) = 288 = 2<sup>5</sup>&#183;3<sup>2</sup>. However, 1800 isn't a Strong Achilles number because: &#966;(1800) = 480 = 2<sup>5</sup>&#183;3<sup>1</sup>&#183;5<sup>1</sup>.\n",
    "</p>\n",
    "<p>There are 7 Strong Achilles numbers below 10<sup>4</sup> and 656 below 10<sup>8</sup>.\n",
    "</p>\n",
    "<p>\n",
    "How many Strong Achilles numbers are there below 10<sup>18</sup>?\n",
    "</p>\n",
    "<p>\n",
    "<sup>1</sup> &#966; denotes <b>Euler's totient function</b>.\n",
    "</p>\n",
    "</div>"
   ]
  },
  {
   "cell_type": "code",
   "execution_count": null,
   "metadata": {},
   "outputs": [],
   "source": [
    "def solve():\n",
    "    # Your code here\n",
    "    \n"
   ]
  },
  {
   "cell_type": "markdown",
   "metadata": {},
   "source": [
    "## Solution"
   ]
  },
  {
   "cell_type": "code",
   "execution_count": null,
   "metadata": {},
   "outputs": [],
   "source": [
    "solve()"
   ]
  }
 ],
 "metadata": {},
 "nbformat": 4,
 "nbformat_minor": 2
}
