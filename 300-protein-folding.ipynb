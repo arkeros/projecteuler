{
 "cells": [
  {
   "cell_type": "markdown",
   "metadata": {},
   "source": [
    "# Protein folding\n",
    "## Problem 300 \n",
    "\n",
    "<div class=\"problem_content\" role=\"problem\">\n",
    "<p>In a very simplified form, we can consider proteins as strings consisting of hydrophobic (H) and polar (P) elements, e.g. HHPPHHHPHHPH. <br/>\n",
    "For this problem, the orientation of a protein is important; e.g. HPP is considered distinct from PPH. Thus, there are 2<sup><var>n</var></sup> distinct proteins consisting of <var>n</var> elements.</p>\n",
    "<p>When one encounters these strings in nature, they are always folded in such a way that the number of H-H contact points is as large as possible, since this is energetically advantageous.<br/>\n",
    "As a result, the H-elements tend to accumulate in the inner part, with the P-elements on the outside.<br/>\n",
    "Natural proteins are folded in three dimensions of course, but we will only consider protein folding in <u>two dimensions</u>.</p>\n",
    "<p>The figure below shows two possible ways that our example protein could be folded (H-H contact points are shown with red dots).</p>\n",
    "<div align=\"center\"><img alt=\"p300_protein.gif\" src=\"project/images/p300_protein.gif\"/></div>\n",
    "<p>The folding on the left has only six H-H contact points, thus it would never occur naturally.<br/>\n",
    "On the other hand, the folding on the right has nine H-H contact points, which is optimal for this string.</p>\n",
    "<p>Assuming that H and P elements are equally likely to occur in any position along the string, the average number of H-H contact points in an optimal folding of a random protein string of length 8 turns out to be 850&#160;/&#160;2<sup>8</sup>=3.3203125.</p>\n",
    "<p>What is the average number of H-H contact points in an optimal folding of a random protein string of length 15?<br/>\n",
    "Give your answer using as many decimal places as necessary for an exact result.</p>\n",
    "</div>"
   ]
  },
  {
   "cell_type": "code",
   "execution_count": null,
   "metadata": {},
   "outputs": [],
   "source": [
    "def solve():\n",
    "    # Your code here\n",
    "    \n"
   ]
  },
  {
   "cell_type": "markdown",
   "metadata": {},
   "source": [
    "## Solution"
   ]
  },
  {
   "cell_type": "code",
   "execution_count": null,
   "metadata": {},
   "outputs": [],
   "source": [
    "solve()"
   ]
  }
 ],
 "metadata": {},
 "nbformat": 4,
 "nbformat_minor": 2
}
