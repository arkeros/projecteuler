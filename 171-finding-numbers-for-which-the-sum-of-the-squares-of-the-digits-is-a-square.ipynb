{
 "cells": [
  {
   "cell_type": "markdown",
   "metadata": {},
   "source": [
    "# Finding numbers for which the sum of the squares of the digits is a square\n",
    "## Problem 171 \n",
    "\n",
    "<div class=\"problem_content\" role=\"problem\">\n",
    "<p>For a positive integer <var>n</var>, let f(<var>n</var>) be the sum of the squares of the digits (in base 10) of <var>n</var>, e.g.</p>\n",
    "<p style=\"margin-left:50px;\">f(3) = 3<sup>2</sup> = 9,<br/>\n",
    "f(25) = 2<sup>2</sup> + 5<sup>2</sup> = 4 + 25 = 29,<br/>\n",
    "f(442) = 4<sup>2</sup> + 4<sup>2</sup> + 2<sup>2</sup> = 16 + 16 + 4 = 36</p>\n",
    "<p>Find the last nine digits of the sum of all <var>n</var>, 0 &lt; <var>n</var> &lt; 10<sup>20</sup>, such that f(<var>n</var>) is a perfect square.</p>\n",
    "</div>"
   ]
  },
  {
   "cell_type": "code",
   "execution_count": null,
   "metadata": {},
   "outputs": [],
   "source": [
    "def solve():\n",
    "    # Your code here\n",
    "    \n"
   ]
  },
  {
   "cell_type": "markdown",
   "metadata": {},
   "source": [
    "## Solution"
   ]
  },
  {
   "cell_type": "code",
   "execution_count": null,
   "metadata": {},
   "outputs": [],
   "source": [
    "solve()"
   ]
  }
 ],
 "metadata": {},
 "nbformat": 4,
 "nbformat_minor": 2
}
