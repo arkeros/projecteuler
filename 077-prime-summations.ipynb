{
 "cells": [
  {
   "cell_type": "markdown",
   "metadata": {},
   "source": [
    "# Prime summations\n",
    "## Problem 77 \n",
    "\n",
    "<div class=\"problem_content\" role=\"problem\">\n",
    "<p>It is possible to write ten as the sum of primes in exactly five different ways:</p>\n",
    "<p style=\"margin-left:50px;\">7 + 3<br/>\n",
    "5 + 5<br/>\n",
    "5 + 3 + 2<br/>\n",
    "3 + 3 + 2 + 2<br/>\n",
    "2 + 2 + 2 + 2 + 2</p>\n",
    "<p>What is the first value which can be written as the sum of primes in over five thousand different ways?</p>\n",
    "</div>"
   ]
  },
  {
   "cell_type": "code",
   "execution_count": null,
   "metadata": {},
   "outputs": [],
   "source": [
    "def solve():\n",
    "    # Your code here\n",
    "    \n"
   ]
  },
  {
   "cell_type": "markdown",
   "metadata": {},
   "source": [
    "## Solution"
   ]
  },
  {
   "cell_type": "code",
   "execution_count": null,
   "metadata": {},
   "outputs": [],
   "source": [
    "solve()"
   ]
  }
 ],
 "metadata": {},
 "nbformat": 4,
 "nbformat_minor": 2
}
