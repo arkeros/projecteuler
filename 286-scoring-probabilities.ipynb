{
 "cells": [
  {
   "cell_type": "markdown",
   "metadata": {},
   "source": [
    "# Scoring probabilities\n",
    "## Problem 286 \n",
    "\n",
    "<div class=\"problem_content\" role=\"problem\">\n",
    "<p>Barbara is a mathematician and a basketball player. She has found that the probability of scoring a point when shooting from a distance <var>x</var> is exactly (1&#8201;-&#160;<sup><var>x</var></sup>/<sub><var>q</var></sub>), where <var>q</var> is a real constant greater than 50.</p>\n",
    "<p>During each practice run, she takes shots from distances <var>x</var>&#8201;=&#8201;1, <var>x</var>&#8201;=&#8201;2, ..., <var>x</var>&#8201;=&#8201;50 and, according to her records, she has precisely a 2&#8201;% chance to score a total of exactly 20 points.</p>\n",
    "<p>Find <var>q</var> and give your answer rounded to 10 decimal places.</p>\n",
    "</div>"
   ]
  },
  {
   "cell_type": "code",
   "execution_count": null,
   "metadata": {},
   "outputs": [],
   "source": [
    "def solve():\n",
    "    # Your code here\n",
    "    \n"
   ]
  },
  {
   "cell_type": "markdown",
   "metadata": {},
   "source": [
    "## Solution"
   ]
  },
  {
   "cell_type": "code",
   "execution_count": null,
   "metadata": {},
   "outputs": [],
   "source": [
    "solve()"
   ]
  }
 ],
 "metadata": {},
 "nbformat": 4,
 "nbformat_minor": 2
}
