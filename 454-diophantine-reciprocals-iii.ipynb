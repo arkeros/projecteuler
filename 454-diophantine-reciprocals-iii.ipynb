{
 "cells": [
  {
   "cell_type": "markdown",
   "metadata": {},
   "source": [
    "# Diophantine reciprocals III\n",
    "## Problem 454 \n",
    "\n",
    "<div class=\"problem_content\" role=\"problem\">\n",
    "<p>In the following equation <var>x</var>, <var>y</var>, and <var>n</var> are positive integers.</p>\n",
    "<div style=\"text-align:center;\">\n",
    "<table align=\"center\"><tr><td><div style=\"text-align:center;\">1<br/><span style=\"border-top:1px solid #000;\"><var>x</var></span></div></td>\n",
    "<td> + </td>\n",
    "<td><div style=\"text-align:center;\">1<br/><span style=\"border-top:1px solid #000;\"><var>y</var></span></div></td>\n",
    "<td> = </td>\n",
    "<td><div style=\"text-align:center;\">1<br/><span style=\"border-top:1px solid #000;\"><var>n</var></span></div></td>\n",
    "</tr></table></div>\n",
    "<p>For a limit <var>L</var> we define F(<var>L</var>) as the number of solutions which satisfy <var>x</var> &lt; <var>y</var> &#8804; <var>L</var>.</p>\n",
    "<p>We can verify that F(15) = 4 and F(1000) = 1069.<br/>\n",
    "Find F(10<sup>12</sup>).</p>\n",
    "</div>"
   ]
  },
  {
   "cell_type": "code",
   "execution_count": null,
   "metadata": {},
   "outputs": [],
   "source": [
    "def solve():\n",
    "    # Your code here\n",
    "    \n"
   ]
  },
  {
   "cell_type": "markdown",
   "metadata": {},
   "source": [
    "## Solution"
   ]
  },
  {
   "cell_type": "code",
   "execution_count": null,
   "metadata": {},
   "outputs": [],
   "source": [
    "solve()"
   ]
  }
 ],
 "metadata": {},
 "nbformat": 4,
 "nbformat_minor": 2
}
