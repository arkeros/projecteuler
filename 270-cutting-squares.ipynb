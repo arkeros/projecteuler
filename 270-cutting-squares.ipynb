{
 "cells": [
  {
   "cell_type": "markdown",
   "metadata": {},
   "source": [
    "# Cutting Squares\n",
    "## Problem 270 \n",
    "\n",
    "<div class=\"problem_content\" role=\"problem\">\n",
    "<p>A square piece of paper with integer dimensions N&#215;N is placed with a corner at the origin and two of its sides along the <var>x</var>- and <var>y</var>-axes. Then, we cut it up respecting the following rules:\n",
    "</p><ul><li>We only make straight cuts between two points lying on different sides of the square, and having integer coordinates.</li>\n",
    "<li>Two cuts cannot cross, but several cuts can meet at the same border point.</li>\n",
    "<li>Proceed until no more legal cuts can be made.</li>\n",
    "</ul><p>Counting any reflections or rotations as distinct, we call C(N) the number of ways to cut an N&#215;N square. For example, C(1)&#8201;=&#8201;2 and C(2)&#8201;=&#8201;30 (shown below).</p>\n",
    "<div align=\"center\"><img alt=\"p270_CutSquare.gif\" src=\"project/images/p270_CutSquare.gif\"/></div>\n",
    "<p>What is C(30) mod 10<sup>8</sup> ?</p>\n",
    "</div>"
   ]
  },
  {
   "cell_type": "code",
   "execution_count": null,
   "metadata": {},
   "outputs": [],
   "source": [
    "def solve():\n",
    "    # Your code here\n",
    "    \n"
   ]
  },
  {
   "cell_type": "markdown",
   "metadata": {},
   "source": [
    "## Solution"
   ]
  },
  {
   "cell_type": "code",
   "execution_count": null,
   "metadata": {},
   "outputs": [],
   "source": [
    "solve()"
   ]
  }
 ],
 "metadata": {},
 "nbformat": 4,
 "nbformat_minor": 2
}
