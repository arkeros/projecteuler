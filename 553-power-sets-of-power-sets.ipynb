{
 "cells": [
  {
   "cell_type": "markdown",
   "metadata": {},
   "source": [
    "# Power sets of power sets\n",
    "## Problem 553 \n",
    "\n",
    "<div class=\"problem_content\" role=\"problem\">\n",
    "<p>Let <var>P</var>(<var>n</var>) be the set of the first <var>n</var> positive integers {1, 2, ..., <var>n</var>}.<br/>\n",
    "Let Q(<var>n</var>) be the set of all the non-empty subsets of <var>P</var>(<var>n</var>).<br/>\n",
    "Let R(<var>n</var>) be the set of all the non-empty subsets of <var>Q</var>(<var>n</var>).</p>\n",
    "<p>An element <var>X</var>&#160;&#8712;&#160;<var>R</var>(<var>n</var>) is a non-empty subset of <var>Q</var>(<var>n</var>), so it is itself a set.<br/>\n",
    "From <var>X</var> we can construct a graph as follows:</p>\n",
    "<ul><li>Each element <var>Y</var>&#160;&#8712;&#160;<var>X</var> corresponds to a vertex and labeled with <var>Y</var>;</li>\n",
    "<li>Two vertices <var>Y</var><sub>1</sub> and <var>Y</var><sub>2</sub> are connected if <var>Y</var><sub>1</sub>&#160;&#8745;&#160;<var>Y</var><sub>2</sub>&#160;&#8800;&#160;&#8709;.</li>\n",
    "</ul><p>For example, <var>X</var>&#160;=&#160;{{1},&#160;{1,2,3},&#160;{3},&#160;{5,6},&#160;{6,7}} results in the following graph:</p>\n",
    "<div align=\"center\"><img alt=\"p553-power-sets.gif\" src=\"project/images/p553-power-sets.gif\"/></div>\n",
    "<p>This graph has two <b>connected components</b>.</p>\n",
    "<p>Let <var>C</var>(<var>n</var>,<var>k</var>) be the number of elements of <var>R</var>(<var>n</var>) that have exactly <var>k</var> connected components in their graph.<br/>\n",
    "You are given <var>C</var>(2,1)&#160;=&#160;6, <var>C</var>(3,1)&#160;=&#160;111, <var>C</var>(4,2)&#160;=&#160;486, <var>C</var>(100,10)&#160;mod&#160;1&#160;000&#160;000&#160;007&#160;=&#160;728209718.</p>\n",
    "<p>Find <var>C</var>(10<sup>4</sup>,10)&#160;mod&#160;1&#160;000&#160;000&#160;007.</p>\n",
    "</div>"
   ]
  },
  {
   "cell_type": "code",
   "execution_count": null,
   "metadata": {},
   "outputs": [],
   "source": [
    "def solve():\n",
    "    # Your code here\n",
    "    \n"
   ]
  },
  {
   "cell_type": "markdown",
   "metadata": {},
   "source": [
    "## Solution"
   ]
  },
  {
   "cell_type": "code",
   "execution_count": null,
   "metadata": {},
   "outputs": [],
   "source": [
    "solve()"
   ]
  }
 ],
 "metadata": {},
 "nbformat": 4,
 "nbformat_minor": 2
}
