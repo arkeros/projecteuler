{
 "cells": [
  {
   "cell_type": "markdown",
   "metadata": {},
   "source": [
    "# Coresilience\n",
    "## Problem 245 \n",
    "\n",
    "<div class=\"problem_content\" role=\"problem\">\n",
    "<p>We shall call a fraction that cannot be cancelled down a resilient fraction.<br/> Furthermore we shall define the resilience of a denominator, <var>R</var>(<var>d</var>), to be the ratio of its proper fractions that are resilient; for example, <var>R</var>(12) = <sup>4</sup>&#8260;<sub>11</sub>.</p>\n",
    "<table><tr><td>The resilience of a number <var>d</var> &gt; 1 is then</td>\n",
    "<td><div style=\"text-align:center;\">&#966;(<var>d</var>)<br/><span style=\"border-top:1px solid #000;\"><var>d</var> &#8722; 1</span></div></td>\n",
    "<td>, where &#966; is Euler's totient function.</td>\n",
    "</tr></table><table><tr><td>We further define the <b>coresilience</b> of a number <var>n</var> &gt; 1 as <var>C</var>(<var>n</var>)</td><td>=&#160;</td>\n",
    "<td><div style=\"text-align:center;\"><span style=\"border-bottom:1px solid #000;\"><var>n</var> &#8722; &#966;(<var>n</var>)</span><br/><var>n</var> &#8722; 1</div></td><td>.</td>\n",
    "</tr></table><table><tr><td>The coresilience of a prime <var>p</var> is <var>C</var>(<var>p</var>)</td>\n",
    "<td>=&#160;</td>\n",
    "<td><div style=\"text-align:center;\">1<br/><span style=\"border-top:1px solid #000;\"><var>p</var> &#8722; 1</span></div></td><td>.</td>\n",
    "</tr></table><p>Find the sum of all <b>composite</b> integers 1 &lt; <var>n</var> &#8804; 2&#215;10<sup>11</sup>, for which <var>C</var>(<var>n</var>) is a <dfn title=\"A fraction with numerator 1\">unit fraction</dfn>.\n",
    "</p>\n",
    "</div>"
   ]
  },
  {
   "cell_type": "code",
   "execution_count": null,
   "metadata": {},
   "outputs": [],
   "source": [
    "def solve():\n",
    "    # Your code here\n",
    "    \n"
   ]
  },
  {
   "cell_type": "markdown",
   "metadata": {},
   "source": [
    "## Solution"
   ]
  },
  {
   "cell_type": "code",
   "execution_count": null,
   "metadata": {},
   "outputs": [],
   "source": [
    "solve()"
   ]
  }
 ],
 "metadata": {},
 "nbformat": 4,
 "nbformat_minor": 2
}
