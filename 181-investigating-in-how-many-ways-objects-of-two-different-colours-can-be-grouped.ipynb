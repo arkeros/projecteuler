{
 "cells": [
  {
   "cell_type": "markdown",
   "metadata": {},
   "source": [
    "# Investigating in how many ways objects of two different colours can be grouped\n",
    "## Problem 181 \n",
    "\n",
    "<div class=\"problem_content\" role=\"problem\">\n",
    "<p>Having three black objects B and one white object W they can be grouped in 7 ways like this:</p>\n",
    "<table align=\"center\" cellpadding=\"10\"><tr><td>(BBBW)</td><td>(B,BBW)</td><td>(B,B,BW)</td><td>(B,B,B,W)</td>\n",
    "<td>(B,BB,W)</td><td>(BBB,W)</td><td>(BB,BW)</td>\n",
    "</tr></table><p>In how many ways can sixty black objects B and forty white objects W be  thus grouped?</p>\n",
    "</div>"
   ]
  },
  {
   "cell_type": "code",
   "execution_count": null,
   "metadata": {},
   "outputs": [],
   "source": [
    "def solve():\n",
    "    # Your code here\n",
    "    \n"
   ]
  },
  {
   "cell_type": "markdown",
   "metadata": {},
   "source": [
    "## Solution"
   ]
  },
  {
   "cell_type": "code",
   "execution_count": null,
   "metadata": {},
   "outputs": [],
   "source": [
    "solve()"
   ]
  }
 ],
 "metadata": {},
 "nbformat": 4,
 "nbformat_minor": 2
}
