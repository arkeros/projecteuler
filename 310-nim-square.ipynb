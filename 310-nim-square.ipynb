{
 "cells": [
  {
   "cell_type": "markdown",
   "metadata": {},
   "source": [
    "# Nim Square\n",
    "## Problem 310 \n",
    "\n",
    "<div class=\"problem_content\" role=\"problem\">\n",
    "<p>\n",
    "Alice and Bob play the game Nim Square.<br/>\n",
    "Nim Square is just like ordinary three-heap normal play Nim, but the players may only remove a square number of stones from a heap.<br/>\n",
    "The number of stones in the three heaps is represented by the ordered triple (a,b,c).<br/>\n",
    "If 0&#8804;a&#8804;b&#8804;c&#8804;29 then the number of losing positions for the next player is 1160.\n",
    "</p>\n",
    "<p>\n",
    "Find the number of losing positions for the next player if 0&#8804;a&#8804;b&#8804;c&#8804;100 000.\n",
    "</p>\n",
    "</div>"
   ]
  },
  {
   "cell_type": "code",
   "execution_count": null,
   "metadata": {},
   "outputs": [],
   "source": [
    "def solve():\n",
    "    # Your code here\n",
    "    \n"
   ]
  },
  {
   "cell_type": "markdown",
   "metadata": {},
   "source": [
    "## Solution"
   ]
  },
  {
   "cell_type": "code",
   "execution_count": null,
   "metadata": {},
   "outputs": [],
   "source": [
    "solve()"
   ]
  }
 ],
 "metadata": {},
 "nbformat": 4,
 "nbformat_minor": 2
}
