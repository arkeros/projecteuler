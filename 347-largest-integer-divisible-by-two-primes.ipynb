{
 "cells": [
  {
   "cell_type": "markdown",
   "metadata": {},
   "source": [
    "# Largest integer divisible by two primes\n",
    "## Problem 347 \n",
    "\n",
    "<div class=\"problem_content\" role=\"problem\">\n",
    "<p>\n",
    "The largest integer &#8804; 100 that is only divisible by both the primes 2 and 3 is 96, as 96=32*3=2<sup>5</sup>*3.\n",
    "For two <i>distinct</i> primes p and q let M(p,q,N) be the largest positive integer &#8804;N only divisible\n",
    "by both p and q and M(p,q,N)=0 if such a positive integer does not exist.\n",
    "</p>\n",
    "<p>\n",
    "E.g. M(2,3,100)=96.<br/> \n",
    "M(3,5,100)=75 and not 90 because 90 is divisible by 2 ,3 and 5.<br/>\n",
    "Also M(2,73,100)=0 because there does not exist a positive integer &#8804; 100 that is divisible by both 2 and 73.\n",
    "</p>\n",
    "<p>\n",
    "Let S(N) be the sum of all distinct M(p,q,N).\n",
    "S(100)=2262.\n",
    "</p>\n",
    "<p>\n",
    "Find S(10 000 000).\n",
    "</p>\n",
    "</div>"
   ]
  },
  {
   "cell_type": "code",
   "execution_count": null,
   "metadata": {},
   "outputs": [],
   "source": [
    "def solve():\n",
    "    # Your code here\n",
    "    \n"
   ]
  },
  {
   "cell_type": "markdown",
   "metadata": {},
   "source": [
    "## Solution"
   ]
  },
  {
   "cell_type": "code",
   "execution_count": null,
   "metadata": {},
   "outputs": [],
   "source": [
    "solve()"
   ]
  }
 ],
 "metadata": {},
 "nbformat": 4,
 "nbformat_minor": 2
}
