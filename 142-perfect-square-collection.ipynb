{
 "cells": [
  {
   "cell_type": "markdown",
   "metadata": {},
   "source": [
    "# Perfect Square Collection\n",
    "## Problem 142 \n",
    "\n",
    "<div class=\"problem_content\" role=\"problem\">\n",
    "<p>Find the smallest x + y + z with integers x &gt; y &gt; z &gt; 0 such that x + y, x &#8722; y, x + z, x &#8722; z, y + z, y &#8722; z are all perfect squares.</p>\n",
    "</div>"
   ]
  },
  {
   "cell_type": "code",
   "execution_count": null,
   "metadata": {},
   "outputs": [],
   "source": [
    "def solve():\n",
    "    # Your code here\n",
    "    \n"
   ]
  },
  {
   "cell_type": "markdown",
   "metadata": {},
   "source": [
    "## Solution"
   ]
  },
  {
   "cell_type": "code",
   "execution_count": null,
   "metadata": {},
   "outputs": [],
   "source": [
    "solve()"
   ]
  }
 ],
 "metadata": {},
 "nbformat": 4,
 "nbformat_minor": 2
}
