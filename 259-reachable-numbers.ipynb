{
 "cells": [
  {
   "cell_type": "markdown",
   "metadata": {},
   "source": [
    "# Reachable Numbers\n",
    "## Problem 259 \n",
    "\n",
    "<div class=\"problem_content\" role=\"problem\">\n",
    "<p>A positive integer will be called <i>reachable</i> if it can result from an arithmetic expression obeying the following rules:</p>\n",
    "<ul><li>Uses the digits 1 through 9, in that order and exactly once each.</li>\n",
    "<li>Any successive digits can be concatenated (for example, using the digits 2, 3 and 4 we obtain the number 234).</li>\n",
    "<li>Only the four usual binary arithmetic operations (addition, subtraction, multiplication and division) are allowed.</li>\n",
    "<li>Each operation can be used any number of times, or not at all.</li>\n",
    "<li><dfn title=\"A minus sign applied to a single operand (as opposed to a subtraction operator between two operands)\">Unary minus</dfn> is not allowed.</li>\n",
    "<li>Any number of (possibly nested) parentheses may be used to define the order of operations.</li>\n",
    "</ul><p>For example, 42 is reachable, since (1/23) * ((4*5)-6) * (78-9) = 42.</p>\n",
    "<p>What is the sum of all positive reachable integers?</p>\n",
    "</div>"
   ]
  },
  {
   "cell_type": "code",
   "execution_count": null,
   "metadata": {},
   "outputs": [],
   "source": [
    "def solve():\n",
    "    # Your code here\n",
    "    \n"
   ]
  },
  {
   "cell_type": "markdown",
   "metadata": {},
   "source": [
    "## Solution"
   ]
  },
  {
   "cell_type": "code",
   "execution_count": null,
   "metadata": {},
   "outputs": [],
   "source": [
    "solve()"
   ]
  }
 ],
 "metadata": {},
 "nbformat": 4,
 "nbformat_minor": 2
}
