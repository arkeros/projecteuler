{
 "cells": [
  {
   "cell_type": "markdown",
   "metadata": {},
   "source": [
    "# Under The Rainbow\n",
    "## Problem 493 \n",
    "\n",
    "<div class=\"problem_content\" role=\"problem\">\n",
    "<p>70 colored balls are placed in an urn, 10 for each of the seven rainbow colors.</p>\n",
    "<p>What is the expected number of distinct colors in 20 randomly picked balls?</p>\n",
    "<p>Give your answer with nine digits after the decimal point (a.bcdefghij).</p>\n",
    "</div>"
   ]
  },
  {
   "cell_type": "code",
   "execution_count": null,
   "metadata": {},
   "outputs": [],
   "source": [
    "def solve():\n",
    "    # Your code here\n",
    "    \n"
   ]
  },
  {
   "cell_type": "markdown",
   "metadata": {},
   "source": [
    "## Solution"
   ]
  },
  {
   "cell_type": "code",
   "execution_count": null,
   "metadata": {},
   "outputs": [],
   "source": [
    "solve()"
   ]
  }
 ],
 "metadata": {},
 "nbformat": 4,
 "nbformat_minor": 2
}
