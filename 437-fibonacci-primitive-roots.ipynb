{
 "cells": [
  {
   "cell_type": "markdown",
   "metadata": {},
   "source": [
    "# Fibonacci primitive roots\n",
    "## Problem 437 \n",
    "\n",
    "<div class=\"problem_content\" role=\"problem\">\n",
    "<p>\n",
    "When we calculate 8<sup>n</sup> modulo 11 for n=0 to 9 we get: 1, 8, 9, 6, 4, 10, 3, 2, 5, 7.<br/>\n",
    "As we see all possible values from 1 to 10 occur. So 8 is a <b>primitive root</b> of 11.<br/>\n",
    "But there is more:<br/>\n",
    "If we take a closer look we see:<br/>\n",
    "1+8=9<br/>\n",
    "8+9=17&#8801;6 mod 11<br/>\n",
    "9+6=15&#8801;4 mod 11<br/>\n",
    "6+4=10<br/>\n",
    "4+10=14&#8801;3 mod 11<br/>\n",
    "10+3=13&#8801;2 mod 11<br/>\n",
    "3+2=5<br/>\n",
    "2+5=7<br/>\n",
    "5+7=12&#8801;1 mod 11.\n",
    "</p>\n",
    "So the powers of 8 mod 11 are cyclic with period 10, and 8<sup>n</sup> + 8<sup>n+1</sup> &#8801; 8<sup>n+2</sup> (mod 11).<br/>\n",
    "8 is called a <b>Fibonacci primitive root</b> of 11.<br/>\n",
    "Not every prime has a Fibonacci primitive root.<br/>\n",
    "There are 323 primes less than 10000 with one or more Fibonacci primitive roots and the sum of these primes is 1480491.<br/>\n",
    "Find the sum of the primes less than 100,000,000 with at least one Fibonacci primitive root.\n",
    "\n",
    "\n",
    "</div>"
   ]
  },
  {
   "cell_type": "code",
   "execution_count": null,
   "metadata": {},
   "outputs": [],
   "source": [
    "def solve():\n",
    "    # Your code here\n",
    "    \n"
   ]
  },
  {
   "cell_type": "markdown",
   "metadata": {},
   "source": [
    "## Solution"
   ]
  },
  {
   "cell_type": "code",
   "execution_count": null,
   "metadata": {},
   "outputs": [],
   "source": [
    "solve()"
   ]
  }
 ],
 "metadata": {},
 "nbformat": 4,
 "nbformat_minor": 2
}
