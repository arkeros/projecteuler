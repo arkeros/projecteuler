{
 "cells": [
  {
   "cell_type": "markdown",
   "metadata": {},
   "source": [
    "# Distinct terms in a multiplication table\n",
    "## Problem 466 \n",
    "\n",
    "<div class=\"problem_content\" role=\"problem\">\n",
    "<p>Let P(<var>m</var>,<var>n</var>) be the number of <i>distinct</i> terms in an <var>m</var>&#215;<var>n</var> multiplication table.</p>\n",
    "<p>For example, a 3&#215;4 multiplication table looks like this:</p>\n",
    "<p></p><center><table class=\"p466\"><tr><th>&#215;</th> <th>1</th><th>2</th><th>3</th><th>4</th></tr><tr><th>1</th> <td>1</td><td>2</td><td>3</td><td>4</td></tr><tr><th>2</th> <td>2</td><td>4</td><td>6</td><td>8</td></tr><tr><th>3</th> <td>3</td><td>6</td><td>9</td><td>12</td></tr></table></center>\n",
    "<p>There are 8 distinct terms {1,2,3,4,6,8,9,12}, therefore P(3,4) = 8.</p>\n",
    "<p>You are given that:<br/>\n",
    "P(64,64) = 1263,<br/>\n",
    "P(12,345) = 1998, and<br/>\n",
    "P(32,10<sup>15</sup>) = 13826382602124302.</p>\n",
    "<p>Find P(64,10<sup>16</sup>).</p>\n",
    "</div>"
   ]
  },
  {
   "cell_type": "code",
   "execution_count": null,
   "metadata": {},
   "outputs": [],
   "source": [
    "def solve():\n",
    "    # Your code here\n",
    "    \n"
   ]
  },
  {
   "cell_type": "markdown",
   "metadata": {},
   "source": [
    "## Solution"
   ]
  },
  {
   "cell_type": "code",
   "execution_count": null,
   "metadata": {},
   "outputs": [],
   "source": [
    "solve()"
   ]
  }
 ],
 "metadata": {},
 "nbformat": 4,
 "nbformat_minor": 2
}
