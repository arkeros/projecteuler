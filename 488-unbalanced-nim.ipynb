{
 "cells": [
  {
   "cell_type": "markdown",
   "metadata": {},
   "source": [
    "# Unbalanced Nim\n",
    "## Problem 488 \n",
    "\n",
    "<div class=\"problem_content\" role=\"problem\">\n",
    "<p>Alice and Bob have enjoyed playing <b>Nim</b> every day. However, they finally got bored of playing ordinary three-heap Nim.<br/>\n",
    "So, they added an extra rule:</p>\n",
    "<p>- Must not make two heaps of the same size.</p>\n",
    "<p>The triple (<var>a</var>,<var>b</var>,<var>c</var>) indicates the size of three heaps.<br/>\n",
    "Under this extra rule, (2,4,5) is one of the losing positions for the next player.</p>\n",
    "<p>To illustrate:<br/>\n",
    "- Alice moves to (2,4,3)<br/>\n",
    "- Bob   moves to (0,4,3)<br/>\n",
    "- Alice moves to (0,2,3)<br/>\n",
    "- Bob   moves to (0,2,1)</p>\n",
    "<p>Unlike ordinary three-heap Nim, (0,1,2) and its permutations are the end states of this game.</p>\n",
    "<p>For an integer <var>N</var>, we define F(<var>N</var>) as the sum of <var>a</var>+<var>b</var>+<var>c</var> for all the losing positions for the next player, with 0 &lt; <var>a</var> &lt; <var>b</var> &lt; <var>c</var> &lt; <var>N</var>.</p>\n",
    "<p>For example, F(8) = 42, because there are 4 losing positions for the next player, (1,3,5), (1,4,6), (2,3,6) and (2,4,5).<br/>\n",
    "We can also verify that F(128) = 496062.</p>\n",
    "<p>Find the last 9 digits of F(10<sup>18</sup>).</p>\n",
    "</div>"
   ]
  },
  {
   "cell_type": "code",
   "execution_count": null,
   "metadata": {},
   "outputs": [],
   "source": [
    "def solve():\n",
    "    # Your code here\n",
    "    \n"
   ]
  },
  {
   "cell_type": "markdown",
   "metadata": {},
   "source": [
    "## Solution"
   ]
  },
  {
   "cell_type": "code",
   "execution_count": null,
   "metadata": {},
   "outputs": [],
   "source": [
    "solve()"
   ]
  }
 ],
 "metadata": {},
 "nbformat": 4,
 "nbformat_minor": 2
}
