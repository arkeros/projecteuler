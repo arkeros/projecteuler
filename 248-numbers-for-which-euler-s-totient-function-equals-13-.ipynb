{
 "cells": [
  {
   "cell_type": "markdown",
   "metadata": {},
   "source": [
    "# Numbers for which Euler's totient function equals 13!\n",
    "## Problem 248 \n",
    "\n",
    "<div class=\"problem_content\" role=\"problem\">\n",
    "<p>The first number n for which &#966;(n)=13! is 6227180929.</p>\n",
    "<p>Find the 150,000<sup>th</sup> such number.</p>\n",
    "</div>"
   ]
  },
  {
   "cell_type": "code",
   "execution_count": null,
   "metadata": {},
   "outputs": [],
   "source": [
    "def solve():\n",
    "    # Your code here\n",
    "    \n"
   ]
  },
  {
   "cell_type": "markdown",
   "metadata": {},
   "source": [
    "## Solution"
   ]
  },
  {
   "cell_type": "code",
   "execution_count": null,
   "metadata": {},
   "outputs": [],
   "source": [
    "solve()"
   ]
  }
 ],
 "metadata": {},
 "nbformat": 4,
 "nbformat_minor": 2
}
