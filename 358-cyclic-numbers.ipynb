{
 "cells": [
  {
   "cell_type": "markdown",
   "metadata": {},
   "source": [
    "# Cyclic numbers\n",
    "## Problem 358 \n",
    "\n",
    "<div class=\"problem_content\" role=\"problem\">\n",
    "<p>A <b>cyclic number</b> with <var>n</var> digits has a very interesting property:<br/>\n",
    "When it is multiplied by 1, 2, 3, 4, ... <var>n</var>, all the products have exactly the same digits, in the same order, but rotated in a circular fashion!\n",
    "</p>\n",
    "<p>\n",
    "The smallest cyclic number is the 6-digit number 142857 :<br/>\n",
    "142857 &#215; 1 = 142857<br/>\n",
    "142857 &#215; 2 = 285714<br/>\n",
    "142857 &#215; 3 = 428571<br/>\n",
    "142857 &#215; 4 = 571428<br/>\n",
    "142857 &#215; 5 = 714285<br/>\n",
    "142857 &#215; 6 = 857142  \n",
    "</p>\n",
    "<p>\n",
    "The next cyclic number is 0588235294117647 with 16 digits :<br/>\n",
    "0588235294117647 &#215; 1 = 0588235294117647<br/>\n",
    "0588235294117647 &#215; 2 = 1176470588235294<br/>\n",
    "0588235294117647 &#215; 3 = 1764705882352941<br/>\n",
    "...<br/>\n",
    "0588235294117647 &#215; 16 = 9411764705882352\n",
    "</p>\n",
    "<p>\n",
    "Note that for cyclic numbers, leading zeros are important.\n",
    "</p>\n",
    "<p>\n",
    "There is only one cyclic number for which, the eleven leftmost digits are 00000000137 and the five rightmost digits are 56789 (i.e., it has the form 00000000137...56789 with an unknown number of digits in the middle). Find the sum of all its digits.\n",
    "</p>\n",
    "</div>"
   ]
  },
  {
   "cell_type": "code",
   "execution_count": null,
   "metadata": {},
   "outputs": [],
   "source": [
    "def solve():\n",
    "    # Your code here\n",
    "    \n"
   ]
  },
  {
   "cell_type": "markdown",
   "metadata": {},
   "source": [
    "## Solution"
   ]
  },
  {
   "cell_type": "code",
   "execution_count": null,
   "metadata": {},
   "outputs": [],
   "source": [
    "solve()"
   ]
  }
 ],
 "metadata": {},
 "nbformat": 4,
 "nbformat_minor": 2
}
