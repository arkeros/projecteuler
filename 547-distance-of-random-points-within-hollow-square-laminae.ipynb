{
 "cells": [
  {
   "cell_type": "markdown",
   "metadata": {},
   "source": [
    "# Distance of random points within hollow square laminae\n",
    "## Problem 547 \n",
    "\n",
    "<div class=\"problem_content\" role=\"problem\">\n",
    "<p>Assuming that two points are chosen randomly (with <b>uniform distribution</b>) within a rectangle, it is possible to determine the <b>expected value</b> of the distance between these two points.</p>\n",
    "<p>For example, the expected distance between two random points in a unit square is about 0.521405, while the expected distance between two random points in a rectangle with side lengths 2 and 3 is about 1.317067.</p>\n",
    "<p>Now we define a <i>hollow square lamina</i> of size <var>n</var> to be an integer sized square with side length <var>n</var> &#8805; 3 consisting of <var>n</var><sup>2</sup> unit squares from which a rectangle consisting of <var>x</var> &#215; <var>y</var> unit squares (1 &#8804; <var>x</var>,<var>y</var> &#8804; <var>n</var> - 2) within the original square has been removed.</p>\n",
    "<p>For <var>n</var> = 3 there exists only one hollow square lamina:</p>\n",
    "<p align=\"center\"><img alt=\"p547-holes-1.png\" src=\"project/images/p547-holes-1.png\"/></p>\n",
    "<p>For <var>n</var> = 4 you can find 9 distinct hollow square laminae, allowing shapes to reappear in rotated or mirrored form:</p>\n",
    "<p align=\"center\"><img alt=\"p547-holes-2.png\" src=\"project/images/p547-holes-2.png\"/></p>\n",
    "<p>Let S(<var>n</var>) be the sum of the expected distance between two points chosen randomly within each of the possible hollow square laminae of size <var>n</var>. The two points have to lie within the area left after removing the inner rectangle, i.e. the gray-colored areas in the illustrations above.</p>\n",
    "<p>For example, S(3) = 1.6514 and S(4) = 19.6564, rounded to four digits after the decimal point.</p>\n",
    "<p>Find S(40) rounded to four digits after the decimal point.</p>\n",
    "</div>"
   ]
  },
  {
   "cell_type": "code",
   "execution_count": null,
   "metadata": {},
   "outputs": [],
   "source": [
    "def solve():\n",
    "    # Your code here\n",
    "    \n"
   ]
  },
  {
   "cell_type": "markdown",
   "metadata": {},
   "source": [
    "## Solution"
   ]
  },
  {
   "cell_type": "code",
   "execution_count": null,
   "metadata": {},
   "outputs": [],
   "source": [
    "solve()"
   ]
  }
 ],
 "metadata": {},
 "nbformat": 4,
 "nbformat_minor": 2
}
