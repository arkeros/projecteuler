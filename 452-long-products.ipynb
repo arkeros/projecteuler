{
 "cells": [
  {
   "cell_type": "markdown",
   "metadata": {},
   "source": [
    "# Long Products\n",
    "## Problem 452 \n",
    "\n",
    "<div class=\"problem_content\" role=\"problem\">\n",
    "<p>Define F(<var>m</var>,<var>n</var>) as the number of <var>n</var>-tuples of positive integers for which the product of the elements doesn't exceed <var>m</var>.</p>\n",
    "<p>F(10, 10) = 571.</p>\n",
    "<p>F(10<sup>6</sup>, 10<sup>6</sup>) mod 1&#160;234&#160;567&#160;891 = 252903833.</p>\n",
    "<p>Find F(10<sup>9</sup>, 10<sup>9</sup>) mod 1&#160;234&#160;567&#160;891.</p>\n",
    "</div>"
   ]
  },
  {
   "cell_type": "code",
   "execution_count": null,
   "metadata": {},
   "outputs": [],
   "source": [
    "def solve():\n",
    "    # Your code here\n",
    "    \n"
   ]
  },
  {
   "cell_type": "markdown",
   "metadata": {},
   "source": [
    "## Solution"
   ]
  },
  {
   "cell_type": "code",
   "execution_count": null,
   "metadata": {},
   "outputs": [],
   "source": [
    "solve()"
   ]
  }
 ],
 "metadata": {},
 "nbformat": 4,
 "nbformat_minor": 2
}
