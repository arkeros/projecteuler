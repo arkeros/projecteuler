{
 "cells": [
  {
   "cell_type": "markdown",
   "metadata": {},
   "source": [
    "# Range flips\n",
    "## Problem 430 \n",
    "\n",
    "<div class=\"problem_content\" role=\"problem\">\n",
    "<p><var>N</var> disks are placed in a row, indexed 1 to <var>N</var> from left to right.<br/>\n",
    "Each disk has a black side and white side. Initially all disks show their white side.</p>\n",
    "<p>At each turn, two, not necessarily distinct, integers <var>A</var> and <var>B</var> between 1 and <var>N</var> (inclusive) are chosen uniformly at random.<br/>\n",
    "All disks with an index from <var>A</var> to <var>B</var> (inclusive) are flipped.</p>\n",
    "<p>The following example shows the case <var>N</var> = 8. At the first turn <var>A</var> = 5 and <var>B</var> = 2, and at the second turn <var>A</var> = 4 and <var>B</var> = 6.</p>\n",
    "<p align=\"center\"><img alt=\"p430_flips.gif\" src=\"project/images/p430_flips.gif\"/></p>\n",
    "<p>Let E(<var>N</var>, <var>M</var>) be the expected number of disks that show their white side after <var>M</var> turns.<br/>\n",
    "We can verify that E(3, 1) = 10/9, E(3, 2) = 5/3, E(10, 4) &#8776; 5.157 and E(100, 10) &#8776; 51.893.</p>\n",
    "<p>Find E(10<sup>10</sup>, 4000).<br/>\n",
    "Give your answer rounded to 2 decimal places behind the decimal point.</p>\n",
    "</div>"
   ]
  },
  {
   "cell_type": "code",
   "execution_count": null,
   "metadata": {},
   "outputs": [],
   "source": [
    "def solve():\n",
    "    # Your code here\n",
    "    \n"
   ]
  },
  {
   "cell_type": "markdown",
   "metadata": {},
   "source": [
    "## Solution"
   ]
  },
  {
   "cell_type": "code",
   "execution_count": null,
   "metadata": {},
   "outputs": [],
   "source": [
    "solve()"
   ]
  }
 ],
 "metadata": {},
 "nbformat": 4,
 "nbformat_minor": 2
}
