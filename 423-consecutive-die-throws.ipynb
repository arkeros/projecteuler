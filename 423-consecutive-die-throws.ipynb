{
 "cells": [
  {
   "cell_type": "markdown",
   "metadata": {},
   "source": [
    "# Consecutive die throws\n",
    "## Problem 423 \n",
    "\n",
    "<div class=\"problem_content\" role=\"problem\">\n",
    "<p>Let <var>n</var> be a positive integer.<br/>\n",
    "A 6-sided die is thrown <var>n</var> times. Let <var>c</var> be the number of pairs of consecutive throws that give the same value.</p>\n",
    "<p>For example, if <var>n</var> = 7 and the values of the die throws are (1,1,5,6,6,6,3), then the following pairs of consecutive throws give the same value:<br/>\n",
    "(<u>1,1</u>,5,6,6,6,3)<br/>\n",
    "(1,1,5,<u>6,6</u>,6,3)<br/>\n",
    "(1,1,5,6,<u>6,6</u>,3)<br/>\n",
    "Therefore, <var>c</var> = 3 for (1,1,5,6,6,6,3).</p>\n",
    "<p>Define C(<var>n</var>) as the number of outcomes of throwing a 6-sided die <var>n</var> times such that <var>c</var> does not exceed &#960;(<var>n</var>).<sup>1</sup><br/>\n",
    "For example, C(3) = 216, C(4) = 1290, C(11) = 361912500 and C(24) = 4727547363281250000.</p>\n",
    "<p>Define S(<var>L</var>) as &#8721; C(<var>n</var>) for 1 &#8804; <var>n</var> &#8804; <var>L</var>.<br/>\n",
    "For example, S(50) mod 1&#160;000&#160;000&#160;007 = 832833871.</p>\n",
    "<p>Find S(50&#160;000&#160;000) mod 1&#160;000&#160;000&#160;007.</p>\n",
    "<p><sup>1</sup> &#960; denotes the <b>prime-counting function</b>, i.e. &#960;(<var>n</var>) is the number of primes &#8804; <var>n</var>.</p>\n",
    "</div>"
   ]
  },
  {
   "cell_type": "code",
   "execution_count": null,
   "metadata": {},
   "outputs": [],
   "source": [
    "def solve():\n",
    "    # Your code here\n",
    "    \n"
   ]
  },
  {
   "cell_type": "markdown",
   "metadata": {},
   "source": [
    "## Solution"
   ]
  },
  {
   "cell_type": "code",
   "execution_count": null,
   "metadata": {},
   "outputs": [],
   "source": [
    "solve()"
   ]
  }
 ],
 "metadata": {},
 "nbformat": 4,
 "nbformat_minor": 2
}
