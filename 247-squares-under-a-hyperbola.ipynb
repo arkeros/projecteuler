{
 "cells": [
  {
   "cell_type": "markdown",
   "metadata": {},
   "source": [
    "# Squares under a hyperbola\n",
    "## Problem 247 \n",
    "\n",
    "<div class=\"problem_content\" role=\"problem\">\n",
    "<p>Consider the region constrained by 1 &#8804; <var>x</var> and 0 &#8804; <var>y</var> &#8804; <sup>1</sup>/<sub><var>x</var></sub>.\n",
    "</p><p>\n",
    "Let S<sub>1</sub> be the largest square that can fit under the curve.<br/>\n",
    "Let S<sub>2</sub> be the largest square that fits in the remaining area, and so on. <br/>\n",
    "Let the <i>index</i> of S<sub><var>n</var></sub> be the pair (left, below) indicating the number of squares to the left of S<sub><var>n</var></sub> and the number of squares below S<sub><var>n</var></sub>.\n",
    "</p>\n",
    "<div style=\"text-align:center;\">\n",
    "<img alt=\"\" src=\"project/images/p247_hypersquares.gif\"/></div>\n",
    "<p>\n",
    "The diagram shows some such squares labelled by number. <br/>\n",
    "S<sub>2</sub> has one square to its left and none below, so the index of S<sub>2</sub> is (1,0).<br/>\n",
    "It can be seen that the index of S<sub>32</sub> is (1,1) as is the index of S<sub>50</sub>. <br/>\n",
    "50 is the largest <var>n</var> for which the index of S<sub><var>n</var></sub> is (1,1).\n",
    "</p>\n",
    "<p>\n",
    "What is the largest <var>n</var> for which the index of S<sub><var>n</var></sub> is (3,3)?\n",
    "</p>\n",
    "</div>"
   ]
  },
  {
   "cell_type": "code",
   "execution_count": null,
   "metadata": {},
   "outputs": [],
   "source": [
    "def solve():\n",
    "    # Your code here\n",
    "    \n"
   ]
  },
  {
   "cell_type": "markdown",
   "metadata": {},
   "source": [
    "## Solution"
   ]
  },
  {
   "cell_type": "code",
   "execution_count": null,
   "metadata": {},
   "outputs": [],
   "source": [
    "solve()"
   ]
  }
 ],
 "metadata": {},
 "nbformat": 4,
 "nbformat_minor": 2
}
