{
 "cells": [
  {
   "cell_type": "markdown",
   "metadata": {},
   "source": [
    "# Smallest prime factor\n",
    "## Problem 521 \n",
    "\n",
    "<div class=\"problem_content\" role=\"problem\">\n",
    "<p>\n",
    "Let smpf(<var>n</var>) be the smallest prime factor of <var>n</var>.<br/>\n",
    "smpf(91)=7 because 91=7&#215;13 and smpf(45)=3 because 45=3&#215;3&#215;5.<br/>\n",
    "Let S(<var>n</var>) be the sum of smpf(<var>i</var>) for 2 &#8804; <var>i</var> &#8804; <var>n</var>.<br/>\n",
    "E.g. S(100)=1257.\n",
    "</p>\n",
    "<p>\n",
    "Find S(10<sup>12</sup>) mod 10<sup>9</sup>.\n",
    "</p>\n",
    "</div>"
   ]
  },
  {
   "cell_type": "code",
   "execution_count": null,
   "metadata": {},
   "outputs": [],
   "source": [
    "def solve():\n",
    "    # Your code here\n",
    "    \n"
   ]
  },
  {
   "cell_type": "markdown",
   "metadata": {},
   "source": [
    "## Solution"
   ]
  },
  {
   "cell_type": "code",
   "execution_count": null,
   "metadata": {},
   "outputs": [],
   "source": [
    "solve()"
   ]
  }
 ],
 "metadata": {},
 "nbformat": 4,
 "nbformat_minor": 2
}
