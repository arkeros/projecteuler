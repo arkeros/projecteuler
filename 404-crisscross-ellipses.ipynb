{
 "cells": [
  {
   "cell_type": "markdown",
   "metadata": {},
   "source": [
    "# Crisscross Ellipses\n",
    "## Problem 404 \n",
    "\n",
    "<div class=\"problem_content\" role=\"problem\">\n",
    "<p>\n",
    "E<sub><var>a</var></sub> is an ellipse with an equation of the form x<sup>2</sup> + 4y<sup>2</sup> = 4<var>a</var><sup>2</sup>.<br/>\n",
    "E<sub><var>a</var></sub>' is the rotated image of E<sub><var>a</var></sub> by &#952; degrees counterclockwise around the origin O(0, 0) for 0&#176; &lt; &#952; &lt; 90&#176;.\n",
    "</p>\n",
    "<div align=\"center\">\n",
    "<img alt=\"p404_c_ellipse.gif\" src=\"project/images/p404_c_ellipse.gif\"/></div>\n",
    "<p>\n",
    "<var>b</var> is the distance to the origin of the two intersection points closest to the origin and <var>c</var> is the distance of the two other intersection points.<br/>\n",
    "We call an ordered triplet (<var>a</var>, <var>b</var>, <var>c</var>) a <i>canonical ellipsoidal triplet</i> if <var>a</var>, <var>b</var> and <var>c</var> are positive integers.<br/>\n",
    "For example, (209, 247, 286) is a canonical ellipsoidal triplet.\n",
    "</p>\n",
    "<p>\n",
    "Let C(<var>N</var>) be the number of distinct canonical ellipsoidal triplets (<var>a</var>, <var>b</var>, <var>c</var>) for <var>a</var> &#8804; <var>N</var>.<br/>\n",
    "It can be verified that C(10<sup>3</sup>) = 7, C(10<sup>4</sup>) = 106 and C(10<sup>6</sup>) = 11845.\n",
    "</p>\n",
    "<p>\n",
    "Find C(10<sup>17</sup>).\n",
    "</p>\n",
    "</div>"
   ]
  },
  {
   "cell_type": "code",
   "execution_count": null,
   "metadata": {},
   "outputs": [],
   "source": [
    "def solve():\n",
    "    # Your code here\n",
    "    \n"
   ]
  },
  {
   "cell_type": "markdown",
   "metadata": {},
   "source": [
    "## Solution"
   ]
  },
  {
   "cell_type": "code",
   "execution_count": null,
   "metadata": {},
   "outputs": [],
   "source": [
    "solve()"
   ]
  }
 ],
 "metadata": {},
 "nbformat": 4,
 "nbformat_minor": 2
}
