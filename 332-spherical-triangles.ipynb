{
 "cells": [
  {
   "cell_type": "markdown",
   "metadata": {},
   "source": [
    "# Spherical triangles\n",
    "## Problem 332 \n",
    "\n",
    "<div class=\"problem_content\" role=\"problem\">\n",
    "<p>A <b>spherical triangle</b> is a figure formed on the surface of a sphere by three <b>great circular arcs</b> intersecting pairwise in three vertices.</p>\n",
    "<div align=\"center\"><img alt=\"p332_spherical.jpg\" src=\"project/images/p332_spherical.jpg\"/></div>\n",
    "<p>Let C(<var>r</var>) be the sphere with the centre (0,0,0) and radius <var>r</var>.<br/>\n",
    "Let Z(<var>r</var>) be the set of points on the surface of C(<var>r</var>) with integer coordinates.<br/>\n",
    "Let T(<var>r</var>) be the set of spherical triangles with vertices in Z(<var>r</var>).\n",
    "Degenerate spherical triangles, formed by three points on the same great arc, are <u>not</u> included in T(<var>r</var>).<br/>\n",
    "Let A(<var>r</var>) be the area of the smallest spherical triangle in T(<var>r</var>).</p>\n",
    "<p>For example A(14) is 3.294040 rounded to six decimal places.</p>\n",
    "<p>Find <img alt=\"p332_sum.gif\" src=\"project/images/p332_sum.gif\" style=\"vertical-align:middle;\"/> A(<var>r</var>). Give your answer rounded to six decimal places.</p>\n",
    "</div>"
   ]
  },
  {
   "cell_type": "code",
   "execution_count": null,
   "metadata": {},
   "outputs": [],
   "source": [
    "def solve():\n",
    "    # Your code here\n",
    "    \n"
   ]
  },
  {
   "cell_type": "markdown",
   "metadata": {},
   "source": [
    "## Solution"
   ]
  },
  {
   "cell_type": "code",
   "execution_count": null,
   "metadata": {},
   "outputs": [],
   "source": [
    "solve()"
   ]
  }
 ],
 "metadata": {},
 "nbformat": 4,
 "nbformat_minor": 2
}
