{
 "cells": [
  {
   "cell_type": "markdown",
   "metadata": {},
   "source": [
    "# Sums of totients of powers\n",
    "## Problem 512 \n",
    "\n",
    "<div class=\"problem_content\" role=\"problem\">\n",
    "<p>Let $\\varphi(n)$ be Euler's totient function.</p><p>\n",
    "Let $f(n)=(\\sum_{i=1}^{n}\\varphi(n^i)) \\text{ mod } (n+1)$.</p><p>\n",
    "Let $g(n)=\\sum_{i=1}^{n} f(i)$.</p><p>\n",
    "$g(100)=2007$.\n",
    "</p>\n",
    "<p>\n",
    "Find $g(5 \\times 10^8)$.\n",
    "</p>\n",
    "</div>"
   ]
  },
  {
   "cell_type": "code",
   "execution_count": null,
   "metadata": {},
   "outputs": [],
   "source": [
    "def solve():\n",
    "    # Your code here\n",
    "    \n"
   ]
  },
  {
   "cell_type": "markdown",
   "metadata": {},
   "source": [
    "## Solution"
   ]
  },
  {
   "cell_type": "code",
   "execution_count": null,
   "metadata": {},
   "outputs": [],
   "source": [
    "solve()"
   ]
  }
 ],
 "metadata": {},
 "nbformat": 4,
 "nbformat_minor": 2
}
