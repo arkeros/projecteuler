{
 "cells": [
  {
   "cell_type": "markdown",
   "metadata": {},
   "source": [
    "# Verifying Primes\n",
    "## Problem 574 \n",
    "\n",
    "<div class=\"problem_content\" role=\"problem\">\n",
    "<p>Let $q$ be a prime and $A \\ge B &gt;0$ be two integers with the following properties:\n",
    "</p><ul><li> $A$ and $B$ have no prime factor in common, that is $\\text{gcd}(A,B)=1$.</li>\n",
    "<li> The product $AB$ is divisible by every prime less than q.</li>\n",
    "</ul><p>It can be shown that, given these conditions, any sum $A+B&lt;q^2$ and any difference $1&lt;A-B&lt;q^2$ has to be a prime number. Thus you can verify that a number $p$ is prime by showing that either $p=A+B&lt;q^2$ or $p=A-B&lt;q^2$ for some $A,B,q$ fulfilling the conditions listed above.</p>\n",
    "<p>Let $V(p)$ be the smallest possible value of $A$ in any sum $p=A+B$ and any difference $p=A-B$, that verifies $p$ being prime. Examples:<br/>\n",
    "$V(2)=1$, since $2=1+1&lt; 2^2$. <br/>\n",
    "$V(37)=22$, since $37=22+15=2 \\cdot 11+3 \\cdot 5&lt; 7^2$ is the associated sum with the smallest possible $A$.<br/>\n",
    "$V(151)=165$ since $151=165-14=3 \\cdot 5 \\cdot 11 - 2 \\cdot 7&lt;13^2$ is the associated difference with the smallest possible $A$. </p>\n",
    "<p>\n",
    "Let $S(n)$ be the sum of $V(p)$ for all primes $p&lt;n$. For example, $S(10)=10$ and $S(200)=7177$.</p>\n",
    "<p>\n",
    "Find $S(3800)$.\n",
    "</p>\n",
    "</div>"
   ]
  },
  {
   "cell_type": "code",
   "execution_count": null,
   "metadata": {},
   "outputs": [],
   "source": [
    "def solve():\n",
    "    # Your code here\n",
    "    \n"
   ]
  },
  {
   "cell_type": "markdown",
   "metadata": {},
   "source": [
    "## Solution"
   ]
  },
  {
   "cell_type": "code",
   "execution_count": null,
   "metadata": {},
   "outputs": [],
   "source": [
    "solve()"
   ]
  }
 ],
 "metadata": {},
 "nbformat": 4,
 "nbformat_minor": 2
}
