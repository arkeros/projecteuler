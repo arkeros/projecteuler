{
 "cells": [
  {
   "cell_type": "markdown",
   "metadata": {},
   "source": [
    "# Sum of a square and a cube\n",
    "## Problem 348 \n",
    "\n",
    "<div class=\"problem_content\" role=\"problem\">\n",
    "<p>Many numbers can be expressed as the sum of a square and a cube. Some of them in more than one way.</p>\n",
    "<p>Consider the palindromic numbers that can be expressed as the sum of a square and a cube, both greater than 1, in <b>exactly</b> 4 different ways.<br/>\n",
    "For example, 5229225 is a palindromic number and it can be expressed in exactly 4 different ways:</p>\n",
    "<p>2285<sup>2</sup> + 20<sup>3</sup><br/>\n",
    "2223<sup>2</sup> + 66<sup>3</sup><br/>\n",
    "1810<sup>2</sup> + 125<sup>3</sup><br/>\n",
    "1197<sup>2</sup> + 156<sup>3</sup></p>\n",
    "<p>Find the sum of the five smallest such palindromic numbers.</p>\n",
    "</div>"
   ]
  },
  {
   "cell_type": "code",
   "execution_count": null,
   "metadata": {},
   "outputs": [],
   "source": [
    "def solve():\n",
    "    # Your code here\n",
    "    \n"
   ]
  },
  {
   "cell_type": "markdown",
   "metadata": {},
   "source": [
    "## Solution"
   ]
  },
  {
   "cell_type": "code",
   "execution_count": null,
   "metadata": {},
   "outputs": [],
   "source": [
    "solve()"
   ]
  }
 ],
 "metadata": {},
 "nbformat": 4,
 "nbformat_minor": 2
}
