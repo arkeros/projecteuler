{
 "cells": [
  {
   "cell_type": "markdown",
   "metadata": {},
   "source": [
    "# Comfortable distance\n",
    "## Problem 364 \n",
    "\n",
    "<div class=\"problem_content\" role=\"problem\">\n",
    "<p>\n",
    "There are <var>N</var> seats in a row. <var>N</var> people come after each other to fill the seats according to the following rules:\n",
    "</p><ol type=\"1\"><li>If there is any seat whose adjacent seat(s) are not occupied take such a seat.</li>\n",
    "<li>If there is no such seat and there is any seat for which only one adjacent seat is occupied take such a seat.</li>\n",
    "<li>Otherwise take one of the remaining available seats. </li>\n",
    "</ol>\n",
    "Let T(<var>N</var>) be the number of possibilities that <var>N</var> seats are occupied by <var>N</var> people with the given rules.<br/> The following figure shows T(4)=8.\n",
    "\n",
    "\n",
    "<div align=\"center\">\n",
    "<img alt=\"p364_comf_dist.gif\" src=\"project/images/p364_comf_dist.gif\"/></div>\n",
    "<p>We can verify that T(10) = 61632 and T(1 000) mod 100 000 007 = 47255094.</p>\n",
    "<p>Find T(1 000 000) mod 100 000 007.</p>\n",
    "</div>"
   ]
  },
  {
   "cell_type": "code",
   "execution_count": null,
   "metadata": {},
   "outputs": [],
   "source": [
    "def solve():\n",
    "    # Your code here\n",
    "    \n"
   ]
  },
  {
   "cell_type": "markdown",
   "metadata": {},
   "source": [
    "## Solution"
   ]
  },
  {
   "cell_type": "code",
   "execution_count": null,
   "metadata": {},
   "outputs": [],
   "source": [
    "solve()"
   ]
  }
 ],
 "metadata": {},
 "nbformat": 4,
 "nbformat_minor": 2
}
