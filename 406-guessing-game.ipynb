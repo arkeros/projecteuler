{
 "cells": [
  {
   "cell_type": "markdown",
   "metadata": {},
   "source": [
    "# Guessing Game\n",
    "## Problem 406 \n",
    "\n",
    "<div class=\"problem_content\" role=\"problem\">\n",
    "<p>We are trying to find a hidden number selected from the set of integers {1, 2, ..., <var>n</var>} by asking questions. \n",
    "Each number (question) we ask, we get one of three possible answers:<br/></p><ul><li> \"Your guess is lower than the hidden number\" (and you incur a cost of <var>a</var>), or</li>\n",
    "<li> \"Your guess is higher than the hidden number\" (and you incur a cost of <var>b</var>), or</li>\n",
    "<li> \"Yes, that's it!\" (and the game ends).</li>\n",
    "</ul><p>Given the value of <var>n</var>, <var>a</var>, and <var>b</var>, an <i>optimal strategy</i> minimizes the total cost <u>for the worst possible case</u>.</p>\n",
    "<p>For example, if <var>n</var> = 5, <var>a</var> = 2, and <var>b</var> = 3, then we may begin by asking \"<b>2</b>\" as our first question.</p>\n",
    "<p>If we are told that 2 is higher than the hidden number (for a cost of <var>b</var>=3), then we are sure that \"<b>1</b>\" is the hidden number (for a total cost of <span style=\"color:#0000FF;\"><b>3</b></span>).<br/>\n",
    "If we are told that 2 is lower than the hidden number (for a cost of <var>a</var>=2), then our next question will be \"<b>4</b>\".<br/>\n",
    "If we are told that 4 is higher than the hidden number (for a cost of <var>b</var>=3), then we are sure that \"<b>3</b>\" is the hidden number (for a total cost of 2+3=<span style=\"color:#0000FF;\"><b>5</b></span>).<br/>\n",
    "If we are told that 4 is lower than the hidden number (for a cost of <var>a</var>=2), then we are sure that \"<b>5</b>\" is the hidden number (for a total cost of 2+2=<span style=\"color:#0000FF;\"><b>4</b></span>).<br/>\n",
    "Thus, the worst-case cost achieved by this strategy is <span style=\"color:#FF0000;\"><b>5</b></span>. It can also be shown that this is the lowest worst-case cost that can be achieved. \n",
    "So, in fact, we have just described an optimal strategy for the given values of <var>n</var>, <var>a</var>, and <var>b</var>.</p>\n",
    "<p>Let C(<var>n</var>, <var>a</var>, <var>b</var>) be the worst-case cost achieved by an optimal strategy for the given values of <var>n</var>, <var>a</var>, and <var>b</var>.</p>\n",
    "<p>Here are a few examples:<br/>\n",
    "C(5, 2, 3) = 5<br/>\n",
    "C(500, &#8730;2, &#8730;3) = 13.22073197...<br/>\n",
    "C(20000, 5, 7) = 82<br/>\n",
    "C(2000000, &#8730;5, &#8730;7) = 49.63755955...</p>\n",
    "<p>Let F<sub><var>k</var></sub> be the Fibonacci numbers: F<sub><var>k</var></sub> = F<sub><var>k</var>-1</sub> + F<sub><var>k</var>-2</sub> with base cases F<sub>1</sub> = F<sub>2</sub> = 1.<br/>Find &#8721;<sub>1&#8804;<var>k</var>&#8804;30</sub>&#160;C(10<sup>12</sup>, &#8730;<var>k</var>, &#8730;F<sub><var>k</var></sub>), and give your answer rounded to 8 decimal places behind the decimal point.</p>\n",
    "</div>"
   ]
  },
  {
   "cell_type": "code",
   "execution_count": null,
   "metadata": {},
   "outputs": [],
   "source": [
    "def solve():\n",
    "    # Your code here\n",
    "    \n"
   ]
  },
  {
   "cell_type": "markdown",
   "metadata": {},
   "source": [
    "## Solution"
   ]
  },
  {
   "cell_type": "code",
   "execution_count": null,
   "metadata": {},
   "outputs": [],
   "source": [
    "solve()"
   ]
  }
 ],
 "metadata": {},
 "nbformat": 4,
 "nbformat_minor": 2
}
