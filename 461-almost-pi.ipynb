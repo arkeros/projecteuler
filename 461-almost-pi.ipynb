{
 "cells": [
  {
   "cell_type": "markdown",
   "metadata": {},
   "source": [
    "# Almost Pi\n",
    "## Problem 461 \n",
    "\n",
    "<div class=\"problem_content\" role=\"problem\">\n",
    "<p>Let <var>f</var><sub><var>n</var></sub>(<var>k</var>)&#160;=&#160;<var>e</var><sup><var>k</var>/<var>n</var></sup>&#160;-&#160;1, for all non-negative integers <var>k</var>.</p>\n",
    "<p>Remarkably, <var>f</var><sub>200</sub>(6)&#160;+&#160;<var>f</var><sub>200</sub>(75)&#160;+&#160;<var>f</var><sub>200</sub>(89)&#160;+&#160;<var>f</var><sub>200</sub>(226)&#160;= <u>3.1415926</u>44529&#8230;&#160;&#8776;&#160;<var>&#960;</var>.</p>\n",
    "<p>In fact, it is the best approximation of <var>&#960;</var> of the form <var>f</var><sub><var>n</var></sub>(<var>a</var>)&#160;+&#160;<var>f</var><sub><var>n</var></sub>(<var>b</var>)&#160;+&#160;<var>f</var><sub><var>n</var></sub>(<var>c</var>)&#160;+&#160;<var>f</var><sub><var>n</var></sub>(<var>d</var>) for <var>n</var>&#160;=&#160;200.</p>\n",
    "<p>Let <var>g</var>(<var>n</var>)&#160;=&#160;<var>a</var><sup>2</sup>&#160;+&#160;<var>b</var><sup>2</sup>&#160;+&#160;<var>c</var><sup>2</sup>&#160;+&#160;<var>d</var><sup>&#8201;2</sup> for <var>a</var>, <var>b</var>, <var>c</var>, <var>d</var> that minimize the error: |&#160;<var>f</var><sub><var>n</var></sub>(<var>a</var>)&#160;+&#160;<var>f</var><sub><var>n</var></sub>(<var>b</var>)&#160;+&#160;<var>f</var><sub><var>n</var></sub>(<var>c</var>)&#160;+&#160;<var>f</var><sub><var>n</var></sub>(<var>d</var>)&#160;-&#160;<var>&#960;</var>|<br/>\n",
    "(where |<var>x</var>| denotes the absolute value of <var>x</var>).</p>\n",
    "<p>You are given <var>g</var>(200)&#160;=&#160;6<sup>2</sup>&#160;+&#160;75<sup>2</sup>&#160;+&#160;89<sup>2</sup>&#160;+&#160;226<sup>2</sup>&#160;=&#160;64658.</p>\n",
    "<p>Find <var>g</var>(10000).<sup></sup></p>\n",
    "</div>"
   ]
  },
  {
   "cell_type": "code",
   "execution_count": null,
   "metadata": {},
   "outputs": [],
   "source": [
    "def solve():\n",
    "    # Your code here\n",
    "    \n"
   ]
  },
  {
   "cell_type": "markdown",
   "metadata": {},
   "source": [
    "## Solution"
   ]
  },
  {
   "cell_type": "code",
   "execution_count": null,
   "metadata": {},
   "outputs": [],
   "source": [
    "solve()"
   ]
  }
 ],
 "metadata": {},
 "nbformat": 4,
 "nbformat_minor": 2
}
