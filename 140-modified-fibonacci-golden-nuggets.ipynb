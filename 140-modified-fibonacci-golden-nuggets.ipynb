{
 "cells": [
  {
   "cell_type": "markdown",
   "metadata": {},
   "source": [
    "# Modified Fibonacci golden nuggets\n",
    "## Problem 140 \n",
    "\n",
    "<div class=\"problem_content\" role=\"problem\">\n",
    "<p>Consider the infinite polynomial series A<sub>G</sub>(<i>x</i>) = <i>x</i>G<sub>1</sub> + <i>x</i><sup>2</sup>G<sub>2</sub> + <i>x</i><sup>3</sup>G<sub>3</sub> + ..., where G<sub><i>k</i></sub> is the <i>k</i>th term of the second order recurrence relation G<sub><i>k</i></sub> = G<sub><i>k</i>&#8722;1</sub> + G<sub><i>k</i>&#8722;2</sub>, G<sub>1</sub> = 1 and G<sub>2</sub> = 4; that is, 1, 4, 5, 9, 14, 23, ... .</p>\n",
    "<p>For this problem we shall be concerned with values of <i>x</i> for which A<sub>G</sub>(<i>x</i>) is a positive integer.</p>\n",
    "<p>The corresponding values of <i>x</i> for the first five natural numbers are shown below.</p>\n",
    "<div style=\"text-align:center;\">\n",
    "<table align=\"center\" border=\"1\" cellpadding=\"2\" cellspacing=\"0\"><tr style=\"background-color:#c1daf9;\"><td><b><i>x</i></b></td><td width=\"50\"><b>A<sub>G</sub>(<i>x</i>)</b></td>\n",
    "</tr><tr><td>(&#8730;5&#8722;1)/4</td><td>1</td>\n",
    "</tr><tr><td>2/5</td><td>2</td>\n",
    "</tr><tr><td>(&#8730;22&#8722;2)/6</td><td>3</td>\n",
    "</tr><tr><td>(&#8730;137&#8722;5)/14</td><td>4</td>\n",
    "</tr><tr><td>1/2</td><td>5</td>\n",
    "</tr></table></div>\n",
    "<p>We shall call A<sub>G</sub>(<i>x</i>) a golden nugget if <i>x</i> is rational, because they become increasingly rarer; for example, the 20th golden nugget is 211345365.</p>\n",
    "<p>Find the sum of the first thirty golden nuggets.</p>\n",
    "</div>"
   ]
  },
  {
   "cell_type": "code",
   "execution_count": null,
   "metadata": {},
   "outputs": [],
   "source": [
    "def solve():\n",
    "    # Your code here\n",
    "    \n"
   ]
  },
  {
   "cell_type": "markdown",
   "metadata": {},
   "source": [
    "## Solution"
   ]
  },
  {
   "cell_type": "code",
   "execution_count": null,
   "metadata": {},
   "outputs": [],
   "source": [
    "solve()"
   ]
  }
 ],
 "metadata": {},
 "nbformat": 4,
 "nbformat_minor": 2
}
