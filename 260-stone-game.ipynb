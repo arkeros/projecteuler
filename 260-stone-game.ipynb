{
 "cells": [
  {
   "cell_type": "markdown",
   "metadata": {},
   "source": [
    "# Stone Game\n",
    "## Problem 260 \n",
    "\n",
    "<div class=\"problem_content\" role=\"problem\">\n",
    "<p>A game is played with three piles of stones and two players.<br/>\n",
    "At her turn, a player removes one or more stones from the piles. However, if she takes stones from more than one pile, she must remove the same number of stones from each of the selected piles.</p>\n",
    "<p>In other words, the player chooses some N&gt;0 and removes:\n",
    "</p><ul><li>N stones from any single pile; or</li>\n",
    "<li>N stones from each of any two piles (2N total); or</li>\n",
    "<li>N stones from each of the three piles (3N total).</li></ul>\n",
    "The player taking the last stone(s) wins the game.\n",
    "\n",
    "<p>A <i>winning configuration</i> is one where the first player can force a win.<br/>\n",
    "For example, (0,0,13), (0,11,11) and (5,5,5) are winning configurations because the first player can immediately remove all stones.</p>\n",
    "<p>A <i>losing configuration</i> is one where the second player can force a win, no matter what the first player does.<br/> \n",
    "For example, (0,1,2) and (1,3,3) are losing configurations: any legal move leaves a winning configuration for the second player.</p>\n",
    "<p>Consider all  losing configurations (x<sub>i</sub>,y<sub>i</sub>,z<sub>i</sub>) where x<sub>i</sub> &#8804; y<sub>i</sub> &#8804; z<sub>i</sub> &#8804; 100.<br/>\n",
    "We can verify that &#931;(x<sub>i</sub>+y<sub>i</sub>+z<sub>i</sub>) = 173895 for these.</p>\n",
    "<p>Find &#931;(x<sub>i</sub>+y<sub>i</sub>+z<sub>i</sub>) where (x<sub>i</sub>,y<sub>i</sub>,z<sub>i</sub>) ranges over the losing configurations<br/>\n",
    "with x<sub>i</sub> &#8804; y<sub>i</sub> &#8804; z<sub>i</sub> &#8804; 1000.</p>\n",
    "</div>"
   ]
  },
  {
   "cell_type": "code",
   "execution_count": null,
   "metadata": {},
   "outputs": [],
   "source": [
    "def solve():\n",
    "    # Your code here\n",
    "    \n"
   ]
  },
  {
   "cell_type": "markdown",
   "metadata": {},
   "source": [
    "## Solution"
   ]
  },
  {
   "cell_type": "code",
   "execution_count": null,
   "metadata": {},
   "outputs": [],
   "source": [
    "solve()"
   ]
  }
 ],
 "metadata": {},
 "nbformat": 4,
 "nbformat_minor": 2
}
