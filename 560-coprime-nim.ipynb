{
 "cells": [
  {
   "cell_type": "markdown",
   "metadata": {},
   "source": [
    "# Coprime Nim\n",
    "## Problem 560 \n",
    "\n",
    "<div class=\"problem_content\" role=\"problem\">\n",
    "<p>Coprime Nim is just like ordinary normal play Nim, but the players may only remove a number of stones from a pile  that is <b>coprime</b> with the current size of the pile. Two players remove stones in turn. The player who removes the last stone wins.</p>\n",
    "<p>Let L(<var>n</var>,&#160;<var>k</var>) be the number of <b>losing</b> starting positions for the first player, assuming perfect play, when the game is played with <var>k</var> piles, each having between 1 and <var>n</var>&#160;-&#160;1 stones inclusively.</p>\n",
    "<p>For example, L(5,&#160;2)&#160;=&#160;6 since the losing initial positions are (1,&#160;1), (2,&#160;2), (2,&#160;4), (3,&#160;3), (4,&#160;2) and (4,&#160;4).<br/>\n",
    "You are also given L(10,&#160;5)&#160;=&#160;9964, L(10,&#160;10)&#160;=&#160;472400303, L(10<sup>3</sup>,&#160;10<sup>3</sup>)&#160;mod&#160;1&#160;000&#160;000&#160;007&#160;=&#160;954021836.</p>\n",
    "<p>Find L(10<sup>7</sup>,&#160;10<sup>7</sup>)&#160;mod&#160;1&#160;000&#160;000&#160;007</p>\n",
    "</div>"
   ]
  },
  {
   "cell_type": "code",
   "execution_count": null,
   "metadata": {},
   "outputs": [],
   "source": [
    "def solve():\n",
    "    # Your code here\n",
    "    \n"
   ]
  },
  {
   "cell_type": "markdown",
   "metadata": {},
   "source": [
    "## Solution"
   ]
  },
  {
   "cell_type": "code",
   "execution_count": null,
   "metadata": {},
   "outputs": [],
   "source": [
    "solve()"
   ]
  }
 ],
 "metadata": {},
 "nbformat": 4,
 "nbformat_minor": 2
}
