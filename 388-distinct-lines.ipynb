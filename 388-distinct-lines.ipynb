{
 "cells": [
  {
   "cell_type": "markdown",
   "metadata": {},
   "source": [
    "# Distinct Lines\n",
    "## Problem 388 \n",
    "\n",
    "<div class=\"problem_content\" role=\"problem\">\n",
    "<p>\n",
    "Consider all lattice points (a,b,c) with 0 &#8804; a,b,c &#8804; N.\n",
    "</p>\n",
    "<p>\n",
    "From the origin O(0,0,0) all lines are drawn to the other lattice points.<br/>\n",
    "Let D(N) be the number of <i>distinct</i> such lines.\n",
    "</p>\n",
    "<p>\n",
    "You are given that D(1 000 000) = 831909254469114121.\n",
    "</p><p>\n",
    "Find D(10<sup>10</sup>). Give as your answer the first nine digits followed by the last nine digits.\n",
    "</p>\n",
    "</div>"
   ]
  },
  {
   "cell_type": "code",
   "execution_count": null,
   "metadata": {},
   "outputs": [],
   "source": [
    "def solve():\n",
    "    # Your code here\n",
    "    \n"
   ]
  },
  {
   "cell_type": "markdown",
   "metadata": {},
   "source": [
    "## Solution"
   ]
  },
  {
   "cell_type": "code",
   "execution_count": null,
   "metadata": {},
   "outputs": [],
   "source": [
    "solve()"
   ]
  }
 ],
 "metadata": {},
 "nbformat": 4,
 "nbformat_minor": 2
}
