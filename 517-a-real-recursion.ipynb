{
 "cells": [
  {
   "cell_type": "markdown",
   "metadata": {},
   "source": [
    "# A real recursion\n",
    "## Problem 517 \n",
    "\n",
    "<div class=\"problem_content\" role=\"problem\">\n",
    "<p>\n",
    "For every real number $a \\gt 1$ is given the sequence $g_a$ by:<br/>\n",
    "$g_{a}(x)=1$ for $x \\lt a$<br/>\n",
    "$g_{a}(x)=g_{a}(x-1)+g_a(x-a)$ for $x \\ge a$<br/>\n",
    "\n",
    "$G(n)=g_{\\sqrt {n}}(n)$<br/>\n",
    "$G(90)=7564511$.</p>\n",
    "<p>\n",
    "Find $\\sum G(p)$ for $p$ prime and $10000000 \\lt p \\lt 10010000$<br/>\n",
    "Give your answer modulo 1000000007.\n",
    "</p>\n",
    "</div>"
   ]
  },
  {
   "cell_type": "code",
   "execution_count": null,
   "metadata": {},
   "outputs": [],
   "source": [
    "def solve():\n",
    "    # Your code here\n",
    "    \n"
   ]
  },
  {
   "cell_type": "markdown",
   "metadata": {},
   "source": [
    "## Solution"
   ]
  },
  {
   "cell_type": "code",
   "execution_count": null,
   "metadata": {},
   "outputs": [],
   "source": [
    "solve()"
   ]
  }
 ],
 "metadata": {},
 "nbformat": 4,
 "nbformat_minor": 2
}
