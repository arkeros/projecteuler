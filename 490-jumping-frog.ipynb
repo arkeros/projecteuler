{
 "cells": [
  {
   "cell_type": "markdown",
   "metadata": {},
   "source": [
    "# Jumping frog\n",
    "## Problem 490 \n",
    "\n",
    "<div class=\"problem_content\" role=\"problem\">\n",
    "<p>There are <var>n</var> stones in a pond, numbered 1 to <var>n</var>. Consecutive stones are spaced one unit apart.</p>\n",
    "<p>A frog sits on stone 1. He wishes to visit each stone exactly once, stopping on stone <var>n</var>. However, he can only jump from one stone to another if they are at most 3 units apart. In other words, from stone <var>i</var>, he can reach a stone <var>j</var> if 1 &#8804; <var>j</var> &#8804; <var>n</var> and <var>j</var> is in the set {<var>i</var>-3, <var>i</var>-2, <var>i</var>-1, <var>i</var>+1, <var>i</var>+2, <var>i</var>+3}.</p>\n",
    "<p>Let f(<var>n</var>) be the number of ways he can do this. For example, f(6) = 14, as shown below:<br/>\n",
    "1 &#8594; 2 &#8594; 3 &#8594; 4 &#8594; 5 &#8594; 6 <br/>\n",
    "1 &#8594; 2 &#8594; 3 &#8594; 5 &#8594; 4 &#8594; 6 <br/>\n",
    "1 &#8594; 2 &#8594; 4 &#8594; 3 &#8594; 5 &#8594; 6 <br/>\n",
    "1 &#8594; 2 &#8594; 4 &#8594; 5 &#8594; 3 &#8594; 6 <br/>\n",
    "1 &#8594; 2 &#8594; 5 &#8594; 3 &#8594; 4 &#8594; 6 <br/>\n",
    "1 &#8594; 2 &#8594; 5 &#8594; 4 &#8594; 3 &#8594; 6 <br/>\n",
    "1 &#8594; 3 &#8594; 2 &#8594; 4 &#8594; 5 &#8594; 6 <br/>\n",
    "1 &#8594; 3 &#8594; 2 &#8594; 5 &#8594; 4 &#8594; 6 <br/>\n",
    "1 &#8594; 3 &#8594; 4 &#8594; 2 &#8594; 5 &#8594; 6 <br/>\n",
    "1 &#8594; 3 &#8594; 5 &#8594; 2 &#8594; 4 &#8594; 6 <br/>\n",
    "1 &#8594; 4 &#8594; 2 &#8594; 3 &#8594; 5 &#8594; 6 <br/>\n",
    "1 &#8594; 4 &#8594; 2 &#8594; 5 &#8594; 3 &#8594; 6 <br/>\n",
    "1 &#8594; 4 &#8594; 3 &#8594; 2 &#8594; 5 &#8594; 6 <br/>\n",
    "1 &#8594; 4 &#8594; 5 &#8594; 2 &#8594; 3 &#8594; 6</p>\n",
    "<p>Other examples are f(10) = 254 and f(40) = 1439682432976.</p>\n",
    "<p>Let S(<var>L</var>) = &#8721; f(<var>n</var>)<sup>3</sup> for 1 &#8804; <var>n</var> &#8804; <var>L</var>.<br/>\n",
    "Examples:<br/>\n",
    "S(10) = 18230635<br/>\n",
    "S(20) = 104207881192114219<br/>\n",
    "S(1 000) mod 10<sup>9</sup> = 225031475<br/>\n",
    "S(1 000 000) mod 10<sup>9</sup> = 363486179</p>\n",
    "<p>Find S(10<sup>14</sup>) mod 10<sup>9</sup>.</p>\n",
    "</div>"
   ]
  },
  {
   "cell_type": "code",
   "execution_count": null,
   "metadata": {},
   "outputs": [],
   "source": [
    "def solve():\n",
    "    # Your code here\n",
    "    \n"
   ]
  },
  {
   "cell_type": "markdown",
   "metadata": {},
   "source": [
    "## Solution"
   ]
  },
  {
   "cell_type": "code",
   "execution_count": null,
   "metadata": {},
   "outputs": [],
   "source": [
    "solve()"
   ]
  }
 ],
 "metadata": {},
 "nbformat": 4,
 "nbformat_minor": 2
}
