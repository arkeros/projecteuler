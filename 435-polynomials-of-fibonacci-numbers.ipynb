{
 "cells": [
  {
   "cell_type": "markdown",
   "metadata": {},
   "source": [
    "# Polynomials of Fibonacci numbers\n",
    "## Problem 435 \n",
    "\n",
    "<div class=\"problem_content\" role=\"problem\">\n",
    "<p>The <strong>Fibonacci numbers</strong> {f<sub>n</sub>, n &#8805; 0} are defined recursively as f<sub>n</sub> = f<sub>n-1</sub> + f<sub>n-2</sub> with base cases f<sub>0</sub> = 0 and f<sub>1</sub> = 1.</p>\n",
    "<p>Define the polynomials {F<sub>n</sub>, n &#8805; 0} as F<sub>n</sub>(x) = &#8721;f<sub>i</sub>x<sup>i</sup> for 0 &#8804; i &#8804; n.</p>\n",
    "<p>For example, F<sub>7</sub>(x) = x + x<sup>2</sup> + 2x<sup>3</sup> + 3x<sup>4</sup> + 5x<sup>5</sup> + 8x<sup>6</sup> + 13x<sup>7</sup>, and F<sub>7</sub>(11) = 268357683.</p>\n",
    "<p>Let n = 10<sup>15</sup>. Find the sum [&#8721;<sub>0&#8804;x&#8804;100</sub> F<sub>n</sub>(x)] mod 1307674368000 (= 15!).</p>\n",
    "</div>"
   ]
  },
  {
   "cell_type": "code",
   "execution_count": null,
   "metadata": {},
   "outputs": [],
   "source": [
    "def solve():\n",
    "    # Your code here\n",
    "    \n"
   ]
  },
  {
   "cell_type": "markdown",
   "metadata": {},
   "source": [
    "## Solution"
   ]
  },
  {
   "cell_type": "code",
   "execution_count": null,
   "metadata": {},
   "outputs": [],
   "source": [
    "solve()"
   ]
  }
 ],
 "metadata": {},
 "nbformat": 4,
 "nbformat_minor": 2
}
