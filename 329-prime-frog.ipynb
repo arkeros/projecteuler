{
 "cells": [
  {
   "cell_type": "markdown",
   "metadata": {},
   "source": [
    "# Prime Frog\n",
    "## Problem 329 \n",
    "\n",
    "<div class=\"problem_content\" role=\"problem\">\n",
    "<p>Susan has a prime frog.<br/>\n",
    "Her frog is jumping around over 500 squares numbered 1 to 500.\n",
    "He can only jump one square to the left or to the right, with equal probability, and he cannot jump outside the range [1;500].<br/>(if it lands at either end, it automatically jumps to the only available square on the next move.)\n",
    "</p>\n",
    "<p>\n",
    "When he is on a square with a prime number on it, he croaks 'P' (PRIME) with probability 2/3 or 'N' (NOT PRIME) with probability 1/3 just before jumping to the next square.<br/>\n",
    "When he is on a square with a number on it that is not a prime he croaks 'P' with probability 1/3 or 'N' with probability 2/3 just before jumping to the next square.\n",
    "</p>\n",
    "<p>\n",
    "Given that the frog's starting position is random with the same probability for every square, and given that she listens to his first 15 croaks, what is the probability that she hears the sequence PPPPNNPPPNPPNPN?\n",
    "</p>\n",
    "Give your answer as a fraction p/q in reduced form.\n",
    "\n",
    "</div>"
   ]
  },
  {
   "cell_type": "code",
   "execution_count": null,
   "metadata": {},
   "outputs": [],
   "source": [
    "def solve():\n",
    "    # Your code here\n",
    "    \n"
   ]
  },
  {
   "cell_type": "markdown",
   "metadata": {},
   "source": [
    "## Solution"
   ]
  },
  {
   "cell_type": "code",
   "execution_count": null,
   "metadata": {},
   "outputs": [],
   "source": [
    "solve()"
   ]
  }
 ],
 "metadata": {},
 "nbformat": 4,
 "nbformat_minor": 2
}
