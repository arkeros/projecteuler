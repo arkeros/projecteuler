{
 "cells": [
  {
   "cell_type": "markdown",
   "metadata": {},
   "source": [
    "# Integer angled Quadrilaterals\n",
    "## Problem 177 \n",
    "\n",
    "<div class=\"problem_content\" role=\"problem\">\n",
    "<p>Let ABCD be a convex quadrilateral, with diagonals AC and BD. At each vertex the diagonal makes an angle with each of the two sides, creating eight corner angles.</p>\n",
    "<p style=\"margin-left:180px;\"><img alt=\"\" src=\"project/images/p177_quad.gif\"/></p>\n",
    "<p>For example, at vertex A, the two angles are CAD, CAB.</p>\n",
    "<p>We call such a quadrilateral for which all eight corner angles have integer values when measured in degrees an \"integer angled quadrilateral\". An example of an integer angled quadrilateral is a square, where all eight corner angles are 45&#176;. Another example is given by DAC = 20&#176;, BAC = 60&#176;, ABD = 50&#176;, CBD = 30&#176;, BCA = 40&#176;, DCA = 30&#176;, CDB = 80&#176;, ADB = 50&#176;.</p>\n",
    "<p>What is the total number of non-similar integer angled quadrilaterals?</p>\n",
    "<p>Note: In your calculations you may assume that a calculated angle is integral if it is within a tolerance of 10<sup>-9</sup> of an integer value.</p>\n",
    "</div>"
   ]
  },
  {
   "cell_type": "code",
   "execution_count": null,
   "metadata": {},
   "outputs": [],
   "source": [
    "def solve():\n",
    "    # Your code here\n",
    "    \n"
   ]
  },
  {
   "cell_type": "markdown",
   "metadata": {},
   "source": [
    "## Solution"
   ]
  },
  {
   "cell_type": "code",
   "execution_count": null,
   "metadata": {},
   "outputs": [],
   "source": [
    "solve()"
   ]
  }
 ],
 "metadata": {},
 "nbformat": 4,
 "nbformat_minor": 2
}
