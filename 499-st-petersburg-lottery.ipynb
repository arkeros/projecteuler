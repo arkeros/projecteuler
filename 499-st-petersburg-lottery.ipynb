{
 "cells": [
  {
   "cell_type": "markdown",
   "metadata": {},
   "source": [
    "# St. Petersburg Lottery\n",
    "## Problem 499 \n",
    "\n",
    "<div class=\"problem_content\" role=\"problem\">\n",
    "<p>A gambler decides to participate in a special lottery. In this lottery the gambler plays a series of one or more games.<br/>\n",
    "Each game costs <var>m</var> pounds to play and starts with an initial pot of 1 pound. The gambler flips an unbiased coin. Every time a head appears, the pot is doubled and the gambler continues. When a tail appears, the game ends and the gambler collects the current value of the pot. The gambler is certain to win at least 1 pound, the starting value of the pot, at the cost of <var>m</var> pounds, the initial fee.</p>\n",
    "<p>The gambler cannot continue to play if his fortune falls below <var>m</var> pounds.\n",
    "Let <var>p<sub>m</sub></var>(<var>s</var>) denote the probability that the gambler will never run out of money in this lottery given his initial fortune <var>s</var> and the cost per game <var>m</var>.<br/>\n",
    "For example <var>p</var><sub>2</sub>(2)&#160;&#8776;&#160;0.2522, <var>p</var><sub>2</sub>(5)&#160;&#8776;&#160;0.6873 and <var>p</var><sub>6</sub>(10&#160;000)&#160;&#8776;&#160;0.9952 (note: <var>p<sub>m</sub></var>(<var>s</var>)&#160;=&#160;0 for <var>s</var>&#160;&lt;&#160;<var>m</var>).</p>\n",
    "<p>Find <var>p</var><sub>15</sub>(10<sup>9</sup>) and give your answer rounded to 7 decimal places behind the decimal point in the form 0.abcdefg.</p>\n",
    "</div>"
   ]
  },
  {
   "cell_type": "code",
   "execution_count": null,
   "metadata": {},
   "outputs": [],
   "source": [
    "def solve():\n",
    "    # Your code here\n",
    "    \n"
   ]
  },
  {
   "cell_type": "markdown",
   "metadata": {},
   "source": [
    "## Solution"
   ]
  },
  {
   "cell_type": "code",
   "execution_count": null,
   "metadata": {},
   "outputs": [],
   "source": [
    "solve()"
   ]
  }
 ],
 "metadata": {},
 "nbformat": 4,
 "nbformat_minor": 2
}
