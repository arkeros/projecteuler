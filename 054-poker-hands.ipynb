{
 "cells": [
  {
   "cell_type": "markdown",
   "metadata": {},
   "source": [
    "# Poker hands\n",
    "## Problem 54 \n",
    "\n",
    "<div class=\"problem_content\" role=\"problem\">\n",
    "<p>In the card game poker, a hand consists of five cards and are ranked, from lowest to highest, in the following way:</p>\n",
    "<ul><li><b>High Card</b>: Highest value card.</li>\n",
    "<li><b>One Pair</b>: Two cards of the same value.</li>\n",
    "<li><b>Two Pairs</b>: Two different pairs.</li>\n",
    "<li><b>Three of a Kind</b>: Three cards of the same value.</li>\n",
    "<li><b>Straight</b>: All cards are consecutive values.</li>\n",
    "<li><b>Flush</b>: All cards of the same suit.</li>\n",
    "<li><b>Full House</b>: Three of a kind and a pair.</li>\n",
    "<li><b>Four of a Kind</b>: Four cards of the same value.</li>\n",
    "<li><b>Straight Flush</b>: All cards are consecutive values of same suit.</li>\n",
    "<li><b>Royal Flush</b>: Ten, Jack, Queen, King, Ace, in same suit.</li>\n",
    "</ul><p>The cards are valued in the order:<br/>2, 3, 4, 5, 6, 7, 8, 9, 10, Jack, Queen, King, Ace.</p>\n",
    "<p>If two players have the same ranked hands then the rank made up of the highest value wins; for example, a pair of eights beats a pair of fives (see example 1 below). But if two ranks tie, for example, both players have a pair of queens, then highest cards in each hand are compared (see example 4 below); if the highest cards tie then the next highest cards are compared, and so on.</p>\n",
    "<p>Consider the following five hands dealt to two players:</p>\n",
    "<div style=\"text-align:center;\">\n",
    "<table><tr><td><b>Hand</b></td><td>&#160;</td><td><b>Player 1</b></td><td>&#160;</td><td><b>Player 2</b></td><td>&#160;</td><td><b>Winner</b></td>\n",
    "</tr><tr><td style=\"vertical-align:top;\"><b>1</b></td><td>&#160;</td><td>5H 5C 6S 7S KD<br/><div class=\"note\">Pair of Fives</div></td><td>&#160;</td><td>2C 3S 8S 8D TD<br/><div class=\"note\">Pair of Eights</div></td><td>&#160;</td><td style=\"vertical-align:top;\">Player 2</td>\n",
    "</tr><tr><td style=\"vertical-align:top;\"><b>2</b></td><td>&#160;</td><td>5D 8C 9S JS AC<br/><div class=\"note\">Highest card Ace</div></td><td>&#160;</td><td>2C 5C 7D 8S QH<br/><div class=\"note\">Highest card Queen</div></td><td>&#160;</td><td style=\"vertical-align:top;\">Player 1</td>\n",
    "</tr><tr><td style=\"vertical-align:top;\"><b>3</b></td><td>&#160;</td><td>2D 9C AS AH AC<br/><div class=\"note\">Three Aces</div></td><td>&#160;</td><td>3D 6D 7D TD QD<br/><div class=\"note\">Flush  with Diamonds</div></td><td>&#160;</td><td style=\"vertical-align:top;\">Player 2</td>\n",
    "</tr><tr><td style=\"vertical-align:top;\"><b>4</b></td><td>&#160;</td><td>4D 6S 9H QH QC<br/><div class=\"note\">Pair of Queens<br/>Highest card Nine</div></td><td>&#160;</td><td>3D 6D 7H QD QS<br/><div class=\"note\">Pair of Queens<br/>Highest card Seven</div></td><td>&#160;</td><td style=\"vertical-align:top;\">Player 1</td>\n",
    "</tr><tr><td style=\"vertical-align:top;\"><b>5</b></td><td>&#160;</td><td>2H 2D 4C 4D 4S<br/><div class=\"note\">Full House<br/>With Three Fours</div></td><td>&#160;</td><td>3C 3D 3S 9S 9D<br/><div class=\"note\">Full House<br/>with Three Threes</div></td><td>&#160;</td><td style=\"vertical-align:top;\">Player 1</td>\n",
    "</tr></table></div>\n",
    "<p>The file, <a href=\"project/resources/p054_poker.txt\">poker.txt</a>, contains one-thousand random hands dealt to two players. Each line of the file contains ten cards (separated by a single space): the first five are Player 1's cards and the last five are Player 2's cards. You can assume that all hands are valid (no invalid characters or repeated cards), each player's hand is in no specific order, and in each hand there is a clear winner.</p>\n",
    "<p>How many hands does Player 1 win?</p>\n",
    "</div>"
   ]
  },
  {
   "cell_type": "code",
   "execution_count": null,
   "metadata": {},
   "outputs": [],
   "source": [
    "def solve():\n",
    "    # Your code here\n",
    "    \n"
   ]
  },
  {
   "cell_type": "markdown",
   "metadata": {},
   "source": [
    "## Solution"
   ]
  },
  {
   "cell_type": "code",
   "execution_count": null,
   "metadata": {},
   "outputs": [],
   "source": [
    "solve()"
   ]
  }
 ],
 "metadata": {},
 "nbformat": 4,
 "nbformat_minor": 2
}
