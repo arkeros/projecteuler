{
 "cells": [
  {
   "cell_type": "markdown",
   "metadata": {},
   "source": [
    "# Almost right-angled triangles I\n",
    "## Problem 223 \n",
    "\n",
    "<div class=\"problem_content\" role=\"problem\">\n",
    "<p>Let us call an integer sided triangle with sides <var>a</var> &#8804; <var>b</var> &#8804; <var>c</var> <i>barely acute</i> if the sides satisfy <br/><var>a</var><sup>2</sup> + <var>b</var><sup>2</sup> = <var>c</var><sup>2</sup> + 1.</p>\n",
    "<p>How many barely acute triangles are there with perimeter &#8804; 25,000,000?</p>\n",
    "</div>"
   ]
  },
  {
   "cell_type": "code",
   "execution_count": null,
   "metadata": {},
   "outputs": [],
   "source": [
    "def solve():\n",
    "    # Your code here\n",
    "    \n"
   ]
  },
  {
   "cell_type": "markdown",
   "metadata": {},
   "source": [
    "## Solution"
   ]
  },
  {
   "cell_type": "code",
   "execution_count": null,
   "metadata": {},
   "outputs": [],
   "source": [
    "solve()"
   ]
  }
 ],
 "metadata": {},
 "nbformat": 4,
 "nbformat_minor": 2
}
