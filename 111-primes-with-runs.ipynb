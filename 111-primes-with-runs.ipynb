{
 "cells": [
  {
   "cell_type": "markdown",
   "metadata": {},
   "source": [
    "# Primes with runs\n",
    "## Problem 111 \n",
    "\n",
    "<div class=\"problem_content\" role=\"problem\">\n",
    "<p>Considering 4-digit primes containing repeated digits it is clear that they cannot all be the same: 1111 is divisible by 11, 2222 is divisible by 22, and so on. But there are nine 4-digit primes containing three ones:</p>\n",
    "<p style=\"text-align:center;\">1117, 1151, 1171, 1181, 1511, 1811, 2111, 4111, 8111</p>\n",
    "<p>We shall say that M(<i>n</i>, <i>d</i>) represents the maximum number of repeated digits for an <i>n</i>-digit prime where <i>d</i> is the repeated digit, N(<i>n</i>, <i>d</i>) represents the number of such primes, and S(<i>n</i>, <i>d</i>) represents the sum of these primes.</p>\n",
    "<p>So M(4, 1) = 3 is the maximum number of repeated digits for a 4-digit prime where one is the repeated digit, there are N(4, 1) = 9 such primes, and the sum of these primes is S(4, 1) = 22275. It turns out that for <i>d</i> = 0, it is only possible to have M(4, 0) = 2 repeated digits, but there are N(4, 0) = 13 such cases.</p>\n",
    "<p>In the same way we obtain the following results for 4-digit primes.</p>\n",
    "<div style=\"text-align:center;\">\n",
    "<table align=\"center\" border=\"1\" cellpadding=\"5\" cellspacing=\"0\"><tr><td><b>Digit, <i>d</i></b></td>\n",
    "<td><b>M(4, <i>d</i>)</b></td>\n",
    "<td><b>N(4, <i>d</i>)</b></td>\n",
    "<td><b>S(4, <i>d</i>)</b></td>\n",
    "</tr><tr><td>0</td>\n",
    "<td>2</td>\n",
    "<td>13</td>\n",
    "<td>67061</td>\n",
    "</tr><tr><td>1</td>\n",
    "<td>3</td>\n",
    "<td>9</td>\n",
    "<td>22275</td>\n",
    "</tr><tr><td>2</td>\n",
    "<td>3</td>\n",
    "<td>1</td>\n",
    "<td>2221</td>\n",
    "</tr><tr><td>3</td>\n",
    "<td>3</td>\n",
    "<td>12</td>\n",
    "<td>46214</td>\n",
    "</tr><tr><td>4</td>\n",
    "<td>3</td>\n",
    "<td>2</td>\n",
    "<td>8888</td>\n",
    "</tr><tr><td>5</td>\n",
    "<td>3</td>\n",
    "<td>1</td>\n",
    "<td>5557</td>\n",
    "</tr><tr><td>6</td>\n",
    "<td>3</td>\n",
    "<td>1</td>\n",
    "<td>6661</td>\n",
    "</tr><tr><td>7</td>\n",
    "<td>3</td>\n",
    "<td>9</td>\n",
    "<td>57863</td>\n",
    "</tr><tr><td>8</td>\n",
    "<td>3</td>\n",
    "<td>1</td>\n",
    "<td>8887</td>\n",
    "</tr><tr><td>9</td>\n",
    "<td>3</td>\n",
    "<td>7</td>\n",
    "<td>48073</td>\n",
    "</tr></table></div>\n",
    "<p>For <i>d</i> = 0 to 9, the sum of all S(4, <i>d</i>) is 273700.</p>\n",
    "<p>Find the sum of all S(10, <i>d</i>).</p>\n",
    "</div>"
   ]
  },
  {
   "cell_type": "code",
   "execution_count": null,
   "metadata": {},
   "outputs": [],
   "source": [
    "def solve():\n",
    "    # Your code here\n",
    "    \n"
   ]
  },
  {
   "cell_type": "markdown",
   "metadata": {},
   "source": [
    "## Solution"
   ]
  },
  {
   "cell_type": "code",
   "execution_count": null,
   "metadata": {},
   "outputs": [],
   "source": [
    "solve()"
   ]
  }
 ],
 "metadata": {},
 "nbformat": 4,
 "nbformat_minor": 2
}
