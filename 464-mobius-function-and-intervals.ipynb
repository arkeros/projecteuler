{
 "cells": [
  {
   "cell_type": "markdown",
   "metadata": {},
   "source": [
    "# Mobius function and intervals\n",
    "## Problem 464 \n",
    "\n",
    "<div class=\"problem_content\" role=\"problem\">\n",
    "<p>\n",
    "The <b>M&#246;bius function</b>, denoted <var>&#956;</var>(<var>n</var>), is defined as:\n",
    "</p><ul><li><var>&#956;</var>(<var>n</var>) = (-1)<sup><var>&#969;</var>(<var>n</var>)</sup> if <var>n</var> is squarefree (where <var>&#969;</var>(<var>n</var>) is the number of distinct prime factors of <var>n</var>)</li>\n",
    "<li><var>&#956;</var>(<var>n</var>) = 0 if <var>n</var> is not squarefree.</li>\n",
    "</ul><p>\n",
    "Let P(<var>a</var>,<var>b</var>) be the number of integers <var>n</var> in the interval [<var>a</var>,<var>b</var>] such that <var>&#956;</var>(<var>n</var>) = 1.<br/>\n",
    "Let N(<var>a</var>,<var>b</var>) be the number of integers <var>n</var> in the interval [<var>a</var>,<var>b</var>] such that <var>&#956;</var>(<var>n</var>) = -1.<br/>\n",
    "For example, P(2,10) = 2 and N(2,10) = 4.\n",
    "</p>\n",
    "<p>\n",
    "Let C(<var>n</var>) be the number of integer pairs (<var>a</var>,<var>b</var>) such that:\n",
    "</p><ul><li> 1&#160;&#8804;&#160;<var>a</var>&#160;&#8804;&#160;<var>b</var>&#160;&#8804;&#160;<var>n</var>,</li>\n",
    "<li> 99&#183;N(<var>a</var>,<var>b</var>)&#160;&#8804;&#160;100&#183;P(<var>a</var>,<var>b</var>), and</li>\n",
    "<li> 99&#183;P(<var>a</var>,<var>b</var>)&#160;&#8804;&#160;100&#183;N(<var>a</var>,<var>b</var>).</li>\n",
    "</ul><p>\n",
    "For example, C(10)&#160;=&#160;13, C(500)&#160;=&#160;16676 and C(10&#160;000)&#160;=&#160;20155319.\n",
    "</p>\n",
    "<p>\n",
    "Find C(20&#160;000&#160;000).\n",
    "</p>\n",
    "</div>"
   ]
  },
  {
   "cell_type": "code",
   "execution_count": null,
   "metadata": {},
   "outputs": [],
   "source": [
    "def solve():\n",
    "    # Your code here\n",
    "    \n"
   ]
  },
  {
   "cell_type": "markdown",
   "metadata": {},
   "source": [
    "## Solution"
   ]
  },
  {
   "cell_type": "code",
   "execution_count": null,
   "metadata": {},
   "outputs": [],
   "source": [
    "solve()"
   ]
  }
 ],
 "metadata": {},
 "nbformat": 4,
 "nbformat_minor": 2
}
