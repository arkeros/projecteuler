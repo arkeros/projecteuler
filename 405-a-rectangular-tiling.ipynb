{
 "cells": [
  {
   "cell_type": "markdown",
   "metadata": {},
   "source": [
    "# A rectangular tiling\n",
    "## Problem 405 \n",
    "\n",
    "<div class=\"problem_content\" role=\"problem\">\n",
    "<p>\n",
    "We wish to tile a rectangle whose length is twice its width.<br/>\n",
    "Let <var>T</var>(0) be the tiling consisting of a single rectangle.<br/>\n",
    "For <var>n</var> &gt; 0, let <var>T</var>(<var>n</var>) be obtained from <var>T</var>(<var>n</var>-1) by replacing all tiles in the following manner:\n",
    "</p>\n",
    "<div align=\"center\">\n",
    "<img alt=\"p405_tile1.png\" src=\"project/images/p405_tile1.png\"/></div>\n",
    "<p>\n",
    "The following animation demonstrates the tilings <var>T</var>(<var>n</var>) for <var>n</var> from 0 to 5:\n",
    "</p>\n",
    "<div align=\"center\">\n",
    "<img alt=\"p405_tile2.gif\" src=\"project/images/p405_tile2.gif\"/></div>\n",
    "<p>\n",
    "Let <var>f</var>(<var>n</var>) be the number of points where four tiles meet in <var>T</var>(<var>n</var>).<br/>\n",
    "For example, <var>f</var>(1) = 0, <var>f</var>(4) = 82 and <var>f</var>(10<sup>9</sup>) mod 17<sup>7</sup> = 126897180.\n",
    "</p>\n",
    "<p>\n",
    "Find <var>f</var>(10<sup><var>k</var></sup>) for <var>k</var> = 10<sup>18</sup>, give your answer modulo 17<sup>7</sup>.\n",
    "</p>\n",
    "</div>"
   ]
  },
  {
   "cell_type": "code",
   "execution_count": null,
   "metadata": {},
   "outputs": [],
   "source": [
    "def solve():\n",
    "    # Your code here\n",
    "    \n"
   ]
  },
  {
   "cell_type": "markdown",
   "metadata": {},
   "source": [
    "## Solution"
   ]
  },
  {
   "cell_type": "code",
   "execution_count": null,
   "metadata": {},
   "outputs": [],
   "source": [
    "solve()"
   ]
  }
 ],
 "metadata": {},
 "nbformat": 4,
 "nbformat_minor": 2
}
