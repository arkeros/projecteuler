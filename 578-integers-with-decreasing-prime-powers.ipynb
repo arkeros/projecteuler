{
 "cells": [
  {
   "cell_type": "markdown",
   "metadata": {},
   "source": [
    "# Integers with decreasing prime powers\n",
    "## Problem 578 \n",
    "\n",
    "<div class=\"problem_content\" role=\"problem\">\n",
    "<p>Any positive integer can be written as a product of prime powers: <var>p</var><sub>1</sub><sup><var>a</var><sub>1</sub></sup>&#160;&#215;&#160;<var>p</var><sub>2</sub><sup><var>a</var><sub>2</sub></sup>&#160;&#215;&#160;...&#160;&#215;&#160;<var>p<sub>k</sub><sup>a<sub>k</sub></sup></var>,<br/>\n",
    "where <var>p<sub>i</sub></var> are distinct prime integers, <var>a<sub>i</sub></var>&#160;&gt;&#160;0 and <var>p<sub>i</sub></var>&#160;&lt;&#160;<var>p<sub>j</sub></var> if <var>i</var>&#160;&lt;&#160;<var>j</var>.</p>\n",
    "<p>A <i>decreasing prime power</i> positive integer is one for which <var>a<sub>i</sub></var>&#160;&#8805;&#160;<var>a<sub>j</sub></var> if <var>i</var>&#160;&lt;&#160;<var>j</var>.<br/>\n",
    "For example, 1, 2, 15=3&#215;5, 360=2<sup>3</sup>&#215;3<sup>2</sup>&#215;5 and 1000=2<sup>3</sup>&#215;5<sup>3</sup> are decreasing prime power integers.</p>\n",
    "<p>Let C(<var>n</var>) be the count of decreasing prime power positive integers not exceeding <var>n</var>.<br/>\n",
    "C(100)&#160;=&#160;94 since all positive integers not exceeding 100 have decreasing prime powers except 18, 50, 54, 75, 90 and 98.<br/>\n",
    "You are given C(10<sup>6</sup>)&#160;=&#160;922052.</p>\n",
    "<p>Find C(10<sup>13</sup>).</p>\n",
    "</div>"
   ]
  },
  {
   "cell_type": "code",
   "execution_count": null,
   "metadata": {},
   "outputs": [],
   "source": [
    "def solve():\n",
    "    # Your code here\n",
    "    \n"
   ]
  },
  {
   "cell_type": "markdown",
   "metadata": {},
   "source": [
    "## Solution"
   ]
  },
  {
   "cell_type": "code",
   "execution_count": null,
   "metadata": {},
   "outputs": [],
   "source": [
    "solve()"
   ]
  }
 ],
 "metadata": {},
 "nbformat": 4,
 "nbformat_minor": 2
}
