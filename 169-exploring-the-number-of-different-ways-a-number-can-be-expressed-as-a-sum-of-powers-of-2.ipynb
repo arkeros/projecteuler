{
 "cells": [
  {
   "cell_type": "markdown",
   "metadata": {},
   "source": [
    "# Exploring the number of different ways a number can be expressed as a sum of powers of 2\n",
    "## Problem 169 \n",
    "\n",
    "<div class=\"problem_content\" role=\"problem\">\n",
    "<p>Define f(0)=1 and f(<var>n</var>) to be the number of different ways <var>n</var> can be expressed as a sum of integer powers of 2 using each power no more than twice.</p>\n",
    "<p>For example, f(10)=5 since there are five different ways to express 10:</p>\n",
    "<p style=\"margin-left:50px;\">1 + 1 + 8<br/>\n",
    "1 + 1 + 4 + 4<br/>1 + 1 + 2 + 2 + 4<br/>\n",
    "2 + 4 + 4<br/>\n",
    "2 + 8</p>\n",
    "<p>What is f(10<sup>25</sup>)?</p>\n",
    "</div>"
   ]
  },
  {
   "cell_type": "code",
   "execution_count": null,
   "metadata": {},
   "outputs": [],
   "source": [
    "def solve():\n",
    "    # Your code here\n",
    "    \n"
   ]
  },
  {
   "cell_type": "markdown",
   "metadata": {},
   "source": [
    "## Solution"
   ]
  },
  {
   "cell_type": "code",
   "execution_count": null,
   "metadata": {},
   "outputs": [],
   "source": [
    "solve()"
   ]
  }
 ],
 "metadata": {},
 "nbformat": 4,
 "nbformat_minor": 2
}
