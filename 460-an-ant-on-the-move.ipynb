{
 "cells": [
  {
   "cell_type": "markdown",
   "metadata": {},
   "source": [
    "# An ant on the move\n",
    "## Problem 460 \n",
    "\n",
    "<div class=\"problem_content\" role=\"problem\">\n",
    "<p>\n",
    "On the Euclidean plane, an ant travels from point A(0, 1) to point B(<var>d</var>, 1) for an integer <var>d</var>.\n",
    "</p>\n",
    "<p>\n",
    "In each step, the ant at point (<var>x</var><sub>0</sub>, <var>y</var><sub>0</sub>) chooses one of the lattice points (<var>x</var><sub>1</sub>, <var>y</var><sub>1</sub>) which satisfy <var>x</var><sub>1</sub> &#8805; 0 and <var>y</var><sub>1</sub> &#8805; 1 and goes straight to (<var>x</var><sub>1</sub>, <var>y</var><sub>1</sub>) at a constant velocity <var>v</var>. The value of <var>v</var> depends on <var>y</var><sub>0</sub> and <var>y</var><sub>1</sub> as follows:\n",
    "</p><ul><li> If <var>y</var><sub>0</sub> = <var>y</var><sub>1</sub>, the value of <var>v</var> equals <var>y</var><sub>0</sub>.</li>\n",
    "<li> If <var>y</var><sub>0</sub> &#8800; <var>y</var><sub>1</sub>, the value of <var>v</var> equals (<var>y</var><sub>1</sub> - <var>y</var><sub>0</sub>) / (ln(<var>y</var><sub>1</sub>) - ln(<var>y</var><sub>0</sub>)).</li>\n",
    "</ul><p>\n",
    "The left image is one of the possible paths for <var>d</var> = 4. First the ant goes from A(0, 1) to P<sub>1</sub>(1, 3) at velocity (3 - 1) / (ln(3) - ln(1)) &#8776; 1.8205. Then the required time is sqrt(5) / 1.8205 &#8776; 1.2283.<br/>\n",
    "From P<sub>1</sub>(1, 3) to P<sub>2</sub>(3, 3) the ant travels at velocity 3 so the required time is 2 / 3 &#8776; 0.6667. From P<sub>2</sub>(3, 3) to B(4, 1) the ant travels at velocity (1 - 3) / (ln(1) - ln(3)) &#8776; 1.8205 so the required time is sqrt(5) / 1.8205 &#8776; 1.2283.<br/>\n",
    "Thus the total required time is 1.2283 + 0.6667 + 1.2283 = 3.1233.\n",
    "</p>\n",
    "<p>\n",
    "The right image is another path. The total required time is calculated as 0.98026 + 1 + 0.98026 = 2.96052. It can be shown that this is the quickest path for <var>d</var> = 4.\n",
    "</p>\n",
    "<p align=\"center\"><img alt=\"p460_ant.jpg\" src=\"project/images/p460_ant.jpg\"/></p>\n",
    "<p>\n",
    "Let F(<var>d</var>) be the total required time if the ant chooses the quickest path. For example, F(4) &#8776; 2.960516287.<br/>\n",
    "We can verify that F(10) &#8776; 4.668187834 and F(100) &#8776; 9.217221972.\n",
    "</p>\n",
    "<p>\n",
    "Find F(10000). Give your answer rounded to nine decimal places.\n",
    "</p>\n",
    "</div>"
   ]
  },
  {
   "cell_type": "code",
   "execution_count": null,
   "metadata": {},
   "outputs": [],
   "source": [
    "def solve():\n",
    "    # Your code here\n",
    "    \n"
   ]
  },
  {
   "cell_type": "markdown",
   "metadata": {},
   "source": [
    "## Solution"
   ]
  },
  {
   "cell_type": "code",
   "execution_count": null,
   "metadata": {},
   "outputs": [],
   "source": [
    "solve()"
   ]
  }
 ],
 "metadata": {},
 "nbformat": 4,
 "nbformat_minor": 2
}
