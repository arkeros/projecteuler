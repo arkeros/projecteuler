{
 "cells": [
  {
   "cell_type": "markdown",
   "metadata": {},
   "source": [
    "# Disc game prize fund\n",
    "## Problem 121 \n",
    "\n",
    "<div class=\"problem_content\" role=\"problem\">\n",
    "<p>A bag contains one red disc and one blue disc. In a game of chance a player takes a disc at random and its colour is noted. After each turn the disc is returned to the bag, an extra red disc is added, and another disc is taken at random.</p>\n",
    "<p>The player pays &#163;1 to play and wins if they have taken more blue discs than red discs at the end of the game.</p>\n",
    "<p>If the game is played for four turns, the probability of a player winning is exactly 11/120, and so the maximum prize fund the banker should allocate for winning in this game would be &#163;10 before they would expect to incur a loss. Note that any payout will be a whole number of pounds and also includes the original &#163;1 paid to play the game, so in the example given the player actually wins &#163;9.</p>\n",
    "<p>Find the maximum prize fund that should be allocated to a single game in which fifteen turns are played.</p>\n",
    "</div>"
   ]
  },
  {
   "cell_type": "code",
   "execution_count": null,
   "metadata": {},
   "outputs": [],
   "source": [
    "def solve():\n",
    "    # Your code here\n",
    "    \n"
   ]
  },
  {
   "cell_type": "markdown",
   "metadata": {},
   "source": [
    "## Solution"
   ]
  },
  {
   "cell_type": "code",
   "execution_count": null,
   "metadata": {},
   "outputs": [],
   "source": [
    "solve()"
   ]
  }
 ],
 "metadata": {},
 "nbformat": 4,
 "nbformat_minor": 2
}
