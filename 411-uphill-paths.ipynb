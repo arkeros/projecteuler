{
 "cells": [
  {
   "cell_type": "markdown",
   "metadata": {},
   "source": [
    "# Uphill paths\n",
    "## Problem 411 \n",
    "\n",
    "<div class=\"problem_content\" role=\"problem\">\n",
    "<p>\n",
    "Let <var>n</var> be a positive integer. Suppose there are stations at the coordinates (<var>x</var>, <var>y</var>) = (2<sup><var>i</var></sup> mod <var>n</var>, 3<sup><var>i</var></sup> mod <var>n</var>) for 0 &#8804; <var>i</var> &#8804; 2<var>n</var>. We will consider stations with the same coordinates as the same station.\n",
    "</p><p>\n",
    "We wish to form a path from (0, 0) to (<var>n</var>, <var>n</var>) such that the x and y coordinates never decrease.<br/>\n",
    "Let S(<var>n</var>) be the maximum number of stations such a path can pass through.\n",
    "</p><p>\n",
    "For example, if <var>n</var> = 22, there are 11 distinct stations, and a valid path can pass through at most 5 stations. Therefore, S(22) = 5.\n",
    "The case is illustrated below, with an example of an optimal path:\n",
    "</p>\n",
    "<p align=\"center\"><img alt=\"p411_longpath.png\" src=\"project/images/p411_longpath.png\"/></p>\n",
    "<p>\n",
    "It can also be verified that S(123) = 14 and S(10000) = 48.\n",
    "</p><p>\n",
    "Find &#8721; S(<var>k</var><sup>5</sup>) for 1 &#8804; <var>k</var> &#8804; 30.\n",
    "</p>\n",
    "</div>"
   ]
  },
  {
   "cell_type": "code",
   "execution_count": null,
   "metadata": {},
   "outputs": [],
   "source": [
    "def solve():\n",
    "    # Your code here\n",
    "    \n"
   ]
  },
  {
   "cell_type": "markdown",
   "metadata": {},
   "source": [
    "## Solution"
   ]
  },
  {
   "cell_type": "code",
   "execution_count": null,
   "metadata": {},
   "outputs": [],
   "source": [
    "solve()"
   ]
  }
 ],
 "metadata": {},
 "nbformat": 4,
 "nbformat_minor": 2
}
