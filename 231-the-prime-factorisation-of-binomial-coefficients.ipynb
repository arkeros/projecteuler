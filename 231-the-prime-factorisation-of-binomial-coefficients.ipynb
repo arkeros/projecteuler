{
 "cells": [
  {
   "cell_type": "markdown",
   "metadata": {},
   "source": [
    "# The prime factorisation of binomial coefficients\n",
    "## Problem 231 \n",
    "\n",
    "<div class=\"problem_content\" role=\"problem\">\n",
    "<p>The binomial coefficient <sup>10</sup>C<sub>3</sub> = 120.<br/>\n",
    "120 = 2<sup>3</sup> &#215; 3 &#215; 5 = 2 &#215; 2 &#215; 2 &#215; 3 &#215; 5, and 2 + 2 + 2 + 3 + 5 = 14.<br/>\n",
    "So the sum of the terms in the prime factorisation of <sup>10</sup>C<sub>3</sub> is 14.\n",
    "<br/><br/>\n",
    "Find the sum of the terms in the prime factorisation of <sup>20000000</sup>C<sub>15000000</sub>.\n",
    "</p>\n",
    "</div>"
   ]
  },
  {
   "cell_type": "code",
   "execution_count": null,
   "metadata": {},
   "outputs": [],
   "source": [
    "def solve():\n",
    "    # Your code here\n",
    "    \n"
   ]
  },
  {
   "cell_type": "markdown",
   "metadata": {},
   "source": [
    "## Solution"
   ]
  },
  {
   "cell_type": "code",
   "execution_count": null,
   "metadata": {},
   "outputs": [],
   "source": [
    "solve()"
   ]
  }
 ],
 "metadata": {},
 "nbformat": 4,
 "nbformat_minor": 2
}
