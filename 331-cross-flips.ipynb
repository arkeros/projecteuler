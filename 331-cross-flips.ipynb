{
 "cells": [
  {
   "cell_type": "markdown",
   "metadata": {},
   "source": [
    "# Cross flips\n",
    "## Problem 331 \n",
    "\n",
    "<div class=\"problem_content\" role=\"problem\">\n",
    "<p><var>N</var>&#215;<var>N</var> disks are placed on a square game board. Each disk has a black side and white side.</p>\n",
    "<p>At each turn, you may choose a disk and flip all the disks in the same row and the same column as this disk: thus 2&#215;<var>N</var>-1 disks are flipped. The game ends when all disks show their white side. The following example shows a game on a 5&#215;5 board.</p>\n",
    "<div align=\"center\"><img alt=\"p331_crossflips3.gif\" src=\"project/images/p331_crossflips3.gif\"/></div>\n",
    "<p>It can be proven that 3 is the minimal number of turns to finish this game.</p>\n",
    "<p>The bottom left disk on the <var>N</var>&#215;<var>N</var> board has coordinates (0,0);<br/>\n",
    "the bottom right disk has coordinates (<var>N</var>-1,0) and the top left disk has coordinates (0,<var>N</var>-1). </p>\n",
    "<p>Let C<sub><var>N</var></sub> be the following configuration of a board with <var>N</var>&#215;<var>N</var> disks:<br/>\n",
    "A disk at (<var>x</var>,<var>y</var>) satisfying <img alt=\"p331_crossflips1.gif\" src=\"project/images/p331_crossflips1.gif\" style=\"vertical-align:middle;\"/>, shows its black side; otherwise, it shows its white side. C<sub>5</sub> is shown above.</p>\n",
    "<p>Let T(<var>N</var>) be the minimal number of turns to finish a game starting from configuration C<sub><var>N</var></sub> or 0 if configuration C<sub><var>N</var></sub> is unsolvable.<br/>\n",
    "We have shown that T(5)=3. You are also given that T(10)=29 and T(1 000)=395253.</p>\n",
    "<p>Find <img alt=\"p331_crossflips2.gif\" src=\"project/images/p331_crossflips2.gif\" style=\"vertical-align:middle;\"/>.</p>\n",
    "</div>"
   ]
  },
  {
   "cell_type": "code",
   "execution_count": null,
   "metadata": {},
   "outputs": [],
   "source": [
    "def solve():\n",
    "    # Your code here\n",
    "    \n"
   ]
  },
  {
   "cell_type": "markdown",
   "metadata": {},
   "source": [
    "## Solution"
   ]
  },
  {
   "cell_type": "code",
   "execution_count": null,
   "metadata": {},
   "outputs": [],
   "source": [
    "solve()"
   ]
  }
 ],
 "metadata": {},
 "nbformat": 4,
 "nbformat_minor": 2
}
