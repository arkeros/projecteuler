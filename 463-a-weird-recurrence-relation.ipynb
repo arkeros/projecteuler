{
 "cells": [
  {
   "cell_type": "markdown",
   "metadata": {},
   "source": [
    "# A weird recurrence relation\n",
    "## Problem 463 \n",
    "\n",
    "<div class=\"problem_content\" role=\"problem\">\n",
    "<p>\n",
    "The function $f$ is defined for all positive integers as follows:\n",
    "</p><ul><li>$f(1)=1$\n",
    "</li><li>$f(3)=3$\n",
    "</li><li>$f(2n)=f(n)$\n",
    "</li><li>$f(4n + 1)=2f(2n + 1) - f(n)$\n",
    "</li><li>$f(4n + 3)=3f(2n + 1) - 2f(n)$\n",
    "</li>\n",
    "</ul><p>The function $S(n)$ is defined as $\\sum_{i=1}^{n}f(i)$.</p>\n",
    "<p>$S(8)=22$ and $S(100)=3604$.</p>\n",
    "<p>Find $S(3^{37})$. Give the last 9 digits of your answer.</p>\n",
    "</div>"
   ]
  },
  {
   "cell_type": "code",
   "execution_count": null,
   "metadata": {},
   "outputs": [],
   "source": [
    "def solve():\n",
    "    # Your code here\n",
    "    \n"
   ]
  },
  {
   "cell_type": "markdown",
   "metadata": {},
   "source": [
    "## Solution"
   ]
  },
  {
   "cell_type": "code",
   "execution_count": null,
   "metadata": {},
   "outputs": [],
   "source": [
    "solve()"
   ]
  }
 ],
 "metadata": {},
 "nbformat": 4,
 "nbformat_minor": 2
}
