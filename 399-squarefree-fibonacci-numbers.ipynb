{
 "cells": [
  {
   "cell_type": "markdown",
   "metadata": {},
   "source": [
    "# Squarefree Fibonacci Numbers\n",
    "## Problem 399 \n",
    "\n",
    "<div class=\"problem_content\" role=\"problem\">\n",
    "<p>\n",
    "The first 15 fibonacci numbers are:<br/>\n",
    "1,1,2,3,5,8,13,21,34,55,89,144,233,377,610.<br/>\n",
    "It can be seen that 8 and 144 are not squarefree: 8 is divisible by 4 and 144 is divisible by 4 and by 9.<br/> \n",
    "So the first 13 squarefree fibonacci numbers are:<br/>\n",
    "1,1,2,3,5,13,21,34,55,89,233,377 and 610.\n",
    "</p>\n",
    "<p>\n",
    "The 200th squarefree fibonacci number is:\n",
    "971183874599339129547649988289594072811608739584170445.<br/>\n",
    "The last sixteen digits of this number are: 1608739584170445 and in scientific notation this number can be written as 9.7e53.\n",
    "</p>\n",
    "<p>\n",
    "Find the 100 000 000th squarefree fibonacci number.<br/>\n",
    "Give as your answer its last sixteen digits followed by a comma followed by the number in scientific notation (rounded to one digit after the decimal point).<br/>\n",
    "For the 200th squarefree number the answer would have been: 1608739584170445,9.7e53\n",
    "</p>\n",
    "<p>\n",
    "<font size=\"-1\">\n",
    "Note:<br/> \n",
    "For this problem, assume that for every prime p, the first fibonacci number divisible by p is not divisible by p<sup>2</sup> (this is part of <b>Wall's conjecture</b>). This has been verified for primes &#8804; 3&#183;10<sup>15</sup>, but has not been proven in general.<br/>\n",
    "\n",
    "If it happens that the conjecture is false, then the accepted answer to this problem isn't guaranteed to be the 100 000 000th squarefree fibonacci number, rather it represents only a lower bound for that number.\n",
    "</font>\n",
    "</p>\n",
    "</div>"
   ]
  },
  {
   "cell_type": "code",
   "execution_count": null,
   "metadata": {},
   "outputs": [],
   "source": [
    "def solve():\n",
    "    # Your code here\n",
    "    \n"
   ]
  },
  {
   "cell_type": "markdown",
   "metadata": {},
   "source": [
    "## Solution"
   ]
  },
  {
   "cell_type": "code",
   "execution_count": null,
   "metadata": {},
   "outputs": [],
   "source": [
    "solve()"
   ]
  }
 ],
 "metadata": {},
 "nbformat": 4,
 "nbformat_minor": 2
}
