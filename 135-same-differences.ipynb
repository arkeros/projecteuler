{
 "cells": [
  {
   "cell_type": "markdown",
   "metadata": {},
   "source": [
    "# Same differences\n",
    "## Problem 135 \n",
    "\n",
    "<div class=\"problem_content\" role=\"problem\">\n",
    "<p>Given the positive integers, <i>x</i>, <i>y</i>, and <i>z</i>, are consecutive terms of an arithmetic progression, the least value of the positive integer, <i>n</i>, for which the equation, <i>x</i><sup>2</sup> &#8722; <i>y</i><sup>2</sup> &#8722; <i>z</i><sup>2</sup> = <i>n</i>, has exactly two solutions is <i>n</i> = 27:</p>\n",
    "<p style=\"text-align:center;\">34<sup>2</sup> &#8722; 27<sup>2</sup> &#8722; 20<sup>2</sup> = 12<sup>2</sup> &#8722; 9<sup>2</sup> &#8722; 6<sup>2</sup> = 27</p>\n",
    "<p>It turns out that <i>n</i> = 1155 is the least value which has exactly ten solutions.</p>\n",
    "<p>How many values of <i>n</i> less than one million have exactly ten distinct solutions?</p>\n",
    "</div>"
   ]
  },
  {
   "cell_type": "code",
   "execution_count": null,
   "metadata": {},
   "outputs": [],
   "source": [
    "def solve():\n",
    "    # Your code here\n",
    "    \n"
   ]
  },
  {
   "cell_type": "markdown",
   "metadata": {},
   "source": [
    "## Solution"
   ]
  },
  {
   "cell_type": "code",
   "execution_count": null,
   "metadata": {},
   "outputs": [],
   "source": [
    "solve()"
   ]
  }
 ],
 "metadata": {},
 "nbformat": 4,
 "nbformat_minor": 2
}
