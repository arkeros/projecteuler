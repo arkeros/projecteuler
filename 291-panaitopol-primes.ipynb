{
 "cells": [
  {
   "cell_type": "markdown",
   "metadata": {},
   "source": [
    "# Panaitopol Primes\n",
    "## Problem 291 \n",
    "\n",
    "<div class=\"problem_content\" role=\"problem\">\n",
    "<p>\n",
    "A prime number <var>p</var> is called a Panaitopol prime if <img alt=\"p291_formula.gif\" src=\"project/images/p291_formula.gif\" style=\"vertical-align:middle;\"/> for some positive integers<br/><var>x</var> and <var>y</var>.\n",
    "</p>\n",
    "<p>\n",
    "Find how many Panaitopol primes are less than 5&#215;10<sup>15</sup>.\n",
    "</p>\n",
    "</div>"
   ]
  },
  {
   "cell_type": "code",
   "execution_count": null,
   "metadata": {},
   "outputs": [],
   "source": [
    "def solve():\n",
    "    # Your code here\n",
    "    \n"
   ]
  },
  {
   "cell_type": "markdown",
   "metadata": {},
   "source": [
    "## Solution"
   ]
  },
  {
   "cell_type": "code",
   "execution_count": null,
   "metadata": {},
   "outputs": [],
   "source": [
    "solve()"
   ]
  }
 ],
 "metadata": {},
 "nbformat": 4,
 "nbformat_minor": 2
}
