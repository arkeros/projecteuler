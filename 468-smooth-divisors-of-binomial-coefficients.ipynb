{
 "cells": [
  {
   "cell_type": "markdown",
   "metadata": {},
   "source": [
    "# Smooth divisors of binomial coefficients\n",
    "## Problem 468 \n",
    "\n",
    "<div class=\"problem_content\" role=\"problem\">\n",
    "<p>An integer is called <strong><var>B</var>-smooth</strong> if none of its prime factors is greater than <var>B</var>.</p>\n",
    "<p>Let S<sub><var>B</var></sub>(<var>n</var>) be the largest <var>B</var>-smooth divisor of <var>n</var>.<br/>\n",
    "Examples:<br/>\n",
    "S<sub>1</sub>(10) = 1<br/>\n",
    "S<sub>4</sub>(2100) = 12<br/>\n",
    "S<sub>17</sub>(2496144) = 5712</p>\n",
    "<p>Define F(<var>n</var>) = &#8721;<sub>1&#8804;<var>B</var>&#8804;<var>n</var></sub> &#8721;<sub>0&#8804;<var>r</var>&#8804;<var>n</var></sub> S<sub><var>B</var></sub>(C(<var>n</var>,<var>r</var>)). Here, C(<var>n</var>,<var>r</var>) denotes the binomial coefficient.<br/>\n",
    "Examples:<br/>\n",
    "F(11) = 3132<br/>\n",
    "F(1&#160;111) mod 1&#160;000&#160;000&#160;993 = 706036312<br/>\n",
    "F(111&#160;111) mod 1&#160;000&#160;000&#160;993 = 22156169</p>\n",
    "<p>Find F(11&#160;111&#160;111) mod 1&#160;000&#160;000&#160;993.</p>\n",
    "</div>"
   ]
  },
  {
   "cell_type": "code",
   "execution_count": null,
   "metadata": {},
   "outputs": [],
   "source": [
    "def solve():\n",
    "    # Your code here\n",
    "    \n"
   ]
  },
  {
   "cell_type": "markdown",
   "metadata": {},
   "source": [
    "## Solution"
   ]
  },
  {
   "cell_type": "code",
   "execution_count": null,
   "metadata": {},
   "outputs": [],
   "source": [
    "solve()"
   ]
  }
 ],
 "metadata": {},
 "nbformat": 4,
 "nbformat_minor": 2
}
