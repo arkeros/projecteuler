{
 "cells": [
  {
   "cell_type": "markdown",
   "metadata": {},
   "source": [
    "# Chocolate covered candy\n",
    "## Problem 449 \n",
    "\n",
    "<div class=\"problem_content\" role=\"problem\">\n",
    "<p>Phil the confectioner is making a new batch of chocolate covered candy. Each candy centre is shaped like an ellipsoid of revolution defined by the equation: b<sup>2</sup><var>x</var><sup>2</sup> + b<sup>2</sup><var>y</var><sup>2</sup> + a<sup>2</sup><var>z</var><sup>2</sup> = a<sup>2</sup>b<sup>2</sup>.\n",
    "</p>\n",
    "<p>\n",
    "Phil wants to know how much chocolate is needed to cover one candy centre with a uniform coat of chocolate one millimeter thick.\n",
    "</p><table class=\"formula\"><tr><td>If a=1 mm and b=1 mm, the amount of chocolate required is \n",
    "    </td>\n",
    "<td><table class=\"frac\"><tr><td>28</td></tr><tr><td class=\"overline\">3</td></tr></table></td>\n",
    "<td>&#960; mm<sup>3</sup></td>\n",
    "</tr></table>\n",
    "If a=2 mm and b=1 mm, the amount of chocolate required is approximately 60.35475635 mm<sup>3</sup>.\n",
    "\n",
    "<p>\n",
    "Find the amount of chocolate in mm<sup>3</sup> required if a=3 mm and b=1 mm. Give your answer as the number rounded to 8 decimal places behind the decimal point.</p>\n",
    "</div>"
   ]
  },
  {
   "cell_type": "code",
   "execution_count": null,
   "metadata": {},
   "outputs": [],
   "source": [
    "def solve():\n",
    "    # Your code here\n",
    "    \n"
   ]
  },
  {
   "cell_type": "markdown",
   "metadata": {},
   "source": [
    "## Solution"
   ]
  },
  {
   "cell_type": "code",
   "execution_count": null,
   "metadata": {},
   "outputs": [],
   "source": [
    "solve()"
   ]
  }
 ],
 "metadata": {},
 "nbformat": 4,
 "nbformat_minor": 2
}
