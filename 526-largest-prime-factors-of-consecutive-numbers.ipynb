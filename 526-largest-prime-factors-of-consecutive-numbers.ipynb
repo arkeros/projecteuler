{
 "cells": [
  {
   "cell_type": "markdown",
   "metadata": {},
   "source": [
    "# Largest prime factors of consecutive numbers\n",
    "## Problem 526 \n",
    "\n",
    "<div class=\"problem_content\" role=\"problem\">\n",
    "<p>Let <var>f</var>(<var>n</var>) be the largest prime factor of <var>n</var>.</p>\n",
    "<p>Let <var>g</var>(<var>n</var>) = <var>f</var>(<var>n</var>) + <var>f</var>(<var>n</var>+1) + <var>f</var>(<var>n</var>+2) + <var>f</var>(<var>n</var>+3) + <var>f</var>(<var>n</var>+4) + <var>f</var>(<var>n</var>+5) + <var>f</var>(<var>n</var>+6) + <var>f</var>(<var>n</var>+7) + <var>f</var>(<var>n</var>+8), the sum of the largest prime factor of each of nine consecutive numbers starting with <var>n</var>.</p>\n",
    "<p>Let <var>h</var>(<var>n</var>) be the maximum value of <var>g</var>(<var>k</var>) for 2 &#8804; <var>k</var> &#8804; <var>n</var>.</p>\n",
    "<p>You are given:</p>\n",
    "<ul><li><var>f</var>(100) = 5</li>\n",
    "<li><var>f</var>(101) = 101</li>\n",
    "<li><var>g</var>(100) = 409</li>\n",
    "<li><var>h</var>(100) = 417</li>\n",
    "<li><var>h</var>(10<sup>9</sup>) = 4896292593</li></ul><p>Find <var>h</var>(10<sup>16</sup>).</p>\n",
    "</div>"
   ]
  },
  {
   "cell_type": "code",
   "execution_count": null,
   "metadata": {},
   "outputs": [],
   "source": [
    "def solve():\n",
    "    # Your code here\n",
    "    \n"
   ]
  },
  {
   "cell_type": "markdown",
   "metadata": {},
   "source": [
    "## Solution"
   ]
  },
  {
   "cell_type": "code",
   "execution_count": null,
   "metadata": {},
   "outputs": [],
   "source": [
    "solve()"
   ]
  }
 ],
 "metadata": {},
 "nbformat": 4,
 "nbformat_minor": 2
}
