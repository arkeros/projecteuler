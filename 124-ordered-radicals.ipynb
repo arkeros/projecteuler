{
 "cells": [
  {
   "cell_type": "markdown",
   "metadata": {},
   "source": [
    "# Ordered radicals\n",
    "## Problem 124 \n",
    "\n",
    "<div class=\"problem_content\" role=\"problem\">\n",
    "<p>The radical of <i>n</i>, rad(<i>n</i>), is the product of the distinct prime factors of <i>n</i>. For example, 504 = 2<sup>3</sup> &#215; 3<sup>2</sup> &#215; 7, so rad(504) = 2 &#215; 3 &#215; 7 = 42.</p>\n",
    "<p>If we calculate rad(<i>n</i>) for <i>1</i> &#8804; <i>n</i> &#8804; 10, then sort them on rad(<i>n</i>), and sorting on <i>n</i> if the radical values are equal, we get:</p>\n",
    "<table align=\"center\" border=\"0\" cellpadding=\"2\" cellspacing=\"0\"><tr><td colspan=\"2\"><div style=\"text-align:center;\"><b>Unsorted</b></div></td>\n",
    "<td>&#160;</td>\n",
    "<td colspan=\"3\"><div style=\"text-align:center;\"><b>Sorted</b></div></td>\n",
    "</tr><tr><td><div style=\"text-align:center;\"><img alt=\"\" height=\"1\" src=\"images/spacer.gif\" width=\"50\"/><br/><b><i>n</i></b></div></td>\n",
    "<td><div style=\"text-align:center;\"><img alt=\"\" height=\"1\" src=\"images/spacer.gif\" width=\"50\"/><br/><b>rad(<i>n</i>)</b></div></td>\n",
    "<td><img alt=\"\" height=\"1\" src=\"images/spacer.gif\" width=\"50\"/><br/></td>\n",
    "<td><div style=\"text-align:center;\"><img alt=\"\" height=\"1\" src=\"images/spacer.gif\" width=\"50\"/><br/><b><i>n</i></b></div></td>\n",
    "<td><div style=\"text-align:center;\"><img alt=\"\" height=\"1\" src=\"images/spacer.gif\" width=\"50\"/><br/><b>rad(<i>n</i>)</b></div></td>\n",
    "<td><div style=\"text-align:center;\"><img alt=\"\" height=\"1\" src=\"images/spacer.gif\" width=\"50\"/><br/><b>k</b></div></td>\n",
    "</tr><tr><td><div style=\"text-align:center;\">1</div></td><td><div style=\"text-align:center;\">1</div></td>\n",
    "<td>&#160;</td>\n",
    "<td><div style=\"text-align:center;\">1</div></td><td><div style=\"text-align:center;\">1</div></td><td><div style=\"text-align:center;\">1</div></td>\n",
    "</tr><tr><td><div style=\"text-align:center;\">2</div></td><td><div style=\"text-align:center;\">2</div></td>\n",
    "<td>&#160;</td>\n",
    "<td><div style=\"text-align:center;\">2</div></td><td><div style=\"text-align:center;\">2</div></td><td><div style=\"text-align:center;\">2</div></td>\n",
    "</tr><tr><td><div style=\"text-align:center;\">3</div></td><td><div style=\"text-align:center;\">3</div></td>\n",
    "<td>&#160;</td>\n",
    "<td><div style=\"text-align:center;\">4</div></td><td><div style=\"text-align:center;\">2</div></td><td><div style=\"text-align:center;\">3</div></td>\n",
    "</tr><tr><td><div style=\"text-align:center;\">4</div></td><td><div style=\"text-align:center;\">2</div></td>\n",
    "<td>&#160;</td>\n",
    "<td><div style=\"text-align:center;\">8</div></td><td><div style=\"text-align:center;\">2</div></td><td><div style=\"text-align:center;\">4</div></td>\n",
    "</tr><tr><td><div style=\"text-align:center;\">5</div></td><td><div style=\"text-align:center;\">5</div></td>\n",
    "<td>&#160;</td>\n",
    "<td><div style=\"text-align:center;\">3</div></td><td><div style=\"text-align:center;\">3</div></td><td><div style=\"text-align:center;\">5</div></td>\n",
    "</tr><tr><td><div style=\"text-align:center;\">6</div></td><td><div style=\"text-align:center;\">6</div></td>\n",
    "<td>&#160;</td>\n",
    "<td><div style=\"text-align:center;\">9</div></td><td><div style=\"text-align:center;\">3</div></td><td><div style=\"text-align:center;\">6</div></td>\n",
    "</tr><tr><td><div style=\"text-align:center;\">7</div></td><td><div style=\"text-align:center;\">7</div></td>\n",
    "<td>&#160;</td>\n",
    "<td><div style=\"text-align:center;\">5</div></td><td><div style=\"text-align:center;\">5</div></td><td><div style=\"text-align:center;\">7</div></td>\n",
    "</tr><tr><td><div style=\"text-align:center;\">8</div></td><td><div style=\"text-align:center;\">2</div></td>\n",
    "<td>&#160;</td>\n",
    "<td><div style=\"text-align:center;\">6</div></td><td><div style=\"text-align:center;\">6</div></td><td><div style=\"text-align:center;\">8</div></td>\n",
    "</tr><tr><td><div style=\"text-align:center;\">9</div></td><td><div style=\"text-align:center;\">3</div></td>\n",
    "<td>&#160;</td>\n",
    "<td><div style=\"text-align:center;\">7</div></td><td><div style=\"text-align:center;\">7</div></td><td><div style=\"text-align:center;\">9</div></td>\n",
    "</tr><tr><td><div style=\"text-align:center;\">10</div></td><td><div style=\"text-align:center;\">10</div></td>\n",
    "<td>&#160;</td>\n",
    "<td><div style=\"text-align:center;\">10</div></td><td><div style=\"text-align:center;\">10</div></td><td><div style=\"text-align:center;\">10</div></td>\n",
    "</tr></table><p>Let E(<i>k</i>) be the <i>k</i>th element in the sorted <i>n</i> column; for example, E(4) = 8 and E(6) = 9.</p>\n",
    "<p>If rad(<i>n</i>) is sorted for 1 &#8804; <i>n</i> &#8804; 100000, find E(10000).</p>\n",
    "</div>"
   ]
  },
  {
   "cell_type": "code",
   "execution_count": null,
   "metadata": {},
   "outputs": [],
   "source": [
    "def solve():\n",
    "    # Your code here\n",
    "    \n"
   ]
  },
  {
   "cell_type": "markdown",
   "metadata": {},
   "source": [
    "## Solution"
   ]
  },
  {
   "cell_type": "code",
   "execution_count": null,
   "metadata": {},
   "outputs": [],
   "source": [
    "solve()"
   ]
  }
 ],
 "metadata": {},
 "nbformat": 4,
 "nbformat_minor": 2
}
