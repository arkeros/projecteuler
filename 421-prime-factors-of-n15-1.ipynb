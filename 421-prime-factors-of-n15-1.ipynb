{
 "cells": [
  {
   "cell_type": "markdown",
   "metadata": {},
   "source": [
    "# Prime factors of n15+1\n",
    "## Problem 421 \n",
    "\n",
    "<div class=\"problem_content\" role=\"problem\">\n",
    "<p>\n",
    "Numbers of the form <var>n</var><sup>15</sup>+1 are composite for every integer <var>n</var> &gt; 1.<br/>\n",
    "For positive integers <var>n</var> and <var>m</var> let <var>s</var>(<var>n,m</var>) be defined as the sum of the <i>distinct</i> prime factors of <var>n</var><sup>15</sup>+1 not exceeding <var>m</var>.\n",
    "</p>\n",
    "E.g. 2<sup>15</sup>+1 = 3&#215;3&#215;11&#215;331.<br/>\n",
    "So <var>s</var>(2,10) = 3 and <var>s</var>(2,1000) = 3+11+331 = 345.<br/><br/>\n",
    "\n",
    "Also 10<sup>15</sup>+1 = 7&#215;11&#215;13&#215;211&#215;241&#215;2161&#215;9091.<br/>\n",
    "So <var>s</var>(10,100) = 31 and <var>s</var>(10,1000) = 483.<br/><p>\n",
    "Find &#8721; <var>s</var>(<var>n</var>,10<sup>8</sup>) for 1 &#8804; <var>n</var> &#8804; 10<sup>11</sup>.\n",
    "</p>\n",
    "</div>"
   ]
  },
  {
   "cell_type": "code",
   "execution_count": null,
   "metadata": {},
   "outputs": [],
   "source": [
    "def solve():\n",
    "    # Your code here\n",
    "    \n"
   ]
  },
  {
   "cell_type": "markdown",
   "metadata": {},
   "source": [
    "## Solution"
   ]
  },
  {
   "cell_type": "code",
   "execution_count": null,
   "metadata": {},
   "outputs": [],
   "source": [
    "solve()"
   ]
  }
 ],
 "metadata": {},
 "nbformat": 4,
 "nbformat_minor": 2
}
