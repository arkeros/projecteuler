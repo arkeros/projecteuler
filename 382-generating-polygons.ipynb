{
 "cells": [
  {
   "cell_type": "markdown",
   "metadata": {},
   "source": [
    "# Generating polygons\n",
    "## Problem 382 \n",
    "\n",
    "<div class=\"problem_content\" role=\"problem\">\n",
    "<p>\n",
    "A <b>polygon</b> is a flat shape consisting of straight line segments that are joined to form a closed chain or circuit. A polygon consists of at least three sides and does not self-intersect.\n",
    "</p>\n",
    "<p>\n",
    "A set S of positive numbers is said to <i>generate a polygon</i> P if:</p><ul><li> no two sides of P are the same length,\n",
    "</li><li> the length of every side of P is in S, and\n",
    "</li><li> S contains no other value.\n",
    "</li></ul><p>\n",
    "For example:<br/>\n",
    "The set {3, 4, 5} generates a polygon with sides 3, 4, and 5 (a triangle).<br/>\n",
    "The set {6, 9, 11, 24} generates a polygon with sides 6, 9, 11, and 24 (a quadrilateral).<br/>\n",
    "The sets {1, 2, 3} and {2, 3, 4, 9} do not generate any polygon at all.<br/></p>\n",
    "<p>\n",
    "Consider the sequence s, defined as follows:</p><ul><li>s<sub>1</sub> = 1, s<sub>2</sub> = 2, s<sub>3</sub> = 3\n",
    "</li><li>s<sub><var>n</var></sub> = s<sub><var>n</var>-1</sub> + s<sub><var>n</var>-3</sub> for <var>n</var> &gt; 3.\n",
    "</li></ul><p>\n",
    "Let U<sub><var>n</var></sub> be the set {s<sub>1</sub>, s<sub>2</sub>, ..., s<sub><var>n</var></sub>}. For example, U<sub>10</sub> = {1, 2, 3, 4, 6, 9, 13, 19, 28, 41}.<br/>\n",
    "Let f(<var>n</var>) be the number of subsets of U<sub><var>n</var></sub> which generate at least one polygon.<br/>\n",
    "For example, f(5) = 7, f(10) = 501 and f(25) = 18635853.\n",
    "</p>\n",
    "<p>\n",
    "Find the last 9 digits of f(10<sup>18</sup>).\n",
    "</p>\n",
    "</div>"
   ]
  },
  {
   "cell_type": "code",
   "execution_count": null,
   "metadata": {},
   "outputs": [],
   "source": [
    "def solve():\n",
    "    # Your code here\n",
    "    \n"
   ]
  },
  {
   "cell_type": "markdown",
   "metadata": {},
   "source": [
    "## Solution"
   ]
  },
  {
   "cell_type": "code",
   "execution_count": null,
   "metadata": {},
   "outputs": [],
   "source": [
    "solve()"
   ]
  }
 ],
 "metadata": {},
 "nbformat": 4,
 "nbformat_minor": 2
}
