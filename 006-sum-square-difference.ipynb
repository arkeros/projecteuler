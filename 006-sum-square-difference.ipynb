{
 "cells": [
  {
   "cell_type": "markdown",
   "metadata": {},
   "source": [
    "# Sum square difference\n",
    "## Problem 6 \n",
    "\n",
    "<div class=\"problem_content\" role=\"problem\">\n",
    "<p>The sum of the squares of the first ten natural numbers is,</p>\n",
    "<div style=\"text-align:center;\">1<sup>2</sup> + 2<sup>2</sup> + ... + 10<sup>2</sup> = 385</div>\n",
    "<p>The square of the sum of the first ten natural numbers is,</p>\n",
    "<div style=\"text-align:center;\">(1 + 2 + ... + 10)<sup>2</sup> = 55<sup>2</sup> = 3025</div>\n",
    "<p>Hence the difference between the sum of the squares of the first ten natural numbers and the square of the sum is 3025 &#8722; 385 = 2640.</p>\n",
    "<p>Find the difference between the sum of the squares of the first one hundred natural numbers and the square of the sum.</p>\n",
    "</div>"
   ]
  },
  {
   "cell_type": "code",
   "execution_count": null,
   "metadata": {},
   "outputs": [],
   "source": [
    "def solve():\n",
    "    # Your code here\n",
    "    \n"
   ]
  },
  {
   "cell_type": "markdown",
   "metadata": {},
   "source": [
    "## Solution"
   ]
  },
  {
   "cell_type": "code",
   "execution_count": null,
   "metadata": {},
   "outputs": [],
   "source": [
    "solve()"
   ]
  }
 ],
 "metadata": {},
 "nbformat": 4,
 "nbformat_minor": 2
}
