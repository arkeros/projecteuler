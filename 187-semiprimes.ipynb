{
 "cells": [
  {
   "cell_type": "markdown",
   "metadata": {},
   "source": [
    "# Semiprimes\n",
    "## Problem 187 \n",
    "\n",
    "<div class=\"problem_content\" role=\"problem\">\n",
    "<p>A composite is a number containing at least two prime factors. For example, 15 = 3 &#215; 5; 9 = 3 &#215; 3; 12 = 2 &#215; 2 &#215; 3.</p>\n",
    "<p>There are ten composites below thirty containing precisely two, not necessarily distinct, prime factors:\n",
    "4, 6, 9, 10, 14, 15, 21, 22, 25, 26.</p>\n",
    "<p>How many composite integers, <var>n</var> &lt; 10<sup>8</sup>, have precisely two, not necessarily distinct, prime factors?</p>\n",
    "</div>"
   ]
  },
  {
   "cell_type": "code",
   "execution_count": null,
   "metadata": {},
   "outputs": [],
   "source": [
    "def solve():\n",
    "    # Your code here\n",
    "    \n"
   ]
  },
  {
   "cell_type": "markdown",
   "metadata": {},
   "source": [
    "## Solution"
   ]
  },
  {
   "cell_type": "code",
   "execution_count": null,
   "metadata": {},
   "outputs": [],
   "source": [
    "solve()"
   ]
  }
 ],
 "metadata": {},
 "nbformat": 4,
 "nbformat_minor": 2
}
