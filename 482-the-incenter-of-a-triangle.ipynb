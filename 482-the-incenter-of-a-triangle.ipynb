{
 "cells": [
  {
   "cell_type": "markdown",
   "metadata": {},
   "source": [
    "# The incenter of a triangle\n",
    "## Problem 482 \n",
    "\n",
    "<div class=\"problem_content\" role=\"problem\">\n",
    "<p>\n",
    "ABC is an integer sided triangle with incenter I and perimeter p.<br/>\n",
    "The segments IA, IB and IC have integral length as well. \n",
    "</p>\n",
    "<p>\n",
    "Let L = p + |IA| + |IB| + |IC|. \n",
    "</p>\n",
    "<p>\n",
    "Let S(P) = &#8721;L for all such triangles where p &#8804; P. For example, S(10<sup>3</sup>) = 3619.\n",
    "</p>\n",
    "<p>\n",
    "Find S(10<sup>7</sup>).\n",
    "</p>\n",
    "</div>"
   ]
  },
  {
   "cell_type": "code",
   "execution_count": null,
   "metadata": {},
   "outputs": [],
   "source": [
    "def solve():\n",
    "    # Your code here\n",
    "    \n"
   ]
  },
  {
   "cell_type": "markdown",
   "metadata": {},
   "source": [
    "## Solution"
   ]
  },
  {
   "cell_type": "code",
   "execution_count": null,
   "metadata": {},
   "outputs": [],
   "source": [
    "solve()"
   ]
  }
 ],
 "metadata": {},
 "nbformat": 4,
 "nbformat_minor": 2
}
