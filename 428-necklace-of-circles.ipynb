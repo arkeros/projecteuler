{
 "cells": [
  {
   "cell_type": "markdown",
   "metadata": {},
   "source": [
    "# Necklace of circles\n",
    "## Problem 428 \n",
    "\n",
    "<div class=\"problem_content\" role=\"problem\">\n",
    "<p>Let <var>a</var>, <var>b</var> and <var>c</var> be positive numbers.<br/>\n",
    "Let W, X, Y, Z be four collinear points where |WX| = <var>a</var>, |XY| = <var>b</var>, |YZ| = <var>c</var> and |WZ| = <var>a</var> + <var>b</var> + <var>c</var>.<br/>\n",
    "Let C<sub>in</sub> be the circle having the diameter XY.<br/>\n",
    "Let C<sub>out</sub> be the circle having the diameter WZ.<br/></p>\n",
    "<p>\n",
    "The triplet (<var>a</var>, <var>b</var>, <var>c</var>) is called a <em>necklace triplet</em> if you can place <var>k</var> &#8805; 3 distinct circles C<sub>1</sub>, C<sub>2</sub>, ..., C<sub><var>k</var></sub> such that:\n",
    "</p><ul><li>C<sub><var>i</var></sub> has no common interior points with any C<sub><var>j</var></sub> for 1 &#8804; <var>i</var>, <var>j</var> &#8804; <var>k</var> and <var>i</var> &#8800; <var>j</var>,\n",
    "</li><li>C<sub><var>i</var></sub> is tangent to both C<sub>in</sub> and C<sub>out</sub> for 1 &#8804; <var>i</var> &#8804; <var>k</var>,\n",
    "</li><li>C<sub><var>i</var></sub> is tangent to C<sub><var>i</var>+1</sub> for 1 &#8804; <var>i</var> &lt; <var>k</var>, and\n",
    "</li><li>C<sub><var>k</var></sub> is tangent to C<sub>1</sub>.\n",
    "</li></ul><p>\n",
    "For example, (5, 5, 5) and (4, 3, 21) are necklace triplets, while it can be shown that (2, 2, 5) is not.\n",
    "</p>\n",
    "<p align=\"center\"><img alt=\"p428_necklace.png\" src=\"project/images/p428_necklace.png\"/></p>\n",
    "<p>\n",
    "Let T(<var>n</var>) be the number of necklace triplets (<var>a</var>, <var>b</var>, <var>c</var>) such that <var>a</var>, <var>b</var> and <var>c</var> are positive integers, and <var>b</var> &#8804; <var>n</var>.\n",
    "For example, T(1)&#160;=&#160;9, T(20)&#160;=&#160;732 and T(3000)&#160;=&#160;438106.\n",
    "</p>\n",
    "<p>\n",
    "Find T(1&#160;000&#160;000&#160;000).\n",
    "</p>\n",
    "</div>"
   ]
  },
  {
   "cell_type": "code",
   "execution_count": null,
   "metadata": {},
   "outputs": [],
   "source": [
    "def solve():\n",
    "    # Your code here\n",
    "    \n"
   ]
  },
  {
   "cell_type": "markdown",
   "metadata": {},
   "source": [
    "## Solution"
   ]
  },
  {
   "cell_type": "code",
   "execution_count": null,
   "metadata": {},
   "outputs": [],
   "source": [
    "solve()"
   ]
  }
 ],
 "metadata": {},
 "nbformat": 4,
 "nbformat_minor": 2
}
