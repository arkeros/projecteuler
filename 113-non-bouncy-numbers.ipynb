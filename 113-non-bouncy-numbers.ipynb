{
 "cells": [
  {
   "cell_type": "markdown",
   "metadata": {},
   "source": [
    "# Non-bouncy numbers\n",
    "## Problem 113 \n",
    "\n",
    "<div class=\"problem_content\" role=\"problem\">\n",
    "<p>Working from left-to-right if no digit is exceeded by the digit to its left it is called an increasing number; for example, 134468.</p>\n",
    "<p>Similarly if no digit is exceeded by the digit to its right it is called a decreasing number; for example, 66420.</p>\n",
    "<p>We shall call a positive integer that is neither increasing nor decreasing a \"bouncy\" number; for example, 155349.</p>\n",
    "<p>As <i>n</i> increases, the proportion of bouncy numbers below <i>n</i> increases such that there are only 12951 numbers below one-million that are not bouncy and only 277032 non-bouncy numbers below 10<sup>10</sup>.</p>\n",
    "<p>How many numbers below a googol (10<sup>100</sup>) are not bouncy?</p>\n",
    "</div>"
   ]
  },
  {
   "cell_type": "code",
   "execution_count": null,
   "metadata": {},
   "outputs": [],
   "source": [
    "def solve():\n",
    "    # Your code here\n",
    "    \n"
   ]
  },
  {
   "cell_type": "markdown",
   "metadata": {},
   "source": [
    "## Solution"
   ]
  },
  {
   "cell_type": "code",
   "execution_count": null,
   "metadata": {},
   "outputs": [],
   "source": [
    "solve()"
   ]
  }
 ],
 "metadata": {},
 "nbformat": 4,
 "nbformat_minor": 2
}
