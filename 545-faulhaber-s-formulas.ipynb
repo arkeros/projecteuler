{
 "cells": [
  {
   "cell_type": "markdown",
   "metadata": {},
   "source": [
    "# Faulhaber's Formulas\n",
    "## Problem 545 \n",
    "\n",
    "<div class=\"problem_content\" role=\"problem\">\n",
    "<p>The sum of the <var>k</var><sup>th</sup> powers of the first <var>n</var> positive integers can be expressed as a polynomial of degree <var>k</var>+1 with rational coefficients, the <b>Faulhaber's Formulas</b>:<br/>\n",
    "$1^k + 2^k + ... + n^k = \\sum_{i=1}^n i^k = \\sum_{i=1}^{k+1} a_{i} n^i = a_{1} n + a_{2} n^2 + ... + a_{k} n^k + a_{k+1} n^{k + 1}$,<br/>\n",
    "where <var>a<sub>i</sub></var>'s are rational coefficients that can be written as reduced fractions <var>p<sub>i</sub></var>/<var>q<sub>i</sub></var> (if <var>a<sub>i</sub></var>&#160;=&#160;0, we shall consider <var>q<sub>i</sub></var>&#160;=&#160;1).</p>\n",
    "<p>For example, $1^4 + 2^4 + ... + n^4 = -\\frac 1 {30} n + \\frac 1 3 n^3 + \\frac 1 2 n^4 + \\frac 1 5 n^5.$</p>\n",
    "<p>Define D(<var>k</var>) as the value of <var>q</var><sub>1</sub> for the sum of <var>k</var><sup>th</sup> powers (i.e. the denominator of the reduced fraction <var>a</var><sub>1</sub>).<br/>\n",
    "Define F(<var>m</var>) as the <var>m</var><sup>th</sup> value of <var>k</var>&#160;&#8805;&#160;1 for which D(<var>k</var>)&#160;=&#160;20010.<br/>\n",
    "You are given D(4) = 30 (since <var>a</var><sub>1</sub>&#160;=&#160;-1/30), D(308)&#160;=&#160;20010, F(1)&#160;=&#160;308, F(10)&#160;=&#160;96404.</p>\n",
    "<p>Find F(10<sup>5</sup>).</p>\n",
    "</div>"
   ]
  },
  {
   "cell_type": "code",
   "execution_count": null,
   "metadata": {},
   "outputs": [],
   "source": [
    "def solve():\n",
    "    # Your code here\n",
    "    \n"
   ]
  },
  {
   "cell_type": "markdown",
   "metadata": {},
   "source": [
    "## Solution"
   ]
  },
  {
   "cell_type": "code",
   "execution_count": null,
   "metadata": {},
   "outputs": [],
   "source": [
    "solve()"
   ]
  }
 ],
 "metadata": {},
 "nbformat": 4,
 "nbformat_minor": 2
}
