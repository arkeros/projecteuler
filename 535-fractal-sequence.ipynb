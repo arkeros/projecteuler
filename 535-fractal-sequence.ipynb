{
 "cells": [
  {
   "cell_type": "markdown",
   "metadata": {},
   "source": [
    "# Fractal Sequence\n",
    "## Problem 535 \n",
    "\n",
    "<div class=\"problem_content\" role=\"problem\">\n",
    "<p>Consider the infinite integer sequence S starting with:<br/><var>S</var> = 1, 1, 2, 1, 3, 2, 4, 1, 5, 3, 6, 2, 7, 8, 4, 9, 1, 10, 11, 5, ...</p>\n",
    "<p>Circle the first occurrence of each integer.<br/><var>S</var> = &#9312;, 1, &#9313;, 1, &#9314;, 2, &#9315;, 1, &#9316;, 3, &#9317;, 2, &#9318;, &#9319;, 4, &#9320;, 1, &#9321;, &#9322;, 5, ...</p>\n",
    "<p>The sequence is characterized by the following properties:</p>\n",
    "<ul><li>The circled numbers are consecutive integers starting with 1.</li>\n",
    "<li>Immediately preceding each non-circled numbers <var>a<sub>i</sub></var>, there are exactly &#8970;&#8730;<var>a<sub>i</sub></var>&#8971; adjacent circled numbers, where &#8970;&#8971; is the floor function.</li>\n",
    "<li>If we remove all circled numbers, the remaining numbers form a sequence identical to <var>S</var>, so <var>S</var> is a <b>fractal sequence</b>.</li></ul><p>Let T(<var>n</var>) be the sum of the first <var>n</var> elements of the sequence.<br/>\n",
    "You are given T(1)&#160;=&#160;1, T(20)&#160;=&#160;86, T(10<sup>3</sup>)&#160;=&#160;364089 and T(10<sup>9</sup>)&#160;=&#160;498676527978348241.</p>\n",
    "<p>Find T(10<sup>18</sup>). Give the last 9 digits of your answer.</p>\n",
    "</div>"
   ]
  },
  {
   "cell_type": "code",
   "execution_count": null,
   "metadata": {},
   "outputs": [],
   "source": [
    "def solve():\n",
    "    # Your code here\n",
    "    \n"
   ]
  },
  {
   "cell_type": "markdown",
   "metadata": {},
   "source": [
    "## Solution"
   ]
  },
  {
   "cell_type": "code",
   "execution_count": null,
   "metadata": {},
   "outputs": [],
   "source": [
    "solve()"
   ]
  }
 ],
 "metadata": {},
 "nbformat": 4,
 "nbformat_minor": 2
}
