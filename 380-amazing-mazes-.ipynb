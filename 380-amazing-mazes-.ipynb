{
 "cells": [
  {
   "cell_type": "markdown",
   "metadata": {},
   "source": [
    "# Amazing Mazes!\n",
    "## Problem 380 \n",
    "\n",
    "<div class=\"problem_content\" role=\"problem\">\n",
    "<p>\n",
    "An m&#215;n maze is an m&#215;n rectangular grid with walls placed between grid cells such that there is exactly one path from the top-left square to any other square. <br/>The following are examples of a 9&#215;12 maze and a 15&#215;20 maze:\n",
    "</p>\n",
    "<p>\n",
    "<img alt=\"p380_mazes.gif\" src=\"project/images/p380_mazes.gif\"/></p>\n",
    "<p>\n",
    "Let C(m,n) be the number of distinct m&#215;n mazes. Mazes which can be formed by rotation and reflection from another maze are considered distinct.\n",
    "</p>\n",
    "<p>\n",
    "It can be verified that C(1,1) = 1, C(2,2) = 4, C(3,4) = 2415, and C(9,12) = 2.5720e46 (in scientific notation rounded to 5 significant digits).<br/>\n",
    "Find C(100,500) and write your answer in scientific notation rounded to 5 significant digits.\n",
    "</p>\n",
    "<p>\n",
    "When giving your answer, use a lowercase e to separate mantissa and exponent.\n",
    "E.g. if the answer is 1234567891011 then the answer format would be 1.2346e12.\n",
    "\n",
    "</p>\n",
    "</div>"
   ]
  },
  {
   "cell_type": "code",
   "execution_count": null,
   "metadata": {},
   "outputs": [],
   "source": [
    "def solve():\n",
    "    # Your code here\n",
    "    \n"
   ]
  },
  {
   "cell_type": "markdown",
   "metadata": {},
   "source": [
    "## Solution"
   ]
  },
  {
   "cell_type": "code",
   "execution_count": null,
   "metadata": {},
   "outputs": [],
   "source": [
    "solve()"
   ]
  }
 ],
 "metadata": {},
 "nbformat": 4,
 "nbformat_minor": 2
}
