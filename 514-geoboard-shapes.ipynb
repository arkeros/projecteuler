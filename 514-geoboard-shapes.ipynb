{
 "cells": [
  {
   "cell_type": "markdown",
   "metadata": {},
   "source": [
    "# Geoboard Shapes\n",
    "## Problem 514 \n",
    "\n",
    "<div class=\"problem_content\" role=\"problem\">\n",
    "<p>A <b>geoboard</b> (of order <var>N</var>) is a square board with equally-spaced pins protruding from the surface, representing an integer point lattice for coordinates 0 &#8804; <var>x</var>,<var>y</var> &#8804; <var>N</var>.</p>\n",
    "<p>John begins with a pinless geoboard. Each position on the board is a hole that can be filled with a pin. John decides to generate a random integer between 1 and <var>N</var>+1 (inclusive) for each hole in the geoboard. If the random integer is equal to 1 for a given hole, then a pin is placed in that hole.</p>\n",
    "<p>After John is finished generating numbers for all (<var>N</var>+1)<sup>2</sup> holes and placing any/all corresponding pins, he wraps a tight rubberband around the entire group of pins protruding from the board. Let <var>S</var> represent the shape that is formed. <var>S</var> can also be defined as the smallest convex shape that contains all the pins.</p>\n",
    "<div align=\"center\"><img alt=\"p514_geoboard.png\" src=\"project/images/p514_geoboard.png\"/></div>\n",
    "<p>The above image depicts a sample layout for <var>N</var> = 4. The green markers indicate positions where pins have been placed, and the blue lines collectively represent the rubberband. For this particular arrangement, <var>S</var> has an area of 6. If there are fewer than three pins on the board (or if all pins are collinear), <var>S</var> can be assumed to have zero area.</p>\n",
    "<p>Let E(<var>N</var>) be the expected area of <var>S</var> given a geoboard of order <var>N</var>. For example, E(1) = 0.18750, E(2) = 0.94335, and E(10) = 55.03013 when rounded to five decimal places each.</p>\n",
    "<p>Calculate E(100) rounded to five decimal places.</p>\n",
    "</div>"
   ]
  },
  {
   "cell_type": "code",
   "execution_count": null,
   "metadata": {},
   "outputs": [],
   "source": [
    "def solve():\n",
    "    # Your code here\n",
    "    \n"
   ]
  },
  {
   "cell_type": "markdown",
   "metadata": {},
   "source": [
    "## Solution"
   ]
  },
  {
   "cell_type": "code",
   "execution_count": null,
   "metadata": {},
   "outputs": [],
   "source": [
    "solve()"
   ]
  }
 ],
 "metadata": {},
 "nbformat": 4,
 "nbformat_minor": 2
}
