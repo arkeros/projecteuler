{
 "cells": [
  {
   "cell_type": "markdown",
   "metadata": {},
   "source": [
    "# Modular inverses\n",
    "## Problem 451 \n",
    "\n",
    "<div class=\"problem_content\" role=\"problem\">\n",
    "<p>\n",
    "Consider the number 15.<br/>\n",
    "There are eight positive numbers less than 15 which are coprime to 15: 1, 2, 4, 7, 8, 11, 13, 14.<br/>\n",
    "The modular inverses of these numbers modulo 15 are: 1, 8, 4, 13, 2, 11, 7, 14<br/>  \n",
    "because<br/>\n",
    "1*1 mod 15=1<br/>\n",
    "2*8=16 mod 15=1<br/>\n",
    "4*4=16 mod 15=1<br/>\n",
    "7*13=91 mod 15=1<br/>\n",
    "11*11=121 mod 15=1<br/>\n",
    "14*14=196 mod 15=1<br/></p>\n",
    "<p>\n",
    "Let I(n) be the largest positive number m smaller than n-1 such that the modular inverse of m modulo n equals m itself.<br/>\n",
    "So I(15)=11.<br/>\n",
    "Also I(100)=51 and I(7)=1.<br/></p>\n",
    "<p>\n",
    "Find &#8721;I(n) for 3&#8804;n&#8804;2&#183;10<sup>7</sup></p>\n",
    "</div>"
   ]
  },
  {
   "cell_type": "code",
   "execution_count": null,
   "metadata": {},
   "outputs": [],
   "source": [
    "def solve():\n",
    "    # Your code here\n",
    "    \n"
   ]
  },
  {
   "cell_type": "markdown",
   "metadata": {},
   "source": [
    "## Solution"
   ]
  },
  {
   "cell_type": "code",
   "execution_count": null,
   "metadata": {},
   "outputs": [],
   "source": [
    "solve()"
   ]
  }
 ],
 "metadata": {},
 "nbformat": 4,
 "nbformat_minor": 2
}
