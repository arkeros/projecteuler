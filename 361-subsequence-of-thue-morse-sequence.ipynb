{
 "cells": [
  {
   "cell_type": "markdown",
   "metadata": {},
   "source": [
    "# Subsequence of Thue-Morse sequence\n",
    "## Problem 361 \n",
    "\n",
    "<div class=\"problem_content\" role=\"problem\">\n",
    "<p>The <b>Thue-Morse sequence</b> {T<sub><var>n</var></sub>} is a binary sequence satisfying:</p>\n",
    "<ul><li>T<sub>0</sub> = 0</li>\n",
    "<li>T<sub>2<var>n</var></sub> = T<sub><var>n</var></sub></li>\n",
    "<li>T<sub>2<var>n</var>+1</sub> = 1 - T<sub><var>n</var></sub></li>\n",
    "</ul><p>\n",
    "The first several terms of {T<sub><var>n</var></sub>} are given as follows:<br/>\n",
    "01101001<span style=\"color:#FF0000;\">10010</span>1101001011001101001....\n",
    "</p>\n",
    "<p>\n",
    "We define {A<sub><var>n</var></sub>} as the sorted sequence of integers such that the binary expression of each element appears as a subsequence in {T<sub><var>n</var></sub>}.<br/>\n",
    "For example, the decimal number 18 is expressed as 10010 in binary. 10010 appears in {T<sub><var>n</var></sub>} (T<sub>8</sub> to T<sub>12</sub>), so 18 is an element of {A<sub><var>n</var></sub>}.<br/>\n",
    "The decimal number 14 is expressed as 1110 in binary. 1110 never appears in {T<sub><var>n</var></sub>}, so 14 is not an element of {A<sub><var>n</var></sub>}.\n",
    "</p>\n",
    "<p>\n",
    "The first several terms of A<sub><var>n</var></sub> are given as follows:<br/></p><div align=\"center\">\n",
    "<table align=\"center\" border=\"0\" cellpadding=\"5\" cellspacing=\"1\"><tr><td align=\"left\"><var>n</var></td><td>0</td><td>1</td><td>2</td><td>3</td><td>4</td><td>5</td><td>6</td><td>7</td><td>8</td><td>9</td><td>10</td><td>11</td><td>12</td><td>&#8230;</td></tr><tr><td>A<sub><var>n</var></sub></td><td>0</td><td>1</td><td>2</td><td>3</td><td>4</td><td>5</td><td>6</td><td>9</td><td>10</td><td>11</td><td>12</td><td>13</td><td>18</td><td>&#8230;</td></tr></table></div>\n",
    "<p>\n",
    "We can also verify that A<sub>100</sub> = 3251 and A<sub>1000</sub> = 80852364498.\n",
    "</p>\n",
    "<p>\n",
    "Find the last 9 digits of <img alt=\"p361_Thue-Morse1.gif\" src=\"project/images/p361_Thue-Morse1.gif\" style=\"vertical-align:middle;\"/>.\n",
    "</p>\n",
    "</div>"
   ]
  },
  {
   "cell_type": "code",
   "execution_count": null,
   "metadata": {},
   "outputs": [],
   "source": [
    "def solve():\n",
    "    # Your code here\n",
    "    \n"
   ]
  },
  {
   "cell_type": "markdown",
   "metadata": {},
   "source": [
    "## Solution"
   ]
  },
  {
   "cell_type": "code",
   "execution_count": null,
   "metadata": {},
   "outputs": [],
   "source": [
    "solve()"
   ]
  }
 ],
 "metadata": {},
 "nbformat": 4,
 "nbformat_minor": 2
}
