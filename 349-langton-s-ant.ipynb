{
 "cells": [
  {
   "cell_type": "markdown",
   "metadata": {},
   "source": [
    "# Langton's ant\n",
    "## Problem 349 \n",
    "\n",
    "<div class=\"problem_content\" role=\"problem\">\n",
    "<p>\n",
    "An ant moves on a regular grid of squares that are coloured either black or white.<br/> \n",
    "The ant is always oriented in one of the cardinal directions (left, right, up or down) and moves from square to adjacent square according to the following rules:<br/>\n",
    "- if it is on a black square, it flips the color of the square to white, rotates 90 degrees counterclockwise and moves forward one square.<br/>\n",
    "- if it is on a white square, it flips the color of the square to black, rotates 90 degrees clockwise and moves forward one square.<br/></p>\n",
    "<p>\n",
    "Starting with a grid that is entirely white, how many squares are black after 10<sup>18</sup> moves of the ant?\n",
    "</p>\n",
    "</div>"
   ]
  },
  {
   "cell_type": "code",
   "execution_count": null,
   "metadata": {},
   "outputs": [],
   "source": [
    "def solve():\n",
    "    # Your code here\n",
    "    \n"
   ]
  },
  {
   "cell_type": "markdown",
   "metadata": {},
   "source": [
    "## Solution"
   ]
  },
  {
   "cell_type": "code",
   "execution_count": null,
   "metadata": {},
   "outputs": [],
   "source": [
    "solve()"
   ]
  }
 ],
 "metadata": {},
 "nbformat": 4,
 "nbformat_minor": 2
}
