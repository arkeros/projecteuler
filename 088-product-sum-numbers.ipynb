{
 "cells": [
  {
   "cell_type": "markdown",
   "metadata": {},
   "source": [
    "# Product-sum numbers\n",
    "## Problem 88 \n",
    "\n",
    "<div class=\"problem_content\" role=\"problem\">\n",
    "<p>A natural number, N, that can be written as the sum and product of a given set of at least two natural numbers, {<i>a</i><sub>1</sub>, <i>a</i><sub>2</sub>, ... , <i>a</i><sub><i>k</i></sub>} is called a product-sum number: N = <i>a</i><sub>1</sub> + <i>a</i><sub>2</sub> + ... + <i>a</i><sub><i>k</i></sub> = <i>a</i><sub>1</sub> &#215; <i>a</i><sub>2</sub> &#215; ... &#215; <i>a</i><sub><i>k</i></sub>.</p>\n",
    "<p>For example, 6 = 1 + 2 + 3 = 1 &#215; 2 &#215; 3.</p>\n",
    "<p>For a given set of size, <i>k</i>, we shall call the smallest N with this property a minimal product-sum number. The minimal product-sum numbers for sets of size, <i>k</i> = 2, 3, 4, 5, and 6 are as follows.</p>\n",
    "<p style=\"margin-left:50px;\"><i>k</i>=2: 4 = 2 &#215; 2 = 2 + 2<br/><i>k</i>=3: 6 = 1 &#215; 2 &#215; 3 = 1 + 2 + 3<br/><i>k</i>=4: 8 = 1 &#215; 1 &#215; 2 &#215; 4 = 1 + 1 + 2 + 4<br/><i>k</i>=5: 8 = 1 &#215; 1 &#215; 2 &#215; 2 &#215; 2  = 1 + 1 + 2 + 2 + 2<br/><i>k</i>=6: 12 = 1 &#215; 1 &#215; 1 &#215; 1 &#215; 2 &#215; 6 = 1 + 1 + 1 + 1 + 2 + 6</p>\n",
    "<p>Hence for 2&#8804;<i>k</i>&#8804;6, the sum of all the minimal product-sum numbers is 4+6+8+12 = 30; note that 8 is only counted once in the sum.</p>\n",
    "<p>In fact, as the complete set of minimal product-sum numbers for 2&#8804;<i>k</i>&#8804;12 is {4, 6, 8, 12, 15, 16}, the sum is 61.</p>\n",
    "<p>What is the sum of all the minimal product-sum numbers for 2&#8804;<i>k</i>&#8804;12000?</p>\n",
    "</div>"
   ]
  },
  {
   "cell_type": "code",
   "execution_count": null,
   "metadata": {},
   "outputs": [],
   "source": [
    "def solve():\n",
    "    # Your code here\n",
    "    \n"
   ]
  },
  {
   "cell_type": "markdown",
   "metadata": {},
   "source": [
    "## Solution"
   ]
  },
  {
   "cell_type": "code",
   "execution_count": null,
   "metadata": {},
   "outputs": [],
   "source": [
    "solve()"
   ]
  }
 ],
 "metadata": {},
 "nbformat": 4,
 "nbformat_minor": 2
}
