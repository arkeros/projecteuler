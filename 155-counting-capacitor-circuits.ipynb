{
 "cells": [
  {
   "cell_type": "markdown",
   "metadata": {},
   "source": [
    "# Counting Capacitor Circuits\n",
    "## Problem 155 \n",
    "\n",
    "<div class=\"problem_content\" role=\"problem\">\n",
    "<p>An electric circuit uses exclusively identical capacitors of the same value C.\n",
    "<br/>\n",
    "The capacitors can be connected in series or in parallel to form sub-units, which can then be connected in series or in parallel with other capacitors or other sub-units to form larger sub-units, and so on up to a final circuit.</p>\n",
    "<p>Using this simple procedure and up to <var>n</var> identical capacitors, we can make circuits having a range of different total capacitances. For example, using up to <var>n</var>=3 capacitors of 60 <img alt=\"\" height=\"21\" src=\"project/images/p155_capsmu.gif\" style=\"vertical-align:middle;\" width=\"12\"/>F each, we can obtain the following 7 distinct total capacitance values: </p>\n",
    "<div style=\"text-align:center;\"><img alt=\"\" height=\"557\" src=\"project/images/p155_capacitors1.gif\" width=\"387\"/></div>\n",
    "<p>If we denote by <var>D</var>(<var>n</var>) the number of distinct total capacitance values we can obtain when using up to <var>n</var> equal-valued capacitors and the simple procedure described above, we have: <var>D</var>(1)=1, <var>D</var>(2)=3, <var>D</var>(3)=7 ...</p>\n",
    "<p>Find <var>D</var>(18).</p>\n",
    "<p><i>Reminder :</i> When connecting capacitors C<sub>1</sub>, C<sub>2</sub> etc in parallel, the total capacitance is C<sub>T</sub>&#160;=&#160;C<sub>1</sub>&#160;+&#160;C<sub>2</sub>&#160;+...,\n",
    "<br/>\n",
    "whereas when connecting them in series, the overall capacitance is given by:\n",
    "<img alt=\"\" height=\"38\" src=\"project/images/p155_capsform.gif\" style=\"vertical-align:middle;\" width=\"127\"/></p>\n",
    "</div>"
   ]
  },
  {
   "cell_type": "code",
   "execution_count": null,
   "metadata": {},
   "outputs": [],
   "source": [
    "def solve():\n",
    "    # Your code here\n",
    "    \n"
   ]
  },
  {
   "cell_type": "markdown",
   "metadata": {},
   "source": [
    "## Solution"
   ]
  },
  {
   "cell_type": "code",
   "execution_count": null,
   "metadata": {},
   "outputs": [],
   "source": [
    "solve()"
   ]
  }
 ],
 "metadata": {},
 "nbformat": 4,
 "nbformat_minor": 2
}
