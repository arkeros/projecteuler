{
 "cells": [
  {
   "cell_type": "markdown",
   "metadata": {},
   "source": [
    "# Balanced Numbers\n",
    "## Problem 217 \n",
    "\n",
    "<div class=\"problem_content\" role=\"problem\">\n",
    "<p>\n",
    "A positive integer with <var>k</var> (decimal) digits is called balanced if its first &#8968;<sup><var>k</var></sup>/<sub>2</sub>&#8969; digits sum to the same value as its last &#8968;<sup><var>k</var></sup>/<sub>2</sub>&#8969; digits, where &#8968;<var>x</var>&#8969;, pronounced <span style=\"font-style:italic;\">ceiling</span> of <var>x</var>, is the smallest integer &#8805; <var>x</var>, thus &#8968;&#960;&#8969; = 4 and &#8968;5&#8969; = 5.</p>\n",
    "<p>So, for example, all palindromes are balanced, as is 13722.</p>\n",
    "<p>Let T(<var>n</var>) be the sum of all balanced numbers less than 10<sup><var>n</var></sup>. <br/>\n",
    "Thus: T(1) = 45, T(2) = 540 and T(5) = 334795890. </p>\n",
    "<p>Find T(47) mod 3<sup>15</sup></p>\n",
    "</div>"
   ]
  },
  {
   "cell_type": "code",
   "execution_count": null,
   "metadata": {},
   "outputs": [],
   "source": [
    "def solve():\n",
    "    # Your code here\n",
    "    \n"
   ]
  },
  {
   "cell_type": "markdown",
   "metadata": {},
   "source": [
    "## Solution"
   ]
  },
  {
   "cell_type": "code",
   "execution_count": null,
   "metadata": {},
   "outputs": [],
   "source": [
    "solve()"
   ]
  }
 ],
 "metadata": {},
 "nbformat": 4,
 "nbformat_minor": 2
}
