{
 "cells": [
  {
   "cell_type": "markdown",
   "metadata": {},
   "source": [
    "# Odd elimination\n",
    "## Problem 539 \n",
    "\n",
    "<div class=\"problem_content\" role=\"problem\">\n",
    "<p>\n",
    "Start from an ordered list of all integers from 1 to n. Going from left to right, remove the first number and every other number afterward until the end of the list. Repeat the procedure from right to left, removing the right most number and every other number from the numbers left. Continue removing every other numbers, alternating left to right and right to left, until a single number remains.\n",
    "</p>\n",
    "<p>\n",
    "Starting with n = 9, we have:<br/><u>1</u> 2 <u>3</u> 4 <u>5</u> 6 <u>7</u> 8 <u>9</u><br/>\n",
    "2 <u>4</u> 6 <u>8</u><br/><u>2</u> 6<br/>\n",
    "6\n",
    "</p>\n",
    "<p>\n",
    "Let <var>P</var>(<var>n</var>) be the last number left starting with a list of length <var>n</var>.<br/>\n",
    "Let $\\displaystyle S(n) = \\sum_{k=1}^n P(k)$.<br/>\n",
    "You are given P(1)=1, P(9) = 6, P(1000)=510, S(1000)=268271.\n",
    "</p>\n",
    "<p>\n",
    "Find S(10<sup>18</sup>) mod 987654321.\n",
    "</p>\n",
    "</div>"
   ]
  },
  {
   "cell_type": "code",
   "execution_count": null,
   "metadata": {},
   "outputs": [],
   "source": [
    "def solve():\n",
    "    # Your code here\n",
    "    \n"
   ]
  },
  {
   "cell_type": "markdown",
   "metadata": {},
   "source": [
    "## Solution"
   ]
  },
  {
   "cell_type": "code",
   "execution_count": null,
   "metadata": {},
   "outputs": [],
   "source": [
    "solve()"
   ]
  }
 ],
 "metadata": {},
 "nbformat": 4,
 "nbformat_minor": 2
}
