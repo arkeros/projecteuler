{
 "cells": [
  {
   "cell_type": "markdown",
   "metadata": {},
   "source": [
    "# Sum of digits sequence\n",
    "## Problem 551 \n",
    "\n",
    "<div class=\"problem_content\" role=\"problem\">\n",
    "<p>Let <var>a</var><sub>0</sub>, <var>a</var><sub>1</sub>, <var>a</var><sub>2</sub>, ... be an integer sequence defined by:</p>\n",
    "<ul><li><var>a</var><sub>0</sub> = 1;</li>\n",
    "<li>for <var>n</var> &#8805; 1, <var>a<sub>n</sub></var> is the sum of the digits of all preceding terms.</li>\n",
    "</ul><p>The sequence starts with 1, 1, 2, 4, 8, 16, 23, 28, 38, 49, ...<br/>\n",
    "You are given <var>a</var><sub>10<sup>6</sup></sub>&#160;=&#160;31054319.</p>\n",
    "<p>Find <var>a</var><sub>10<sup>15</sup></sub>.</p>\n",
    "</div>"
   ]
  },
  {
   "cell_type": "code",
   "execution_count": null,
   "metadata": {},
   "outputs": [],
   "source": [
    "def solve():\n",
    "    # Your code here\n",
    "    \n"
   ]
  },
  {
   "cell_type": "markdown",
   "metadata": {},
   "source": [
    "## Solution"
   ]
  },
  {
   "cell_type": "code",
   "execution_count": null,
   "metadata": {},
   "outputs": [],
   "source": [
    "solve()"
   ]
  }
 ],
 "metadata": {},
 "nbformat": 4,
 "nbformat_minor": 2
}
