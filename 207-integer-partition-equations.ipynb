{
 "cells": [
  {
   "cell_type": "markdown",
   "metadata": {},
   "source": [
    "# Integer partition equations\n",
    "## Problem 207 \n",
    "\n",
    "<div class=\"problem_content\" role=\"problem\">\n",
    "<p>For some positive integers <var>k</var>, there exists an integer partition of the form&#160;&#160; 4<sup>t</sup> = 2<sup>t</sup> + <var>k</var>,<br/>\n",
    "where 4<sup>t</sup>, 2<sup>t</sup>, and <var>k</var> are all positive integers and <var>t</var> is a real number.</p>\n",
    "<p>The first two such partitions are 4<sup>1</sup> = 2<sup>1</sup> + 2 and 4<sup>1.5849625...</sup> = 2<sup>1.5849625...</sup> + 6.</p>\n",
    "<p>Partitions where <var>t</var> is also an integer are called <i>perfect</i>.<br/> \n",
    "For any <var>m</var> &#8805; 1 let P(<var>m</var>) be the proportion of such partitions that are perfect with <var>k</var> &#8804; <var>m</var>.<br/>\n",
    "Thus P(6) = 1/2.</p>\n",
    "<p>In the following table are listed some values of P(<var>m</var>)</p>\n",
    "<p>&#160;&#160;&#160;P(5) = 1/1<br/>\n",
    "&#160;&#160;&#160;P(10) = 1/2<br/>\n",
    "&#160;&#160;&#160;P(15) = 2/3<br/>\n",
    "&#160;&#160;&#160;P(20) = 1/2<br/>\n",
    "&#160;&#160;&#160;P(25) = 1/2<br/>\n",
    "&#160;&#160;&#160;P(30) = 2/5<br/>\n",
    "&#160;&#160;&#160;...<br/>\n",
    "&#160;&#160;&#160;P(180) = 1/4<br/>\n",
    "&#160;&#160;&#160;P(185) = 3/13</p>\n",
    "<p>Find the smallest <var>m</var> for which P(<var>m</var>) &lt; 1/12345</p>\n",
    "</div>"
   ]
  },
  {
   "cell_type": "code",
   "execution_count": null,
   "metadata": {},
   "outputs": [],
   "source": [
    "def solve():\n",
    "    # Your code here\n",
    "    \n"
   ]
  },
  {
   "cell_type": "markdown",
   "metadata": {},
   "source": [
    "## Solution"
   ]
  },
  {
   "cell_type": "code",
   "execution_count": null,
   "metadata": {},
   "outputs": [],
   "source": [
    "solve()"
   ]
  }
 ],
 "metadata": {},
 "nbformat": 4,
 "nbformat_minor": 2
}
