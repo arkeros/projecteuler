{
 "cells": [
  {
   "cell_type": "markdown",
   "metadata": {},
   "source": [
    "# Linear Combinations of Semiprimes\n",
    "## Problem 278 \n",
    "\n",
    "<div class=\"problem_content\" role=\"problem\">\n",
    "<p>\n",
    "Given the values of integers 1 &lt; <var>a</var><sub>1</sub> &lt; <var>a</var><sub>2</sub> &lt;... &lt; <var>a</var><sub><var>n</var></sub>, consider the linear combination<br/><var>q</var><sub>1</sub><var>a</var><sub>1</sub> + <var>q</var><sub>2</sub><var>a</var><sub>2</sub> + ... + <var>q</var><sub><var>n</var></sub><var>a</var><sub><var>n</var></sub> = <var>b</var>, using only integer values <var>q</var><sub><var>k</var></sub> &#8805; 0. \n",
    "</p>\n",
    "<p>\n",
    "Note that for a given set of <var>a</var><sub><var>k</var></sub>, it may be that not all values of <var>b</var> are possible.<br/>\n",
    "For instance, if <var>a</var><sub>1</sub> = 5 and <var>a</var><sub>2</sub> = 7, there are no <var>q</var><sub>1</sub> &#8805; 0 and <var>q</var><sub>2</sub> &#8805; 0 such that <var>b</var> could be<br/> \n",
    "1, 2, 3, 4, 6, 8, 9, 11, 13, 16, 18 or 23.\n",
    "<br/>\n",
    "In fact, 23 is the largest impossible value of <var>b</var> for <var>a</var><sub>1</sub> = 5 and <var>a</var><sub>2</sub> = 7.<br/> We therefore call <var>f</var>(5, 7) = 23.<br/> Similarly, it can be shown that <var>f</var>(6, 10, 15)=29 and <var>f</var>(14, 22, 77) = 195.\n",
    "</p>\n",
    "<p>\n",
    "Find &#8721; <var>f</var>(<var>p*q,p*r,q*r</var>), where <var>p</var>, <var>q</var> and <var>r</var> are prime numbers and <var>p</var> &lt; <var>q</var> &lt; <var>r</var> &lt; 5000.\n",
    "</p>\n",
    "</div>"
   ]
  },
  {
   "cell_type": "code",
   "execution_count": null,
   "metadata": {},
   "outputs": [],
   "source": [
    "def solve():\n",
    "    # Your code here\n",
    "    \n"
   ]
  },
  {
   "cell_type": "markdown",
   "metadata": {},
   "source": [
    "## Solution"
   ]
  },
  {
   "cell_type": "code",
   "execution_count": null,
   "metadata": {},
   "outputs": [],
   "source": [
    "solve()"
   ]
  }
 ],
 "metadata": {},
 "nbformat": 4,
 "nbformat_minor": 2
}
