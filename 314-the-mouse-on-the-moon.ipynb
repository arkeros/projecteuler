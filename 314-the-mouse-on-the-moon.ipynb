{
 "cells": [
  {
   "cell_type": "markdown",
   "metadata": {},
   "source": [
    "# The Mouse on the Moon\n",
    "## Problem 314 \n",
    "\n",
    "<div class=\"problem_content\" role=\"problem\">\n",
    "<p>\n",
    "The moon has been opened up, and land can be obtained for free, but there is a catch. You have to build a wall around the land that you stake out, and building a wall on the moon is expensive. Every country has been allotted a 500 m by 500 m square area, but they will possess only that area which they wall in. 251001 posts have been placed in a rectangular grid with 1 meter spacing. The wall must be a closed series of straight lines, each line running from post to post.\n",
    "</p>\n",
    "<p>\n",
    "The bigger countries of course have built a 2000 m wall enclosing the entire 250 000 m<sup>2</sup> area. The <a href=\"http://en.wikipedia.org/wiki/Grand_Fenwick\">Duchy of Grand Fenwick</a>, has a tighter budget, and has asked you (their Royal Programmer) to compute what shape would get best maximum enclosed-area/wall-length ratio.\n",
    "</p>\n",
    "<p>\n",
    "You have done some preliminary calculations on a sheet of paper.\n",
    "For a 2000 meter wall enclosing the 250 000 m<sup>2</sup> area the\n",
    "enclosed-area/wall-length ratio is 125.<br/>\n",
    "Although not allowed , but to get an idea if this is anything better:  if you place a circle inside the square area touching the four sides the area will be equal to &#960;*250<sup>2</sup> m<sup>2</sup> and the perimeter will be &#960;*500 m, so the enclosed-area/wall-length ratio will also be 125.\n",
    "</p>\n",
    "<p>\n",
    "However, if you cut off from the square four triangles with sides 75 m, 75 m and 75&#8730;2 m the total area becomes 238750 m<sup>2</sup> and the perimeter becomes 1400+300&#8730;2 m. So this gives an enclosed-area/wall-length ratio of 130.87, which is significantly better.\n",
    "</p>\n",
    "<div align=\"center\"><img alt=\"p314_landgrab.gif\" src=\"project/images/p314_landgrab.gif\"/></div>\n",
    "<p>\n",
    "Find the maximum enclosed-area/wall-length ratio.<br/>\n",
    "Give your answer rounded to 8 places behind the decimal point in the form abc.defghijk.\n",
    "</p>\n",
    "</div>"
   ]
  },
  {
   "cell_type": "code",
   "execution_count": null,
   "metadata": {},
   "outputs": [],
   "source": [
    "def solve():\n",
    "    # Your code here\n",
    "    \n"
   ]
  },
  {
   "cell_type": "markdown",
   "metadata": {},
   "source": [
    "## Solution"
   ]
  },
  {
   "cell_type": "code",
   "execution_count": null,
   "metadata": {},
   "outputs": [],
   "source": [
    "solve()"
   ]
  }
 ],
 "metadata": {},
 "nbformat": 4,
 "nbformat_minor": 2
}
