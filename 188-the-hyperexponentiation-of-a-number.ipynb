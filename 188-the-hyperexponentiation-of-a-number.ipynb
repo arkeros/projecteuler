{
 "cells": [
  {
   "cell_type": "markdown",
   "metadata": {},
   "source": [
    "# The hyperexponentiation of a number\n",
    "## Problem 188 \n",
    "\n",
    "<div class=\"problem_content\" role=\"problem\">\n",
    "<p>The <span style=\"font-style:italic;\">hyperexponentiation</span> or <span style=\"font-style:italic;\">tetration</span> of a number a by a positive integer b, denoted by a&#8593;&#8593;b or <sup>b</sup>a, is recursively defined by:<br/><br/>\n",
    "a&#8593;&#8593;1 = a,<br/>\n",
    "a&#8593;&#8593;(k+1) = a<sup>(a&#8593;&#8593;k)</sup>.</p>\n",
    "<p>\n",
    "Thus we have e.g. 3&#8593;&#8593;2 = 3<sup>3</sup> = 27, hence 3&#8593;&#8593;3 = 3<sup>27</sup> = 7625597484987 and 3&#8593;&#8593;4 is roughly 10<sup>3.6383346400240996*10^12</sup>.</p>\n",
    "<p>Find the last 8 digits of 1777&#8593;&#8593;1855.</p>\n",
    "</div>"
   ]
  },
  {
   "cell_type": "code",
   "execution_count": null,
   "metadata": {},
   "outputs": [],
   "source": [
    "def solve():\n",
    "    # Your code here\n",
    "    \n"
   ]
  },
  {
   "cell_type": "markdown",
   "metadata": {},
   "source": [
    "## Solution"
   ]
  },
  {
   "cell_type": "code",
   "execution_count": null,
   "metadata": {},
   "outputs": [],
   "source": [
    "solve()"
   ]
  }
 ],
 "metadata": {},
 "nbformat": 4,
 "nbformat_minor": 2
}
