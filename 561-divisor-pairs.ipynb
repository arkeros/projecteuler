{
 "cells": [
  {
   "cell_type": "markdown",
   "metadata": {},
   "source": [
    "# Divisor Pairs\n",
    "## Problem 561 \n",
    "\n",
    "<div class=\"problem_content\" role=\"problem\">\n",
    "<p>\n",
    "Let $S(n)$ be the number of pairs $(a,b)$ of distinct divisors of $n$ such that $a$ divides $b$.<br/>\n",
    "For $n=6$ we get the following pairs: $(1,2), (1,3), (1,6),( 2,6)$ and $(3,6)$. So $S(6)=5$.<br/>\n",
    "Let $p_m\\#$ be the product of the first $m$ prime numbers,  so $p_2\\# = 2*3 = 6$.<br/>\n",
    "Let $E(m, n)$ be the highest integer $k$ such that $2^k$ divides $S((p_m\\#)^n)$.<br/>\n",
    "$E(2,1) = 0$ since $2^0$ is the highest power of 2 that divides S(6)=5.<br/>\n",
    "Let $Q(n)=\\sum_{i=1}^{n} E(904961, i)$<br/>\n",
    "$Q(8)=2714886$.\n",
    "</p>\n",
    "<p>\n",
    "Evaluate $Q(10^{12})$. \n",
    "</p>\n",
    "</div>"
   ]
  },
  {
   "cell_type": "code",
   "execution_count": null,
   "metadata": {},
   "outputs": [],
   "source": [
    "def solve():\n",
    "    # Your code here\n",
    "    \n"
   ]
  },
  {
   "cell_type": "markdown",
   "metadata": {},
   "source": [
    "## Solution"
   ]
  },
  {
   "cell_type": "code",
   "execution_count": null,
   "metadata": {},
   "outputs": [],
   "source": [
    "solve()"
   ]
  }
 ],
 "metadata": {},
 "nbformat": 4,
 "nbformat_minor": 2
}
