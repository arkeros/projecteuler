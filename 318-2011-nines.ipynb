{
 "cells": [
  {
   "cell_type": "markdown",
   "metadata": {},
   "source": [
    "# 2011 nines\n",
    "## Problem 318 \n",
    "\n",
    "<div class=\"problem_content\" role=\"problem\">\n",
    "<p>\n",
    "Consider the real number &#8730;2+&#8730;3.<br/>\n",
    "When we calculate the even powers of &#8730;2+&#8730;3\n",
    "we get:<br/>\n",
    "(&#8730;2+&#8730;3)<sup>2</sup> = 9.898979485566356...<br/>\n",
    "(&#8730;2+&#8730;3)<sup>4</sup> = 97.98979485566356...<br/>\n",
    "(&#8730;2+&#8730;3)<sup>6</sup> = 969.998969071069263...<br/>\n",
    "(&#8730;2+&#8730;3)<sup>8</sup> = 9601.99989585502907...<br/>\n",
    "(&#8730;2+&#8730;3)<sup>10</sup> = 95049.999989479221...<br/>\n",
    "(&#8730;2+&#8730;3)<sup>12</sup> = 940897.9999989371855...<br/>\n",
    "(&#8730;2+&#8730;3)<sup>14</sup> = 9313929.99999989263...<br/>\n",
    "(&#8730;2+&#8730;3)<sup>16</sup> = 92198401.99999998915...<br/></p>\n",
    "<p>\n",
    "It looks like that the number of consecutive nines at the beginning of the fractional part of these powers is non-decreasing.<br/>\n",
    "In fact it can be proven that the fractional part of (&#8730;2+&#8730;3)<sup>2n</sup> approaches 1 for large n.\n",
    "</p>\n",
    "<p>\n",
    "Consider all real numbers of the form &#8730;p+&#8730;q with p and q positive integers and p&lt;q, such that the fractional part \n",
    "of (&#8730;p+&#8730;q)<sup>2n</sup> approaches 1 for large n.\n",
    "</p>\n",
    "<p>\n",
    "Let C(p,q,n) be the number of consecutive nines at the beginning of the fractional part of <br/> (&#8730;p+&#8730;q)<sup>2n</sup>.\n",
    "</p>\n",
    "<p>\n",
    "Let N(p,q) be the minimal value of n such that C(p,q,n) &#8805; 2011.\n",
    "</p>\n",
    "<p>\n",
    "Find &#8721;N(p,q) for p+q &#8804; 2011.\n",
    "</p>\n",
    "</div>"
   ]
  },
  {
   "cell_type": "code",
   "execution_count": null,
   "metadata": {},
   "outputs": [],
   "source": [
    "def solve():\n",
    "    # Your code here\n",
    "    \n"
   ]
  },
  {
   "cell_type": "markdown",
   "metadata": {},
   "source": [
    "## Solution"
   ]
  },
  {
   "cell_type": "code",
   "execution_count": null,
   "metadata": {},
   "outputs": [],
   "source": [
    "solve()"
   ]
  }
 ],
 "metadata": {},
 "nbformat": 4,
 "nbformat_minor": 2
}
