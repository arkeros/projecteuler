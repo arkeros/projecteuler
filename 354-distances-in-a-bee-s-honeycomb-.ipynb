{
 "cells": [
  {
   "cell_type": "markdown",
   "metadata": {},
   "source": [
    "# Distances in a bee's honeycomb \n",
    "## Problem 354 \n",
    "\n",
    "<div class=\"problem_content\" role=\"problem\">\n",
    "<p>Consider a honey bee's honeycomb where each cell is a perfect regular hexagon with side length 1.</p>\n",
    "<div align=\"center\">\n",
    "<img alt=\"p354_bee_honeycomb.png\" src=\"project/images/p354_bee_honeycomb.png\"/></div>\n",
    "<p>\n",
    "One particular cell is occupied by the queen bee.<br/>\n",
    "For a positive real number <var>L</var>, let B(<var>L</var>) count the cells with distance <var>L</var> from the queen bee cell (all distances are measured from centre to centre); you may assume that the honeycomb is large enough to accommodate for any distance we wish to consider. <br/>\n",
    "For example, B(&#8730;3) = 6, B(&#8730;21) = 12 and B(111 111 111) = 54.</p>\n",
    "<p>Find the number of <var>L</var> &#8804; 5&#183;10<sup>11</sup> such that B(<var>L</var>) = 450.</p>\n",
    "</div>"
   ]
  },
  {
   "cell_type": "code",
   "execution_count": null,
   "metadata": {},
   "outputs": [],
   "source": [
    "def solve():\n",
    "    # Your code here\n",
    "    \n"
   ]
  },
  {
   "cell_type": "markdown",
   "metadata": {},
   "source": [
    "## Solution"
   ]
  },
  {
   "cell_type": "code",
   "execution_count": null,
   "metadata": {},
   "outputs": [],
   "source": [
    "solve()"
   ]
  }
 ],
 "metadata": {},
 "nbformat": 4,
 "nbformat_minor": 2
}
