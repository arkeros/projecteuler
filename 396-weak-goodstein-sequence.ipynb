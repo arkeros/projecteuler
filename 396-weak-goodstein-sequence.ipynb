{
 "cells": [
  {
   "cell_type": "markdown",
   "metadata": {},
   "source": [
    "# Weak Goodstein sequence\n",
    "## Problem 396 \n",
    "\n",
    "<div class=\"problem_content\" role=\"problem\">\n",
    "<p>\n",
    "For any positive integer n, the <b>nth weak Goodstein sequence</b> {g<sub>1</sub>, g<sub>2</sub>, g<sub>3</sub>, ...} is defined as:\n",
    "</p><ul><li> g<sub>1</sub> = <var>n</var>\n",
    "</li><li> for <var>k</var> &gt; 1, g<sub><var>k</var></sub> is obtained by writing g<sub><var>k</var>-1</sub> in base <var>k</var>, interpreting it as a base <var>k</var> + 1 number, and subtracting 1.\n",
    "</li></ul>\n",
    "The sequence terminates when g<sub><var>k</var></sub> becomes 0.\n",
    "\n",
    "<p>\n",
    "For example, the 6th weak Goodstein sequence is {6, 11, 17, 25, ...}:\n",
    "</p><ul><li> g<sub>1</sub> = 6.\n",
    "</li><li> g<sub>2</sub> = 11 since 6 = 110<sub>2</sub>, 110<sub>3</sub> = 12, and 12 - 1 = 11.\n",
    "</li><li> g<sub>3</sub> = 17 since 11 = 102<sub>3</sub>, 102<sub>4</sub> = 18, and 18 - 1 = 17.\n",
    "</li><li> g<sub>4</sub> = 25 since 17 = 101<sub>4</sub>, 101<sub>5</sub> = 26, and 26 - 1 = 25.\n",
    "</li></ul>\n",
    "and so on.\n",
    "\n",
    "<p>\n",
    "It can be shown that every weak Goodstein sequence terminates.\n",
    "</p>\n",
    "<p>\n",
    "Let G(<var>n</var>) be the number of nonzero elements in the <var>n</var>th weak Goodstein sequence.<br/>\n",
    "It can be verified that G(2) = 3, G(4) = 21 and G(6) = 381.<br/>\n",
    "It can also be verified that &#931;G(<var>n</var>) = 2517 for 1 &#8804; <var>n</var> &lt; 8.\n",
    "</p>\n",
    "<p>\n",
    "Find the last 9 digits of &#931;G(<var>n</var>) for 1 &#8804; <var>n</var> &lt; 16.\n",
    "</p>\n",
    "</div>"
   ]
  },
  {
   "cell_type": "code",
   "execution_count": null,
   "metadata": {},
   "outputs": [],
   "source": [
    "def solve():\n",
    "    # Your code here\n",
    "    \n"
   ]
  },
  {
   "cell_type": "markdown",
   "metadata": {},
   "source": [
    "## Solution"
   ]
  },
  {
   "cell_type": "code",
   "execution_count": null,
   "metadata": {},
   "outputs": [],
   "source": [
    "solve()"
   ]
  }
 ],
 "metadata": {},
 "nbformat": 4,
 "nbformat_minor": 2
}
