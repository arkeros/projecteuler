{
 "cells": [
  {
   "cell_type": "markdown",
   "metadata": {},
   "source": [
    "# Composites with prime repunit property\n",
    "## Problem 130 \n",
    "\n",
    "<div class=\"problem_content\" role=\"problem\">\n",
    "<p>A number consisting entirely of ones is called a repunit. We shall define R(<i>k</i>) to be a repunit of length <i>k</i>; for example, R(6) = 111111.</p>\n",
    "<p>Given that <i>n</i> is a positive integer and GCD(<i>n</i>, 10) = 1, it can be shown that there always exists a value, <i>k</i>, for which R(<i>k</i>) is divisible by <i>n</i>, and let A(<i>n</i>) be the least such value of <i>k</i>; for example, A(7) = 6 and A(41) = 5.</p>\n",
    "<p>You are given that for all primes, <i>p</i> &gt; 5, that <i>p</i> &#8722; 1 is divisible by A(<i>p</i>). For example, when <i>p</i> = 41, A(41) = 5, and 40 is divisible by 5.</p>\n",
    "<p>However, there are rare composite values for which this is also true; the first five examples being 91, 259, 451, 481, and 703.</p>\n",
    "<p>Find the sum of the first twenty-five composite values of <i>n</i> for which<br/>GCD(<i>n</i>, 10) = 1 and <i>n</i> &#8722; 1 is divisible by A(<i>n</i>).</p>\n",
    "</div>"
   ]
  },
  {
   "cell_type": "code",
   "execution_count": null,
   "metadata": {},
   "outputs": [],
   "source": [
    "def solve():\n",
    "    # Your code here\n",
    "    \n"
   ]
  },
  {
   "cell_type": "markdown",
   "metadata": {},
   "source": [
    "## Solution"
   ]
  },
  {
   "cell_type": "code",
   "execution_count": null,
   "metadata": {},
   "outputs": [],
   "source": [
    "solve()"
   ]
  }
 ],
 "metadata": {},
 "nbformat": 4,
 "nbformat_minor": 2
}
