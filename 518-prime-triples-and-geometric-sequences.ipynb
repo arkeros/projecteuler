{
 "cells": [
  {
   "cell_type": "markdown",
   "metadata": {},
   "source": [
    "# Prime triples and geometric sequences\n",
    "## Problem 518 \n",
    "\n",
    "<div class=\"problem_content\" role=\"problem\">\n",
    "<p>Let S(<var>n</var>) = &#931; <var>a</var>+<var>b</var>+<var>c</var> over all triples (<var>a</var>,<var>b</var>,<var>c</var>) such that:</p>\n",
    "<ul style=\"list-style-type:disc;\"><li><var>a</var>, <var>b</var>, and <var>c</var> are prime numbers.</li>\n",
    "<li><var>a</var> &lt; <var>b</var> &lt; <var>c</var> &lt; <var>n</var>.</li>\n",
    "<li><var>a</var>+1, <var>b</var>+1, and <var>c</var>+1 form a <b>geometric sequence</b>.</li>\n",
    "</ul><p>For example, S(100) = 1035 with the following triples: </p>\n",
    "<p>(2, 5, 11), (2, 11, 47), (5, 11, 23), (5, 17, 53), (7, 11, 17), (7, 23, 71), (11, 23, 47), (17, 23, 31), (17, 41, 97), (31, 47, 71), (71, 83, 97)</p>\n",
    "<p>Find S(10<sup>8</sup>).</p>\n",
    "</div>"
   ]
  },
  {
   "cell_type": "code",
   "execution_count": null,
   "metadata": {},
   "outputs": [],
   "source": [
    "def solve():\n",
    "    # Your code here\n",
    "    \n"
   ]
  },
  {
   "cell_type": "markdown",
   "metadata": {},
   "source": [
    "## Solution"
   ]
  },
  {
   "cell_type": "code",
   "execution_count": null,
   "metadata": {},
   "outputs": [],
   "source": [
    "solve()"
   ]
  }
 ],
 "metadata": {},
 "nbformat": 4,
 "nbformat_minor": 2
}
