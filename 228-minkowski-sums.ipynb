{
 "cells": [
  {
   "cell_type": "markdown",
   "metadata": {},
   "source": [
    "# Minkowski Sums\n",
    "## Problem 228 \n",
    "\n",
    "<div class=\"problem_content\" role=\"problem\">\n",
    "<p>Let <var>S</var><sub>n</sub> be the regular <var>n</var>-sided polygon &#8211; or <i>shape</i> &#8211; whose vertices \n",
    "\n",
    "<var>v</var><sub><var>k</var></sub> (<var>k</var>&#8201;=&#8201;1,2,&#8230;,<var>n</var>) have coordinates:</p>\n",
    "<table><tr><td width=\"40\"></td>\n",
    "<td><var>x</var><sub><var>k</var></sub>&#160;&#8201;&#160;= &#8201;\n",
    "        cos( <sup>2<var>k</var>-1</sup>/<sub><var>n</var></sub> &#215;180&#176;&#8201;)</td>\n",
    "</tr><tr><td width=\"40\"></td>\n",
    "<td><var>y</var><sub><var>k</var></sub>&#160;&#8201;&#160;= &#160;\n",
    "        sin( <sup>2<var>k</var>-1</sup>/<sub><var>n</var></sub> &#215;180&#176;&#8201;)</td>\n",
    "</tr></table><p>Each <var>S</var><sub><var>n</var></sub> is to be interpreted as a filled shape consisting of all points on the perimeter and in the interior.</p>\n",
    "<p>The <i>Minkowski sum</i>, <var>S</var>+<var>T</var>, of two shapes <var>S</var> and <var>T</var> is the result of \n",
    "\n",
    "adding every point in <var>S</var> to every point in <var>T</var>, where point addition is performed coordinate-wise: \n",
    "\n",
    "(<var>u</var>,&#8201;<var>v</var>) + (<var>x</var>,&#8201;<var>y</var>) = (<var>u</var>+<var>x</var>,&#8201;<var>v</var>+<var>y</var>).</p>\n",
    "<p>For example, the sum of <var>S</var><sub>3</sub> and <var>S</var><sub>4</sub> is the six-sided shape shown in pink below:</p>\n",
    "<div style=\"text-align:center;\">\n",
    "<img alt=\"picture showing S_3 + S_4\" src=\"project/images/p228.png\"/></div>\n",
    "<p>How many sides does <var>S</var><sub>1864</sub>&#8201;+&#8201;<var>S</var><sub>1865</sub>&#8201;+&#8201;&#8230;&#8201;+&#8201;<var>S</var><sub>1909</sub> have?</p>\n",
    "</div>"
   ]
  },
  {
   "cell_type": "code",
   "execution_count": null,
   "metadata": {},
   "outputs": [],
   "source": [
    "def solve():\n",
    "    # Your code here\n",
    "    \n"
   ]
  },
  {
   "cell_type": "markdown",
   "metadata": {},
   "source": [
    "## Solution"
   ]
  },
  {
   "cell_type": "code",
   "execution_count": null,
   "metadata": {},
   "outputs": [],
   "source": [
    "solve()"
   ]
  }
 ],
 "metadata": {},
 "nbformat": 4,
 "nbformat_minor": 2
}
