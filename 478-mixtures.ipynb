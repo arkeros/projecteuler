{
 "cells": [
  {
   "cell_type": "markdown",
   "metadata": {},
   "source": [
    "# Mixtures\n",
    "## Problem 478 \n",
    "\n",
    "<div class=\"problem_content\" role=\"problem\">\n",
    "<p>Let us consider <b>mixtures</b> of three substances: <b>A</b>, <b>B</b> and <b>C</b>. A mixture can be described by a ratio of the amounts of <b>A</b>, <b>B</b>, and <b>C</b> in it, i.e., (<var>a</var>&#160;:&#160;<var>b</var>&#160;:&#160;<var>c</var>). For example, a mixture described by the ratio (2&#160;:&#160;3&#160;:&#160;5) contains 20% <b>A</b>, 30% <b>B</b> and 50% <b>C</b>.</p>\n",
    "<p>For the purposes of this problem, we cannot separate the individual components from a mixture. However, we can combine different amounts of different mixtures to form mixtures with new ratios.</p>\n",
    "<p>For example, say we have three mixtures with ratios (3&#160;:&#160;0&#160;:&#160;2), (3&#160;:&#160;6&#160;:&#160;11) and (3&#160;:&#160;3&#160;:&#160;4). By mixing 10 units of the first, 20 units of the second and 30 units of the third, we get a new mixture with ratio (6&#160;:&#160;5&#160;:&#160;9), since:<br/>\n",
    "(10&#183;<sup>3</sup>/<sub>5</sub>&#160;+&#160;20&#183;<sup>3</sup>/<sub>20</sub>&#160;+&#160;30&#183;<sup>3</sup>/<sub>10</sub>&#160;:&#160;10&#183;<sup>0</sup>/<sub>5</sub>&#160;+&#160;20&#183;<sup>6</sup>/<sub>20</sub>&#160;+&#160;30&#183;<sup>3</sup>/<sub>10</sub>&#160;:&#160;10&#183;<sup>2</sup>/<sub>5</sub>&#160;+&#160;20&#183;<sup>11</sup>/<sub>20</sub>&#160;+&#160;30&#183;<sup>4</sup>/<sub>10</sub>)\n",
    "= (18&#160;:&#160;15&#160;:&#160;27) = (6&#160;:&#160;5&#160;:&#160;9)</p>\n",
    "<p>However, with the same three mixtures, it is impossible to form the ratio (3&#160;:&#160;2&#160;:&#160;1), since the amount of <b>B</b> is always less than the amount of <b>C</b>.</p>\n",
    "<p>Let <var>n</var> be a positive integer. Suppose that for every triple of integers (<var>a</var>, <var>b</var>, <var>c</var>) with 0 &#8804; <var>a</var>, <var>b</var>, <var>c</var> &#8804; <var>n</var> and gcd(<var>a</var>, <var>b</var>, <var>c</var>) = 1, we have a mixture with ratio (<var>a</var>&#160;:&#160;<var>b</var>&#160;:&#160;<var>c</var>). Let M(<var>n</var>) be the set of all such mixtures.</p>\n",
    "<p>For example, M(2) contains the 19 mixtures with the following ratios:<br/>\n",
    "{(0&#160;:&#160;0&#160;:&#160;1), (0&#160;:&#160;1&#160;:&#160;0), (0&#160;:&#160;1&#160;:&#160;1), (0&#160;:&#160;1&#160;:&#160;2), (0&#160;:&#160;2&#160;:&#160;1), <br/>\n",
    "(1&#160;:&#160;0&#160;:&#160;0), (1&#160;:&#160;0&#160;:&#160;1), (1&#160;:&#160;0&#160;:&#160;2), (1&#160;:&#160;1&#160;:&#160;0), (1&#160;:&#160;1&#160;:&#160;1), <br/>\n",
    "(1&#160;:&#160;1&#160;:&#160;2), (1&#160;:&#160;2&#160;:&#160;0), (1&#160;:&#160;2&#160;:&#160;1), (1&#160;:&#160;2&#160;:&#160;2), (2&#160;:&#160;0&#160;:&#160;1), <br/>\n",
    "(2&#160;:&#160;1&#160;:&#160;0), (2&#160;:&#160;1&#160;:&#160;1), (2&#160;:&#160;1&#160;:&#160;2), (2&#160;:&#160;2&#160;:&#160;1)}.</p>\n",
    "<p>Let E(<var>n</var>) be the number of subsets of M(<var>n</var>) which can produce the mixture with ratio (1 : 1 : 1), i.e., the mixture with equal parts <b>A</b>, <b>B</b> and <b>C</b>. <br/>\n",
    "We can verify that E(1) = 103, E(2) = 520447, E(10)&#160;mod&#160;11<sup>8</sup> = 82608406 and E(500)&#160;mod&#160;11<sup>8</sup> = 13801403.<br/>\n",
    "Find E(10&#160;000&#160;000)&#160;mod&#160;11<sup>8</sup>.</p>\n",
    "</div>"
   ]
  },
  {
   "cell_type": "code",
   "execution_count": null,
   "metadata": {},
   "outputs": [],
   "source": [
    "def solve():\n",
    "    # Your code here\n",
    "    \n"
   ]
  },
  {
   "cell_type": "markdown",
   "metadata": {},
   "source": [
    "## Solution"
   ]
  },
  {
   "cell_type": "code",
   "execution_count": null,
   "metadata": {},
   "outputs": [],
   "source": [
    "solve()"
   ]
  }
 ],
 "metadata": {},
 "nbformat": 4,
 "nbformat_minor": 2
}
