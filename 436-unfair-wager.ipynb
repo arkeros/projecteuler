{
 "cells": [
  {
   "cell_type": "markdown",
   "metadata": {},
   "source": [
    "# Unfair wager\n",
    "## Problem 436 \n",
    "\n",
    "<div class=\"problem_content\" role=\"problem\">\n",
    "<p>Julie proposes the following wager to her sister Louise.<br/>\n",
    "She suggests they play a game of chance to determine who will wash the dishes.<br/>\n",
    "For this game, they shall use a generator of independent random numbers uniformly distributed between 0 and 1.<br/>\n",
    "The game starts with <var>S</var> = 0.<br/>\n",
    "The first player, Louise, adds to <var>S</var> different random numbers from the generator until <var>S</var> &gt; 1 and records her last random number '<var>x</var>'.<br/>\n",
    "The second player, Julie, continues adding to <var>S</var> different random numbers from the generator until <var>S</var> &gt; 2 and records her last random number '<var>y</var>'.<br/>\n",
    "The player with the highest number wins and the loser washes the dishes, i.e. if <var>y</var> &gt; <var>x</var> the second player wins.</p>\n",
    "<p>For e<var>x</var>ample, if the first player draws 0.62 and 0.44, the first player turn ends since 0.62+0.44 &gt; 1 and <var>x</var> = 0.44.<br/>\n",
    "If the second players draws 0.1, 0.27 and 0.91, the second player turn ends since 0.62+0.44+0.1+0.27+0.91 &gt; 2 and <var>y</var> = 0.91.\n",
    "Since <var>y</var> &gt; <var>x</var>, the second player wins.</p>\n",
    "<p>Louise thinks about it for a second, and objects: \"That's not fair\".<br/>\n",
    "What is the probability that the second player wins?<br/>\n",
    "Give your answer rounded to 10 places behind the decimal point in the form 0.abcdefghij</p>\n",
    "</div>"
   ]
  },
  {
   "cell_type": "code",
   "execution_count": null,
   "metadata": {},
   "outputs": [],
   "source": [
    "def solve():\n",
    "    # Your code here\n",
    "    \n"
   ]
  },
  {
   "cell_type": "markdown",
   "metadata": {},
   "source": [
    "## Solution"
   ]
  },
  {
   "cell_type": "code",
   "execution_count": null,
   "metadata": {},
   "outputs": [],
   "source": [
    "solve()"
   ]
  }
 ],
 "metadata": {},
 "nbformat": 4,
 "nbformat_minor": 2
}
