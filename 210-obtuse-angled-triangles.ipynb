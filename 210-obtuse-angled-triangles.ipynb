{
 "cells": [
  {
   "cell_type": "markdown",
   "metadata": {},
   "source": [
    "# Obtuse Angled Triangles\n",
    "## Problem 210 \n",
    "\n",
    "<div class=\"problem_content\" role=\"problem\">\r\n",
    "Consider the set S(r) of points (x,y) with integer coordinates satisfying |x| + |y| &#8804; r. <br/>\n",
    "Let O be the point (0,0) and C the point (r/4,r/4). <br/>\n",
    "Let N(r) be the number of points B in S(r), so that the triangle OBC has an obtuse angle, i.e. the largest angle &#945; satisfies 90&#176;&lt;&#945;&lt;180&#176;.<br/>\n",
    "So, for example, N(4)=24 and N(8)=100.\n",
    "<p>\n",
    "What is N(1,000,000,000)?\n",
    "</p>\n",
    "</div>"
   ]
  },
  {
   "cell_type": "code",
   "execution_count": null,
   "metadata": {},
   "outputs": [],
   "source": [
    "def solve():\n",
    "    # Your code here\n",
    "    \n"
   ]
  },
  {
   "cell_type": "markdown",
   "metadata": {},
   "source": [
    "## Solution"
   ]
  },
  {
   "cell_type": "code",
   "execution_count": null,
   "metadata": {},
   "outputs": [],
   "source": [
    "solve()"
   ]
  }
 ],
 "metadata": {},
 "nbformat": 4,
 "nbformat_minor": 2
}
