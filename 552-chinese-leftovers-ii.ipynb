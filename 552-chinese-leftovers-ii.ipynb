{
 "cells": [
  {
   "cell_type": "markdown",
   "metadata": {},
   "source": [
    "# Chinese leftovers II\n",
    "## Problem 552 \n",
    "\n",
    "<div class=\"problem_content\" role=\"problem\">\n",
    "<p>\n",
    "Let <var>A<sub>n</sub></var> be the smallest positive integer satisfying  <var>A<sub>n</sub></var> mod <var>p<sub>i</sub></var> = <var>i</var>  for all 1 &#8804; <var>i</var> &#8804; <var>n</var>, where <var>p<sub>i</sub></var> is the\n",
    "<var>i</var>-th prime.\n",
    "<br/>For example <var>A</var><sub>2</sub> = 5, since this is the smallest positive solution of the system of equations </p>\n",
    "<ul style=\"list-style-type:none;margin-left:2cm;\"><li> <var>A</var><sub>2</sub> mod 2 = 1 </li>\n",
    "<li> <var>A</var><sub>2</sub> mod 3 = 2</li></ul><p>\n",
    "The system of equations for <var>A</var><sub>3</sub> adds another constraint. That is, <var>A</var><sub>3</sub> is the smallest positive solution of</p>\n",
    "<ul style=\"list-style-type:none;margin-left:2cm;\"><li> <var>A</var><sub>3</sub> mod 2 = 1 </li>\n",
    "<li> <var>A</var><sub>3</sub> mod 3 = 2</li>\n",
    "<li> <var>A</var><sub>3</sub> mod 5 = 3</li></ul><p>\n",
    "and hence <var>A</var><sub>3</sub> = 23. Similarly, one gets <var>A</var><sub>4</sub> = 53 and <var>A</var><sub>5</sub> = 1523.\n",
    "</p>\n",
    "<p>\n",
    "Let S(<var>n</var>) be the sum of all primes up to <var>n</var> that divide at least one element in the sequence <var>A</var>.\n",
    "<br/>For example, S(50) = 69 = 5 + 23 + 41, since 5 divides <var>A</var><sub>2</sub>, 23 divides <var>A</var><sub>3</sub> and 41 divides <var>A</var><sub>10</sub> = 5765999453. No other prime number up to 50 divides an element in <var>A</var>.\n",
    "</p>\n",
    "<p>\n",
    "Find S(300000).</p>\n",
    "</div>"
   ]
  },
  {
   "cell_type": "code",
   "execution_count": null,
   "metadata": {},
   "outputs": [],
   "source": [
    "def solve():\n",
    "    # Your code here\n",
    "    \n"
   ]
  },
  {
   "cell_type": "markdown",
   "metadata": {},
   "source": [
    "## Solution"
   ]
  },
  {
   "cell_type": "code",
   "execution_count": null,
   "metadata": {},
   "outputs": [],
   "source": [
    "solve()"
   ]
  }
 ],
 "metadata": {},
 "nbformat": 4,
 "nbformat_minor": 2
}
