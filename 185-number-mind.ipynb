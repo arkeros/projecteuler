{
 "cells": [
  {
   "cell_type": "markdown",
   "metadata": {},
   "source": [
    "# Number Mind\n",
    "## Problem 185 \n",
    "\n",
    "<div class=\"problem_content\" role=\"problem\">\n",
    "<p>The game Number Mind is a variant of the well known game Master Mind.</p>\n",
    "<p>Instead of coloured pegs, you have to guess a secret sequence of digits. After each guess you're only told in how many places you've guessed the correct digit. So, if the sequence was 1234 and you guessed 2036, you'd be told that you have one correct digit; however, you would NOT be told that you also have another digit in the wrong place.</p>\n",
    "<p>For instance, given the following guesses for a 5-digit secret sequence,</p>\n",
    "<p style=\"margin-left:50px;\">90342 ;2 correct<br/>\n",
    "70794 ;0 correct<br/>\n",
    "39458 ;2 correct<br/>\n",
    "34109 ;1 correct<br/>\n",
    "51545 ;2 correct<br/>\n",
    "12531 ;1 correct</p>\n",
    "<p>The correct sequence 39542 is unique.</p>\n",
    "<p>Based on the following guesses,</p>\n",
    "<p style=\"margin-left:50px;\">5616185650518293 ;2 correct<br/>\n",
    "3847439647293047 ;1 correct<br/>\n",
    "5855462940810587 ;3 correct<br/>\n",
    "9742855507068353 ;3 correct<br/>\n",
    "4296849643607543 ;3 correct<br/>\n",
    "3174248439465858 ;1 correct<br/>\n",
    "4513559094146117 ;2 correct<br/>\n",
    "7890971548908067 ;3 correct<br/>\n",
    "8157356344118483 ;1 correct<br/>\n",
    "2615250744386899 ;2 correct<br/>\n",
    "8690095851526254 ;3 correct<br/>\n",
    "6375711915077050 ;1 correct<br/>\n",
    "6913859173121360 ;1 correct<br/>\n",
    "6442889055042768 ;2 correct<br/>\n",
    "2321386104303845 ;0 correct<br/>\n",
    "2326509471271448 ;2 correct<br/>\n",
    "5251583379644322 ;2 correct<br/>\n",
    "1748270476758276 ;3 correct<br/>\n",
    "4895722652190306 ;1 correct<br/>\n",
    "3041631117224635 ;3 correct<br/>\n",
    "1841236454324589 ;3 correct<br/>\n",
    "2659862637316867 ;2 correct</p>\n",
    "<p>Find the unique 16-digit secret sequence.</p>\n",
    "</div>"
   ]
  },
  {
   "cell_type": "code",
   "execution_count": null,
   "metadata": {},
   "outputs": [],
   "source": [
    "def solve():\n",
    "    # Your code here\n",
    "    \n"
   ]
  },
  {
   "cell_type": "markdown",
   "metadata": {},
   "source": [
    "## Solution"
   ]
  },
  {
   "cell_type": "code",
   "execution_count": null,
   "metadata": {},
   "outputs": [],
   "source": [
    "solve()"
   ]
  }
 ],
 "metadata": {},
 "nbformat": 4,
 "nbformat_minor": 2
}
