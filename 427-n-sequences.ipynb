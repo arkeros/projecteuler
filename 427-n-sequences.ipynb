{
 "cells": [
  {
   "cell_type": "markdown",
   "metadata": {},
   "source": [
    "# n-sequences\n",
    "## Problem 427 \n",
    "\n",
    "<div class=\"problem_content\" role=\"problem\">\n",
    "<p>A sequence of integers S = {s<sub><var>i</var></sub>} is called an <var>n-sequence</var> if it has <var>n</var> elements and each element s<sub><var>i</var></sub> satisfies 1 &#8804; s<sub><var>i</var></sub> &#8804; <var>n</var>. Thus there are <var>n</var><sup><var>n</var></sup> distinct <var>n</var>-sequences in total.\n",
    "For example, the sequence S = {1, 5, 5, 10, 7, 7, 7, 2, 3, 7} is a 10-sequence.</p>\n",
    "<p>For any sequence S, let L(S) be the length of the longest contiguous subsequence of S with the same value.\n",
    "For example, for the given sequence S above, L(S) = 3, because of the three consecutive 7's.</p>\n",
    "<p>Let <var>f</var>(<var>n</var>) = &#8721; L(S) for all <var>n</var>-sequences S.</p>\n",
    "<p>For example, <var>f</var>(3) = 45, <var>f</var>(7) = 1403689 and <var>f</var>(11) = 481496895121.</p>\n",
    "<p>Find <var>f</var>(7&#160;500&#160;000) mod 1&#160;000&#160;000&#160;009.</p>\n",
    "</div>"
   ]
  },
  {
   "cell_type": "code",
   "execution_count": null,
   "metadata": {},
   "outputs": [],
   "source": [
    "def solve():\n",
    "    # Your code here\n",
    "    \n"
   ]
  },
  {
   "cell_type": "markdown",
   "metadata": {},
   "source": [
    "## Solution"
   ]
  },
  {
   "cell_type": "code",
   "execution_count": null,
   "metadata": {},
   "outputs": [],
   "source": [
    "solve()"
   ]
  }
 ],
 "metadata": {},
 "nbformat": 4,
 "nbformat_minor": 2
}
