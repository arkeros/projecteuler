{
 "cells": [
  {
   "cell_type": "markdown",
   "metadata": {},
   "source": [
    "# Totient permutation\n",
    "## Problem 70 \n",
    "\n",
    "<div class=\"problem_content\" role=\"problem\">\n",
    "<p>Euler's Totient function, &#966;(<var>n</var>) [sometimes called the phi function], is used to determine the number of positive numbers less than or equal to <var>n</var> which are relatively prime to <var>n</var>. For example, as 1, 2, 4, 5, 7, and 8, are all less than nine and relatively prime to nine, &#966;(9)=6.<br/>The number 1 is considered to be relatively prime to every positive number, so &#966;(1)=1. </p>\n",
    "<p>Interestingly, &#966;(87109)=79180, and it can be seen that 87109 is a permutation of 79180.</p>\n",
    "<p>Find the value of <var>n</var>, 1 &lt; <var>n</var> &lt; 10<sup>7</sup>, for which &#966;(<var>n</var>) is a permutation of <var>n</var> and the ratio <var>n</var>/&#966;(<var>n</var>) produces a minimum.</p>\n",
    "</div>"
   ]
  },
  {
   "cell_type": "code",
   "execution_count": null,
   "metadata": {},
   "outputs": [],
   "source": [
    "def solve():\n",
    "    # Your code here\n",
    "    \n"
   ]
  },
  {
   "cell_type": "markdown",
   "metadata": {},
   "source": [
    "## Solution"
   ]
  },
  {
   "cell_type": "code",
   "execution_count": null,
   "metadata": {},
   "outputs": [],
   "source": [
    "solve()"
   ]
  }
 ],
 "metadata": {},
 "nbformat": 4,
 "nbformat_minor": 2
}
