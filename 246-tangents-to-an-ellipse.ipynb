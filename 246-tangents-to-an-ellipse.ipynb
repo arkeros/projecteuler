{
 "cells": [
  {
   "cell_type": "markdown",
   "metadata": {},
   "source": [
    "# Tangents to an ellipse\n",
    "## Problem 246 \n",
    "\n",
    "<div class=\"problem_content\" role=\"problem\">\n",
    "<p>\n",
    "A definition for an ellipse is:<br/>\n",
    "Given a circle c with centre M and radius r and a point G such that d(G,M)&lt;r, the locus of the points that are equidistant from c and G form an ellipse.\n",
    "</p>\n",
    "The construction of the points of the ellipse is shown below.\n",
    "\n",
    "<div style=\"text-align:center;\">\n",
    "<img alt=\"\" src=\"project/images/p246_anim.gif\"/></div>\n",
    "<p>\n",
    "Given are the points M(-2000,1500) and G(8000,1500).<br/> \n",
    "Given is also the circle c with centre M and radius 15000.<br/>\n",
    "The locus of the points that are equidistant from G and c form an ellipse e.<br/>\n",
    "From a point P outside e the two tangents t<sub>1</sub> and t<sub>2</sub> to the ellipse are drawn.<br/>\n",
    "Let the points where t<sub>1</sub> and t<sub>2</sub> touch the ellipse be R and S.\n",
    "</p>\n",
    "<div style=\"text-align:center;\">\n",
    "<img alt=\"\" src=\"project/images/p246_ellipse.gif\"/></div>\n",
    "<p>\n",
    "For how many lattice points P is angle RPS greater than 45 degrees?\n",
    "</p>\n",
    "</div>"
   ]
  },
  {
   "cell_type": "code",
   "execution_count": null,
   "metadata": {},
   "outputs": [],
   "source": [
    "def solve():\n",
    "    # Your code here\n",
    "    \n"
   ]
  },
  {
   "cell_type": "markdown",
   "metadata": {},
   "source": [
    "## Solution"
   ]
  },
  {
   "cell_type": "code",
   "execution_count": null,
   "metadata": {},
   "outputs": [],
   "source": [
    "solve()"
   ]
  }
 ],
 "metadata": {},
 "nbformat": 4,
 "nbformat_minor": 2
}
