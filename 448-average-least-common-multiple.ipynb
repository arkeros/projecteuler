{
 "cells": [
  {
   "cell_type": "markdown",
   "metadata": {},
   "source": [
    "# Average least common multiple\n",
    "## Problem 448 \n",
    "\n",
    "<div class=\"problem_content\" role=\"problem\">\n",
    "<p>\n",
    "The function <b>lcm</b>(a,b) denotes the least common multiple of a and b.<br/>\n",
    "Let A(n) be the average of the values of lcm(n,i) for 1&#8804;i&#8804;n.<br/>\n",
    "E.g: A(2)=(2+2)/2=2 and A(10)=(10+10+30+20+10+30+70+40+90+10)/10=32. \n",
    "</p>\n",
    "Let S(n)=&#8721;A(k) for 1&#8804;k&#8804;n.<br/>\n",
    "S(100)=122726.\n",
    "\n",
    "<p>\n",
    "Find S(99999999019) mod 999999017.\n",
    "</p>\n",
    "</div>"
   ]
  },
  {
   "cell_type": "code",
   "execution_count": null,
   "metadata": {},
   "outputs": [],
   "source": [
    "def solve():\n",
    "    # Your code here\n",
    "    \n"
   ]
  },
  {
   "cell_type": "markdown",
   "metadata": {},
   "source": [
    "## Solution"
   ]
  },
  {
   "cell_type": "code",
   "execution_count": null,
   "metadata": {},
   "outputs": [],
   "source": [
    "solve()"
   ]
  }
 ],
 "metadata": {},
 "nbformat": 4,
 "nbformat_minor": 2
}
