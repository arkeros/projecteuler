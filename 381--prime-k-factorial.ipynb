{
 "cells": [
  {
   "cell_type": "markdown",
   "metadata": {},
   "source": [
    "# (prime-k) factorial\n",
    "## Problem 381 \n",
    "\n",
    "<div class=\"problem_content\" role=\"problem\">\n",
    "<p>\n",
    "For a prime p let S(p) = (&#8721;(p-k)!) mod(p) for 1 &#8804; k &#8804; 5.\n",
    "</p>\n",
    "<p>\n",
    "For example, if p=7,<br/>\n",
    "(7-1)! + (7-2)! + (7-3)! + (7-4)! + (7-5)! = 6! + 5! + 4! + 3! + 2! = 720+120+24+6+2 = 872.<br/> \n",
    "As 872 mod(7) = 4, S(7) = 4.\n",
    "</p>\n",
    "<p>\n",
    "It can be verified that &#8721;S(p) = 480 for 5 &#8804; p &lt; 100.\n",
    "</p>\n",
    "<p>\n",
    "Find &#8721;S(p) for 5 &#8804; p &lt; 10<sup>8</sup>.\n",
    "</p>\n",
    "</div>"
   ]
  },
  {
   "cell_type": "code",
   "execution_count": null,
   "metadata": {},
   "outputs": [],
   "source": [
    "def solve():\n",
    "    # Your code here\n",
    "    \n"
   ]
  },
  {
   "cell_type": "markdown",
   "metadata": {},
   "source": [
    "## Solution"
   ]
  },
  {
   "cell_type": "code",
   "execution_count": null,
   "metadata": {},
   "outputs": [],
   "source": [
    "solve()"
   ]
  }
 ],
 "metadata": {},
 "nbformat": 4,
 "nbformat_minor": 2
}
