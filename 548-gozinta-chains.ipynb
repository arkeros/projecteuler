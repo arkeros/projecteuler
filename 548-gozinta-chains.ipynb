{
 "cells": [
  {
   "cell_type": "markdown",
   "metadata": {},
   "source": [
    "# Gozinta Chains\n",
    "## Problem 548 \n",
    "\n",
    "<div class=\"problem_content\" role=\"problem\">\n",
    "<p>\n",
    "A <b>gozinta chain </b>for <var>n</var> is a sequence {1,a,b,...,<var>n</var>} where each element properly divides the next.<br/>\n",
    "There are eight gozinta chains for 12:<br/>\n",
    "{1,12} ,{1,2,12}, {1,2,4,12}, {1,2,6,12}, {1,3,12}, {1,3,6,12}, {1,4,12} and {1,6,12}.<br/> \n",
    "Let g(<var>n</var>) be the number of gozinta chains for <var>n</var>, so g(12)=8.<br/>\n",
    "g(48)=48 and g(120)=132.\n",
    "</p>\n",
    "<p>\n",
    "Find the sum of the numbers <var>n</var>  not exceeding 10<sup>16</sup> for which g(<var>n</var>)=<var>n</var>.\n",
    "</p>\n",
    "</div>"
   ]
  },
  {
   "cell_type": "code",
   "execution_count": null,
   "metadata": {},
   "outputs": [],
   "source": [
    "def solve():\n",
    "    # Your code here\n",
    "    \n"
   ]
  },
  {
   "cell_type": "markdown",
   "metadata": {},
   "source": [
    "## Solution"
   ]
  },
  {
   "cell_type": "code",
   "execution_count": null,
   "metadata": {},
   "outputs": [],
   "source": [
    "solve()"
   ]
  }
 ],
 "metadata": {},
 "nbformat": 4,
 "nbformat_minor": 2
}
