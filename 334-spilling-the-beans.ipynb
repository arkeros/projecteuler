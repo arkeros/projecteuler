{
 "cells": [
  {
   "cell_type": "markdown",
   "metadata": {},
   "source": [
    "# Spilling the beans\n",
    "## Problem 334 \n",
    "\n",
    "<div class=\"problem_content\" role=\"problem\">\n",
    "<p>In Plato's heaven, there exist an infinite number of bowls in a straight line.<br/>\n",
    "Each bowl either contains some or none of a finite number of beans.<br/>\n",
    "A child plays a game, which allows only one kind of move: removing two beans from any bowl, and putting one in each of the two adjacent bowls.<br/> The game ends when each bowl contains either one or no beans.</p>\n",
    "<p>For example, consider two adjacent bowls containing 2 and 3 beans respectively, all other bowls being empty. The following eight moves will finish the game:</p>\n",
    "<div align=\"center\"><img alt=\"p334_beans.gif\" src=\"project/images/p334_beans.gif\"/></div>\n",
    "<p>You are given the following sequences:<br/></p><table class=\"formula\" style=\"margin-left:50px;\"><tr><td>\n",
    "<var>t</var><sub><i>0</i></sub> = 123456.\n",
    "   </td>\n",
    "</tr></table><table class=\"formula\" style=\"margin-left:50px;\"><tr><td>\n",
    "<var>t</var><sub><i>i</i></sub> = \n",
    "   </td>\n",
    "<td><img alt=\"p334_cases.gif\" src=\"project/images/p334_cases.gif\"/></td>\n",
    "<td>\n",
    "<table class=\"formula\"><tr><td></td>\n",
    "<td>\n",
    "<table class=\"frac\"><tr><td><var>t</var><sub><i>i-1</i></sub></td></tr><tr><td class=\"overline\">2</td></tr></table></td>\n",
    "<td>\n",
    "         ,\n",
    "      </td>\n",
    "<td></td>\n",
    "<td>\n",
    "         if <var>t</var><sub><i>i-1</i></sub> is even\n",
    "      </td>\n",
    "</tr><tr><td><img alt=\"p334_lfloor.gif\" src=\"project/images/p334_lfloor.gif\"/></td>\n",
    "<td>\n",
    "<table class=\"frac\"><tr><td><var>t</var><sub><i>i-1</i></sub></td></tr><tr><td class=\"overline\">2</td></tr></table></td>\n",
    "<td>\n",
    "<img alt=\"p334_rfloor.gif\" src=\"project/images/p334_rfloor.gif\"/></td>\n",
    "<td>\n",
    "         926252, \n",
    "      </td>\n",
    "<td>\n",
    "         if <var>t</var><sub><i>i-1</i></sub> is odd\n",
    "      </td>\n",
    "</tr></table></td><td>\n",
    "</td></tr><tr><td></td>\n",
    "<td></td>\n",
    "<td>\n",
    "      where &#8970;<var>x</var>&#8971; is the floor function\n",
    "   </td>\n",
    "</tr><tr><td></td>\n",
    "<td></td>\n",
    "<td>\n",
    "      and <img alt=\"p334_oplus.gif\" src=\"project/images/p334_oplus.gif\"/> is the bitwise XOR operator.\n",
    "   </td>\n",
    "</tr></table><table class=\"formula\" style=\"margin-left:50px;\"><tr><td>\n",
    "<var>b</var><sub><i>i</i></sub> = ( <var>t</var><sub><i>i</i></sub> mod 2<sup>11</sup>) + 1.\n",
    "   </td>\n",
    "</tr></table><p>The first two terms of the last sequence are <var>b</var><sub><i>1</i></sub> = 289 and <var>b</var><sub><i>2</i></sub> = 145.<br/>\n",
    "If we start with <var>b</var><sub><i>1</i></sub> and <var>b</var><sub><i>2</i></sub> beans in two adjacent bowls, 3419100 moves would be required to finish the game.</p>\n",
    "<p>Consider now 1500 adjacent bowls containing <var>b</var><sub><i>1</i></sub>, <var>b</var><sub><i>2</i></sub>,..., <var>b</var><sub><i>1500</i></sub> beans respectively, all other bowls being empty. Find how many moves it takes before the game ends.</p>\n",
    "</div>"
   ]
  },
  {
   "cell_type": "code",
   "execution_count": null,
   "metadata": {},
   "outputs": [],
   "source": [
    "def solve():\n",
    "    # Your code here\n",
    "    \n"
   ]
  },
  {
   "cell_type": "markdown",
   "metadata": {},
   "source": [
    "## Solution"
   ]
  },
  {
   "cell_type": "code",
   "execution_count": null,
   "metadata": {},
   "outputs": [],
   "source": [
    "solve()"
   ]
  }
 ],
 "metadata": {},
 "nbformat": 4,
 "nbformat_minor": 2
}
