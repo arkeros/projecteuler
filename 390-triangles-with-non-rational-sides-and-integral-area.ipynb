{
 "cells": [
  {
   "cell_type": "markdown",
   "metadata": {},
   "source": [
    "# Triangles with non rational sides and integral area\n",
    "## Problem 390 \n",
    "\n",
    "<div class=\"problem_content\" role=\"problem\">\n",
    "<p>Consider the triangle with sides &#8730;5, &#8730;65 and &#8730;68.\n",
    "It can be shown that this triangle has area 9.</p>\n",
    "<p>S(n) is the sum of the areas of  all triangles with sides &#8730;(1+b<sup>2</sup>), &#8730;(1+c<sup>2</sup>) and &#8730;(b<sup>2</sup>+c<sup>2</sup>) (for positive integers b and c ) that have an integral area not exceeding n.</p>\n",
    "<p>The example triangle has b=2 and c=8.</p>\n",
    "<p>S(10<sup>6</sup>)=18018206.</p>\n",
    "<p>Find S(10<sup>10</sup>).</p>\n",
    "</div>"
   ]
  },
  {
   "cell_type": "code",
   "execution_count": null,
   "metadata": {},
   "outputs": [],
   "source": [
    "def solve():\n",
    "    # Your code here\n",
    "    \n"
   ]
  },
  {
   "cell_type": "markdown",
   "metadata": {},
   "source": [
    "## Solution"
   ]
  },
  {
   "cell_type": "code",
   "execution_count": null,
   "metadata": {},
   "outputs": [],
   "source": [
    "solve()"
   ]
  }
 ],
 "metadata": {},
 "nbformat": 4,
 "nbformat_minor": 2
}
