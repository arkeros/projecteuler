{
 "cells": [
  {
   "cell_type": "markdown",
   "metadata": {},
   "source": [
    "# Counting summations\n",
    "## Problem 76 \n",
    "\n",
    "<div class=\"problem_content\" role=\"problem\">\n",
    "<p>It is possible to write five as a sum in exactly six different ways:</p>\n",
    "<p style=\"margin-left:50px;\">4 + 1<br/>\n",
    "3 + 2<br/>\n",
    "3 + 1 + 1<br/>\n",
    "2 + 2 + 1<br/>\n",
    "2 + 1 + 1 + 1<br/>\n",
    "1 + 1 + 1 + 1 + 1</p>\n",
    "<p>How many different ways can one hundred be written as a sum of at least two positive integers?</p>\n",
    "</div>"
   ]
  },
  {
   "cell_type": "code",
   "execution_count": null,
   "metadata": {},
   "outputs": [],
   "source": [
    "def solve():\n",
    "    # Your code here\n",
    "    \n"
   ]
  },
  {
   "cell_type": "markdown",
   "metadata": {},
   "source": [
    "## Solution"
   ]
  },
  {
   "cell_type": "code",
   "execution_count": null,
   "metadata": {},
   "outputs": [],
   "source": [
    "solve()"
   ]
  }
 ],
 "metadata": {},
 "nbformat": 4,
 "nbformat_minor": 2
}
