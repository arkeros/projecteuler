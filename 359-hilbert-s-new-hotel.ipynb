{
 "cells": [
  {
   "cell_type": "markdown",
   "metadata": {},
   "source": [
    "# Hilbert's New Hotel\n",
    "## Problem 359 \n",
    "\n",
    "<div class=\"problem_content\" role=\"problem\">\n",
    "<p>\n",
    "An infinite number of people (numbered 1, 2, 3, etc.) are lined up to get a room at Hilbert's newest infinite hotel. The hotel contains an infinite number of floors (numbered 1, 2, 3, etc.), and each floor contains an infinite number of rooms (numbered 1, 2, 3, etc.). \n",
    "</p>\n",
    "<p>\n",
    "Initially the hotel is empty. Hilbert declares a rule on how the <var>n</var><sup>th</sup> person is assigned a room: person <var>n</var> gets the first vacant room in the lowest numbered floor satisfying either of the following:\n",
    "</p><ul><li>the floor is empty</li>\n",
    "<li>the floor is not empty, and if the latest person taking a room in that floor is person <var>m</var>, then <var>m</var> + <var>n</var> is a perfect square</li>\n",
    "</ul><p>\n",
    "Person 1 gets room 1 in floor 1 since floor 1 is empty.\n",
    "<br/>Person 2 does not get room 2 in floor 1 since 1 + 2 = 3 is not a perfect square.\n",
    "<br/>Person 2 instead gets room 1 in floor 2 since floor 2 is empty.\n",
    "<br/>Person 3 gets room 2 in floor 1 since 1 + 3 = 4 is a perfect square.\n",
    "</p>\n",
    "<p>\n",
    "Eventually, every person in the line gets a room in the hotel.\n",
    "</p>\n",
    "<p>\n",
    "Define P(<var>f</var>, <var>r</var>) to be <var>n</var> if person <var>n</var> occupies room <var>r</var> in floor <var>f</var>, and 0 if no person occupies the room. Here are a few examples:\n",
    "<br/>P(1, 1) = 1\n",
    "<br/>P(1, 2) = 3\n",
    "<br/>P(2, 1) = 2\n",
    "<br/>P(10, 20) = 440\n",
    "<br/>P(25, 75) = 4863\n",
    "<br/>P(99, 100) = 19454\n",
    "</p>\n",
    "<p>\n",
    "Find the sum of all P(<var>f</var>, <var>r</var>) for all positive <var>f</var> and <var>r</var> such that <var>f</var> &#215; <var>r</var> = 71328803586048 and give the last 8 digits as your answer.\n",
    "</p>\n",
    "</div>"
   ]
  },
  {
   "cell_type": "code",
   "execution_count": null,
   "metadata": {},
   "outputs": [],
   "source": [
    "def solve():\n",
    "    # Your code here\n",
    "    \n"
   ]
  },
  {
   "cell_type": "markdown",
   "metadata": {},
   "source": [
    "## Solution"
   ]
  },
  {
   "cell_type": "code",
   "execution_count": null,
   "metadata": {},
   "outputs": [],
   "source": [
    "solve()"
   ]
  }
 ],
 "metadata": {},
 "nbformat": 4,
 "nbformat_minor": 2
}
