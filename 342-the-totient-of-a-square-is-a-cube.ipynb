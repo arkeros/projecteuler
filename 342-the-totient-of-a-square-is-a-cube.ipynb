{
 "cells": [
  {
   "cell_type": "markdown",
   "metadata": {},
   "source": [
    "# The totient of a square is a cube\n",
    "## Problem 342 \n",
    "\n",
    "<div class=\"problem_content\" role=\"problem\">\n",
    "<p>\n",
    "Consider the number 50.<br/>\n",
    "50<sup>2</sup> = 2500 = 2<sup>2</sup> &#215; 5<sup>4</sup>, so &#966;(2500) = 2 &#215; 4 &#215; 5<sup>3</sup> = 8 &#215; 5<sup>3</sup> = 2<sup>3</sup> &#215; 5<sup>3</sup>. <sup>1</sup><br/>\n",
    "So 2500 is a square and  &#966;(2500) is a cube.\n",
    "</p>\n",
    "<p>\n",
    "Find the sum of all numbers n, 1 &amp;lt n &lt; 10<sup>10</sup> such that &#966;(n<sup>2</sup>) is a cube.\n",
    "</p>\n",
    "<p>\n",
    "<sup>1</sup> &#966; denotes <b>Euler's totient function</b>.\n",
    "</p>\n",
    "</div>"
   ]
  },
  {
   "cell_type": "code",
   "execution_count": null,
   "metadata": {},
   "outputs": [],
   "source": [
    "def solve():\n",
    "    # Your code here\n",
    "    \n"
   ]
  },
  {
   "cell_type": "markdown",
   "metadata": {},
   "source": [
    "## Solution"
   ]
  },
  {
   "cell_type": "code",
   "execution_count": null,
   "metadata": {},
   "outputs": [],
   "source": [
    "solve()"
   ]
  }
 ],
 "metadata": {},
 "nbformat": 4,
 "nbformat_minor": 2
}
