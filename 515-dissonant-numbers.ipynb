{
 "cells": [
  {
   "cell_type": "markdown",
   "metadata": {},
   "source": [
    "# Dissonant Numbers\n",
    "## Problem 515 \n",
    "\n",
    "<div class=\"problem_content\" role=\"problem\">\n",
    "<p>Let <var>d</var>(<var>p</var>,<var>n</var>,0) be the multiplicative inverse of <var>n</var> modulo prime <var>p</var>, defined as <var>n</var>&#160;&#215;&#160;<var>d</var>(<var>p</var>,<var>n</var>,0)&#160;=&#160;1&#160;mod&#160;<var>p</var>.<br/>\n",
    "Let <var>d</var>(<var>p</var>,<var>n</var>,<var>k</var>) = $\\sum_{i=1}^n$<var>d</var>(<var>p</var>,<var>i</var>,<var>k</var>&#8722;1) for <var>k</var>&#160;&#8805;&#160;1.<br/>\n",
    "Let <var>D</var>(<var>a</var>,<var>b</var>,<var>k</var>) = $\\sum$(<var>d</var>(<var>p</var>,<var>p</var>-1,<var>k</var>) mod <var>p</var>) for all primes <var>a</var>&#160;&#8804;&#160;<var>p</var>&#160;&lt;&#160;<var>a</var>&#160;+&#160;<var>b</var>.</p>\n",
    "<p>You are given:</p>\n",
    "<ul><li><var>D</var>(101,1,10) = 45</li>\n",
    "<li><var>D</var>(10<sup>3</sup>,10<sup>2</sup>,10<sup>2</sup>) = 8334</li>\n",
    "<li><var>D</var>(10<sup>6</sup>,10<sup>3</sup>,10<sup>3</sup>) = 38162302</li></ul><p>Find <var>D</var>(10<sup>9</sup>,10<sup>5</sup>,10<sup>5</sup>).</p>\n",
    "</div>"
   ]
  },
  {
   "cell_type": "code",
   "execution_count": null,
   "metadata": {},
   "outputs": [],
   "source": [
    "def solve():\n",
    "    # Your code here\n",
    "    \n"
   ]
  },
  {
   "cell_type": "markdown",
   "metadata": {},
   "source": [
    "## Solution"
   ]
  },
  {
   "cell_type": "code",
   "execution_count": null,
   "metadata": {},
   "outputs": [],
   "source": [
    "solve()"
   ]
  }
 ],
 "metadata": {},
 "nbformat": 4,
 "nbformat_minor": 2
}
