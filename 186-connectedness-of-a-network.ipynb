{
 "cells": [
  {
   "cell_type": "markdown",
   "metadata": {},
   "source": [
    "# Connectedness of a network\n",
    "## Problem 186 \n",
    "\n",
    "<div class=\"problem_content\" role=\"problem\">\n",
    "<p>Here are the records from a busy telephone system with one million users:</p>\n",
    "<div style=\"text-align:center;\">\n",
    "<table align=\"center\" border=\"1\" cellpadding=\"2\" cellspacing=\"0\"><tr style=\"background-color:#c1daf9;\"><td>RecNr</td><td align=\"center\" width=\"60\">Caller</td><td align=\"center\" width=\"60\">Called</td></tr><tr><td align=\"center\">1</td><td align=\"center\">200007</td><td align=\"center\">100053</td></tr><tr><td align=\"center\">2</td><td align=\"center\">600183</td><td align=\"center\">500439</td></tr><tr><td align=\"center\">3</td><td align=\"center\">600863</td><td align=\"center\">701497</td></tr><tr><td align=\"center\">...</td><td align=\"center\">...</td><td align=\"center\">...</td></tr></table></div>\n",
    "<p>The telephone number of the caller and the called number in record n are Caller(n) = S<sub>2n-1</sub> and Called(n) = S<sub>2n</sub> where S<sub>1,2,3,...</sub> come from the \"Lagged Fibonacci Generator\":</p>\n",
    "<p>For 1 &#8804; k &#8804; 55, S<sub>k</sub> = [100003 - 200003k + 300007k<sup>3</sup>] (modulo 1000000)<br/>\n",
    "For 56 &#8804; k, S<sub>k</sub> = [S<sub>k-24</sub> + S<sub>k-55</sub>] (modulo 1000000)</p>\n",
    "<p>If Caller(n) = Called(n) then the user is assumed to have misdialled and the call fails; otherwise the call is successful.</p>\n",
    "<p>From the start of the records, we say that any pair of users X and Y are friends if X calls Y or vice-versa. Similarly, X is a friend of a friend of Z if X is a friend of Y and Y is a friend of Z; and so on for longer chains.</p>\n",
    "<p>The Prime Minister's phone number is 524287. After how many successful calls, not counting misdials, will 99% of the users (including the PM) be a friend, or a friend of a friend etc., of the Prime Minister?</p>\n",
    "</div>"
   ]
  },
  {
   "cell_type": "code",
   "execution_count": null,
   "metadata": {},
   "outputs": [],
   "source": [
    "def solve():\n",
    "    # Your code here\n",
    "    \n"
   ]
  },
  {
   "cell_type": "markdown",
   "metadata": {},
   "source": [
    "## Solution"
   ]
  },
  {
   "cell_type": "code",
   "execution_count": null,
   "metadata": {},
   "outputs": [],
   "source": [
    "solve()"
   ]
  }
 ],
 "metadata": {},
 "nbformat": 4,
 "nbformat_minor": 2
}
