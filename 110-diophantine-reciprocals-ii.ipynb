{
 "cells": [
  {
   "cell_type": "markdown",
   "metadata": {},
   "source": [
    "# Diophantine reciprocals II\n",
    "## Problem 110 \n",
    "\n",
    "<div class=\"problem_content\" role=\"problem\">\n",
    "<p>In the following equation <var>x</var>, <var>y</var>, and <var>n</var> are positive integers.</p>\n",
    "<div style=\"text-align:center;\">\n",
    "<table align=\"center\"><tr><td><div style=\"text-align:center;\">1<br/><span style=\"border-top:1px solid #000;\"><var>x</var></span></div></td>\n",
    "<td> + </td>\n",
    "<td><div style=\"text-align:center;\">1<br/><span style=\"border-top:1px solid #000;\"><var>y</var></span></div></td>\n",
    "<td> = </td>\n",
    "<td><div style=\"text-align:center;\">1<br/><span style=\"border-top:1px solid #000;\"><var>n</var></span></div></td>\n",
    "</tr></table></div>\n",
    "<p>It can be verified that when <var>n</var> = 1260 there are 113 distinct solutions and this is the least value of <var>n</var> for which the total number of distinct solutions exceeds one hundred.</p>\n",
    "<p>What is the least value of <var>n</var> for which the number of distinct solutions exceeds four million?</p>\n",
    "<p class=\"note\">NOTE: This problem is a much more difficult version of <a href=\"problem=108\">Problem 108</a> and as it is well beyond the limitations of a brute force approach it requires a clever implementation.</p>\n",
    "</div>"
   ]
  },
  {
   "cell_type": "code",
   "execution_count": null,
   "metadata": {},
   "outputs": [],
   "source": [
    "def solve():\n",
    "    # Your code here\n",
    "    \n"
   ]
  },
  {
   "cell_type": "markdown",
   "metadata": {},
   "source": [
    "## Solution"
   ]
  },
  {
   "cell_type": "code",
   "execution_count": null,
   "metadata": {},
   "outputs": [],
   "source": [
    "solve()"
   ]
  }
 ],
 "metadata": {},
 "nbformat": 4,
 "nbformat_minor": 2
}
