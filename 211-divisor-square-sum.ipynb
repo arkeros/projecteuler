{
 "cells": [
  {
   "cell_type": "markdown",
   "metadata": {},
   "source": [
    "# Divisor Square Sum\n",
    "## Problem 211 \n",
    "\n",
    "<div class=\"problem_content\" role=\"problem\">\n",
    "<p>For a positive integer <var>n</var>, let &#963;<sub>2</sub>(<var>n</var>) be the sum of the squares of its divisors. For example,</p>\n",
    "<div style=\"text-align:center;\">&#963;<sub>2</sub>(10) = 1 + 4 + 25 + 100 = 130.</div>\n",
    "<p>Find the sum of all <var>n</var>, 0 &lt; <var>n</var> &lt; 64,000,000 such that &#963;<sub>2</sub>(<var>n</var>) is a perfect square.</p>\n",
    "</div>"
   ]
  },
  {
   "cell_type": "code",
   "execution_count": null,
   "metadata": {},
   "outputs": [],
   "source": [
    "def solve():\n",
    "    # Your code here\n",
    "    \n"
   ]
  },
  {
   "cell_type": "markdown",
   "metadata": {},
   "source": [
    "## Solution"
   ]
  },
  {
   "cell_type": "code",
   "execution_count": null,
   "metadata": {},
   "outputs": [],
   "source": [
    "solve()"
   ]
  }
 ],
 "metadata": {},
 "nbformat": 4,
 "nbformat_minor": 2
}
