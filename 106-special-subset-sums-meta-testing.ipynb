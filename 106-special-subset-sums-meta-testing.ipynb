{
 "cells": [
  {
   "cell_type": "markdown",
   "metadata": {},
   "source": [
    "# Special subset sums: meta-testing\n",
    "## Problem 106 \n",
    "\n",
    "<div class=\"problem_content\" role=\"problem\">\n",
    "<p>Let S(A) represent the sum of elements in set A of size <i>n</i>. We shall call it a special sum set if for any two non-empty disjoint subsets, B and C, the following properties are true:</p>\n",
    "<ol style=\"list-style-type:lower-roman;\"><li>S(B) &#8800; S(C); that is, sums of subsets cannot be equal.</li>\n",
    "<li>If B contains more elements than C then S(B) &gt; S(C).</li>\n",
    "</ol><p>For this problem we shall assume that a given set contains <i>n</i> strictly increasing elements and it already satisfies the second rule.</p>\n",
    "<p>Surprisingly, out of the 25 possible subset pairs that can be obtained from a set for which <i>n</i> = 4, only 1 of these pairs need to be tested for equality (first rule). Similarly, when <i>n</i> = 7, only 70 out of the 966 subset pairs need to be tested.</p>\n",
    "<p>For <i>n</i> = 12, how many of the 261625 subset pairs that can be obtained need to be tested for equality?</p>\n",
    "<p class=\"note\">NOTE: This problem is related to <a href=\"problem=103\">Problem 103</a> and <a href=\"problem=105\">Problem 105</a>.</p>\n",
    "</div>"
   ]
  },
  {
   "cell_type": "code",
   "execution_count": null,
   "metadata": {},
   "outputs": [],
   "source": [
    "def solve():\n",
    "    # Your code here\n",
    "    \n"
   ]
  },
  {
   "cell_type": "markdown",
   "metadata": {},
   "source": [
    "## Solution"
   ]
  },
  {
   "cell_type": "code",
   "execution_count": null,
   "metadata": {},
   "outputs": [],
   "source": [
    "solve()"
   ]
  }
 ],
 "metadata": {},
 "nbformat": 4,
 "nbformat_minor": 2
}
