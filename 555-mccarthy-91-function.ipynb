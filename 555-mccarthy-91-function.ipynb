{
 "cells": [
  {
   "cell_type": "markdown",
   "metadata": {},
   "source": [
    "# McCarthy 91 function\n",
    "## Problem 555 \n",
    "\n",
    "<div class=\"problem_content\" role=\"problem\">\n",
    "<p>\n",
    "The McCarthy 91 function is defined as follows:\n",
    "$$\n",
    "M_{91}(n) = \n",
    "    \\begin{cases}\n",
    "        n - 10 &amp; \\text{if } n &gt; 100 \\\\\n",
    "        M_{91}(M_{91}(n+11)) &amp; \\text{if } 0 \\leq n \\leq 100\n",
    "    \\end{cases}\n",
    "$$\n",
    "</p>\n",
    "<p>\n",
    "We can generalize this definition by abstracting away the constants into new variables:\n",
    "\n",
    "$$\n",
    "M_{m,k,s}(n) = \n",
    "    \\begin{cases}\n",
    "        n - s &amp; \\text{if } n &gt; m \\\\\n",
    "        M_{m,k,s}(M_{m,k,s}(n+k)) &amp; \\text{if } 0 \\leq n \\leq m\n",
    "    \\end{cases}\n",
    "$$\n",
    "</p>\n",
    "<p>\n",
    "This way, we have $M_{91} = M_{100,11,10}$.\n",
    "</p>\n",
    "<p>\n",
    "Let $F_{m,k,s}$ be the set of fixed points of $M_{m,k,s}$. That is, \n",
    "\n",
    "$$F_{m,k,s}= \\left\\{ n \\in \\mathbb{N} \\, | \\, M_{m,k,s}(n) = n \\right\\}$$\n",
    "</p>\n",
    "<p>\n",
    "For example, the only fixed point of $M_{91}$ is $n = 91$. In other words, $F_{100,11,10}= \\{91\\}$.\n",
    "</p>\n",
    "<p>\n",
    "Now, define $SF(m,k,s)$ as the sum of the elements in $F_{m,k,s}$ and let $S(p,m) = \\displaystyle \\sum_{1 \\leq s &lt; k \\leq p}{SF(m,k,s)}$.\n",
    "</p>\n",
    "<p>\n",
    "For example, $S(10, 10) = 225$ and $S(1000, 1000)=208724467$.\n",
    "</p>\n",
    "<p>\n",
    "Find $S(10^6, 10^6)$.\n",
    "</p>\n",
    "</div>"
   ]
  },
  {
   "cell_type": "code",
   "execution_count": null,
   "metadata": {
    "collapsed": true
   },
   "outputs": [],
   "source": [
    "def solve():\n",
    "    # Your code here\n",
    "    \n"
   ]
  },
  {
   "cell_type": "markdown",
   "metadata": {},
   "source": [
    "## Solution"
   ]
  },
  {
   "cell_type": "code",
   "execution_count": null,
   "metadata": {
    "collapsed": true
   },
   "outputs": [],
   "source": [
    "solve()"
   ]
  }
 ],
 "metadata": {
  "kernelspec": {
   "display_name": "Python 2",
   "language": "python",
   "name": "python2"
  },
  "language_info": {
   "codemirror_mode": {
    "name": "ipython",
    "version": 2
   },
   "file_extension": ".py",
   "mimetype": "text/x-python",
   "name": "python",
   "nbconvert_exporter": "python",
   "pygments_lexer": "ipython2",
   "version": "2.7.10"
  }
 },
 "nbformat": 4,
 "nbformat_minor": 2
}
