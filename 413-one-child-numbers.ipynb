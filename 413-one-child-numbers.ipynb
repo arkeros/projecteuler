{
 "cells": [
  {
   "cell_type": "markdown",
   "metadata": {},
   "source": [
    "# One-child Numbers\n",
    "## Problem 413 \n",
    "\n",
    "<div class=\"problem_content\" role=\"problem\">\n",
    "<p>We say that a <var>d</var>-digit positive number (no leading zeros) is a one-child number if exactly one of its sub-strings is divisible by <var>d</var>.</p>\n",
    "<p>For example, 5671 is a 4-digit one-child number. Among all its sub-strings 5, 6, 7, 1, 56, 67, 71, 567, 671 and 5671, only 56 is divisible by 4.<br/>\n",
    "Similarly, 104 is a 3-digit one-child number because only 0 is divisible by 3.<br/>\n",
    "1132451 is a 7-digit one-child number because only 245 is divisible by 7.</p>\n",
    "<p>Let F(<var>N</var>) be the number of the one-child numbers less than <var>N</var>.<br/>\n",
    "We can verify that F(10) = 9, F(10<sup>3</sup>) = 389 and F(10<sup>7</sup>) = 277674.</p>\n",
    "<p>Find F(10<sup>19</sup>).</p>\n",
    "</div>"
   ]
  },
  {
   "cell_type": "code",
   "execution_count": null,
   "metadata": {},
   "outputs": [],
   "source": [
    "def solve():\n",
    "    # Your code here\n",
    "    \n"
   ]
  },
  {
   "cell_type": "markdown",
   "metadata": {},
   "source": [
    "## Solution"
   ]
  },
  {
   "cell_type": "code",
   "execution_count": null,
   "metadata": {},
   "outputs": [],
   "source": [
    "solve()"
   ]
  }
 ],
 "metadata": {},
 "nbformat": 4,
 "nbformat_minor": 2
}
