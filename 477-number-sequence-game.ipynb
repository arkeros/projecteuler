{
 "cells": [
  {
   "cell_type": "markdown",
   "metadata": {},
   "source": [
    "# Number Sequence Game\n",
    "## Problem 477 \n",
    "\n",
    "<div class=\"problem_content\" role=\"problem\">\n",
    "<p>The number sequence game starts with a sequence <var>S</var> of <var>N</var> numbers written on a line.</p>\n",
    "<p>Two players alternate turns. At his turn, a player must select and remove either the first or the last number remaining in the sequence.</p>\n",
    "<p>The player score is the sum of all the numbers he has taken. Each player attempts to maximize his own sum.</p>\n",
    "If <var>N</var> = 4 and <var>S</var> = {1, 2, 10, 3}, then each player maximizes his score as follows:\n",
    "<ul><li>Player 1: removes the first number (1)</li>\n",
    "<li>Player 2: removes the last number from the remaining sequence (3)</li>\n",
    "<li>Player 1: removes the last number from the remaining sequence (10)</li>\n",
    "<li>Player 2: removes the remaining number (2)</li>\n",
    "</ul><p>Player 1 score is 1 + 10 = 11.</p>\n",
    "<p>Let <var>F</var>(<var>N</var>) be the score of player 1 if both players follow the optimal strategy for the sequence <var>S</var> = {<var>s</var><sub>1</sub>, <var>s</var><sub>2</sub>,&#160;...,&#160;<var>s<sub>N</sub></var>} defined as:</p>\n",
    "<ul><li><var>s</var><sub>1</sub> = 0</li>\n",
    "<li><var>s</var><sub><var>i</var>+1</sub> = (<var>s<sub>i</sub></var><sup>2</sup> + 45) modulo 1 000 000 007</li>\n",
    "</ul><p>The sequence begins with <var>S</var>&#160;=&#160;{0,&#160;45,&#160;2070,&#160;4284945,&#160;753524550,&#160;478107844,&#160;894218625,&#160;...}.</p>\n",
    "<p>You are given <var>F</var>(2)&#160;=&#160;45, <var>F</var>(4)&#160;=&#160;4284990, <var>F</var>(100)&#160;=&#160;26365463243, <var>F</var>(10<sup>4</sup>)&#160;=&#160;2495838522951.</p>\n",
    "<p>Find <var>F</var>(10<sup>8</sup>).</p>\n",
    "</div>"
   ]
  },
  {
   "cell_type": "code",
   "execution_count": null,
   "metadata": {},
   "outputs": [],
   "source": [
    "def solve():\n",
    "    # Your code here\n",
    "    \n"
   ]
  },
  {
   "cell_type": "markdown",
   "metadata": {},
   "source": [
    "## Solution"
   ]
  },
  {
   "cell_type": "code",
   "execution_count": null,
   "metadata": {},
   "outputs": [],
   "source": [
    "solve()"
   ]
  }
 ],
 "metadata": {},
 "nbformat": 4,
 "nbformat_minor": 2
}
