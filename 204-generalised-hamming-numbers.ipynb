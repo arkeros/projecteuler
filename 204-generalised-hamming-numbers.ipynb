{
 "cells": [
  {
   "cell_type": "markdown",
   "metadata": {},
   "source": [
    "# Generalised Hamming Numbers\n",
    "## Problem 204 \n",
    "\n",
    "<div class=\"problem_content\" role=\"problem\">\n",
    "<p>A Hamming number is a positive number which has no prime factor larger than 5.<br/>\n",
    "So the first few Hamming numbers are 1, 2, 3, 4, 5, 6, 8, 9, 10, 12, 15.<br/>\n",
    "There are 1105 Hamming numbers not exceeding 10<sup>8</sup>.</p>\n",
    "<p>We will call a positive number a generalised Hamming number of type <var>n</var>, if it has no prime factor larger than <var>n</var>.<br/>\n",
    "Hence the Hamming numbers are the generalised Hamming numbers of type 5.</p>\n",
    "<p>How many generalised Hamming numbers of type 100 are there which don't exceed 10<sup>9</sup>?</p>\n",
    "</div>"
   ]
  },
  {
   "cell_type": "code",
   "execution_count": null,
   "metadata": {},
   "outputs": [],
   "source": [
    "def solve():\n",
    "    # Your code here\n",
    "    \n"
   ]
  },
  {
   "cell_type": "markdown",
   "metadata": {},
   "source": [
    "## Solution"
   ]
  },
  {
   "cell_type": "code",
   "execution_count": null,
   "metadata": {},
   "outputs": [],
   "source": [
    "solve()"
   ]
  }
 ],
 "metadata": {},
 "nbformat": 4,
 "nbformat_minor": 2
}
