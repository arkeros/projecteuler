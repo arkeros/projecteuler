{
 "cells": [
  {
   "cell_type": "markdown",
   "metadata": {},
   "source": [
    "# Eulerian Cycles\n",
    "## Problem 289 \n",
    "\n",
    "<div class=\"problem_content\" role=\"problem\">\n",
    "<p>Let C(<var>x</var>,<var>y</var>) be a circle passing through the points (<var>x</var>,&#8201;<var>y</var>), (<var>x</var>,&#8201;<var>y</var>+1), (<var>x</var>+1,&#8201;<var>y</var>) and (<var>x</var>+1,&#8201;<var>y</var>+1).</p>\n",
    "<p>For positive integers m and n, let E(<var>m</var>,<var>n</var>) be a configuration which consists of the <var>m</var>&#183;<var>n</var> circles:<br/>\n",
    "{ C(<var>x</var>,<var>y</var>): 0&#8201;&#8804;&#8201;<var>x</var>&#8201;&lt;&#8201;<var>m</var>, 0&#8201;&#8804;&#8201;<var>y</var>&#8201;&lt;&#8201;<var>n</var>, <var>x</var> and <var>y</var> are integers }</p>\n",
    "<p>An Eulerian cycle on E(<var>m</var>,<var>n</var>) is a closed path that passes through each arc exactly once.<br/>\n",
    "Many such paths are possible on E(<var>m</var>,<var>n</var>), but we are only interested in those which are not self-crossing: \n",
    "A non-crossing path just touches itself at lattice points, but it never crosses itself.</p>\n",
    "<p>The image below shows E(3,3) and an example of an Eulerian non-crossing path.<br/></p><div align=\"center\"><img alt=\"p289_euler.gif\" src=\"project/images/p289_euler.gif\"/></div>\n",
    "<p>Let L(<var>m</var>,<var>n</var>) be the number of Eulerian non-crossing paths on E(<var>m</var>,<var>n</var>).<br/>\n",
    "For example, L(1,2)&#8201;=&#8201;2, L(2,2)&#8201;=&#8201;37 and L(3,3)&#8201;=&#8201;104290.</p>\n",
    "<p>Find L(6,10) mod 10<sup>10</sup>.</p>\n",
    "</div>"
   ]
  },
  {
   "cell_type": "code",
   "execution_count": null,
   "metadata": {},
   "outputs": [],
   "source": [
    "def solve():\n",
    "    # Your code here\n",
    "    \n"
   ]
  },
  {
   "cell_type": "markdown",
   "metadata": {},
   "source": [
    "## Solution"
   ]
  },
  {
   "cell_type": "code",
   "execution_count": null,
   "metadata": {},
   "outputs": [],
   "source": [
    "solve()"
   ]
  }
 ],
 "metadata": {},
 "nbformat": 4,
 "nbformat_minor": 2
}
