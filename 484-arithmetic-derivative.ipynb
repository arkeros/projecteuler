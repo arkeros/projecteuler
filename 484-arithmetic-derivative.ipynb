{
 "cells": [
  {
   "cell_type": "markdown",
   "metadata": {},
   "source": [
    "# Arithmetic Derivative\n",
    "## Problem 484 \n",
    "\n",
    "<div class=\"problem_content\" role=\"problem\">\n",
    "<p>The <strong>arithmetic derivative</strong> is defined by</p>\n",
    "<ul><li><var>p'</var> = 1 for any prime <var>p</var></li>\n",
    "<li>(<var>ab</var>)<var>'</var> = <var>a'b</var> + <var>ab'</var> for all integers <var>a</var>, <var>b</var> (Leibniz rule)</li>\n",
    "</ul><p>For example, 20<var>'</var> = 24</p>\n",
    "<p>Find &#8721; <strong>gcd</strong>(<var>k</var>,<var>k'</var>) for 1 &lt; <var>k</var> &#8804; 5&#183;10<sup>15</sup></p>\n",
    "<p>Note: <strong>gcd</strong>(<var>x</var>,<var>y</var>) denotes the greatest common divisor of <var>x</var> and <var>y</var>.</p>\n",
    "</div>"
   ]
  },
  {
   "cell_type": "code",
   "execution_count": null,
   "metadata": {},
   "outputs": [],
   "source": [
    "def solve():\n",
    "    # Your code here\n",
    "    \n"
   ]
  },
  {
   "cell_type": "markdown",
   "metadata": {},
   "source": [
    "## Solution"
   ]
  },
  {
   "cell_type": "code",
   "execution_count": null,
   "metadata": {},
   "outputs": [],
   "source": [
    "solve()"
   ]
  }
 ],
 "metadata": {},
 "nbformat": 4,
 "nbformat_minor": 2
}
