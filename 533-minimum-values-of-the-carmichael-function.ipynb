{
 "cells": [
  {
   "cell_type": "markdown",
   "metadata": {},
   "source": [
    "# Minimum values of the Carmichael function\n",
    "## Problem 533 \n",
    "\n",
    "<div class=\"problem_content\" role=\"problem\">\n",
    "<p>The <b>Carmichael function</b> &#955;(<var>n</var>) is defined as the smallest positive integer <var>m</var> such that <var>a<sup>m</sup></var> = 1 modulo <var>n</var> for all integers <var>a</var> coprime with <var>n</var>.<br/>\n",
    "For example &#955;(8) = 2 and &#955;(240) = 4.</p>\n",
    "<p>Define L(<var>n</var>) as the smallest positive integer <var>m</var> such that &#955;(<var>k</var>)&#160;&#8805;&#160;<var>n</var> for all <var>k</var>&#160;&#8805;&#160;<var>m</var>.<br/>\n",
    "For example, L(6)&#160;=&#160;241 and L(100)&#160;=&#160;20&#160;174&#160;525&#160;281.</p>\n",
    "<p>Find L(20&#160;000&#160;000). Give the last 9 digits of your answer.</p>\n",
    "</div>"
   ]
  },
  {
   "cell_type": "code",
   "execution_count": null,
   "metadata": {},
   "outputs": [],
   "source": [
    "def solve():\n",
    "    # Your code here\n",
    "    \n"
   ]
  },
  {
   "cell_type": "markdown",
   "metadata": {},
   "source": [
    "## Solution"
   ]
  },
  {
   "cell_type": "code",
   "execution_count": null,
   "metadata": {},
   "outputs": [],
   "source": [
    "solve()"
   ]
  }
 ],
 "metadata": {},
 "nbformat": 4,
 "nbformat_minor": 2
}
