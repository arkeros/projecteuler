{
 "cells": [
  {
   "cell_type": "markdown",
   "metadata": {},
   "source": [
    "# Hypocycloid and Lattice points\n",
    "## Problem 450 \n",
    "\n",
    "<div class=\"problem_content\" role=\"problem\">\n",
    "<p>\n",
    "A hypocycloid is the curve drawn by a point on a small circle rolling inside a larger circle. The parametric equations of a hypocycloid centered at the origin, and starting at the right most point is given by:</p><p style=\"text-align:center;\">\n",
    "$x(t) = (R - r) \\cos(t) + r \\cos(\\frac {R - r} r t)$<br/>\n",
    "$y(t) = (R - r) \\sin(t) - r \\sin(\\frac {R - r} r t)$</p><p>\n",
    "Where <var>R</var> is the radius of the large circle and <var>r</var> the radius of the small circle.\n",
    "</p>\n",
    "<p>\n",
    "Let $C(R, r)$ be the set of distinct points with integer coordinates on the hypocycloid with radius <var>R</var> and <var>r</var> and for which there is a corresponding value of <var>t</var> such that $\\sin(t)$ and $\\cos(t)$ are rational numbers.</p>\n",
    "<p>\n",
    "Let $S(R, r) = \\sum_{(x,y) \\in C(R, r)} |x| + |y|$ be the sum of the absolute values of the <var>x</var> and <var>y</var> coordinates of the points in $C(R, r)$.</p>\n",
    "<p>\n",
    "\n",
    "Let $T(N) = \\sum_{R = 3}^N \\sum_{r=1}^{\\lfloor \\frac {R - 1} 2 \\rfloor} S(R, r)$ be the sum of $S(R, r)$ for <var>R</var> and <var>r</var> positive integers, $R\\leq N$  and $2r &lt; R$.\n",
    "</p>\n",
    "<div>You are given:<br/><table style=\"border:none;\"><tr><td><div style=\"text-align:right;\"><var>C</var>(3, 1) =</div></td>\n",
    "<td>{(3, 0), (-1, 2), (-1,0), (-1,-2)}</td>\n",
    "</tr><tr><td style=\"vertical-align:top;\"><div style=\"text-align:right;\"><var>C</var>(2500, 1000) =</div></td>\n",
    "<td style=\"vertical-align:top;\">{(2500, 0), (772, 2376), (772, -2376), (516, 1792),\n",
    " (516, -1792), (500, 0), (68, 504), (68, -504),<br/>(-1356, 1088), (-1356, -1088), (-1500, 1000), (-1500, -1000)}</td>\n",
    "</tr></table></div>\n",
    "<p><i>Note: (-625, 0) is not an element of C(2500, 1000) because $\\sin(t)$ is not a rational number for the corresponding values of <var>t</var>.</i></p>\n",
    "<p>\n",
    "<var>S</var>(3, 1) = (|3| + |0|) + (|-1| + |2|) + (|-1| + |0|) + (|-1| + |-2|) = 10</p>\n",
    "<p>\n",
    "<var>T</var>(3) = 10; <var>T</var>(10) = 524 ;<var>T</var>(100) = 580442; <var>T</var>(10<sup>3</sup>) = 583108600.\n",
    "</p>\n",
    "<p>\n",
    "Find <var>T</var>(10<sup>6</sup>).\n",
    "</p>\n",
    "</div>"
   ]
  },
  {
   "cell_type": "code",
   "execution_count": null,
   "metadata": {},
   "outputs": [],
   "source": [
    "def solve():\n",
    "    # Your code here\n",
    "    \n"
   ]
  },
  {
   "cell_type": "markdown",
   "metadata": {},
   "source": [
    "## Solution"
   ]
  },
  {
   "cell_type": "code",
   "execution_count": null,
   "metadata": {},
   "outputs": [],
   "source": [
    "solve()"
   ]
  }
 ],
 "metadata": {},
 "nbformat": 4,
 "nbformat_minor": 2
}
