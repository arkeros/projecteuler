{
 "cells": [
  {
   "cell_type": "markdown",
   "metadata": {},
   "source": [
    "# The Floor's Revenge\n",
    "## Problem 546 \n",
    "\n",
    "<div class=\"problem_content\" role=\"problem\">\n",
    "<p>Define <var>f</var><sub><var>k</var></sub>(<var>n</var>) = $\\sum_{i=0}^{n}$ <var>f</var><sub><var>k</var></sub>($\\lfloor\\frac{i}{k}\\rfloor$) where <var>f</var><sub><var>k</var></sub>(0) = 1 and $\\lfloor x \\rfloor$ denotes the floor function.</p>\n",
    "<p>For example, <var>f</var><sub>5</sub>(10) = 18, <var>f</var><sub>7</sub>(100) = 1003, and <var>f</var><sub>2</sub>(10<sup>3</sup>) = 264830889564.</p>\n",
    "<p>Find $(\\sum_{k=2}^{10}$ <var>f</var><sub><var>k</var></sub>(10<sup>14</sup>)$)$ mod (10<sup>9</sup>+7).</p>\n",
    "</div>"
   ]
  },
  {
   "cell_type": "code",
   "execution_count": null,
   "metadata": {},
   "outputs": [],
   "source": [
    "def solve():\n",
    "    # Your code here\n",
    "    \n"
   ]
  },
  {
   "cell_type": "markdown",
   "metadata": {},
   "source": [
    "## Solution"
   ]
  },
  {
   "cell_type": "code",
   "execution_count": null,
   "metadata": {},
   "outputs": [],
   "source": [
    "solve()"
   ]
  }
 ],
 "metadata": {},
 "nbformat": 4,
 "nbformat_minor": 2
}
