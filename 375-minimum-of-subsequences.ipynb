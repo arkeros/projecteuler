{
 "cells": [
  {
   "cell_type": "markdown",
   "metadata": {},
   "source": [
    "# Minimum of subsequences\n",
    "## Problem 375 \n",
    "\n",
    "<div class=\"problem_content\" role=\"problem\">\n",
    "<p>Let <var>S</var><sub><var>n</var></sub> be an integer sequence produced with the following pseudo-random number generator:</p>\n",
    "<center><table class=\"p375\"><tr><td style=\"text-align:right;\"><var>S</var><sub>0</sub></td>\n",
    "<td>=<sub>&#160;</sub></td>\n",
    "<td>290797<sub>&#160;</sub></td>\n",
    "</tr><tr><td><var>S</var><sub><var>n</var>+1</sub></td>\n",
    "<td>=<sub>&#160;</sub></td>\n",
    "<td><var>S</var><sub><var>n</var></sub><sup>2</sup> mod 50515093</td>\n",
    "</tr></table></center>\n",
    "<p>\n",
    "Let A(<var>i</var>, <var>j</var>) be the minimum of the numbers <var>S</var><sub><var>i</var></sub>, <var>S</var><sub><var>i</var>+1</sub>, ... , <var>S</var><sub><var>j</var></sub> for <var>i</var> &#8804; <var>j</var>.<br/>\n",
    "Let M(<var>N</var>) = &#931;A(<var>i</var>, <var>j</var>) for 1 &#8804; <var>i</var> &#8804; <var>j</var> &#8804; <var>N</var>.<br/>\n",
    "We can verify that M(10) = 432256955 and M(10 000) = 3264567774119.</p>\n",
    "<p>\n",
    "Find M(2 000 000 000).\n",
    "</p>\n",
    "</div>"
   ]
  },
  {
   "cell_type": "code",
   "execution_count": null,
   "metadata": {},
   "outputs": [],
   "source": [
    "def solve():\n",
    "    # Your code here\n",
    "    \n"
   ]
  },
  {
   "cell_type": "markdown",
   "metadata": {},
   "source": [
    "## Solution"
   ]
  },
  {
   "cell_type": "code",
   "execution_count": null,
   "metadata": {},
   "outputs": [],
   "source": [
    "solve()"
   ]
  }
 ],
 "metadata": {},
 "nbformat": 4,
 "nbformat_minor": 2
}
