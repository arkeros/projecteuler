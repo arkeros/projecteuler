{
 "cells": [
  {
   "cell_type": "markdown",
   "metadata": {},
   "source": [
    "# Angular Bisector and Tangent\n",
    "## Problem 296 \n",
    "\n",
    "<div class=\"problem_content\" role=\"problem\">\n",
    "<p>\n",
    "Given is an integer sided triangle <var>ABC</var> with <var>BC</var> &#8804; <var>AC</var> &#8804; <var>AB</var>.<br/><var>k</var> is the angular bisector of angle <var>ACB</var>.<br/><var>m</var> is the tangent at <var>C</var> to the circumscribed circle of <var>ABC</var>.<br/><var>n</var> is a line parallel to <var>m</var> through <var>B</var>.<br/>\n",
    "The intersection of <var>n</var> and <var>k</var> is called <var>E</var>.\n",
    "</p>\n",
    "<div align=\"center\"><img alt=\"p296_bisector.gif\" src=\"project/images/p296_bisector.gif\"/></div>\n",
    "<p>\n",
    "How many triangles <var>ABC</var> with a perimeter not exceeding 100 000 exist such that <var>BE</var> has integral length?\n",
    "</p>\n",
    "</div>"
   ]
  },
  {
   "cell_type": "code",
   "execution_count": null,
   "metadata": {},
   "outputs": [],
   "source": [
    "def solve():\n",
    "    # Your code here\n",
    "    \n"
   ]
  },
  {
   "cell_type": "markdown",
   "metadata": {},
   "source": [
    "## Solution"
   ]
  },
  {
   "cell_type": "code",
   "execution_count": null,
   "metadata": {},
   "outputs": [],
   "source": [
    "solve()"
   ]
  }
 ],
 "metadata": {},
 "nbformat": 4,
 "nbformat_minor": 2
}
