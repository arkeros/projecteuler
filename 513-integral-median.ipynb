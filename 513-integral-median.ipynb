{
 "cells": [
  {
   "cell_type": "markdown",
   "metadata": {},
   "source": [
    "# Integral median\n",
    "## Problem 513 \n",
    "\n",
    "<div class=\"problem_content\" role=\"problem\">\n",
    "<p>\n",
    "ABC is an integral sided triangle with sides a&#8804;b&#8804;c.<br/>\n",
    "m<sub>c</sub> is the median connecting C and the midpoint of AB. <br/>\n",
    "F(n) is the number of such triangles with  c&#8804;n for which m<sub>c</sub> has integral length as well.<br/>\n",
    "F(10)=3 and F(50)=165.</p>\n",
    "<p>\n",
    "Find F(100000).\n",
    "</p>\n",
    "</div>"
   ]
  },
  {
   "cell_type": "code",
   "execution_count": null,
   "metadata": {},
   "outputs": [],
   "source": [
    "def solve():\n",
    "    # Your code here\n",
    "    \n"
   ]
  },
  {
   "cell_type": "markdown",
   "metadata": {},
   "source": [
    "## Solution"
   ]
  },
  {
   "cell_type": "code",
   "execution_count": null,
   "metadata": {},
   "outputs": [],
   "source": [
    "solve()"
   ]
  }
 ],
 "metadata": {},
 "nbformat": 4,
 "nbformat_minor": 2
}
