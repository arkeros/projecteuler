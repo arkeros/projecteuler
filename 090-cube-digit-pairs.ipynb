{
 "cells": [
  {
   "cell_type": "markdown",
   "metadata": {},
   "source": [
    "# Cube digit pairs\n",
    "## Problem 90 \n",
    "\n",
    "<div class=\"problem_content\" role=\"problem\">\n",
    "<p>Each of the six faces on a cube has a different digit (0 to 9) written on it; the same is done to a second cube. By placing the two cubes side-by-side in different positions we can form a variety of 2-digit numbers.</p>\n",
    "<p>For example, the square number 64 could be formed:</p>\n",
    "<div style=\"text-align:center;\">\n",
    "<img alt=\"\" src=\"project/images/p090.gif\"/><br/></div>\n",
    "<p>In fact, by carefully choosing the digits on both cubes it is possible to display all of the square numbers below one-hundred: 01, 04, 09, 16, 25, 36, 49, 64, and 81.</p>\n",
    "<p>For example, one way this can be achieved is by placing {0, 5, 6, 7, 8, 9} on one cube and {1, 2, 3, 4, 8, 9} on the other cube.</p>\n",
    "<p>However, for this problem we shall allow the 6 or 9 to be turned upside-down so that an arrangement like {0, 5, 6, 7, 8, 9} and {1, 2, 3, 4, 6, 7} allows for all nine square numbers to be displayed; otherwise it would be impossible to obtain 09.</p>\n",
    "<p>In determining a distinct arrangement we are interested in the digits on each cube, not the order.</p>\n",
    "<p style=\"margin-left:50px;\">{1, 2, 3, 4, 5, 6} is equivalent to {3, 6, 4, 1, 2, 5}<br/>\n",
    "{1, 2, 3, 4, 5, 6} is distinct from {1, 2, 3, 4, 5, 9}</p>\n",
    "<p>But because we are allowing 6 and 9 to be reversed, the two distinct sets in the last example both represent the extended set {1, 2, 3, 4, 5, 6, 9} for the purpose of forming 2-digit numbers.</p>\n",
    "<p>How many distinct arrangements of the two cubes allow for all of the square numbers to be displayed?</p>\n",
    "</div>"
   ]
  },
  {
   "cell_type": "code",
   "execution_count": null,
   "metadata": {},
   "outputs": [],
   "source": [
    "def solve():\n",
    "    # Your code here\n",
    "    \n"
   ]
  },
  {
   "cell_type": "markdown",
   "metadata": {},
   "source": [
    "## Solution"
   ]
  },
  {
   "cell_type": "code",
   "execution_count": null,
   "metadata": {},
   "outputs": [],
   "source": [
    "solve()"
   ]
  }
 ],
 "metadata": {},
 "nbformat": 4,
 "nbformat_minor": 2
}
