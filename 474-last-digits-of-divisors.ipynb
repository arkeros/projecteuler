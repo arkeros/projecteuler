{
 "cells": [
  {
   "cell_type": "markdown",
   "metadata": {},
   "source": [
    "# Last digits of divisors\n",
    "## Problem 474 \n",
    "\n",
    "<div class=\"problem_content\" role=\"problem\">\n",
    "<p>\n",
    "For a positive integer <var>n</var> and digits <var>d</var>, we define F(<var>n</var>, <var>d</var>) as the number of the divisors of <var>n</var> whose last digits equal <var>d</var>.<br/>\n",
    "For example, F(84, 4) = 3. Among the divisors of 84 (1, 2, 3, 4, 6, 7, 12, 14, 21, 28, 42, 84), three of them (4, 14, 84) have the last digit 4.\n",
    "</p>\n",
    "<p>\n",
    "We can also verify that F(12!, 12) = 11 and F(50!, 123) = 17888.\n",
    "</p>\n",
    "<p>\n",
    "Find F(10<sup>6</sup>!, 65432) modulo (10<sup>16</sup> + 61).\n",
    "</p>\n",
    "</div>"
   ]
  },
  {
   "cell_type": "code",
   "execution_count": null,
   "metadata": {},
   "outputs": [],
   "source": [
    "def solve():\n",
    "    # Your code here\n",
    "    \n"
   ]
  },
  {
   "cell_type": "markdown",
   "metadata": {},
   "source": [
    "## Solution"
   ]
  },
  {
   "cell_type": "code",
   "execution_count": null,
   "metadata": {},
   "outputs": [],
   "source": [
    "solve()"
   ]
  }
 ],
 "metadata": {},
 "nbformat": 4,
 "nbformat_minor": 2
}
