{
 "cells": [
  {
   "cell_type": "markdown",
   "metadata": {},
   "source": [
    "# Eating pie\n",
    "## Problem 394 \n",
    "\n",
    "<div class=\"problem_content\" role=\"problem\">\n",
    "<p>\n",
    "Jeff eats a pie in an unusual way.<br/>\n",
    "The pie is circular. He starts with slicing an initial cut in the pie along a radius.<br/>\n",
    "While there is at least a given fraction <var>F</var> of pie left, he performs the following procedure:<br/>\n",
    "- He makes two slices from the pie centre to any point of what is remaining of the pie border, any point on the remaining pie border equally likely. This will divide the remaining pie into three pieces.<br/> \n",
    "- Going counterclockwise from the initial cut, he takes the first two pie pieces and eats them.<br/>\n",
    "When less than a fraction <var>F</var> of pie remains, he does not repeat this procedure. Instead, he eats all of the remaining pie.\n",
    "</p>\n",
    "<p align=\"center\">\n",
    "<img alt=\"p394_eatpie.gif\" src=\"project/images/p394_eatpie.gif\"/></p>\n",
    "<p>\n",
    "For <var>x</var> &#8805; 1, let E(<var>x</var>) be the expected number of times Jeff repeats the procedure above with <var>F</var> = <sup>1</sup>/<sub><var>x</var></sub>.<br/>\n",
    "It can be verified that  E(1) = 1, E(2) &#8776; 1.2676536759, and E(7.5) &#8776; 2.1215732071.\n",
    "</p>\n",
    "<p>\n",
    "Find E(40) rounded to 10 decimal places behind the decimal point.\n",
    "</p>\n",
    "</div>"
   ]
  },
  {
   "cell_type": "code",
   "execution_count": null,
   "metadata": {},
   "outputs": [],
   "source": [
    "def solve():\n",
    "    # Your code here\n",
    "    \n"
   ]
  },
  {
   "cell_type": "markdown",
   "metadata": {},
   "source": [
    "## Solution"
   ]
  },
  {
   "cell_type": "code",
   "execution_count": null,
   "metadata": {},
   "outputs": [],
   "source": [
    "solve()"
   ]
  }
 ],
 "metadata": {},
 "nbformat": 4,
 "nbformat_minor": 2
}
