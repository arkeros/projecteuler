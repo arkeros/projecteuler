{
 "cells": [
  {
   "cell_type": "markdown",
   "metadata": {},
   "source": [
    "# RSA encryption\n",
    "## Problem 182 \n",
    "\n",
    "<div class=\"problem_content\" role=\"problem\">\n",
    "<p>The RSA encryption is based on the following procedure:</p>\n",
    "<p>Generate two distinct primes <var>p</var> and <var>q</var>.<br/>Compute <var>n=pq</var> and &#966;=(<var>p</var>-1)(<var>q</var>-1).<br/>\n",
    "Find an integer <var>e</var>, 1&lt;<var>e</var>&lt;&#966;, such that gcd(<var>e</var>,&#966;)=1.</p>\n",
    "<p>A message in this system is a number in the interval [0,<var>n</var>-1].<br/>\n",
    "A text to be encrypted is then somehow converted to messages (numbers in the interval [0,<var>n</var>-1]).<br/>\n",
    "To encrypt the text,  for each message, <var>m</var>, <var>c</var>=<var>m</var><sup><var>e</var></sup> mod <var>n</var> is calculated.</p>\n",
    "<p>To decrypt the text, the following procedure is needed: calculate <var>d</var> such that <var>ed</var>=1 mod &#966;, then for each encrypted message, <var>c</var>, calculate <var>m=c<sup>d</sup></var> mod <var>n</var>.</p>\n",
    "<p>There exist values of <var>e</var> and <var>m</var>  such that <var>m<sup>e</sup></var> mod <var>n=m</var>.<br/>We call messages <var>m</var> for which <var>m<sup>e</sup></var> mod <var>n=m</var> unconcealed messages.</p>\n",
    "<p>An issue when choosing <var>e</var> is that there should not be too many unconcealed messages.  <br/>For instance, let <var>p</var>=19 and <var>q</var>=37.<br/>\n",
    "Then <var>n</var>=19*37=703 and &#966;=18*36=648.<br/>\n",
    "If we choose <var>e</var>=181, then, although gcd(181,648)=1 it turns out that all possible messages<br/><var>m</var> (0&#8804;<var>m</var>&#8804;<var>n</var>-1) are unconcealed when calculating <var>m<sup>e</sup></var> mod <var>n</var>.<br/>\n",
    "For any valid choice of <var>e</var> there exist some unconcealed messages.<br/>\n",
    "It's important that the number of unconcealed messages is at a minimum.</p>\n",
    "<p>Choose <var>p</var>=1009 and <var>q</var>=3643.<br/>\n",
    "Find the sum of all values of <var>e</var>, 1&lt;<var>e</var>&lt;&#966;(1009,3643) and gcd(<var>e</var>,&#966;)=1, so that the number of unconcealed messages for this value of <var>e</var> is at a minimum.</p>\n",
    "</div>"
   ]
  },
  {
   "cell_type": "code",
   "execution_count": null,
   "metadata": {},
   "outputs": [],
   "source": [
    "def solve():\n",
    "    # Your code here\n",
    "    \n"
   ]
  },
  {
   "cell_type": "markdown",
   "metadata": {},
   "source": [
    "## Solution"
   ]
  },
  {
   "cell_type": "code",
   "execution_count": null,
   "metadata": {},
   "outputs": [],
   "source": [
    "solve()"
   ]
  }
 ],
 "metadata": {},
 "nbformat": 4,
 "nbformat_minor": 2
}
