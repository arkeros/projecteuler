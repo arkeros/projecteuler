{
 "cells": [
  {
   "cell_type": "markdown",
   "metadata": {},
   "source": [
    "# Semidivisible numbers\n",
    "## Problem 234 \n",
    "\n",
    "<div class=\"problem_content\" role=\"problem\">\n",
    "<p>For an integer <var>n</var> &#8805; 4, we define the <i>lower prime square root</i> of <var>n</var>, denoted by lps(<var>n</var>), as the largest prime &#8804; &#8730;<var>n</var> and the <i>upper prime square root</i> of <var>n</var>, ups(<var>n</var>), as the smallest prime &#8805; &#8730;<var>n</var>.</p>\n",
    "<p>So, for example, lps(4) = 2 = ups(4), lps(1000) = 31, ups(1000) = 37.<br/>\n",
    "Let us call an integer <var>n</var> &#8805; 4 <i>semidivisible</i>, if one of lps(<var>n</var>) and ups(<var>n</var>) divides <var>n</var>, but not both.</p>\n",
    "<p>The sum of the semidivisible numbers not exceeding 15 is 30, the numbers are 8, 10 and 12.<br/> 15 is not semidivisible because it is a multiple of both lps(15) = 3 and ups(15) = 5.<br/>\n",
    "As a further example, the sum of the 92 semidivisible numbers up to 1000 is 34825.</p>\n",
    "<p>What is the sum of all semidivisible numbers not exceeding 999966663333 ?</p>\n",
    "</div>"
   ]
  },
  {
   "cell_type": "code",
   "execution_count": null,
   "metadata": {},
   "outputs": [],
   "source": [
    "def solve():\n",
    "    # Your code here\n",
    "    \n"
   ]
  },
  {
   "cell_type": "markdown",
   "metadata": {},
   "source": [
    "## Solution"
   ]
  },
  {
   "cell_type": "code",
   "execution_count": null,
   "metadata": {},
   "outputs": [],
   "source": [
    "solve()"
   ]
  }
 ],
 "metadata": {},
 "nbformat": 4,
 "nbformat_minor": 2
}
