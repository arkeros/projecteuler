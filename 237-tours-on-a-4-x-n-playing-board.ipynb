{
 "cells": [
  {
   "cell_type": "markdown",
   "metadata": {},
   "source": [
    "# Tours on a 4 x n playing board\n",
    "## Problem 237 \n",
    "\n",
    "<div class=\"problem_content\" role=\"problem\">\n",
    "<p>Let T(<i>n</i>) be the number of tours over a 4 &#215; <i>n</i> playing board such that:</p>\n",
    "<ul><li>The tour starts in the top left corner.</li>\n",
    "<li>The tour consists of moves that are up, down, left, or right one square.</li>\n",
    "<li>The tour visits each square exactly once.</li>\n",
    "<li>The tour ends in the bottom left corner.</li>\n",
    "</ul><p>The diagram shows one tour over a 4 &#215; 10 board:</p>\n",
    "<div style=\"text-align:center;\">\n",
    "<img alt=\"\" src=\"project/images/p237.gif\"/></div>\n",
    "<p>T(10) is 2329. What is T(10<sup>12</sup>) modulo 10<sup>8</sup>?</p>\n",
    "</div>"
   ]
  },
  {
   "cell_type": "code",
   "execution_count": null,
   "metadata": {},
   "outputs": [],
   "source": [
    "def solve():\n",
    "    # Your code here\n",
    "    \n"
   ]
  },
  {
   "cell_type": "markdown",
   "metadata": {},
   "source": [
    "## Solution"
   ]
  },
  {
   "cell_type": "code",
   "execution_count": null,
   "metadata": {},
   "outputs": [],
   "source": [
    "solve()"
   ]
  }
 ],
 "metadata": {},
 "nbformat": 4,
 "nbformat_minor": 2
}
