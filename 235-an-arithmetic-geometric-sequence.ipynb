{
 "cells": [
  {
   "cell_type": "markdown",
   "metadata": {},
   "source": [
    "# An Arithmetic Geometric sequence\n",
    "## Problem 235 \n",
    "\n",
    "<div class=\"problem_content\" role=\"problem\">\n",
    "<p>\n",
    "Given is the arithmetic-geometric sequence u(<var>k</var>) = (900-3<var>k</var>)<var>r</var><sup><var>k</var>-1</sup>.<br/>\n",
    "Let s(<var>n</var>) = &#931;<sub><var>k</var>=1...<var>n</var></sub>u(<var>k</var>).\n",
    "</p>\n",
    "<p>\n",
    "Find the value of <var>r</var> for which s(5000) = -600,000,000,000.\n",
    "</p>\n",
    "<p>\n",
    "Give your answer rounded to 12 places behind the decimal point.\n",
    "</p>\n",
    "</div>"
   ]
  },
  {
   "cell_type": "code",
   "execution_count": null,
   "metadata": {},
   "outputs": [],
   "source": [
    "def solve():\n",
    "    # Your code here\n",
    "    \n"
   ]
  },
  {
   "cell_type": "markdown",
   "metadata": {},
   "source": [
    "## Solution"
   ]
  },
  {
   "cell_type": "code",
   "execution_count": null,
   "metadata": {},
   "outputs": [],
   "source": [
    "solve()"
   ]
  }
 ],
 "metadata": {},
 "nbformat": 4,
 "nbformat_minor": 2
}
