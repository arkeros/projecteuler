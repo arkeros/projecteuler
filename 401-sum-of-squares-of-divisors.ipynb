{
 "cells": [
  {
   "cell_type": "markdown",
   "metadata": {},
   "source": [
    "# Sum of squares of divisors\n",
    "## Problem 401 \n",
    "\n",
    "<div class=\"problem_content\" role=\"problem\">\n",
    "<p>\n",
    "The divisors of 6 are 1,2,3 and 6.<br/>\n",
    "The sum of the squares of these numbers is 1+4+9+36=50.\n",
    "</p>\n",
    "<p>\n",
    "Let sigma2(n) represent the sum of the squares of the divisors of n.\n",
    "Thus sigma2(6)=50.\n",
    "</p>\n",
    "Let SIGMA2 represent the summatory function of sigma2, that is SIGMA2(n)=&#8721;sigma2(i) for i=1 to n.<br/>\n",
    "The first 6 values of SIGMA2 are: 1,6,16,37,63 and 113.\n",
    "\n",
    "<p>\n",
    "Find SIGMA2(10<sup>15</sup>) modulo 10<sup>9</sup>. \n",
    "</p>\n",
    "</div>"
   ]
  },
  {
   "cell_type": "code",
   "execution_count": null,
   "metadata": {},
   "outputs": [],
   "source": [
    "def solve():\n",
    "    # Your code here\n",
    "    \n"
   ]
  },
  {
   "cell_type": "markdown",
   "metadata": {},
   "source": [
    "## Solution"
   ]
  },
  {
   "cell_type": "code",
   "execution_count": null,
   "metadata": {},
   "outputs": [],
   "source": [
    "solve()"
   ]
  }
 ],
 "metadata": {},
 "nbformat": 4,
 "nbformat_minor": 2
}
