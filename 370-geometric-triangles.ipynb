{
 "cells": [
  {
   "cell_type": "markdown",
   "metadata": {},
   "source": [
    "# Geometric triangles\n",
    "## Problem 370 \n",
    "\n",
    "<div class=\"problem_content\" role=\"problem\">\n",
    "<p>Let us define a <i>geometric triangle</i> as an integer sided triangle with sides <var>a</var> &#8804; <var>b</var> &#8804; <var>c</var> so that its sides form a <b>geometric progression</b>, i.e. <var>b<sup>2</sup></var>&#160;=&#160;<var>a</var>&#160;&#183;&#160;<var>c</var>&#160;.&#160;</p>\n",
    "<p>An example of such a geometric triangle is the triangle with sides <var>a</var> = 144, <var>b</var> = 156 and <var>c</var> = 169.</p>\n",
    "<p>There are 861805 geometric triangles with perimeter &#8804; 10<sup>6</sup> .</p>\n",
    "<p>How many geometric triangles exist with perimeter &#8804; 2.5&#183;10<sup>13</sup> ?</p>\n",
    "</div>"
   ]
  },
  {
   "cell_type": "code",
   "execution_count": null,
   "metadata": {},
   "outputs": [],
   "source": [
    "def solve():\n",
    "    # Your code here\n",
    "    \n"
   ]
  },
  {
   "cell_type": "markdown",
   "metadata": {},
   "source": [
    "## Solution"
   ]
  },
  {
   "cell_type": "code",
   "execution_count": null,
   "metadata": {},
   "outputs": [],
   "source": [
    "solve()"
   ]
  }
 ],
 "metadata": {},
 "nbformat": 4,
 "nbformat_minor": 2
}
