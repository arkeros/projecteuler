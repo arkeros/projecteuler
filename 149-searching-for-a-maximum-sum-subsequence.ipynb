{
 "cells": [
  {
   "cell_type": "markdown",
   "metadata": {},
   "source": [
    "# Searching for a maximum-sum subsequence\n",
    "## Problem 149 \n",
    "\n",
    "<div class=\"problem_content\" role=\"problem\">\n",
    "<p>Looking at the table below, it is easy to verify that the maximum possible sum of adjacent numbers in any direction (horizontal, vertical, diagonal or anti-diagonal) <span style=\"white-space:nowrap;\">is 16 (= 8 + 7 + 1).</span></p>\n",
    "<div style=\"text-align:center;\">\n",
    "<table border=\"1\" cellpadding=\"6\" cellspacing=\"0\" style=\"margin:auto;\"><tbody align=\"right\"><tr><td>&#8722;2</td><td>5</td><td>3</td><td>2</td></tr><tr><td>9</td><td>&#8722;6</td><td>5</td><td>1</td></tr><tr><td>3</td><td>2</td><td>7</td><td>3</td></tr><tr><td>&#8722;1</td><td>8</td><td>&#8722;4</td><td>&#160; 8</td></tr></tbody></table></div>\n",
    "<p>Now, let us repeat the search, but on a much larger scale:</p>\n",
    "<p>First, generate four million pseudo-random numbers using a specific form of what is known as a \"Lagged Fibonacci Generator\":</p>\n",
    "<p>For 1 &#8804; <i>k</i> &#8804; 55, <i>s</i><sub><i>k</i></sub> = [100003 &#8722; 200003<i>k</i> + 300007<i>k</i><sup>3</sup>] (modulo 1000000) &#8722; 500000.<br/>\n",
    "For 56 &#8804; <i>k</i> &#8804; 4000000, <i>s</i><sub><i>k</i></sub> = [<i>s</i><sub><i>k&#8722;24</i></sub> + <i>s</i><sub><i>k&#8722;55</i></sub> + 1000000] (modulo 1000000) &#8722; 500000.</p>\n",
    "<p>Thus, <i>s</i><sub>10</sub> = &#8722;393027 and <i>s</i><sub>100</sub> = 86613.</p>\n",
    "<p>The terms of <i>s</i> are then arranged in a 2000&#215;2000 table, using the first 2000 numbers to fill the first row (sequentially), the next 2000 numbers to fill the second row, and so on.</p>\n",
    "<p>Finally, find the greatest sum of (any number of) adjacent entries in any direction (horizontal, vertical, diagonal or anti-diagonal).</p>\n",
    "</div>"
   ]
  },
  {
   "cell_type": "code",
   "execution_count": null,
   "metadata": {},
   "outputs": [],
   "source": [
    "def solve():\n",
    "    # Your code here\n",
    "    \n"
   ]
  },
  {
   "cell_type": "markdown",
   "metadata": {},
   "source": [
    "## Solution"
   ]
  },
  {
   "cell_type": "code",
   "execution_count": null,
   "metadata": {},
   "outputs": [],
   "source": [
    "solve()"
   ]
  }
 ],
 "metadata": {},
 "nbformat": 4,
 "nbformat_minor": 2
}
