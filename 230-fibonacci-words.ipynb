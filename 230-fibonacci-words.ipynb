{
 "cells": [
  {
   "cell_type": "markdown",
   "metadata": {},
   "source": [
    "# Fibonacci Words\n",
    "## Problem 230 \n",
    "\n",
    "<div class=\"problem_content\" role=\"problem\">\n",
    "<p>For any two strings of digits, A and B, we define F<sub>A,B</sub> to be the sequence (A,B,AB,BAB,ABBAB,...) in which each term is the concatenation of the previous two.</p>\n",
    "<p>Further, we define D<sub>A,B</sub>(<var>n</var>) to be the <var>n</var><sup>th</sup> digit in the first term of F<sub>A,B</sub> that contains at least <var>n</var> digits.</p>\n",
    "<p>Example:</p>\n",
    "<p>Let A=1415926535, B=8979323846. We wish to find D<sub>A,B</sub>(35), say.</p>\n",
    "<p>The first few terms of F<sub>A,B</sub> are:<br/>\n",
    "1415926535<br/>\n",
    "8979323846<br/>\n",
    "14159265358979323846<br/>\n",
    "897932384614159265358979323846<br/>\n",
    "1415926535897932384689793238461415<span style=\"color:#FF0000;\"><b>9</b></span>265358979323846<br/></p>\n",
    "<p>Then D<sub>A,B</sub>(35) is the 35<sup>th</sup> digit in the fifth term, which is 9.</p>\n",
    "<p>Now we use for A the first 100 digits of &#960; behind the decimal point:</p>\n",
    "<p>14159265358979323846264338327950288419716939937510 <br/>\n",
    "58209749445923078164062862089986280348253421170679 </p>\n",
    "<p>and for B the next hundred digits:</p>\n",
    "<p>82148086513282306647093844609550582231725359408128 <br/>\n",
    "48111745028410270193852110555964462294895493038196 .</p>\n",
    "<p>Find &#8721;<sub><var>n</var> = 0,1,...,17</sub> &#160; 10<sup><var>n</var></sup>&#215; D<sub>A,B</sub>((127+19<var>n</var>)&#215;7<sup><var>n</var></sup>) .</p>\n",
    "</div>"
   ]
  },
  {
   "cell_type": "code",
   "execution_count": null,
   "metadata": {},
   "outputs": [],
   "source": [
    "def solve():\n",
    "    # Your code here\n",
    "    \n"
   ]
  },
  {
   "cell_type": "markdown",
   "metadata": {},
   "source": [
    "## Solution"
   ]
  },
  {
   "cell_type": "code",
   "execution_count": null,
   "metadata": {},
   "outputs": [],
   "source": [
    "solve()"
   ]
  }
 ],
 "metadata": {},
 "nbformat": 4,
 "nbformat_minor": 2
}
