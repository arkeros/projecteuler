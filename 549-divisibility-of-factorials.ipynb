{
 "cells": [
  {
   "cell_type": "markdown",
   "metadata": {},
   "source": [
    "# Divisibility of factorials\n",
    "## Problem 549 \n",
    "\n",
    "<div class=\"problem_content\" role=\"problem\">\n",
    "<p>\n",
    "The smallest number m such that 10 divides m! is m=5.<br/>\n",
    "The smallest number m such that 25 divides m! is m=10.<br/></p>\n",
    "<p>\n",
    "Let s(<var>n</var>) be the smallest number m such that <var>n</var> divides m!.<br/>\n",
    "So s(10)=5 and s(25)=10.<br/>\n",
    "Let S(<var>n</var>) be &#8721;s(<var>i</var>) for 2 &#8804; <var>i</var> &#8804; <var>n</var>.<br/>\n",
    "S(100)=2012.\n",
    "</p>\n",
    "<p>\n",
    "Find S(10<sup>8</sup>).\n",
    "</p>\n",
    "</div>"
   ]
  },
  {
   "cell_type": "code",
   "execution_count": null,
   "metadata": {},
   "outputs": [],
   "source": [
    "def solve():\n",
    "    # Your code here\n",
    "    \n"
   ]
  },
  {
   "cell_type": "markdown",
   "metadata": {},
   "source": [
    "## Solution"
   ]
  },
  {
   "cell_type": "code",
   "execution_count": null,
   "metadata": {},
   "outputs": [],
   "source": [
    "solve()"
   ]
  }
 ],
 "metadata": {},
 "nbformat": 4,
 "nbformat_minor": 2
}
