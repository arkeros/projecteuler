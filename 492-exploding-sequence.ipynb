{
 "cells": [
  {
   "cell_type": "markdown",
   "metadata": {},
   "source": [
    "# Exploding sequence\n",
    "## Problem 492 \n",
    "\n",
    "<div class=\"problem_content\" role=\"problem\">\n",
    "<p>Define the sequence a<sub>1</sub>, a<sub>2</sub>, a<sub>3</sub>, ... as:</p>\n",
    "<ul><li>a<sub>1</sub> = 1</li>\n",
    "<li>a<sub><var>n</var>+1</sub> = 6a<sub><var>n</var></sub><sup>2</sup> + 10a<sub><var>n</var></sub> + 3 for <var>n</var> &#8805; 1.</li>\n",
    "</ul><p>\n",
    "Examples:<br/>\n",
    "a<sub>3</sub> = 2359<br/>\n",
    "a<sub>6</sub> = 269221280981320216750489044576319<br/>\n",
    "a<sub>6</sub> mod 1&#160;000&#160;000&#160;007 = 203064689<br/>\n",
    "a<sub>100</sub> mod 1&#160;000&#160;000&#160;007 = 456482974\n",
    "</p>\n",
    "<p>\n",
    "Define B(<var>x</var>,<var>y</var>,<var>n</var>) as &#8721; (a<sub><var>n</var></sub> mod <var>p</var>) for every prime <var>p</var> such that <var>x</var> &#8804; <var>p</var> &#8804; <var>x</var>+<var>y</var>.\n",
    "</p>\n",
    "<p>\n",
    "Examples:<br/>\n",
    "B(10<sup>9</sup>, 10<sup>3</sup>, 10<sup>3</sup>) = 23674718882<br/>\n",
    "B(10<sup>9</sup>, 10<sup>3</sup>, 10<sup>15</sup>) = 20731563854\n",
    "</p>\n",
    "<p>Find B(10<sup>9</sup>, 10<sup>7</sup>, 10<sup>15</sup>).</p>\n",
    "</div>"
   ]
  },
  {
   "cell_type": "code",
   "execution_count": null,
   "metadata": {},
   "outputs": [],
   "source": [
    "def solve():\n",
    "    # Your code here\n",
    "    \n"
   ]
  },
  {
   "cell_type": "markdown",
   "metadata": {},
   "source": [
    "## Solution"
   ]
  },
  {
   "cell_type": "code",
   "execution_count": null,
   "metadata": {},
   "outputs": [],
   "source": [
    "solve()"
   ]
  }
 ],
 "metadata": {},
 "nbformat": 4,
 "nbformat_minor": 2
}
