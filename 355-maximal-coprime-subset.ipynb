{
 "cells": [
  {
   "cell_type": "markdown",
   "metadata": {},
   "source": [
    "# Maximal coprime subset\n",
    "## Problem 355 \n",
    "\n",
    "<div class=\"problem_content\" role=\"problem\">\n",
    "<p>\n",
    "Define Co(<var>n</var>) to be the maximal possible sum of a set of mutually co-prime elements from {1,&#160;2,&#160;...,&#160;<var>n</var>}.<br/> For example Co(10) is 30 and hits that maximum on the subset {1,&#160;5,&#160;7,&#160;8,&#160;9}.\n",
    "</p>\n",
    "<p>\n",
    "You are given that Co(30) = 193 and Co(100) = 1356. \n",
    "</p>\n",
    "<p>Find Co(200000).\n",
    "</p>\n",
    "</div>"
   ]
  },
  {
   "cell_type": "code",
   "execution_count": null,
   "metadata": {},
   "outputs": [],
   "source": [
    "def solve():\n",
    "    # Your code here\n",
    "    \n"
   ]
  },
  {
   "cell_type": "markdown",
   "metadata": {},
   "source": [
    "## Solution"
   ]
  },
  {
   "cell_type": "code",
   "execution_count": null,
   "metadata": {},
   "outputs": [],
   "source": [
    "solve()"
   ]
  }
 ],
 "metadata": {},
 "nbformat": 4,
 "nbformat_minor": 2
}
