{
 "cells": [
  {
   "cell_type": "markdown",
   "metadata": {},
   "source": [
    "# Coin partitions\n",
    "## Problem 78 \n",
    "\n",
    "<div class=\"problem_content\" role=\"problem\">\n",
    "<p>Let p(<i>n</i>) represent the number of different ways in which <i>n</i> coins can be separated into piles. For example, five coins can be separated into piles in exactly seven different ways, so p(5)=7.</p>\n",
    "<div style=\"text-align:center;\">\n",
    "<table cellpadding=\"10\" cellspacing=\"0\"><tr><td>OOOOO</td>\n",
    "</tr><tr><td>OOOO&#160; &#160;O</td>\n",
    "</tr><tr><td>OOO&#160; &#160;OO</td>\n",
    "</tr><tr><td>OOO&#160; &#160;O&#160; &#160;O</td>\n",
    "</tr><tr><td>OO&#160; &#160;OO&#160; &#160;O</td>\n",
    "</tr><tr><td>OO&#160; &#160;O&#160; &#160;O&#160; &#160;O</td>\n",
    "</tr><tr><td>O&#160; &#160;O&#160; &#160;O&#160; &#160;O&#160; &#160;O</td>\n",
    "</tr></table></div>\n",
    "<p>Find the least value of <i>n</i> for which p(<i>n</i>) is divisible by one million.</p>\n",
    "</div>"
   ]
  },
  {
   "cell_type": "code",
   "execution_count": null,
   "metadata": {},
   "outputs": [],
   "source": [
    "def solve():\n",
    "    # Your code here\n",
    "    \n"
   ]
  },
  {
   "cell_type": "markdown",
   "metadata": {},
   "source": [
    "## Solution"
   ]
  },
  {
   "cell_type": "code",
   "execution_count": null,
   "metadata": {},
   "outputs": [],
   "source": [
    "solve()"
   ]
  }
 ],
 "metadata": {},
 "nbformat": 4,
 "nbformat_minor": 2
}
