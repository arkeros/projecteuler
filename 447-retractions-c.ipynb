{
 "cells": [
  {
   "cell_type": "markdown",
   "metadata": {},
   "source": [
    "# Retractions C\n",
    "## Problem 447 \n",
    "\n",
    "<div class=\"problem_content\" role=\"problem\">\n",
    "<p>\n",
    "For every integer n&gt;1, the family of functions f<sub>n,a,b</sub>  is defined \n",
    "by f<sub>n,a,b</sub>(<var>x</var>)&#8801;a<var>x</var>+b mod n for a,b,<var>x</var> integer and  0&lt;a&lt;n, 0&#8804;b&lt;n, 0&#8804;<var>x</var>&lt;n.<br/>\n",
    "We will call f<sub>n,a,b</sub> a <i>retraction</i> if f<sub>n,a,b</sub>(f<sub>n,a,b</sub>(<var>x</var>))&#8801;f<sub>n,a,b</sub>(<var>x</var>) mod n for every 0&#8804;<var>x</var>&lt;n.<br/>\n",
    "Let R(n) be the number of retractions for n.\n",
    "</p>\n",
    "<p>\n",
    "F(N)=&#8721;R(n) for 2&#8804;n&#8804;N.<br/>\n",
    "F(10<sup>7</sup>)&#8801;638042271 (mod 1 000 000 007).\n",
    "</p>\n",
    "<p> \n",
    "Find F(10<sup>14</sup>) (mod 1 000 000 007).\n",
    "</p>\n",
    "</div>"
   ]
  },
  {
   "cell_type": "code",
   "execution_count": null,
   "metadata": {},
   "outputs": [],
   "source": [
    "def solve():\n",
    "    # Your code here\n",
    "    \n"
   ]
  },
  {
   "cell_type": "markdown",
   "metadata": {},
   "source": [
    "## Solution"
   ]
  },
  {
   "cell_type": "code",
   "execution_count": null,
   "metadata": {},
   "outputs": [],
   "source": [
    "solve()"
   ]
  }
 ],
 "metadata": {},
 "nbformat": 4,
 "nbformat_minor": 2
}
