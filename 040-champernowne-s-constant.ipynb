{
 "cells": [
  {
   "cell_type": "markdown",
   "metadata": {},
   "source": [
    "# Champernowne's constant\n",
    "## Problem 40 \n",
    "\n",
    "<div class=\"problem_content\" role=\"problem\">\n",
    "<p>An irrational decimal fraction is created by concatenating the positive integers:</p>\n",
    "<p style=\"text-align:center;\">0.12345678910<span style=\"color:#dd0000;font-size:14pt;\">1</span>112131415161718192021...</p>\n",
    "<p>It can be seen that the 12<sup>th</sup> digit of the fractional part is 1.</p>\n",
    "<p>If <i>d</i><sub><i>n</i></sub> represents the <i>n</i><sup>th</sup> digit of the fractional part, find the value of the following expression.</p>\n",
    "<p style=\"text-align:center;\"><i>d</i><sub>1</sub> &#215; <i>d</i><sub>10</sub> &#215; <i>d</i><sub>100</sub> &#215; <i>d</i><sub>1000</sub> &#215; <i>d</i><sub>10000</sub> &#215; <i>d</i><sub>100000</sub> &#215; <i>d</i><sub>1000000</sub></p>\n",
    "</div>"
   ]
  },
  {
   "cell_type": "code",
   "execution_count": null,
   "metadata": {},
   "outputs": [],
   "source": [
    "def solve():\n",
    "    # Your code here\n",
    "    \n"
   ]
  },
  {
   "cell_type": "markdown",
   "metadata": {},
   "source": [
    "## Solution"
   ]
  },
  {
   "cell_type": "code",
   "execution_count": null,
   "metadata": {},
   "outputs": [],
   "source": [
    "solve()"
   ]
  }
 ],
 "metadata": {},
 "nbformat": 4,
 "nbformat_minor": 2
}
