{
 "cells": [
  {
   "cell_type": "markdown",
   "metadata": {},
   "source": [
    "# Triangle containment\n",
    "## Problem 102 \n",
    "\n",
    "<div class=\"problem_content\" role=\"problem\">\n",
    "<p>Three distinct points are plotted at random on a Cartesian plane, for which -1000 &#8804; <i>x</i>, <i>y</i> &#8804; 1000, such that a triangle is formed.</p>\n",
    "<p>Consider the following two triangles:</p>\n",
    "<p style=\"text-align:center;\">A(-340,495), B(-153,-910), C(835,-947)<br/><br/>\n",
    "X(-175,41), Y(-421,-714), Z(574,-645)</p>\n",
    "<p>It can be verified that triangle ABC contains the origin, whereas triangle XYZ does not.</p>\n",
    "<p>Using <a href=\"project/resources/p102_triangles.txt\">triangles.txt</a> (right click and 'Save Link/Target As...'), a 27K text file containing the co-ordinates of one thousand \"random\" triangles, find the number of triangles for which the interior contains the origin.</p>\n",
    "<p class=\"info\">NOTE: The first two examples in the file represent the triangles in the example given above.</p>\n",
    "</div>"
   ]
  },
  {
   "cell_type": "code",
   "execution_count": null,
   "metadata": {},
   "outputs": [],
   "source": [
    "def solve():\n",
    "    # Your code here\n",
    "    \n"
   ]
  },
  {
   "cell_type": "markdown",
   "metadata": {},
   "source": [
    "## Solution"
   ]
  },
  {
   "cell_type": "code",
   "execution_count": null,
   "metadata": {},
   "outputs": [],
   "source": [
    "solve()"
   ]
  }
 ],
 "metadata": {},
 "nbformat": 4,
 "nbformat_minor": 2
}
