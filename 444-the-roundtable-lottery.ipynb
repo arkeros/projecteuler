{
 "cells": [
  {
   "cell_type": "markdown",
   "metadata": {},
   "source": [
    "# The Roundtable Lottery\n",
    "## Problem 444 \n",
    "\n",
    "<div class=\"problem_content\" role=\"problem\">\n",
    "<p>A group of <var>p</var> people decide to sit down at a round table and play a lottery-ticket trading game. Each person starts off with a randomly-assigned, unscratched lottery ticket. Each ticket, when scratched, reveals a whole-pound prize ranging anywhere from &#163;1 to &#163;<var>p</var>, with no two tickets alike. The goal of the game is for each person to maximize his ticket winnings upon leaving the game.</p>\n",
    "<p>An arbitrary person is chosen to be the first player. Going around the table, each player has only one of two options:</p>\n",
    "<p>1. The player can scratch his ticket and reveal its worth to everyone at the table.<br/>\n",
    "2. The player can trade his unscratched ticket for a previous player's scratched ticket, and then leave the game with that ticket. The previous player then scratches his newly-acquired ticket and reveals its worth to everyone at the table.</p>\n",
    "<p>The game ends once all tickets have been scratched. All players still remaining at the table must leave with their currently-held tickets.</p>\n",
    "<p>Assume that each player uses the optimal strategy for maximizing the expected value of his ticket winnings. </p>\n",
    "<p>Let E(<var>p</var>) represent the expected number of players left at the table when the game ends in a game consisting of <var>p</var> players (e.g. E(111)&#160;=&#160;5.2912 when rounded to 5 significant digits).</p>\n",
    "<p>Let S<sub>1</sub>(<var>N</var>) = <img alt=\"p444_sum.png\" src=\"project/images/p444_sum.png\" style=\"vertical-align:middle;\"/> E(<var>p</var>)<br/>\n",
    "Let S<sub><var>k</var></sub>(<var>N</var>) = <img alt=\"p444_sum.png\" src=\"project/images/p444_sum.png\" style=\"vertical-align:middle;\"/> S<sub><var>k</var>-1</sub>(<var>p</var>) for <var>k</var> &gt; 1</p>\n",
    "<p>Find S<sub>20</sub>(10<sup>14</sup>) and write the answer in scientific notation rounded to 10 significant digits. Use a lowercase e to separate mantissa and exponent (e.g. S<sub>3</sub>(100) = 5.983679014e5).</p>\n",
    "</div>"
   ]
  },
  {
   "cell_type": "code",
   "execution_count": null,
   "metadata": {},
   "outputs": [],
   "source": [
    "def solve():\n",
    "    # Your code here\n",
    "    \n"
   ]
  },
  {
   "cell_type": "markdown",
   "metadata": {},
   "source": [
    "## Solution"
   ]
  },
  {
   "cell_type": "code",
   "execution_count": null,
   "metadata": {},
   "outputs": [],
   "source": [
    "solve()"
   ]
  }
 ],
 "metadata": {},
 "nbformat": 4,
 "nbformat_minor": 2
}
