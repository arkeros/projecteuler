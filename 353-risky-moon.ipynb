{
 "cells": [
  {
   "cell_type": "markdown",
   "metadata": {},
   "source": [
    "# Risky moon\n",
    "## Problem 353 \n",
    "\n",
    "<div class=\"problem_content\" role=\"problem\">\n",
    "<p>\n",
    "A moon could be described by the sphere C(<var>r</var>) with centre (0,0,0) and radius <var>r</var>. \n",
    "</p>\n",
    "<p>\n",
    "There are stations on the moon at the points on the surface of C(<var>r</var>) with integer coordinates. The station at (0,0,<var>r</var>) is called North Pole station, the station at (0,0,-<var>r</var>) is called South Pole station.\n",
    "</p>\n",
    "<p>\n",
    "All stations are connected with each other via the shortest road on the great arc through the stations. A journey between two stations is risky. If <var>d</var> is the length of the road between two stations, (<var>d</var>/(&#960; <var>r</var>))<sup>2</sup> is a measure for the risk of the journey (let us call it the risk of the road). If the journey includes more than two stations, the risk of the journey is the sum of risks of the used roads.\n",
    "</p>\n",
    "<p>\n",
    "A direct journey from  the North Pole station to the South Pole station has the length &#960;<var>r</var> and risk 1. The journey from the North Pole station to the South Pole station via (0,<var>r</var>,0) has the same length, but a smaller risk: (&#189;&#960;<var>r</var>/(&#960;<var>r</var>))<sup>2</sup>+(&#189;&#960;<var>r</var>/(&#960;<var>r</var>))<sup>2</sup>=0.5.\n",
    "</p>\n",
    "<p>\n",
    "The minimal risk of a journey from the North Pole station to the South Pole station on C(<var>r</var>) is M(<var>r</var>).\n",
    "</p>\n",
    "<p>\n",
    "You are given that M(7)=0.1784943998  rounded to 10 digits behind the decimal point. \n",
    "</p>\n",
    "<p>\n",
    "Find &#8721;M(2<sup>n</sup>-1) for 1&#8804;n&#8804;15.\n",
    "</p>\n",
    "<p>\n",
    "Give your answer rounded to 10 digits behind the decimal point in the form a.bcdefghijk.\n",
    "</p>\n",
    "</div>"
   ]
  },
  {
   "cell_type": "code",
   "execution_count": null,
   "metadata": {},
   "outputs": [],
   "source": [
    "def solve():\n",
    "    # Your code here\n",
    "    \n"
   ]
  },
  {
   "cell_type": "markdown",
   "metadata": {},
   "source": [
    "## Solution"
   ]
  },
  {
   "cell_type": "code",
   "execution_count": null,
   "metadata": {},
   "outputs": [],
   "source": [
    "solve()"
   ]
  }
 ],
 "metadata": {},
 "nbformat": 4,
 "nbformat_minor": 2
}
