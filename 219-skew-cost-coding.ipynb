{
 "cells": [
  {
   "cell_type": "markdown",
   "metadata": {},
   "source": [
    "# Skew-cost coding\n",
    "## Problem 219 \n",
    "\n",
    "<div class=\"problem_content\" role=\"problem\">\n",
    "<p>Let <span style=\"font-weight:bold;\">A</span> and <span style=\"font-weight:bold;\">B</span> be bit strings (sequences of 0's and 1's).<br/>\n",
    "If <span style=\"font-weight:bold;\">A</span> is equal to the <span style=\"text-decoration:underline;\">left</span>most length(<span style=\"font-weight:bold;\">A</span>) bits of <span style=\"font-weight:bold;\">B</span>, then <span style=\"font-weight:bold;\">A</span> is said to be a <span style=\"font-style:italic;\">prefix</span> of <span style=\"font-weight:bold;\">B</span>.<br/>\n",
    "For example, 00110 is a prefix of <span style=\"text-decoration:underline;\">00110</span>1001, but not of 00111 or 100110.</p>\n",
    "<p>A <span style=\"font-style:italic;\">prefix-free code of size</span> <var>n</var> is a collection of <var>n</var> distinct bit strings such that no string is a prefix of any other.  For example, this is a prefix-free code of size 6:</p>\n",
    "<p style=\"text-align:center;\">0000, 0001, 001, 01, 10, 11</p>\n",
    "<p>Now suppose that it costs one penny to transmit a '0' bit, but four pence to transmit a '1'.<br/>\n",
    "Then the total cost of the prefix-free code shown above is 35 pence, which happens to be the cheapest possible for the skewed pricing scheme in question.<br/>\n",
    "In short, we write Cost(6) = 35.</p>\n",
    "<p>What is Cost(10<sup>9</sup>) ?</p>\n",
    "</div>"
   ]
  },
  {
   "cell_type": "code",
   "execution_count": null,
   "metadata": {},
   "outputs": [],
   "source": [
    "def solve():\n",
    "    # Your code here\n",
    "    \n"
   ]
  },
  {
   "cell_type": "markdown",
   "metadata": {},
   "source": [
    "## Solution"
   ]
  },
  {
   "cell_type": "code",
   "execution_count": null,
   "metadata": {},
   "outputs": [],
   "source": [
    "solve()"
   ]
  }
 ],
 "metadata": {},
 "nbformat": 4,
 "nbformat_minor": 2
}
