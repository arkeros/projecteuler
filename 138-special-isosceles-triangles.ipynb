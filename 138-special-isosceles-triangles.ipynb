{
 "cells": [
  {
   "cell_type": "markdown",
   "metadata": {},
   "source": [
    "# Special isosceles triangles\n",
    "## Problem 138 \n",
    "\n",
    "<div class=\"problem_content\" role=\"problem\">\n",
    "<p>Consider the isosceles triangle with base length, <i>b</i> = 16, and legs, L = 17.</p>\n",
    "<div style=\"text-align:center;\">\n",
    "<img alt=\"\" height=\"228\" src=\"project/images/p138.gif\" width=\"230\"/></div>\n",
    "<p>By using the Pythagorean theorem it can be seen that the height of the triangle, <i>h</i> = &#8730;(17<sup>2</sup> &#8722; 8<sup>2</sup>) = 15, which is one less than the base length.</p>\n",
    "<p>With <i>b</i> = 272 and L = 305, we get <i>h</i> = 273, which is one more than the base length, and this is the second smallest isosceles triangle with the property that <i>h</i> = <i>b</i> &#177; 1.</p>\n",
    "<p>Find &#8721; L for the twelve smallest isosceles triangles for which <i>h</i> = <i>b</i> &#177; 1 and <i>b</i>, L are positive integers.</p>\n",
    "</div>"
   ]
  },
  {
   "cell_type": "code",
   "execution_count": null,
   "metadata": {},
   "outputs": [],
   "source": [
    "def solve():\n",
    "    # Your code here\n",
    "    \n"
   ]
  },
  {
   "cell_type": "markdown",
   "metadata": {},
   "source": [
    "## Solution"
   ]
  },
  {
   "cell_type": "code",
   "execution_count": null,
   "metadata": {},
   "outputs": [],
   "source": [
    "solve()"
   ]
  }
 ],
 "metadata": {},
 "nbformat": 4,
 "nbformat_minor": 2
}
