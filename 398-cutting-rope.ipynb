{
 "cells": [
  {
   "cell_type": "markdown",
   "metadata": {},
   "source": [
    "# Cutting rope\n",
    "## Problem 398 \n",
    "\n",
    "<div class=\"problem_content\" role=\"problem\">\n",
    "<p>\n",
    "Inside a rope of length <var>n</var>, <var>n</var>-1 points are placed with distance 1 from each other and from the endpoints. Among these points, we choose <var>m</var>-1 points at random and cut the rope at these points to create <var>m</var> segments.\n",
    "</p>\n",
    "<p>\n",
    "Let E(<var>n</var>, <var>m</var>) be the expected length of the second-shortest segment.\n",
    "For example, E(3, 2) = 2 and E(8, 3) = 16/7.\n",
    "Note that if multiple segments have the same shortest length the length of the second-shortest segment is defined as the same as the shortest length.\n",
    "</p>\n",
    "<p>\n",
    "Find E(10<sup>7</sup>, 100).\n",
    "Give your answer rounded to 5 decimal places behind the decimal point.\n",
    "</p>\n",
    "</div>"
   ]
  },
  {
   "cell_type": "code",
   "execution_count": null,
   "metadata": {},
   "outputs": [],
   "source": [
    "def solve():\n",
    "    # Your code here\n",
    "    \n"
   ]
  },
  {
   "cell_type": "markdown",
   "metadata": {},
   "source": [
    "## Solution"
   ]
  },
  {
   "cell_type": "code",
   "execution_count": null,
   "metadata": {},
   "outputs": [],
   "source": [
    "solve()"
   ]
  }
 ],
 "metadata": {},
 "nbformat": 4,
 "nbformat_minor": 2
}
