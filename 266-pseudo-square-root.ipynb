{
 "cells": [
  {
   "cell_type": "markdown",
   "metadata": {},
   "source": [
    "# Pseudo Square Root\n",
    "## Problem 266 \n",
    "\n",
    "<div class=\"problem_content\" role=\"problem\">\n",
    "<p>\n",
    "The divisors of 12 are: 1,2,3,4,6 and 12.<br/>\n",
    "The largest divisor of 12 that does not exceed the square root of 12 is 3.<br/>\n",
    "We shall call the largest divisor of an integer <var>n</var> that does not exceed the square root of <var>n</var> the pseudo square root (PSR) of <var>n</var>.<br/>\n",
    "It can be seen that PSR(3102)=47.\n",
    "</p>\n",
    "<p>\n",
    "Let <var>p</var> be the product of the primes below 190.<br/>\n",
    "Find PSR(<var>p</var>) mod 10<sup>16</sup>.\n",
    "</p>\n",
    "</div>"
   ]
  },
  {
   "cell_type": "code",
   "execution_count": null,
   "metadata": {},
   "outputs": [],
   "source": [
    "def solve():\n",
    "    # Your code here\n",
    "    \n"
   ]
  },
  {
   "cell_type": "markdown",
   "metadata": {},
   "source": [
    "## Solution"
   ]
  },
  {
   "cell_type": "code",
   "execution_count": null,
   "metadata": {},
   "outputs": [],
   "source": [
    "solve()"
   ]
  }
 ],
 "metadata": {},
 "nbformat": 4,
 "nbformat_minor": 2
}
