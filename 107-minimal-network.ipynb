{
 "cells": [
  {
   "cell_type": "markdown",
   "metadata": {},
   "source": [
    "# Minimal network\n",
    "## Problem 107 \n",
    "\n",
    "<div class=\"problem_content\" role=\"problem\">\n",
    "<p>The following undirected network consists of seven vertices and twelve edges with a total weight of 243.</p>\n",
    "<div style=\"text-align:center;\">\n",
    "<img alt=\"\" height=\"278\" src=\"project/images/p107_1.gif\" width=\"381\"/><br/></div>\n",
    "<p>The same network can be represented by the matrix below.</p>\n",
    "<table align=\"center\" border=\"1\" cellpadding=\"5\" cellspacing=\"0\"><tr><td>&#160;&#160;&#160;&#160;</td><td><b>A</b></td><td><b>B</b></td><td><b>C</b></td><td><b>D</b></td><td><b>E</b></td><td><b>F</b></td><td><b>G</b></td>\n",
    "</tr><tr><td><b>A</b></td><td>-</td><td>16</td><td>12</td><td>21</td><td>-</td><td>-</td><td>-</td>\n",
    "</tr><tr><td><b>B</b></td><td>16</td><td>-</td><td>-</td><td>17</td><td>20</td><td>-</td><td>-</td>\n",
    "</tr><tr><td><b>C</b></td><td>12</td><td>-</td><td>-</td><td>28</td><td>-</td><td>31</td><td>-</td>\n",
    "</tr><tr><td><b>D</b></td><td>21</td><td>17</td><td>28</td><td>-</td><td>18</td><td>19</td><td>23</td>\n",
    "</tr><tr><td><b>E</b></td><td>-</td><td>20</td><td>-</td><td>18</td><td>-</td><td>-</td><td>11</td>\n",
    "</tr><tr><td><b>F</b></td><td>-</td><td>-</td><td>31</td><td>19</td><td>-</td><td>-</td><td>27</td>\n",
    "</tr><tr><td><b>G</b></td><td>-</td><td>-</td><td>-</td><td>23</td><td>11</td><td>27</td><td>-</td>\n",
    "</tr></table><p>However, it is possible to optimise the network by removing some edges and still ensure that all points on the network remain connected. The network which achieves the maximum saving is shown below. It has a weight of 93, representing a saving of 243 &#8722; 93 = 150 from the original network.</p>\n",
    "<div style=\"text-align:center;\">\n",
    "<img alt=\"\" height=\"288\" src=\"project/images/p107_2.gif\" width=\"385\"/><br/></div>\n",
    "<p>Using <a href=\"project/resources/p107_network.txt\">network.txt</a> (right click and 'Save Link/Target As...'), a 6K text file containing a network with forty vertices, and given in matrix form, find the maximum saving which can be achieved by removing redundant edges whilst ensuring that the network remains connected.</p>\n",
    "</div>"
   ]
  },
  {
   "cell_type": "code",
   "execution_count": null,
   "metadata": {},
   "outputs": [],
   "source": [
    "def solve():\n",
    "    # Your code here\n",
    "    \n"
   ]
  },
  {
   "cell_type": "markdown",
   "metadata": {},
   "source": [
    "## Solution"
   ]
  },
  {
   "cell_type": "code",
   "execution_count": null,
   "metadata": {},
   "outputs": [],
   "source": [
    "solve()"
   ]
  }
 ],
 "metadata": {},
 "nbformat": 4,
 "nbformat_minor": 2
}
