{
 "cells": [
  {
   "cell_type": "markdown",
   "metadata": {},
   "source": [
    "# Palindrome-containing strings\n",
    "## Problem 486 \n",
    "\n",
    "<div class=\"problem_content\" role=\"problem\">\n",
    "<p>Let F<sub>5</sub>(<var>n</var>) be the number of strings <var>s</var> such that:</p>\n",
    "<ul><li><var>s</var> consists only of '0's and '1's,\n",
    "</li><li><var>s</var> has length at most <var>n</var>, and\n",
    "</li><li><var>s</var> contains a palindromic substring of length at least 5.\n",
    "</li></ul><p>For example, F<sub>5</sub>(4)&#160;=&#160;0, F<sub>5</sub>(5)&#160;=&#160;8, \n",
    "F<sub>5</sub>(6)&#160;=&#160;42 and F<sub>5</sub>(11)&#160;=&#160;3844.</p>\n",
    "<p>Let D(<var>L</var>) be the number of integers <var>n</var> such that \n",
    "5&#160;&#8804;&#160;<var>n</var>&#160;&#8804;&#160;<var>L</var> and F<sub>5</sub>(<var>n</var>) is divisible by 87654321.</p>\n",
    "<p>For example, D(10<sup>7</sup>)&#160;=&#160;0 and D(5&#183;10<sup>9</sup>)&#160;=&#160;51.</p>\n",
    "<p>Find D(10<sup>18</sup>).</p>\n",
    "</div>"
   ]
  },
  {
   "cell_type": "code",
   "execution_count": null,
   "metadata": {},
   "outputs": [],
   "source": [
    "def solve():\n",
    "    # Your code here\n",
    "    \n"
   ]
  },
  {
   "cell_type": "markdown",
   "metadata": {},
   "source": [
    "## Solution"
   ]
  },
  {
   "cell_type": "code",
   "execution_count": null,
   "metadata": {},
   "outputs": [],
   "source": [
    "solve()"
   ]
  }
 ],
 "metadata": {},
 "nbformat": 4,
 "nbformat_minor": 2
}
