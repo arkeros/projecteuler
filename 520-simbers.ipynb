{
 "cells": [
  {
   "cell_type": "markdown",
   "metadata": {},
   "source": [
    "# Simbers\n",
    "## Problem 520 \n",
    "\n",
    "<div class=\"problem_content\" role=\"problem\">\n",
    "<p>We define a <i>simber</i> to be a positive integer in which any odd digit, if present, occurs an odd number of times, and any even digit, if present, occurs an even number of times.</p>\n",
    "<p>For example, 141221242 is a 9-digit simber because it has three 1's, four 2's and two 4's. </p>\n",
    "<p>Let Q(<var>n</var>) be the count of all simbers with at most <var>n</var> digits.</p>\n",
    "<p>You are given Q(7) = 287975 and Q(100) mod 1 000 000 123 = 123864868.</p>\n",
    "<p>Find (&#8721;<sub>1&#8804;<var>u</var>&#8804;39</sub> Q(2<sup><var>u</var></sup>)) mod 1 000 000 123.</p>\n",
    "</div>"
   ]
  },
  {
   "cell_type": "code",
   "execution_count": null,
   "metadata": {},
   "outputs": [],
   "source": [
    "def solve():\n",
    "    # Your code here\n",
    "    \n"
   ]
  },
  {
   "cell_type": "markdown",
   "metadata": {},
   "source": [
    "## Solution"
   ]
  },
  {
   "cell_type": "code",
   "execution_count": null,
   "metadata": {},
   "outputs": [],
   "source": [
    "solve()"
   ]
  }
 ],
 "metadata": {},
 "nbformat": 4,
 "nbformat_minor": 2
}
