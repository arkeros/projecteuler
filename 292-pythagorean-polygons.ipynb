{
 "cells": [
  {
   "cell_type": "markdown",
   "metadata": {},
   "source": [
    "# Pythagorean Polygons\n",
    "## Problem 292 \n",
    "\n",
    "<div class=\"problem_content\" role=\"problem\">\n",
    "<p>We shall define a <i>pythagorean polygon</i>  to be a <b>convex polygon</b> with the following properties:<br/></p><ul><li>there are at least three vertices,</li>\n",
    "<li>no three vertices are aligned,</li>\n",
    "<li>each vertex has <b>integer coordinates</b>,</li>\n",
    "<li>each edge has <b>integer length</b>.</li></ul><p>For a given integer <var>n</var>, define P(<var>n</var>) as the number of distinct pythagorean polygons for which the perimeter is &#8804;&#8201;<var>n</var>.<br/>\n",
    "Pythagorean polygons should be considered distinct as long as none is a translation of another.</p>\n",
    "<p>You are given that P(4)&#8201;=&#8201;1, P(30)&#8201;=&#8201;3655 and P(60)&#8201;=&#8201;891045.<br/>\n",
    "Find P(120).</p>\n",
    "</div>"
   ]
  },
  {
   "cell_type": "code",
   "execution_count": null,
   "metadata": {},
   "outputs": [],
   "source": [
    "def solve():\n",
    "    # Your code here\n",
    "    \n"
   ]
  },
  {
   "cell_type": "markdown",
   "metadata": {},
   "source": [
    "## Solution"
   ]
  },
  {
   "cell_type": "code",
   "execution_count": null,
   "metadata": {},
   "outputs": [],
   "source": [
    "solve()"
   ]
  }
 ],
 "metadata": {},
 "nbformat": 4,
 "nbformat_minor": 2
}
