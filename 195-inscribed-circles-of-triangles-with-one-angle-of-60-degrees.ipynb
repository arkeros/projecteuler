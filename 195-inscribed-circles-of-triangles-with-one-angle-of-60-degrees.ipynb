{
 "cells": [
  {
   "cell_type": "markdown",
   "metadata": {},
   "source": [
    "# Inscribed circles of triangles with one angle of 60 degrees\n",
    "## Problem 195 \n",
    "\n",
    "<div class=\"problem_content\" role=\"problem\">\n",
    "<p>Let's call an integer sided triangle with exactly one angle of 60 degrees a 60-degree triangle.<br/>\n",
    "Let <var>r</var> be the radius of the inscribed circle of such a 60-degree triangle.</p>\n",
    "<p>There are 1234 60-degree triangles for which <var>r</var> &#8804; 100.\n",
    "<br/>Let T(<var>n</var>) be the number of 60-degree triangles for which <var>r</var> &#8804; <var>n</var>, so<br/>\n",
    " T(100) = 1234,&#160; T(1000) = 22767, and&#160; T(10000) = 359912.</p>\n",
    "<p>Find T(1053779).</p>\n",
    "</div>"
   ]
  },
  {
   "cell_type": "code",
   "execution_count": null,
   "metadata": {},
   "outputs": [],
   "source": [
    "def solve():\n",
    "    # Your code here\n",
    "    \n"
   ]
  },
  {
   "cell_type": "markdown",
   "metadata": {},
   "source": [
    "## Solution"
   ]
  },
  {
   "cell_type": "code",
   "execution_count": null,
   "metadata": {},
   "outputs": [],
   "source": [
    "solve()"
   ]
  }
 ],
 "metadata": {},
 "nbformat": 4,
 "nbformat_minor": 2
}
