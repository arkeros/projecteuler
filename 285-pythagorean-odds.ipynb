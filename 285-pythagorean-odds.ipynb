{
 "cells": [
  {
   "cell_type": "markdown",
   "metadata": {},
   "source": [
    "# Pythagorean odds\n",
    "## Problem 285 \n",
    "\n",
    "<div class=\"problem_content\" role=\"problem\">\n",
    "<p>Albert chooses a positive integer <var>k</var>, then two real numbers <var>a</var>, <var>b</var> are randomly chosen in the interval [0,1] with uniform distribution.<br/>\n",
    "The square root of the sum (<var>k</var>&#183;<var>a</var>+1)<sup>2</sup>&#8201;+&#8201;(<var>k</var>&#183;<var>b</var>+1)<sup>2</sup> is then computed and rounded to the nearest integer. If the result is equal to <var>k</var>, he scores <var>k</var> points; otherwise he scores nothing.</p>\n",
    "<p>For example, if <var>k</var>&#8201;=&#8201;6, <var>a</var>&#8201;=&#8201;0.2 and <var>b</var>&#8201;=&#8201;0.85, then (<var>k</var>&#183;<var>a</var>+1)<sup>2</sup>&#8201;+&#8201;(<var>k</var>&#183;<var>b</var>+1)<sup>2</sup>&#8201;=&#8201;42.05.<br/>\n",
    "The square root of 42.05 is 6.484... and when rounded to the nearest integer, it becomes 6.<br/>\n",
    "This is equal to <var>k</var>, so he scores 6 points.</p>\n",
    "<p>It can be shown that if he plays 10 turns with <var>k</var>&#8201;=&#8201;1, <var>k</var>&#8201;=&#8201;2, ..., <var>k</var>&#8201;=&#8201;10, the expected value of his total score, rounded to five decimal places, is 10.20914.</p>\n",
    "<p>If he plays 10<sup>5</sup> turns with <var>k</var>&#8201;=&#8201;1, <var>k</var>&#8201;=&#8201;2, <var>k</var>&#8201;=&#8201;3, ..., <var>k</var>&#8201;=&#8201;10<sup>5</sup>, what is the expected value of his total score, rounded to five decimal places?</p>\n",
    "</div>"
   ]
  },
  {
   "cell_type": "code",
   "execution_count": null,
   "metadata": {},
   "outputs": [],
   "source": [
    "def solve():\n",
    "    # Your code here\n",
    "    \n"
   ]
  },
  {
   "cell_type": "markdown",
   "metadata": {},
   "source": [
    "## Solution"
   ]
  },
  {
   "cell_type": "code",
   "execution_count": null,
   "metadata": {},
   "outputs": [],
   "source": [
    "solve()"
   ]
  }
 ],
 "metadata": {},
 "nbformat": 4,
 "nbformat_minor": 2
}
