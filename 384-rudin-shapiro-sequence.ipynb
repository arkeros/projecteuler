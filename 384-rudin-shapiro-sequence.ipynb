{
 "cells": [
  {
   "cell_type": "markdown",
   "metadata": {},
   "source": [
    "# Rudin-Shapiro sequence\n",
    "## Problem 384 \n",
    "\n",
    "<div class=\"problem_content\" role=\"problem\">\n",
    "<p>Define the sequence a(n) as the number of adjacent pairs of ones in the binary expansion of n (possibly overlapping).\n",
    "<br/>E.g.: a(5) = a(101<sub>2</sub>) = 0, a(6) = a(110<sub>2</sub>) = 1, a(7) = a(111<sub>2</sub>) = 2</p>\n",
    "<p>Define the sequence b(n) = (-1)<sup>a(n)</sup>.\n",
    "<br/>This sequence is called the <b>Rudin-Shapiro</b> sequence.</p>\n",
    "<p>Also consider the summatory sequence of b(n): <img alt=\"p384_formula.gif\" src=\"project/images/p384_formula.gif\" style=\"margin-top:-9px;\"/>.</p>\n",
    "<p>The first couple of values of these sequences are:\n",
    "<br/><tt>n&#160; &#160; &#160; &#160; 0 &#160; &#160; 1 &#160; &#160; 2 &#160; &#160; 3 &#160; &#160; 4 &#160; &#160; 5 &#160; &#160; 6 &#160; &#160; 7\n",
    "<br/>a(n) &#160; &#160; 0 &#160; &#160; 0 &#160; &#160; 0 &#160; &#160; 1 &#160; &#160; 0 &#160; &#160; 0 &#160; &#160; 1 &#160; &#160; 2\n",
    "<br/>b(n) &#160; &#160; 1 &#160; &#160; 1 &#160; &#160; 1 &#160; &#160;-1 &#160; &#160; 1 &#160; &#160; 1 &#160; &#160;-1 &#160; &#160; 1\n",
    "<br/>s(n) &#160; &#160; 1 &#160; &#160; 2 &#160; &#160; 3 &#160; &#160; 2 &#160; &#160; 3 &#160; &#160; 4 &#160; &#160; 3 &#160; &#160; 4</tt></p>\n",
    "<p>The sequence s(n) has the remarkable property that all elements are positive and every positive integer k occurs exactly k times.</p>\n",
    "<p>Define g(t,c), with 1 &#8804; c &#8804; t, as the index in s(n) for which t occurs for the c'th time in s(n).\n",
    "<br/>E.g.: g(3,3) = 6, g(4,2) = 7 and g(54321,12345) = 1220847710.</p>\n",
    "<p>Let F(n) be the fibonacci sequence defined by:\n",
    "<br/>F(0)=F(1)=1 and\n",
    "<br/>F(n)=F(n-1)+F(n-2) for n&gt;1.</p>\n",
    "<p>Define GF(t)=g(F(t),F(t-1)).</p>\n",
    "<p>Find &#931;GF(t) for 2&#8804;t&#8804;45.</p>\n",
    "</div>"
   ]
  },
  {
   "cell_type": "code",
   "execution_count": null,
   "metadata": {},
   "outputs": [],
   "source": [
    "def solve():\n",
    "    # Your code here\n",
    "    \n"
   ]
  },
  {
   "cell_type": "markdown",
   "metadata": {},
   "source": [
    "## Solution"
   ]
  },
  {
   "cell_type": "code",
   "execution_count": null,
   "metadata": {},
   "outputs": [],
   "source": [
    "solve()"
   ]
  }
 ],
 "metadata": {},
 "nbformat": 4,
 "nbformat_minor": 2
}
