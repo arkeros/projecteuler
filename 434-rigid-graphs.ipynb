{
 "cells": [
  {
   "cell_type": "markdown",
   "metadata": {},
   "source": [
    "# Rigid graphs\n",
    "## Problem 434 \n",
    "\n",
    "<div class=\"problem_content\" role=\"problem\">\n",
    "<p>Recall that a graph is a collection of vertices and edges connecting the vertices, and that two vertices connected by an edge are called adjacent.<br/>\n",
    "Graphs can be embedded in Euclidean space by associating each vertex with a point in the Euclidean space.<br/>\n",
    "A <strong>flexible</strong> graph is an embedding of a graph where it is possible to move one or more vertices continuously so that the distance between at least two nonadjacent vertices is altered while the distances between each pair of adjacent vertices is kept constant.<br/>\n",
    "A <strong>rigid</strong> graph is an embedding of a graph which is not flexible.<br/>\n",
    "Informally, a graph is rigid if by replacing the vertices with fully rotating hinges and the edges with rods that are unbending and inelastic, no parts of the graph can be moved independently from the rest of the graph.\n",
    "</p>\n",
    "<p>The <strong>grid graphs</strong> embedded in the Euclidean plane are not rigid, as the following animation demonstrates:<br/><img alt=\"p434_rigid.gif\" src=\"project/images/p434_rigid.gif\"/></p>\n",
    "<p>However, one can make them rigid by adding diagonal edges to the cells. For example, for the 2x3 grid graph, there are 19 ways to make the graph rigid:<br/><img alt=\"p434_rigid23.png\" src=\"project/images/p434_rigid23.png\"/></p>\n",
    "<p>Note that for the purposes of this problem, we do not consider changing the orientation of a diagonal edge or adding both diagonal edges to a cell as a different way of making a grid graph rigid.\n",
    "</p>\n",
    "<p>Let <var>R</var>(<var>m</var>,<var>n</var>) be the number of ways to make the <var>m</var> &#215; <var>n</var> grid graph rigid. <br/>\n",
    "E.g. <var>R</var>(2,3) = 19 and <var>R</var>(5,5) = 23679901\n",
    "</p>\n",
    "<p>Define <var>S</var>(<var>N</var>) as &#8721;<var>R</var>(<var>i</var>,<var>j</var>) for 1 &#8804; <var>i</var>, <var>j</var> &#8804; <var>N</var>.<br/>\n",
    "E.g. <var>S</var>(5) = 25021721.<br/>\n",
    "Find <var>S</var>(100), give your answer modulo 1000000033\n",
    "</p>\n",
    "</div>"
   ]
  },
  {
   "cell_type": "code",
   "execution_count": null,
   "metadata": {},
   "outputs": [],
   "source": [
    "def solve():\n",
    "    # Your code here\n",
    "    \n"
   ]
  },
  {
   "cell_type": "markdown",
   "metadata": {},
   "source": [
    "## Solution"
   ]
  },
  {
   "cell_type": "code",
   "execution_count": null,
   "metadata": {},
   "outputs": [],
   "source": [
    "solve()"
   ]
  }
 ],
 "metadata": {},
 "nbformat": 4,
 "nbformat_minor": 2
}
