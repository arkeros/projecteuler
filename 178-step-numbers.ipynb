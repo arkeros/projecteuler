{
 "cells": [
  {
   "cell_type": "markdown",
   "metadata": {},
   "source": [
    "# Step Numbers\n",
    "## Problem 178 \n",
    "\n",
    "<div class=\"problem_content\" role=\"problem\">\r\n",
    "Consider the number 45656. <br/>\n",
    "It can be seen that each pair of consecutive digits of 45656 has a difference of one.<br/>\n",
    "A number for which every pair of consecutive digits has a difference of one is called a step number.<br/>\n",
    "A pandigital number  contains every decimal digit from 0 to 9 at least once.<br/>\n",
    "\n",
    "How many pandigital step numbers less than 10<sup>40</sup> are there?\n",
    "\n",
    "</div>"
   ]
  },
  {
   "cell_type": "code",
   "execution_count": null,
   "metadata": {},
   "outputs": [],
   "source": [
    "def solve():\n",
    "    # Your code here\n",
    "    \n"
   ]
  },
  {
   "cell_type": "markdown",
   "metadata": {},
   "source": [
    "## Solution"
   ]
  },
  {
   "cell_type": "code",
   "execution_count": null,
   "metadata": {},
   "outputs": [],
   "source": [
    "solve()"
   ]
  }
 ],
 "metadata": {},
 "nbformat": 4,
 "nbformat_minor": 2
}
