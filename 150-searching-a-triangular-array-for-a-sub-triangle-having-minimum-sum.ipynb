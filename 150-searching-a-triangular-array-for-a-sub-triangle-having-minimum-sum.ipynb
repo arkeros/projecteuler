{
 "cells": [
  {
   "cell_type": "markdown",
   "metadata": {},
   "source": [
    "# Searching a triangular array for a sub-triangle having minimum-sum\n",
    "## Problem 150 \n",
    "\n",
    "<div class=\"problem_content\" role=\"problem\">\n",
    "<p>In a triangular array of positive and negative integers, we wish to find a sub-triangle such that the sum of the numbers it contains is the smallest possible.</p>\n",
    "<p>In the example below, it can be easily verified that the marked triangle satisfies this condition having a sum of &#8722;42.</p>\n",
    "<div style=\"text-align:center;\">\n",
    "<img alt=\"\" border=\"0\" src=\"project/images/p150.gif\"/></div>\n",
    "<p>We wish to make such a triangular array with one thousand rows, so we generate 500500 pseudo-random numbers <span style=\"font-style:italic;\">s<sub>k</sub></span> in the range &#177;2<sup>19</sup>, using a type of random number generator (known as a Linear Congruential Generator) as follows:</p>\n",
    "<p style=\"margin-left:50px;\"><span style=\"font-style:italic;\">t</span> := 0\n",
    "<br/>\n",
    "for k = 1 up to k = 500500:\n",
    "<br/>\n",
    "&#160; &#160; <span style=\"font-style:italic;\">t</span> := (615949*<span style=\"font-style:italic;\">t</span> + 797807) modulo 2<sup>20</sup><br/>\n",
    "&#160; &#160; <span style=\"font-style:italic;\">s<sub>k</sub></span> := <span style=\"font-style:italic;\">t</span>&#8722;2<sup>19</sup></p>\n",
    "<p>Thus: <span style=\"font-style:italic;\">s<sub>1</sub></span> = 273519, <span style=\"font-style:italic;\">s<sub>2</sub></span> = &#8722;153582, <span style=\"font-style:italic;\">s<sub>3</sub></span> = 450905 etc</p>\n",
    "<p>Our triangular array is then formed using the pseudo-random numbers thus:</p>\n",
    "<div style=\"text-align:center;font-style:italic;\">\n",
    "s<sub>1</sub><br/>\n",
    "s<sub>2</sub>&#160; s<sub>3</sub><br/>\n",
    "s<sub>4</sub>&#160; s<sub>5</sub>&#160; s<sub>6</sub>&#160; \n",
    "<br/>\n",
    "s<sub>7</sub>&#160; s<sub>8</sub>&#160; s<sub>9</sub>&#160; s<sub>10</sub><br/>\n",
    "...\n",
    "</div>\n",
    "<p>Sub-triangles can start at any element of the array and extend down as far as we like (taking-in the two elements directly below it from the next row, the three elements directly below from the row after that, and so on).\n",
    "<br/>\n",
    "The \"sum of a sub-triangle\" is defined as the sum of all the elements it contains.\n",
    "<br/>\n",
    "Find the smallest possible sub-triangle sum.</p>\n",
    "</div>"
   ]
  },
  {
   "cell_type": "code",
   "execution_count": null,
   "metadata": {},
   "outputs": [],
   "source": [
    "def solve():\n",
    "    # Your code here\n",
    "    \n"
   ]
  },
  {
   "cell_type": "markdown",
   "metadata": {},
   "source": [
    "## Solution"
   ]
  },
  {
   "cell_type": "code",
   "execution_count": null,
   "metadata": {},
   "outputs": [],
   "source": [
    "solve()"
   ]
  }
 ],
 "metadata": {},
 "nbformat": 4,
 "nbformat_minor": 2
}
