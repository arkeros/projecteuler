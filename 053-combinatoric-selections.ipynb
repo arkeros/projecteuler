{
 "cells": [
  {
   "cell_type": "markdown",
   "metadata": {},
   "source": [
    "# Combinatoric selections\n",
    "## Problem 53 \n",
    "\n",
    "<div class=\"problem_content\" role=\"problem\">\n",
    "<p>There are exactly ten ways of selecting three from five, 12345:</p>\n",
    "<p style=\"text-align:center;\">123, 124, 125, 134, 135, 145, 234, 235, 245, and 345</p>\n",
    "<p>In combinatorics, we use the notation, <sup>5</sup>C<sub>3</sub> = 10.</p>\n",
    "<p>In general,</p>\n",
    "<div style=\"text-align:center;\">\n",
    "<table><tr><td><sup><var>n</var></sup>C<sub><var>r</var></sub> = </td>\n",
    "<td><div style=\"text-align:center;\"><var>n</var>!<br/><span style=\"border-top:1px solid #000;\"><var>r</var>!(<var>n&#8722;r</var>)!</span></div></td>\n",
    "<td>,where <var>r</var> &#8804; <var>n</var>, <var>n</var>! = <var>n</var>&#215;(<var>n</var>&#8722;1)&#215;...&#215;3&#215;2&#215;1, and 0! = 1.</td>\n",
    "</tr></table></div>\n",
    "<p>It is not until <var>n</var> = 23, that a value exceeds one-million: <sup>23</sup>C<sub>10</sub> = 1144066.</p>\n",
    "<p>How many, not necessarily distinct, values of &#160;<sup><var>n</var></sup>C<sub><var>r</var></sub>, for 1 &#8804; <var>n</var> &#8804; 100, are greater than one-million?</p>\n",
    "</div>"
   ]
  },
  {
   "cell_type": "code",
   "execution_count": null,
   "metadata": {},
   "outputs": [],
   "source": [
    "def solve():\n",
    "    # Your code here\n",
    "    \n"
   ]
  },
  {
   "cell_type": "markdown",
   "metadata": {},
   "source": [
    "## Solution"
   ]
  },
  {
   "cell_type": "code",
   "execution_count": null,
   "metadata": {},
   "outputs": [],
   "source": [
    "solve()"
   ]
  }
 ],
 "metadata": {},
 "nbformat": 4,
 "nbformat_minor": 2
}
