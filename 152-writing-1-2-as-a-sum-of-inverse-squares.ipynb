{
 "cells": [
  {
   "cell_type": "markdown",
   "metadata": {},
   "source": [
    "# Writing 1/2 as a sum of inverse squares\n",
    "## Problem 152 \n",
    "\n",
    "<div class=\"problem_content\" role=\"problem\">\n",
    "<p>There are several ways to write the number 1/2 as a sum of inverse squares using <i>distinct</i> integers.</p>\n",
    "<p>For instance, the numbers {2,3,4,5,7,12,15,20,28,35} can be used:</p>\n",
    "<p style=\"margin-left:50px;\"><img alt=\"\" border=\"0\" src=\"project/images/p152_sum.gif\"/></p>\n",
    "<p>In fact, only using integers between 2 and 45 inclusive, there are exactly three ways to do it, the remaining two being: {2,3,4,6,7,9,10,20,28,35,36,45} and {2,3,4,6,7,9,12,15,28,30,35,36,45}.</p>\n",
    "<p>How many ways are there to write the number 1/2 as a sum of inverse squares using distinct integers between 2 and 80 inclusive?</p>\n",
    "</div>"
   ]
  },
  {
   "cell_type": "code",
   "execution_count": null,
   "metadata": {},
   "outputs": [],
   "source": [
    "def solve():\n",
    "    # Your code here\n",
    "    \n"
   ]
  },
  {
   "cell_type": "markdown",
   "metadata": {},
   "source": [
    "## Solution"
   ]
  },
  {
   "cell_type": "code",
   "execution_count": null,
   "metadata": {},
   "outputs": [],
   "source": [
    "solve()"
   ]
  }
 ],
 "metadata": {},
 "nbformat": 4,
 "nbformat_minor": 2
}
