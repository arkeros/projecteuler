{
 "cells": [
  {
   "cell_type": "markdown",
   "metadata": {},
   "source": [
    "# Diophantine equation\n",
    "## Problem 66 \n",
    "\n",
    "<div class=\"problem_content\" role=\"problem\">\n",
    "<p>Consider quadratic Diophantine equations of the form:</p>\n",
    "<p style=\"text-align:center;\"><i>x</i><sup>2</sup> &#8211; D<i>y</i><sup>2</sup> = 1</p>\n",
    "<p>For example, when D=13, the minimal solution in <i>x</i> is 649<sup>2</sup> &#8211; 13&#215;180<sup>2</sup> = 1.</p>\n",
    "<p>It can be assumed that there are no solutions in positive integers when D is square.</p>\n",
    "<p>By finding minimal solutions in <i>x</i> for D = {2, 3, 5, 6, 7}, we obtain the following:</p>\n",
    "<p style=\"margin-left:20px;\">3<sup>2</sup> &#8211; 2&#215;2<sup>2</sup> = 1<br/>\n",
    "2<sup>2</sup> &#8211; 3&#215;1<sup>2</sup> = 1<br/><span style=\"color:#dd0000;font-weight:bold;\">9</span><sup>2</sup> &#8211; 5&#215;4<sup>2</sup> = 1<br/>\n",
    "5<sup>2</sup> &#8211; 6&#215;2<sup>2</sup> = 1<br/>\n",
    "8<sup>2</sup> &#8211; 7&#215;3<sup>2</sup> = 1</p>\n",
    "<p>Hence, by considering minimal solutions in <i>x</i> for D &#8804; 7, the largest <i>x</i> is obtained when D=5.</p>\n",
    "<p>Find the value of D &#8804; 1000 in minimal solutions of <i>x</i> for which the largest value of <i>x</i> is obtained.</p>\n",
    "</div>"
   ]
  },
  {
   "cell_type": "code",
   "execution_count": null,
   "metadata": {},
   "outputs": [],
   "source": [
    "def solve():\n",
    "    # Your code here\n",
    "    \n"
   ]
  },
  {
   "cell_type": "markdown",
   "metadata": {},
   "source": [
    "## Solution"
   ]
  },
  {
   "cell_type": "code",
   "execution_count": null,
   "metadata": {},
   "outputs": [],
   "source": [
    "solve()"
   ]
  }
 ],
 "metadata": {},
 "nbformat": 4,
 "nbformat_minor": 2
}
