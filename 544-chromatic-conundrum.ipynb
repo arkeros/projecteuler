{
 "cells": [
  {
   "cell_type": "markdown",
   "metadata": {},
   "source": [
    "# Chromatic Conundrum\n",
    "## Problem 544 \n",
    "\n",
    "<div class=\"problem_content\" role=\"problem\">\n",
    "<p>Let F(<var>r</var>,<var>c</var>,<var>n</var>) be the number of ways to color a rectangular grid with <var>r</var> rows and <var>c</var> columns using at most <var>n</var> colors such that no two adjacent cells share the same color. Cells that are diagonal to each other are not considered adjacent.</p>\n",
    "<p>For example, F(2,2,3) = 18, F(2,2,20) = 130340, and F(3,4,6) = 102923670.</p>\n",
    "<p>Let S(<var>r</var>,<var>c</var>,<var>n</var>) = $\\sum_{k=1}^{n}$ F(<var>r</var>,<var>c</var>,<var>k</var>).</p>\n",
    "<p>For example, S(4,4,15) mod 10<sup>9</sup>+7 = 325951319.</p>\n",
    "<p>Find S(9,10,1112131415) mod 10<sup>9</sup>+7.</p>\n",
    "</div>"
   ]
  },
  {
   "cell_type": "code",
   "execution_count": null,
   "metadata": {},
   "outputs": [],
   "source": [
    "def solve():\n",
    "    # Your code here\n",
    "    \n"
   ]
  },
  {
   "cell_type": "markdown",
   "metadata": {},
   "source": [
    "## Solution"
   ]
  },
  {
   "cell_type": "code",
   "execution_count": null,
   "metadata": {},
   "outputs": [],
   "source": [
    "solve()"
   ]
  }
 ],
 "metadata": {},
 "nbformat": 4,
 "nbformat_minor": 2
}
