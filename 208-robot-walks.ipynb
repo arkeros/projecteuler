{
 "cells": [
  {
   "cell_type": "markdown",
   "metadata": {},
   "source": [
    "# Robot Walks\n",
    "## Problem 208 \n",
    "\n",
    "<div class=\"problem_content\" role=\"problem\">\n",
    "<p>A robot moves in a series of one-fifth circular arcs (72&#176;), with a free choice of a clockwise or an anticlockwise arc for each step, but no turning on the spot.</p>\n",
    "<p>One of 70932 possible closed paths of 25 arcs starting northward is</p>\n",
    "<div style=\"text-align:center;\">\n",
    "<img alt=\"\" src=\"project/images/p208_robotwalk.gif\"/></div>\n",
    "<p>Given that the robot starts facing North, how many journeys of 70 arcs in length can it take that return it, after the final arc, to its starting position?<br/>\n",
    "(Any arc may be traversed multiple times.) \n",
    "</p>\n",
    "</div>"
   ]
  },
  {
   "cell_type": "code",
   "execution_count": null,
   "metadata": {},
   "outputs": [],
   "source": [
    "def solve():\n",
    "    # Your code here\n",
    "    \n"
   ]
  },
  {
   "cell_type": "markdown",
   "metadata": {},
   "source": [
    "## Solution"
   ]
  },
  {
   "cell_type": "code",
   "execution_count": null,
   "metadata": {},
   "outputs": [],
   "source": [
    "solve()"
   ]
  }
 ],
 "metadata": {},
 "nbformat": 4,
 "nbformat_minor": 2
}
