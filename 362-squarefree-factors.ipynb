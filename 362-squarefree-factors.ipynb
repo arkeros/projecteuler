{
 "cells": [
  {
   "cell_type": "markdown",
   "metadata": {},
   "source": [
    "# Squarefree factors\n",
    "## Problem 362 \n",
    "\n",
    "<div class=\"problem_content\" role=\"problem\">\n",
    "<p>\n",
    "Consider the number 54.<br/>\n",
    "54 can be factored in 7 distinct ways into one or more factors larger than 1:<br/>\n",
    "54, 2&#215;27, 3&#215;18, 6&#215;9, 3&#215;3&#215;6, 2&#215;3&#215;9 and 2&#215;3&#215;3&#215;3.<br/>\n",
    "If we require that the factors are all squarefree only two ways remain: 3&#215;3&#215;6 and 2&#215;3&#215;3&#215;3.\n",
    "</p>\n",
    "<p>\n",
    "Let's call Fsf(<var>n</var>) the number of ways <var>n</var> can be factored into one or more squarefree factors larger than 1, so\n",
    "Fsf(54)=2.\n",
    "</p>\n",
    "<p>\n",
    "Let S(<var>n</var>) be &#8721;Fsf(<var>k</var>) for <var>k</var>=2 to <var>n</var>.\n",
    "</p>\n",
    "<p>\n",
    "S(100)=193.\n",
    "</p>\n",
    "<p>\n",
    "Find S(10 000 000 000). \n",
    "</p>\n",
    "</div>"
   ]
  },
  {
   "cell_type": "code",
   "execution_count": null,
   "metadata": {},
   "outputs": [],
   "source": [
    "def solve():\n",
    "    # Your code here\n",
    "    \n"
   ]
  },
  {
   "cell_type": "markdown",
   "metadata": {},
   "source": [
    "## Solution"
   ]
  },
  {
   "cell_type": "code",
   "execution_count": null,
   "metadata": {},
   "outputs": [],
   "source": [
    "solve()"
   ]
  }
 ],
 "metadata": {},
 "nbformat": 4,
 "nbformat_minor": 2
}
