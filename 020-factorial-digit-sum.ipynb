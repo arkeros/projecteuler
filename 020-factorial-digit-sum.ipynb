{
 "cells": [
  {
   "cell_type": "markdown",
   "metadata": {},
   "source": [
    "# Factorial digit sum\n",
    "## Problem 20 \n",
    "\n",
    "<div class=\"problem_content\" role=\"problem\">\n",
    "<p><i>n</i>! means <i>n</i> &#215; (<i>n</i> &#8722; 1) &#215; ... &#215; 3 &#215; 2 &#215; 1</p>\n",
    "<p>For example, 10! = 10 &#215; 9 &#215; ... &#215; 3 &#215; 2 &#215; 1 = 3628800,<br/>and the sum of the digits in the number 10! is 3 + 6 + 2 + 8 + 8 + 0 + 0 = 27.</p>\n",
    "<p>Find the sum of the digits in the number 100!</p>\n",
    "</div>"
   ]
  },
  {
   "cell_type": "code",
   "execution_count": null,
   "metadata": {},
   "outputs": [],
   "source": [
    "def solve():\n",
    "    # Your code here\n",
    "    \n"
   ]
  },
  {
   "cell_type": "markdown",
   "metadata": {},
   "source": [
    "## Solution"
   ]
  },
  {
   "cell_type": "code",
   "execution_count": null,
   "metadata": {},
   "outputs": [],
   "source": [
    "solve()"
   ]
  }
 ],
 "metadata": {},
 "nbformat": 4,
 "nbformat_minor": 2
}
