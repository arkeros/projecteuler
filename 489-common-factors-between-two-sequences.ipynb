{
 "cells": [
  {
   "cell_type": "markdown",
   "metadata": {},
   "source": [
    "# Common factors between two sequences\n",
    "## Problem 489 \n",
    "\n",
    "<div class=\"problem_content\" role=\"problem\">\n",
    "<p>Let <var>G</var>(<var>a</var>, <var>b</var>) be the smallest non-negative integer <var>n</var> for which <dfn title=\"Greatest common divisor\">gcd</dfn>(<var>n</var><sup>3</sup> + <var>b</var>, (<var>n</var> + <var>a</var>)<sup>3</sup> + <var>b</var>) is maximized.<br/>\n",
    "For example, <var>G</var>(1, 1) = 5 because gcd(<var>n</var><sup>3</sup> + 1, (<var>n</var> + 1)<sup>3</sup> + 1) reaches its maximum value of 7 for <var>n</var> = 5, and is smaller for 0 &#8804; n &lt; 5.<br/>\n",
    "Let <var>H</var>(<var>m</var>, <var>n</var>) = &#931; <var>G</var>(<var>a</var>, <var>b</var>) for 1 &#8804; <var>a</var> &#8804; <var>m</var>, 1 &#8804; <var>b</var> &#8804; <var>n</var>.<br/>\n",
    "You are given <var>H</var>(5, 5) = 128878 and <var>H</var>(10, 10) = 32936544.\n",
    "</p><p>Find <var>H</var>(18, 1900).</p>\n",
    "</div>"
   ]
  },
  {
   "cell_type": "code",
   "execution_count": null,
   "metadata": {},
   "outputs": [],
   "source": [
    "def solve():\n",
    "    # Your code here\n",
    "    \n"
   ]
  },
  {
   "cell_type": "markdown",
   "metadata": {},
   "source": [
    "## Solution"
   ]
  },
  {
   "cell_type": "code",
   "execution_count": null,
   "metadata": {},
   "outputs": [],
   "source": [
    "solve()"
   ]
  }
 ],
 "metadata": {},
 "nbformat": 4,
 "nbformat_minor": 2
}
