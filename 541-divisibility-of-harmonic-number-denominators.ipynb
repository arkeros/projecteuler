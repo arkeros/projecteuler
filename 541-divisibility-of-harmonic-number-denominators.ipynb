{
 "cells": [
  {
   "cell_type": "markdown",
   "metadata": {},
   "source": [
    "# Divisibility of Harmonic Number Denominators\n",
    "## Problem 541 \n",
    "\n",
    "<div class=\"problem_content\" role=\"problem\">\n",
    "<p>The <var>n</var><sup>th</sup><b>harmonic number</b> <var>H<sub>n</sub></var> is defined as the sum of the multiplicative inverses of the first <var>n</var> positive integers, and can be written as a <b>reduced fraction</b> <var>a<sub>n</sub>/b<sub>n</sub></var>.<br/>\n",
    "$H_n = \\displaystyle \\sum_{k=1}^n \\frac 1 k = \\frac {a_n} {b_n}$, with $\\text {gcd}(a_n, b_n)=1$.</p>\n",
    "<p>Let <var>M</var>(<var>p</var>) be the largest value of <var>n</var> such that <var>b<sub>n</sub></var> is not divisible by <var>p</var>.</p>\n",
    "<p>For example, <var>M</var>(3) = 68 because $H_{68} = \\frac {a_{68}} {b_{68}} = \\frac {14094018321907827923954201611} {2933773379069966367528193600}$, <var>b</var><sub>68</sub>=2933773379069966367528193600 is not divisible by 3, but all larger harmonic numbers have denominators divisible by 3.</p>\n",
    "<p>You are given <var>M</var>(7) = 719102.</p>\n",
    "<p>Find <var>M</var>(137).</p>\n",
    "</div>"
   ]
  },
  {
   "cell_type": "code",
   "execution_count": null,
   "metadata": {},
   "outputs": [],
   "source": [
    "def solve():\n",
    "    # Your code here\n",
    "    \n"
   ]
  },
  {
   "cell_type": "markdown",
   "metadata": {},
   "source": [
    "## Solution"
   ]
  },
  {
   "cell_type": "code",
   "execution_count": null,
   "metadata": {},
   "outputs": [],
   "source": [
    "solve()"
   ]
  }
 ],
 "metadata": {},
 "nbformat": 4,
 "nbformat_minor": 2
}
