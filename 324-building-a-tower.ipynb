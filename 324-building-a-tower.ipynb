{
 "cells": [
  {
   "cell_type": "markdown",
   "metadata": {},
   "source": [
    "# Building a tower\n",
    "## Problem 324 \n",
    "\n",
    "<div class=\"problem_content\" role=\"problem\">\n",
    "<p>Let <var>f</var>(<var>n</var>) represent the number of ways one can fill a 3&#215;3&#215;<var>n</var> tower with blocks of 2&#215;1&#215;1. <br/>You're allowed to rotate the blocks in any way you like; however, rotations, reflections etc of the tower itself are counted as distinct.</p>\n",
    "<p>For example (with <var>q</var> = 100000007) :<br/><var>f</var>(2) = 229,<br/><var>f</var>(4) = 117805,<br/><var>f</var>(10) mod <var>q</var> = 96149360,<br/><var>f</var>(10<sup>3</sup>) mod <var>q</var> = 24806056,<br/><var>f</var>(10<sup>6</sup>) mod <var>q</var> = 30808124.</p>\n",
    "<p>Find <var>f</var>(10<sup>10000</sup>) mod 100000007.</p>\n",
    "</div>"
   ]
  },
  {
   "cell_type": "code",
   "execution_count": null,
   "metadata": {},
   "outputs": [],
   "source": [
    "def solve():\n",
    "    # Your code here\n",
    "    \n"
   ]
  },
  {
   "cell_type": "markdown",
   "metadata": {},
   "source": [
    "## Solution"
   ]
  },
  {
   "cell_type": "code",
   "execution_count": null,
   "metadata": {},
   "outputs": [],
   "source": [
    "solve()"
   ]
  }
 ],
 "metadata": {},
 "nbformat": 4,
 "nbformat_minor": 2
}
