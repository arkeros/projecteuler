{
 "cells": [
  {
   "cell_type": "markdown",
   "metadata": {},
   "source": [
    "# Fibonacci golden nuggets\n",
    "## Problem 137 \n",
    "\n",
    "<div class=\"problem_content\" role=\"problem\">\n",
    "<p>Consider the infinite polynomial series A<sub>F</sub>(<i>x</i>) = <i>x</i>F<sub>1</sub> + <i>x</i><sup>2</sup>F<sub>2</sub> + <i>x</i><sup>3</sup>F<sub>3</sub> + ..., where F<sub><i>k</i></sub> is the <i>k</i>th term in the Fibonacci sequence: 1, 1, 2, 3, 5, 8, ... ; that is, F<sub><i>k</i></sub> = F<sub><i>k</i>&#8722;1</sub> + F<sub><i>k</i>&#8722;2</sub>, F<sub>1</sub> = 1 and F<sub>2</sub> = 1.</p>\n",
    "<p>For this problem we shall be interested in values of <i>x</i> for which A<sub>F</sub>(<i>x</i>) is a positive integer.</p>\n",
    "<table border=\"0\" cellpadding=\"0\" cellspacing=\"0\"><tr><td>Surprisingly A<sub>F</sub>(1/2)</td>\n",
    "<td>&#160;=&#160;</td>\n",
    "<td>(1/2).1 + (1/2)<sup>2</sup>.1 + (1/2)<sup>3</sup>.2 + (1/2)<sup>4</sup>.3 + (1/2)<sup>5</sup>.5 + ...</td>\n",
    "</tr><tr><td>&#160;</td>\n",
    "<td>&#160;=&#160;</td>\n",
    "<td>1/2 + 1/4 + 2/8 + 3/16 + 5/32 + ...</td>\n",
    "</tr><tr><td>&#160;</td>\n",
    "<td>&#160;=&#160;</td>\n",
    "<td>2</td>\n",
    "</tr></table><p>The corresponding values of <i>x</i> for the first five natural numbers are shown below.</p>\n",
    "<div style=\"text-align:center;\">\n",
    "<table align=\"center\" border=\"1\" cellpadding=\"2\" cellspacing=\"0\"><tr style=\"background-color:#c1daf9;\"><td><b><i>x</i></b></td><td width=\"50\"><b>A<sub>F</sub>(<i>x</i>)</b></td>\n",
    "</tr><tr><td>&#8730;2&#8722;1</td><td>1</td>\n",
    "</tr><tr><td>1/2</td><td>2</td>\n",
    "</tr><tr><td>(&#8730;13&#8722;2)/3</td><td>3</td>\n",
    "</tr><tr><td>(&#8730;89&#8722;5)/8</td><td>4</td>\n",
    "</tr><tr><td>(&#8730;34&#8722;3)/5</td><td>5</td>\n",
    "</tr></table></div>\n",
    "<p>We shall call A<sub>F</sub>(<i>x</i>) a golden nugget if <i>x</i> is rational, because they become increasingly rarer; for example, the 10th golden nugget is 74049690.</p>\n",
    "<p>Find the 15th golden nugget.</p>\n",
    "</div>"
   ]
  },
  {
   "cell_type": "code",
   "execution_count": null,
   "metadata": {},
   "outputs": [],
   "source": [
    "def solve():\n",
    "    # Your code here\n",
    "    \n"
   ]
  },
  {
   "cell_type": "markdown",
   "metadata": {},
   "source": [
    "## Solution"
   ]
  },
  {
   "cell_type": "code",
   "execution_count": null,
   "metadata": {},
   "outputs": [],
   "source": [
    "solve()"
   ]
  }
 ],
 "metadata": {},
 "nbformat": 4,
 "nbformat_minor": 2
}
