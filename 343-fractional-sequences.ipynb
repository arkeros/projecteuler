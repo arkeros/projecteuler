{
 "cells": [
  {
   "cell_type": "markdown",
   "metadata": {},
   "source": [
    "# Fractional Sequences\n",
    "## Problem 343 \n",
    "\n",
    "<div class=\"problem_content\" role=\"problem\">\n",
    "<p>For any positive integer <var>k</var>, a finite sequence a<sub><var>i</var></sub> of fractions x<sub><var>i</var></sub>/y<sub><var>i</var></sub> is defined by:<br/>\n",
    "a<sub>1</sub> = 1/<var>k</var> and<br/>\n",
    "a<sub><var>i</var></sub> = (x<sub><var>i</var>-1</sub>+1)/(y<sub><var>i</var>-1</sub>-1) reduced to lowest terms for <var>i</var>&gt;1.<br/>\n",
    "When a<sub><var>i</var></sub> reaches some integer <var>n</var>, the sequence stops. (That is, when y<sub><var>i</var></sub>=1.)<br/>\n",
    "Define f(<var>k</var>) = <var>n</var>. <br/>\n",
    "For example, for <var>k</var> = 20:\n",
    "</p>\n",
    "<p>\n",
    "1/20 &#8594; 2/19 &#8594; 3/18 = 1/6 &#8594; 2/5 &#8594; 3/4 &#8594; 4/3 &#8594; 5/2 &#8594; 6/1 = 6\n",
    "</p>\n",
    "<p>\n",
    "So f(20) = 6.\n",
    "</p>\n",
    "<p>\n",
    "Also f(1) = 1, f(2) = 2, f(3) = 1 and &#931;f(<var>k</var><sup>3</sup>) = 118937 for 1 &#8804; <var>k</var> &#8804; 100.\n",
    "</p>\n",
    "<p>\n",
    "Find &#931;f(<var>k</var><sup>3</sup>) for 1 &#8804; <var>k</var> &#8804; 2&#215;10<sup>6</sup>.\n",
    "</p>\n",
    "</div>"
   ]
  },
  {
   "cell_type": "code",
   "execution_count": null,
   "metadata": {},
   "outputs": [],
   "source": [
    "def solve():\n",
    "    # Your code here\n",
    "    \n"
   ]
  },
  {
   "cell_type": "markdown",
   "metadata": {},
   "source": [
    "## Solution"
   ]
  },
  {
   "cell_type": "code",
   "execution_count": null,
   "metadata": {},
   "outputs": [],
   "source": [
    "solve()"
   ]
  }
 ],
 "metadata": {},
 "nbformat": 4,
 "nbformat_minor": 2
}
