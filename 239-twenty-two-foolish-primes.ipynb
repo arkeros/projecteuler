{
 "cells": [
  {
   "cell_type": "markdown",
   "metadata": {},
   "source": [
    "# Twenty-two Foolish Primes\n",
    "## Problem 239 \n",
    "\n",
    "<div class=\"problem_content\" role=\"problem\">\n",
    "<p>A set of disks numbered 1 through 100 are placed in a line in random order.</p>\n",
    "<p>What is the probability that we have a partial derangement such that exactly 22 prime number discs are found away from their natural positions?<br/>\n",
    "(Any number of non-prime disks may also be found in or out of their natural positions.)</p>\n",
    "<p>Give your answer rounded to 12 places behind the decimal point in the form 0.abcdefghijkl.</p>\n",
    "</div>"
   ]
  },
  {
   "cell_type": "code",
   "execution_count": null,
   "metadata": {},
   "outputs": [],
   "source": [
    "def solve():\n",
    "    # Your code here\n",
    "    \n"
   ]
  },
  {
   "cell_type": "markdown",
   "metadata": {},
   "source": [
    "## Solution"
   ]
  },
  {
   "cell_type": "code",
   "execution_count": null,
   "metadata": {},
   "outputs": [],
   "source": [
    "solve()"
   ]
  }
 ],
 "metadata": {},
 "nbformat": 4,
 "nbformat_minor": 2
}
