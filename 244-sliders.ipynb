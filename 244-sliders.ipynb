{
 "cells": [
  {
   "cell_type": "markdown",
   "metadata": {},
   "source": [
    "# Sliders\n",
    "## Problem 244 \n",
    "\n",
    "<div class=\"problem_content\" role=\"problem\">\n",
    "<p>You probably know the game <i>Fifteen Puzzle</i>. Here, instead of numbered tiles, we have seven red tiles and eight blue tiles.</p>\n",
    "<p>A move is denoted by the uppercase initial of the direction (Left, Right, Up, Down) in which the tile is slid, e.g. starting from configuration (<b>S</b>), by the sequence <b>LULUR</b> we reach the configuration (<b>E</b>):</p>\n",
    "<p></p><div style=\"text-align:center;\">\n",
    "<table align=\"center\" border=\"0\" cellpadding=\"2\" cellspacing=\"0\"><tr><td width=\"25\">(<b>S</b>)</td><td width=\"100\"><img alt=\"p244_start.gif\" src=\"project/images/p244_start.gif\"/></td><td width=\"25\">,&#160;(<b>E</b>)</td><td width=\"100\"><img alt=\"p244_example.gif\" src=\"project/images/p244_example.gif\"/></td>\n",
    "</tr></table></div>\n",
    "<p>For each path, its checksum is calculated by (pseudocode):\n",
    "</p><div style=\"margin-left:100px;\">\n",
    "checksum = 0<br/>\n",
    "checksum = (checksum &#215; 243 + <var>m</var><sub>1</sub>) mod 100&#8201;000&#8201;007<br/>\n",
    "checksum = (checksum &#215; 243 + <var>m</var><sub>2</sub>) mod 100&#8201;000&#8201;007<br/>\n",
    "&#160;&#160;&#160;&#8230;<br/>\n",
    "checksum = (checksum &#215; 243 + <var>m</var><sub><var>n</var></sub>) mod 100&#8201;000&#8201;007<br/></div>\n",
    "where <var>m</var><sub><var>k</var></sub> is the ASCII value of the <var>k</var><sup><var>th</var></sup> letter in the move sequence and the ASCII values for the moves are:\n",
    "\n",
    "<div style=\"text-align:center;\">\n",
    "<table align=\"center\" border=\"1\" cellpadding=\"2\" cellspacing=\"0\"><tr><td width=\"30\"><b>L</b></td><td width=\"30\">76</td></tr><tr><td><b>R</b></td><td>82</td></tr><tr><td><b>U</b></td><td>85</td></tr><tr><td><b>D</b></td><td>68</td></tr></table></div>\n",
    "<p>For the sequence <b>LULUR</b> given above, the checksum would be 19761398.</p>\n",
    "<p>Now, starting from configuration (<b>S</b>),\n",
    "find all shortest ways to reach configuration (<b>T</b>).</p>\n",
    "<p></p><div style=\"text-align:center;\">\n",
    "<table align=\"center\" border=\"0\" cellpadding=\"2\" cellspacing=\"0\"><tr><td width=\"25\">(<b>S</b>)</td><td width=\"100\"><img alt=\"p244_start.gif\" src=\"project/images/p244_start.gif\"/></td><td width=\"25\">,&#160;(<b>T</b>)</td><td width=\"100\"><img alt=\"p244_target.gif\" src=\"project/images/p244_target.gif\"/></td>\n",
    "</tr></table></div>\n",
    "<p>What is the sum of all checksums for the paths having the minimal length?</p>\n",
    "</div>"
   ]
  },
  {
   "cell_type": "code",
   "execution_count": null,
   "metadata": {},
   "outputs": [],
   "source": [
    "def solve():\n",
    "    # Your code here\n",
    "    \n"
   ]
  },
  {
   "cell_type": "markdown",
   "metadata": {},
   "source": [
    "## Solution"
   ]
  },
  {
   "cell_type": "code",
   "execution_count": null,
   "metadata": {},
   "outputs": [],
   "source": [
    "solve()"
   ]
  }
 ],
 "metadata": {},
 "nbformat": 4,
 "nbformat_minor": 2
}
