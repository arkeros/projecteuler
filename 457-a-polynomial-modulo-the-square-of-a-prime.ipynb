{
 "cells": [
  {
   "cell_type": "markdown",
   "metadata": {},
   "source": [
    "# A polynomial modulo the square of a prime\n",
    "## Problem 457 \n",
    "\n",
    "<div class=\"problem_content\" role=\"problem\">\n",
    "<p>\n",
    "Let <var>f</var>(<var>n</var>) = <var>n</var><sup>2</sup> - 3<var>n</var> - 1.<br/>\n",
    "Let <var>p</var> be a prime.<br/>\n",
    "Let R(<var>p</var>) be the smallest positive integer <var>n</var> such that <var>f</var>(<var>n</var>) mod p<sup>2</sup> = 0 if such an integer <var>n</var> exists, otherwise R(<var>p</var>) = 0.\n",
    "</p>\n",
    "<p>\n",
    "Let SR(<var>L</var>) be &#8721;R(<var>p</var>) for all primes not exceeding <var>L</var>.\n",
    "</p>\n",
    "<p>\n",
    "Find SR(10<sup>7</sup>).\n",
    "</p>\n",
    "</div>"
   ]
  },
  {
   "cell_type": "code",
   "execution_count": null,
   "metadata": {},
   "outputs": [],
   "source": [
    "def solve():\n",
    "    # Your code here\n",
    "    \n"
   ]
  },
  {
   "cell_type": "markdown",
   "metadata": {},
   "source": [
    "## Solution"
   ]
  },
  {
   "cell_type": "code",
   "execution_count": null,
   "metadata": {},
   "outputs": [],
   "source": [
    "solve()"
   ]
  }
 ],
 "metadata": {},
 "nbformat": 4,
 "nbformat_minor": 2
}
