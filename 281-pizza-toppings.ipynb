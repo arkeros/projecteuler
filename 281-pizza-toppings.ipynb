{
 "cells": [
  {
   "cell_type": "markdown",
   "metadata": {},
   "source": [
    "# Pizza Toppings\n",
    "## Problem 281 \n",
    "\n",
    "<div class=\"problem_content\" role=\"problem\">\n",
    "<p>You are given a pizza (perfect circle) that has been cut into <var>m</var>&#183;<var>n</var> equal pieces and you want to have exactly one topping on each slice.</p>\n",
    "<p>Let <var>f</var>(<var>m</var>,<var>n</var>) denote the number of ways you can have toppings on the pizza with <var>m</var> different toppings (<var>m</var>&#8201;&#8805;&#8201;2), using each topping on exactly <var>n</var> slices (<var>n</var>&#8201;&#8805;&#8201;1). <br/>Reflections are considered distinct, rotations are not. </p>\n",
    "<p>Thus, for instance, <var>f</var>(2,1)&#8201;=&#8201;1, <var>f</var>(2,2)&#8201;=&#8201;<var>f</var>(3,1)&#8201;=&#8201;2 and <var>f</var>(3,2)&#8201;=&#8201;16. <br/><var>f</var>(3,2) is shown below:</p>\n",
    "<div align=\"center\"><img alt=\"p281_pizza.gif\" src=\"project/images/p281_pizza.gif\"/></div>\n",
    "<p>Find the sum of all <var>f</var>(<var>m</var>,<var>n</var>) such that <var>f</var>(<var>m</var>,<var>n</var>)&#8201;&#8804;&#8201;10<sup>15</sup>.</p>\n",
    "</div>"
   ]
  },
  {
   "cell_type": "code",
   "execution_count": null,
   "metadata": {},
   "outputs": [],
   "source": [
    "def solve():\n",
    "    # Your code here\n",
    "    \n"
   ]
  },
  {
   "cell_type": "markdown",
   "metadata": {},
   "source": [
    "## Solution"
   ]
  },
  {
   "cell_type": "code",
   "execution_count": null,
   "metadata": {},
   "outputs": [],
   "source": [
    "solve()"
   ]
  }
 ],
 "metadata": {},
 "nbformat": 4,
 "nbformat_minor": 2
}
