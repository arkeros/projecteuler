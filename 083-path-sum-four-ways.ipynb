{
 "cells": [
  {
   "cell_type": "markdown",
   "metadata": {},
   "source": [
    "# Path sum: four ways\n",
    "## Problem 83 \n",
    "\n",
    "<div class=\"problem_content\" role=\"problem\">\n",
    "<p class=\"small_notice\">NOTE: This problem is a significantly more challenging version of <a href=\"problem=81\">Problem 81</a>.</p>\n",
    "<p>In the 5 by 5 matrix below, the minimal path sum from the top left to the bottom right, by moving left, right, up, and down, is indicated in bold red and is equal to 2297.</p>\n",
    "<div style=\"text-align:center;\">\n",
    "$$\n",
    "\\begin{pmatrix}\n",
    "\\color{red}{131} &amp; 673 &amp; \\color{red}{234} &amp; \\color{red}{103} &amp; \\color{red}{18}\\\\\n",
    "\\color{red}{201} &amp; \\color{red}{96} &amp; \\color{red}{342} &amp; 965 &amp; \\color{red}{150}\\\\\n",
    "630 &amp; 803 &amp; 746 &amp; \\color{red}{422} &amp; \\color{red}{111}\\\\\n",
    "537 &amp; 699 &amp; 497 &amp; \\color{red}{121} &amp; 956\\\\\n",
    "805 &amp; 732 &amp; 524 &amp; \\color{red}{37} &amp; \\color{red}{331}\n",
    "\\end{pmatrix}\n",
    "$$\n",
    "</div>\n",
    "<p>Find the minimal path sum, in <a href=\"project/resources/p083_matrix.txt\">matrix.txt</a> (right click and \n",
    "\"Save Link/Target As...\"), a 31K text file containing a 80 by 80 matrix, from the top left to the bottom right by moving left, right, up, and down.</p>\n",
    "</div>"
   ]
  },
  {
   "cell_type": "code",
   "execution_count": null,
   "metadata": {},
   "outputs": [],
   "source": [
    "def solve():\n",
    "    # Your code here\n",
    "    \n"
   ]
  },
  {
   "cell_type": "markdown",
   "metadata": {},
   "source": [
    "## Solution"
   ]
  },
  {
   "cell_type": "code",
   "execution_count": null,
   "metadata": {},
   "outputs": [],
   "source": [
    "solve()"
   ]
  }
 ],
 "metadata": {},
 "nbformat": 4,
 "nbformat_minor": 2
}
