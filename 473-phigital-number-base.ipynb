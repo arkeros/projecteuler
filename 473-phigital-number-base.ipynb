{
 "cells": [
  {
   "cell_type": "markdown",
   "metadata": {},
   "source": [
    "# Phigital number base\n",
    "## Problem 473 \n",
    "\n",
    "<div class=\"problem_content\" role=\"problem\">\n",
    "<p>\n",
    "Let $\\varphi$ be the golden ratio: $\\varphi=\\frac{1+\\sqrt{5}}{2}.$<br/>\n",
    "Remarkably it is possible to write every positive integer as a sum of powers of $\\varphi$ even if we require that every power of $\\varphi$ is used at most once in this sum.<br/>\n",
    "Even then this representation is not unique.<br/>\n",
    "We can make it unique by requiring that no powers with consecutive exponents are used and that the representation is finite.<br/>\n",
    "E.g: \n",
    "$2=\\varphi+\\varphi^{-2}$ and $3=\\varphi^{2}+\\varphi^{-2}$\n",
    "</p>\n",
    "<p>\n",
    "To represent this sum of powers of $\\varphi$ we use a string of 0's and 1's with a point to indicate where the negative exponents start.<br/>\n",
    "We call this the representation in the <b>phigital numberbase</b>.<br/>\n",
    "So $1=1_{\\varphi}$, $2=10.01_{\\varphi}$, $3=100.01_{\\varphi}$ and $14=100100.001001_{\\varphi}$. <br/>\n",
    "The strings representing 1, 2 and 14 in the phigital number base are palindromic, while the string representing 3 is not.<br/> (the phigital point is not the middle character).\n",
    "</p>\n",
    "<p>\n",
    "The sum of the positive integers not exceeding 1000 whose phigital representation is palindromic is 4345.\n",
    "</p>\n",
    "<p>\n",
    "Find the sum of the positive integers not exceeding $10^{10}$ whose phigital representation is palindromic.</p>\n",
    "</div>"
   ]
  },
  {
   "cell_type": "code",
   "execution_count": null,
   "metadata": {},
   "outputs": [],
   "source": [
    "def solve():\n",
    "    # Your code here\n",
    "    \n"
   ]
  },
  {
   "cell_type": "markdown",
   "metadata": {},
   "source": [
    "## Solution"
   ]
  },
  {
   "cell_type": "code",
   "execution_count": null,
   "metadata": {},
   "outputs": [],
   "source": [
    "solve()"
   ]
  }
 ],
 "metadata": {},
 "nbformat": 4,
 "nbformat_minor": 2
}
