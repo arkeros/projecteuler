{
 "cells": [
  {
   "cell_type": "markdown",
   "metadata": {},
   "source": [
    "# Subsets with a unique sum\n",
    "## Problem 201 \n",
    "\n",
    "<div class=\"problem_content\" role=\"problem\">\n",
    "<p>For any set A of numbers, let sum(A) be the sum of the elements of A.<br/>\n",
    "Consider the set B = {1,3,6,8,10,11}.<br/> There are 20 subsets of B containing three elements, and their sums are:</p>\n",
    "<p style=\"margin-left:100px;\">\n",
    "sum({1,3,6}) = 10,<br/>\n",
    "sum({1,3,8}) = 12,<br/>\n",
    "sum({1,3,10}) = 14,<br/>\n",
    "sum({1,3,11}) = 15,<br/>\n",
    "sum({1,6,8}) = 15,<br/>\n",
    "sum({1,6,10}) = 17,<br/>\n",
    "sum({1,6,11}) = 18,<br/>\n",
    "sum({1,8,10}) = 19,<br/>\n",
    "sum({1,8,11}) = 20,<br/>\n",
    "sum({1,10,11}) = 22,<br/>\n",
    "sum({3,6,8}) = 17,<br/>\n",
    "sum({3,6,10}) = 19,<br/>\n",
    "sum({3,6,11}) = 20,<br/>\n",
    "sum({3,8,10}) = 21,<br/>\n",
    "sum({3,8,11}) = 22,<br/>\n",
    "sum({3,10,11}) = 24,<br/>\n",
    "sum({6,8,10}) = 24,<br/>\n",
    "sum({6,8,11}) = 25,<br/>\n",
    "sum({6,10,11}) = 27,<br/>\n",
    "sum({8,10,11}) = 29.</p>\n",
    "<p>Some of these sums occur more than once, others are unique.<br/>\n",
    "For a set A, let U(A,k) be the set of unique sums of k-element subsets of A, in our example we find U(B,3) = {10,12,14,18,21,25,27,29} and sum(U(B,3)) = 156.</p>\n",
    "<p>Now consider the 100-element set S = {1<sup>2</sup>, 2<sup>2</sup>, ... , 100<sup>2</sup>}.<br/>\n",
    "S has 100891344545564193334812497256 50-element subsets.</p>\n",
    "<p>Determine the sum of all integers which are the sum of exactly one of the 50-element subsets of S, i.e. find sum(U(S,50)).</p>\n",
    "</div>"
   ]
  },
  {
   "cell_type": "code",
   "execution_count": null,
   "metadata": {},
   "outputs": [],
   "source": [
    "def solve():\n",
    "    # Your code here\n",
    "    \n"
   ]
  },
  {
   "cell_type": "markdown",
   "metadata": {},
   "source": [
    "## Solution"
   ]
  },
  {
   "cell_type": "code",
   "execution_count": null,
   "metadata": {},
   "outputs": [],
   "source": [
    "solve()"
   ]
  }
 ],
 "metadata": {},
 "nbformat": 4,
 "nbformat_minor": 2
}
