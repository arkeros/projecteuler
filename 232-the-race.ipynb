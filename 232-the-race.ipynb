{
 "cells": [
  {
   "cell_type": "markdown",
   "metadata": {},
   "source": [
    "# The Race\n",
    "## Problem 232 \n",
    "\n",
    "<div class=\"problem_content\" role=\"problem\">\n",
    "<p>Two players share an unbiased coin and take it in turns to play \"The Race\". On Player 1's turn, he tosses the coin once: if it comes up Heads, he scores one point; if it comes up Tails, he scores nothing. On Player 2's turn, she chooses a positive integer <var>T</var> and tosses the coin <var>T</var> times: if it comes up all Heads, she scores 2<sup><var>T</var>-1</sup> points; otherwise, she scores nothing. Player 1 goes first. The winner is the first to 100 or more points.</p>\n",
    "<p>On each turn Player 2 selects the number, <var>T</var>, of coin tosses that maximises the probability of her winning.</p>\n",
    "<p>What is the probability that Player 2 wins?</p>\n",
    "<p>Give your answer rounded to eight decimal places in the form 0.<i>abcdefgh</i> .</p>\n",
    "</div>"
   ]
  },
  {
   "cell_type": "code",
   "execution_count": null,
   "metadata": {},
   "outputs": [],
   "source": [
    "def solve():\n",
    "    # Your code here\n",
    "    \n"
   ]
  },
  {
   "cell_type": "markdown",
   "metadata": {},
   "source": [
    "## Solution"
   ]
  },
  {
   "cell_type": "code",
   "execution_count": null,
   "metadata": {},
   "outputs": [],
   "source": [
    "solve()"
   ]
  }
 ],
 "metadata": {},
 "nbformat": 4,
 "nbformat_minor": 2
}
