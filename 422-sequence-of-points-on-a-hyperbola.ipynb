{
 "cells": [
  {
   "cell_type": "markdown",
   "metadata": {},
   "source": [
    "# Sequence of points on a hyperbola\n",
    "## Problem 422 \n",
    "\n",
    "<div class=\"problem_content\" role=\"problem\">\n",
    "<p>Let H be the hyperbola defined by the equation 12<var>x</var><sup>2</sup> + 7<var>x</var><var>y</var> - 12<var>y</var><sup>2</sup> = 625.</p>\n",
    "<p>Next, define X as the point (7, 1). It can be seen that X is in H.</p>\n",
    "<p>Now we define a sequence of points in H, {P<sub><var>i</var></sub> : <var>i</var> &#8805; 1}, as:\n",
    "</p><ul><li> P<sub>1</sub> = (13, 61/4).\n",
    "</li><li> P<sub>2</sub> = (-43/6, -4).\n",
    "</li><li> For <var>i</var> &gt; 2, P<sub><var>i</var></sub> is the unique point in H that is different from P<sub><var>i</var>-1</sub> and such that line P<sub><var>i</var></sub>P<sub><var>i</var>-1</sub> is parallel to line P<sub><var>i</var>-2</sub>X. It can be shown that P<sub><var>i</var></sub> is well-defined, and that its coordinates are always rational.\n",
    "</li></ul><img alt=\"p422_hyperbola.gif\" src=\"project/images/p422_hyperbola.gif\"/><p>You are given that P<sub>3</sub>  = (-19/2, -229/24), P<sub>4</sub> = (1267/144, -37/12) and P<sub>7</sub> = (17194218091/143327232, 274748766781/1719926784).</p>\n",
    "<p>Find P<sub><var>n</var></sub> for <var>n</var> = 11<sup>14</sup> in the following format:<br/>If P<sub><var>n</var></sub> = (<var>a</var>/<var>b</var>, <var>c</var>/<var>d</var>) where the fractions are in lowest terms and the denominators are positive, then the answer is (<var>a</var> + <var>b</var> + <var>c</var> + <var>d</var>) mod 1&#160;000&#160;000&#160;007.</p>\n",
    "<p>For <var>n</var> = 7, the answer would have been: 806236837.</p>\n",
    "</div>"
   ]
  },
  {
   "cell_type": "code",
   "execution_count": null,
   "metadata": {},
   "outputs": [],
   "source": [
    "def solve():\n",
    "    # Your code here\n",
    "    \n"
   ]
  },
  {
   "cell_type": "markdown",
   "metadata": {},
   "source": [
    "## Solution"
   ]
  },
  {
   "cell_type": "code",
   "execution_count": null,
   "metadata": {},
   "outputs": [],
   "source": [
    "solve()"
   ]
  }
 ],
 "metadata": {},
 "nbformat": 4,
 "nbformat_minor": 2
}
