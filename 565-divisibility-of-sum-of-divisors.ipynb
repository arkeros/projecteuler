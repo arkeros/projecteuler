{
 "cells": [
  {
   "cell_type": "markdown",
   "metadata": {},
   "source": [
    "# Divisibility of sum of divisors\n",
    "## Problem 565 \n",
    "\n",
    "<div class=\"problem_content\" role=\"problem\">\n",
    "<p>Let $\\sigma(n)$ be the sum of the divisors of $n$.<br/>\n",
    "E.g. the divisors of 4 are 1, 2 and 4, so $\\sigma(4)=7$.\n",
    "</p>\n",
    "<p>\n",
    "The numbers $n$ not exceeding 20 such that 7 divides  $\\sigma(n)$ are:  4,12,13 and 20, the sum of these numbers being 49.\n",
    "</p>\n",
    "<p>\n",
    "Let $S(n , d)$ be the sum of the numbers $i$ not exceeding $n$ such that $d$ divides $\\sigma(i)$.<br/>\n",
    "So $S(20 , 7)=49$.\n",
    "\n",
    "</p>\n",
    "<p>\n",
    "You are given: $S(10^6,2017)=150850429$ and $S(10^9 , 2017)=249652238344557$.\n",
    "</p>\n",
    "<p>\n",
    "Find $S(10^{11} , 2017)$\n",
    "</p>\n",
    "</div>"
   ]
  },
  {
   "cell_type": "code",
   "execution_count": null,
   "metadata": {},
   "outputs": [],
   "source": [
    "def solve():\n",
    "    # Your code here\n",
    "    \n"
   ]
  },
  {
   "cell_type": "markdown",
   "metadata": {},
   "source": [
    "## Solution"
   ]
  },
  {
   "cell_type": "code",
   "execution_count": null,
   "metadata": {},
   "outputs": [],
   "source": [
    "solve()"
   ]
  }
 ],
 "metadata": {},
 "nbformat": 4,
 "nbformat_minor": 2
}
