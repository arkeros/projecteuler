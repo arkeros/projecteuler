{
 "cells": [
  {
   "cell_type": "markdown",
   "metadata": {},
   "source": [
    "# Bounded Sequences\n",
    "## Problem 319 \n",
    "\n",
    "<div class=\"problem_content\" role=\"problem\">\n",
    "<p>\n",
    "Let <var>x</var><sub>1</sub>, <var>x</var><sub>2</sub>,..., <var>x<sub>n</sub></var> be a sequence of length <var>n</var> such that:\n",
    "</p><ul><li><var>x</var><sub>1</sub> = 2</li>\n",
    "<li>for all 1 &lt; <var>i</var> &#8804; <var>n</var> : <var>x</var><sub><var>i</var>-<i>1</i></sub> &lt; <var>x<sub>i</sub></var></li>\n",
    "<li>for all <var>i</var> and <var>j</var> with 1 &#8804; <var>i</var>, <var>j</var> &#8804; <var>n</var> : (<var>x<sub>i</sub></var>)<var><sup> j</sup></var> &lt; (<var>x<sub>j</sub></var> + 1)<var><sup>i</sup></var></li>\n",
    "</ul><p>\n",
    "There are only five such sequences of length 2, namely:\n",
    "{2,4}, {2,5}, {2,6}, {2,7} and {2,8}.<br/>\n",
    "There are 293 such sequences of length 5; three examples are given below:<br/>\n",
    "{2,5,11,25,55}, {2,6,14,36,88}, {2,8,22,64,181}.\n",
    "</p>\n",
    "<p>\n",
    "Let <var>t</var>(<var>n</var>) denote the number of such sequences of length <var>n</var>.<br/>\n",
    "You are given that <var>t</var>(10) = 86195 and <var>t</var>(20) = 5227991891.\n",
    "</p>\n",
    "<p>\n",
    "Find <var>t</var>(10<sup>10</sup>) and give your answer modulo 10<sup>9</sup>.\n",
    "</p>\n",
    "</div>"
   ]
  },
  {
   "cell_type": "code",
   "execution_count": null,
   "metadata": {},
   "outputs": [],
   "source": [
    "def solve():\n",
    "    # Your code here\n",
    "    \n"
   ]
  },
  {
   "cell_type": "markdown",
   "metadata": {},
   "source": [
    "## Solution"
   ]
  },
  {
   "cell_type": "code",
   "execution_count": null,
   "metadata": {},
   "outputs": [],
   "source": [
    "solve()"
   ]
  }
 ],
 "metadata": {},
 "nbformat": 4,
 "nbformat_minor": 2
}
