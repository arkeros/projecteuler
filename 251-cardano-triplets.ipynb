{
 "cells": [
  {
   "cell_type": "markdown",
   "metadata": {},
   "source": [
    "# Cardano Triplets\n",
    "## Problem 251 \n",
    "\n",
    "<div class=\"problem_content\" role=\"problem\">\n",
    "<p>\n",
    "A triplet of positive integers (<var>a</var>,<var>b</var>,<var>c</var>) is called a Cardano Triplet if it satisfies the condition:</p>\n",
    "<div style=\"text-align:center;\">\n",
    "<img alt=\"\" src=\"project/images/p251_cardano.gif\"/></div>\n",
    "<p>\n",
    "For example, (2,1,5) is a Cardano Triplet.\n",
    "</p>\n",
    "<p>\n",
    "There exist 149 Cardano Triplets for which <var>a</var>+<var>b</var>+<var>c</var> &#8804; 1000.\n",
    "</p>\n",
    "<p>\n",
    "Find how many Cardano Triplets exist such that <var>a</var>+<var>b</var>+<var>c</var> &#8804; 110,000,000.\n",
    " \n",
    "</p>\n",
    "</div>"
   ]
  },
  {
   "cell_type": "code",
   "execution_count": null,
   "metadata": {},
   "outputs": [],
   "source": [
    "def solve():\n",
    "    # Your code here\n",
    "    \n"
   ]
  },
  {
   "cell_type": "markdown",
   "metadata": {},
   "source": [
    "## Solution"
   ]
  },
  {
   "cell_type": "code",
   "execution_count": null,
   "metadata": {},
   "outputs": [],
   "source": [
    "solve()"
   ]
  }
 ],
 "metadata": {},
 "nbformat": 4,
 "nbformat_minor": 2
}
