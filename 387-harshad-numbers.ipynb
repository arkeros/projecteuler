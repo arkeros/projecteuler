{
 "cells": [
  {
   "cell_type": "markdown",
   "metadata": {},
   "source": [
    "# Harshad Numbers\n",
    "## Problem 387 \n",
    "\n",
    "<div class=\"problem_content\" role=\"problem\">\n",
    "<p>A <b>Harshad or Niven number</b> is a number that is divisible by the sum of its digits.\n",
    "<br/>201 is a Harshad number because it is divisible by 3 (the sum of its digits.)\n",
    "<br/>When we truncate the last digit from 201, we get 20, which is a Harshad number.\n",
    "<br/>When we truncate the last digit from 20, we get 2, which is also a Harshad number.\n",
    "<br/>Let's call a Harshad number that, while recursively truncating the last digit, always results in a Harshad number a <i>right truncatable Harshad number.</i></p>\n",
    "<p>Also:\n",
    "<br/>201/3=67 which is prime.\n",
    "<br/>Let's call a Harshad number that, when divided by the sum of its digits, results in a prime a <i>strong Harshad number</i>.</p>\n",
    "<p>Now take the number 2011 which is prime.\n",
    "<br/>When we truncate the last digit from it we get 201, a strong Harshad number that is also right truncatable.\n",
    "<br/>Let's call such primes <i>strong, right truncatable Harshad primes</i>.</p>\n",
    "<p>You are given that the sum of the strong, right truncatable Harshad primes less than 10000 is 90619.</p>\n",
    "<p>Find the sum of the strong, right truncatable Harshad primes less than 10<sup>14</sup>.</p>\n",
    "</div>"
   ]
  },
  {
   "cell_type": "code",
   "execution_count": null,
   "metadata": {},
   "outputs": [],
   "source": [
    "def solve():\n",
    "    # Your code here\n",
    "    \n"
   ]
  },
  {
   "cell_type": "markdown",
   "metadata": {},
   "source": [
    "## Solution"
   ]
  },
  {
   "cell_type": "code",
   "execution_count": null,
   "metadata": {},
   "outputs": [],
   "source": [
    "solve()"
   ]
  }
 ],
 "metadata": {},
 "nbformat": 4,
 "nbformat_minor": 2
}
