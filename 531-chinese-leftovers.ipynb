{
 "cells": [
  {
   "cell_type": "markdown",
   "metadata": {},
   "source": [
    "# Chinese leftovers\n",
    "## Problem 531 \n",
    "\n",
    "<div class=\"problem_content\" role=\"problem\">\n",
    "<p>\n",
    "Let g(<var>a,n,b,m</var>) be the smallest non-negative solution <var>x</var> to the system:<br/><var>x = a</var> mod <var>n</var><br/><var>x = b</var> mod <var>m</var><br/>\n",
    "if such a solution exists, otherwise 0.\n",
    "</p>\n",
    "<p>\n",
    "E.g. g(2,4,4,6)=10, but g(3,4,4,6)=0.\n",
    "</p>\n",
    "<p>\n",
    "Let &#966;(<var>n</var>) be Euler's totient function.\n",
    "</p>\n",
    "<p>\n",
    "Let f(n,m)=g(&#966;(n),n,&#966;(m),m)\n",
    "</p>\n",
    "<p>\n",
    "Find &#8721;f(n,m) for 1000000 &#8804; n &lt; m &lt; 1005000\n",
    "</p>\n",
    "</div>"
   ]
  },
  {
   "cell_type": "code",
   "execution_count": null,
   "metadata": {},
   "outputs": [],
   "source": [
    "def solve():\n",
    "    # Your code here\n",
    "    \n"
   ]
  },
  {
   "cell_type": "markdown",
   "metadata": {},
   "source": [
    "## Solution"
   ]
  },
  {
   "cell_type": "code",
   "execution_count": null,
   "metadata": {},
   "outputs": [],
   "source": [
    "solve()"
   ]
  }
 ],
 "metadata": {},
 "nbformat": 4,
 "nbformat_minor": 2
}
