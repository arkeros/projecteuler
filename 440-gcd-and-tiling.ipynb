{
 "cells": [
  {
   "cell_type": "markdown",
   "metadata": {},
   "source": [
    "# GCD and Tiling\n",
    "## Problem 440 \n",
    "\n",
    "<div class=\"problem_content\" role=\"problem\">\n",
    "<p>We want to tile a board of length <var>n</var> and height 1 completely, with either 1 &#215; 2 blocks or 1 &#215; 1 blocks with a single decimal digit on top:</p>\n",
    "<img alt=\"p440_tiles.png\" src=\"project/images/p440_tiles.png\"/><p>For example, here are some of the ways to tile a board of length <var>n</var> = 8:</p>\n",
    "<img alt=\"p440_some8.png\" src=\"project/images/p440_some8.png\"/><p>Let T(<var>n</var>) be the number of ways to tile a board of length <var>n</var> as described above.</p>\n",
    "<p>For example, T(1) = 10 and T(2) = 101.</p>\n",
    "<p>Let S(<var>L</var>) be the triple sum &#8721;<sub><var>a</var>,<var>b</var>,<var>c</var></sub> gcd(T(<var>c</var><sup><var>a</var></sup>), T(<var>c</var><sup><var>b</var></sup>)) for 1 &#8804; <var>a</var>, <var>b</var>, <var>c</var> &#8804; <var>L</var>.<br/>\n",
    "For example:<br/>\n",
    "S(2) = 10444<br/>\n",
    "S(3) = 1292115238446807016106539989<br/>\n",
    "S(4) mod 987&#160;898&#160;789 = 670616280.</p>\n",
    "<p>Find S(2000) mod 987&#160;898&#160;789.</p>\n",
    "</div>"
   ]
  },
  {
   "cell_type": "code",
   "execution_count": null,
   "metadata": {},
   "outputs": [],
   "source": [
    "def solve():\n",
    "    # Your code here\n",
    "    \n"
   ]
  },
  {
   "cell_type": "markdown",
   "metadata": {},
   "source": [
    "## Solution"
   ]
  },
  {
   "cell_type": "code",
   "execution_count": null,
   "metadata": {},
   "outputs": [],
   "source": [
    "solve()"
   ]
  }
 ],
 "metadata": {},
 "nbformat": 4,
 "nbformat_minor": 2
}
