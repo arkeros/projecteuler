{
 "cells": [
  {
   "cell_type": "markdown",
   "metadata": {},
   "source": [
    "# Irrational base\n",
    "## Problem 558 \n",
    "\n",
    "<div class=\"problem_content\" role=\"problem\">\n",
    "<p>Let <var>r</var> be the real root of the equation <var>x</var><sup>3</sup>&#160;=&#160;<var>x</var><sup>2</sup>&#160;+&#160;1.<br/>\n",
    "Every positive integer can be written as the sum of distinct increasing powers of <var>r</var>.<br/>\n",
    "If we require the number of terms to be finite and the difference between any two exponents to be three or more, then the representation is unique.<br/>\n",
    "For example, 3&#160;=&#160;<var>r</var><sup>&#160;-10</sup>&#160;+&#160;<var>r</var><sup>&#160;-5</sup>&#160;+&#160;<var>r</var><sup>&#160;-1</sup>&#160;+&#160;<var>r</var><sup>&#160;2</sup> and 10&#160;=&#160;<var>r</var><sup>&#160;-10</sup>&#160;+&#160;<var>r</var><sup>&#160;-7</sup>&#160;+&#160;<var>r</var><sup>&#160;6</sup>.<br/>\n",
    "Interestingly, the relation holds for the complex roots of the equation.</p>\n",
    "<p>Let <var>w</var>(<var>n</var>) be the number of terms in this unique representation of <var>n</var>. Thus <var>w</var>(3)&#160;=&#160;4 and <var>w</var>(10)&#160;=&#160;3.</p>\n",
    "<p>More formally, for all positive integers <var>n</var>, we have:<br/><var>n</var> = $\\displaystyle \\sum_{k=-\\infty}^{\\infty}$ <var>b<sub>k</sub>&#160;r<sup>k</sup></var><br/>\n",
    "under the conditions that:<br/><var>b<sub>k</sub></var> is 0 or 1 for all <var>k</var>;<br/><var>b<sub>k</sub></var>&#160;+&#160;<var>b</var><sub><var>k</var>+1</sub>&#160;+&#160;<var>b</var><sub><var>k</var>+2</sub>&#160;&#8804;&#160;1 for all <var>k</var>;<br/><var>w</var>(<var>n</var>) = $\\displaystyle \\sum_{k=-\\infty}^{\\infty}$ <var>b<sub>k</sub></var> is finite.</p>\n",
    "<p>Let S(<var>m</var>)&#160;= $\\displaystyle \\sum_{j=1}^{m}$ <var>w</var>(<var>j</var><sup>2</sup>).<br/>\n",
    "You are given S(10) = 61 and S(1000) = 19403.</p>\n",
    "<p>Find S(5 000 000).</p>\n",
    "</div>"
   ]
  },
  {
   "cell_type": "code",
   "execution_count": null,
   "metadata": {},
   "outputs": [],
   "source": [
    "def solve():\n",
    "    # Your code here\n",
    "    \n"
   ]
  },
  {
   "cell_type": "markdown",
   "metadata": {},
   "source": [
    "## Solution"
   ]
  },
  {
   "cell_type": "code",
   "execution_count": null,
   "metadata": {},
   "outputs": [],
   "source": [
    "solve()"
   ]
  }
 ],
 "metadata": {},
 "nbformat": 4,
 "nbformat_minor": 2
}
