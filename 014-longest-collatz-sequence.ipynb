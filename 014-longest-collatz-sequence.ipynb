{
 "cells": [
  {
   "cell_type": "markdown",
   "metadata": {},
   "source": [
    "# Longest Collatz sequence\n",
    "## Problem 14 \n",
    "\n",
    "<div class=\"problem_content\" role=\"problem\">\n",
    "<p>The following iterative sequence is defined for the set of positive integers:</p>\n",
    "<p style=\"margin-left:50px;\"><var>n</var> &#8594; <var>n</var>/2 (<var>n</var> is even)<br/><var>n</var> &#8594; 3<var>n</var> + 1 (<var>n</var> is odd)</p>\n",
    "<p>Using the rule above and starting with 13, we generate the following sequence:</p>\n",
    "<div style=\"text-align:center;\">13 &#8594; 40 &#8594; 20 &#8594; 10 &#8594; 5 &#8594; 16 &#8594; 8 &#8594; 4 &#8594; 2 &#8594; 1</div>\n",
    "<p>It can be seen that this sequence (starting at 13 and finishing at 1) contains 10 terms. Although it has not been proved yet (Collatz Problem), it is thought that all starting numbers finish at 1.</p>\n",
    "<p>Which starting number, under one million, produces the longest chain?</p>\n",
    "<p class=\"note\"><b>NOTE:</b> Once the chain starts the terms are allowed to go above one million.</p>\n",
    "</div>"
   ]
  },
  {
   "cell_type": "code",
   "execution_count": null,
   "metadata": {},
   "outputs": [],
   "source": [
    "def solve():\n",
    "    # Your code here\n",
    "    \n"
   ]
  },
  {
   "cell_type": "markdown",
   "metadata": {},
   "source": [
    "## Solution"
   ]
  },
  {
   "cell_type": "code",
   "execution_count": null,
   "metadata": {},
   "outputs": [],
   "source": [
    "solve()"
   ]
  }
 ],
 "metadata": {},
 "nbformat": 4,
 "nbformat_minor": 2
}
