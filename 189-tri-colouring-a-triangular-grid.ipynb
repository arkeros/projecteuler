{
 "cells": [
  {
   "cell_type": "markdown",
   "metadata": {},
   "source": [
    "# Tri-colouring a triangular grid\n",
    "## Problem 189 \n",
    "\n",
    "<div class=\"problem_content\" role=\"problem\">\n",
    "<p>Consider the following configuration of 64 triangles:</p>\n",
    "<div style=\"text-align:center;\"><img alt=\"\" src=\"project/images/p189_grid.gif\"/></div>\n",
    "<p>We wish to colour the interior of each triangle with one of three colours: red, green or blue, so that no two neighbouring triangles have the same colour. Such a colouring shall be called valid. Here, two triangles are said to be neighbouring if they share an edge.<br/>\n",
    "Note: if they only share a vertex, then they are not neighbours.</p>\n",
    "<p>For example, here is a valid colouring of the above grid:</p>\n",
    "<div style=\"text-align:center;\"><img alt=\"\" src=\"project/images/p189_colours.gif\"/></div>\n",
    "<p>A colouring C' which is obtained from a colouring C by rotation or reflection is considered <i>distinct</i> from C unless the two are identical.</p>\n",
    "<p>How many distinct valid colourings are there for the above configuration?</p>\n",
    "</div>"
   ]
  },
  {
   "cell_type": "code",
   "execution_count": null,
   "metadata": {},
   "outputs": [],
   "source": [
    "def solve():\n",
    "    # Your code here\n",
    "    \n"
   ]
  },
  {
   "cell_type": "markdown",
   "metadata": {},
   "source": [
    "## Solution"
   ]
  },
  {
   "cell_type": "code",
   "execution_count": null,
   "metadata": {},
   "outputs": [],
   "source": [
    "solve()"
   ]
  }
 ],
 "metadata": {},
 "nbformat": 4,
 "nbformat_minor": 2
}
