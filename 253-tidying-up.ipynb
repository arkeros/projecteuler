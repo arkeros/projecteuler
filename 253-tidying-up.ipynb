{
 "cells": [
  {
   "cell_type": "markdown",
   "metadata": {},
   "source": [
    "# Tidying up\n",
    "## Problem 253 \n",
    "\n",
    "<div class=\"problem_content\" role=\"problem\">\n",
    "<p>A small child has a &#8220;number caterpillar&#8221; consisting of forty jigsaw pieces, each with one number on it, which, when connected together in a line, reveal the numbers 1 to 40 in order.</p>\n",
    "<p>Every night, the child's father has to pick up the pieces of the caterpillar that have been scattered across the play room. He picks up the pieces at random and places them in the correct order.<br/> As the caterpillar is built up in this way, it forms distinct segments that gradually merge together.<br/> The number of segments starts at zero (no pieces placed), generally increases up to about eleven or twelve, then tends to drop again before finishing at a single segment (all pieces placed).</p><p>\n",
    "</p><p>For example:</p>\n",
    "<div align=\"center\">\n",
    "<table align=\"center\" border=\"1\" cellpadding=\"2\" cellspacing=\"0\"><tr style=\"background-color:#c1daf9;\"><td align=\"center\" width=\"80\"><b>Piece Placed</b></td>\n",
    "<td align=\"center\" width=\"80\"><b>Segments So Far</b></td></tr><tr><td align=\"center\">12</td><td align=\"center\">1</td></tr><tr><td align=\"center\">4</td><td align=\"center\">2</td></tr><tr><td align=\"center\">29</td><td align=\"center\">3</td></tr><tr><td align=\"center\">6</td><td align=\"center\">4</td></tr><tr><td align=\"center\">34</td><td align=\"center\">5</td></tr><tr><td align=\"center\">5</td><td align=\"center\">4</td></tr><tr><td align=\"center\">35</td><td align=\"center\">4</td></tr><tr><td align=\"center\">&#8230;</td><td align=\"center\">&#8230;</td></tr></table></div>\n",
    "<p>Let <var>M</var> be the maximum number of segments encountered during a random tidy-up of the caterpillar.<br/>\n",
    "For a caterpillar of ten pieces, the number of possibilities for each <var>M</var> is</p>\n",
    "<div align=\"center\">\n",
    "<table align=\"center\" border=\"1\" cellpadding=\"2\" cellspacing=\"0\"><tr style=\"background-color:#c1daf9;\"><td align=\"center\" width=\"50\"><b><var>M</var></b></td>\n",
    "<td align=\"center\" width=\"90\"><b>Possibilities</b></td></tr><tr><td align=\"center\">1</td><td align=\"right\">512&#160; &#160;&#160; &#160;</td></tr><tr><td align=\"center\">2</td><td align=\"right\">250912&#160; &#160;&#160; &#160;</td></tr><tr><td align=\"center\">3</td><td align=\"right\">1815264&#160; &#160;&#160; &#160;</td></tr><tr><td align=\"center\">4</td><td align=\"right\">1418112&#160; &#160;&#160; &#160;</td></tr><tr><td align=\"center\">5</td><td align=\"right\">144000&#160; &#160;&#160; &#160;</td></tr></table></div>\n",
    "<p>so the most likely value of <var>M</var> is 3 and the average value is <sup>385643</sup>&#8260;<sub>113400</sub> = 3.400732, rounded to six decimal places.</p>\n",
    "<p>The most likely value of <var>M</var> for a forty-piece caterpillar is 11; but what is the average value of <var>M</var>?</p>\n",
    "<p>Give your answer rounded to six decimal places.</p>\n",
    "</div>"
   ]
  },
  {
   "cell_type": "code",
   "execution_count": null,
   "metadata": {},
   "outputs": [],
   "source": [
    "def solve():\n",
    "    # Your code here\n",
    "    \n"
   ]
  },
  {
   "cell_type": "markdown",
   "metadata": {},
   "source": [
    "## Solution"
   ]
  },
  {
   "cell_type": "code",
   "execution_count": null,
   "metadata": {},
   "outputs": [],
   "source": [
    "solve()"
   ]
  }
 ],
 "metadata": {},
 "nbformat": 4,
 "nbformat_minor": 2
}
