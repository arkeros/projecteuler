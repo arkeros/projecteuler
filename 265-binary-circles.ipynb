{
 "cells": [
  {
   "cell_type": "markdown",
   "metadata": {},
   "source": [
    "# Binary Circles\n",
    "## Problem 265 \n",
    "\n",
    "<div class=\"problem_content\" role=\"problem\">\n",
    "<p>2<sup>N</sup> binary digits can be placed in a circle so that all the N-digit clockwise subsequences are distinct.</p>\n",
    "<p>For N=3, two such circular arrangements are possible, ignoring rotations:</p>\n",
    "<div align=\"center\"><img alt=\"p265_BinaryCircles.gif\" src=\"project/images/p265_BinaryCircles.gif\"/></div>\n",
    "<p>For the first arrangement, the 3-digit subsequences, in clockwise order, are:<br/> 000, 001, 010, 101, 011, 111, 110 and 100.</p>\n",
    "<p>Each circular arrangement can be encoded as a number by concatenating the binary digits starting with the subsequence of all zeros as the most significant bits and proceeding clockwise. The two arrangements for N=3 are thus represented as 23 and 29:\n",
    "</p><div align=\"center\">00010111&#8201;<sub>2</sub> = 23</div>\n",
    "<div align=\"center\">00011101&#8201;<sub>2</sub> = 29</div>\n",
    "<p>Calling S(N) the sum of the unique numeric representations, we can see that S(3) = 23 + 29 = 52.</p>\n",
    "<p>Find S(5).</p>\n",
    "</div>"
   ]
  },
  {
   "cell_type": "code",
   "execution_count": null,
   "metadata": {},
   "outputs": [],
   "source": [
    "def solve():\n",
    "    # Your code here\n",
    "    \n"
   ]
  },
  {
   "cell_type": "markdown",
   "metadata": {},
   "source": [
    "## Solution"
   ]
  },
  {
   "cell_type": "code",
   "execution_count": null,
   "metadata": {},
   "outputs": [],
   "source": [
    "solve()"
   ]
  }
 ],
 "metadata": {},
 "nbformat": 4,
 "nbformat_minor": 2
}
