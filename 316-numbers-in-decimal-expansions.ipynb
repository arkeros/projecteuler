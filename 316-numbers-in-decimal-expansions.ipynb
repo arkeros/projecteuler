{
 "cells": [
  {
   "cell_type": "markdown",
   "metadata": {},
   "source": [
    "# Numbers in decimal expansions\n",
    "## Problem 316 \n",
    "\n",
    "<div class=\"problem_content\" role=\"problem\">\n",
    "<p>Let <var>p</var> = <var>p<sub><font size=\"-2\">1</font></sub> p<sub><font size=\"-2\">2</font></sub> p<sub><font size=\"-2\">3</font></sub></var> ... be an infinite sequence of random digits, selected from {0,1,2,3,4,5,6,7,8,9} with equal probability.<br/>\n",
    "It can be seen that <var>p</var> corresponds to the real number 0.<var>p<sub><font size=\"-2\">1</font></sub> p<sub><font size=\"-2\">2</font></sub> p<sub><font size=\"-2\">3</font></sub></var> .... <br/>\n",
    "It can also be seen that choosing a random real number from the interval [0,1) is equivalent to choosing an infinite sequence of random digits selected from {0,1,2,3,4,5,6,7,8,9} with equal probability.</p>\n",
    "<p>For any positive integer <var>n</var> with <var>d</var> decimal digits, let <var>k</var> be the smallest index such that <br/><var>p<sub><small>k</small>, </sub></var><var>p<sub><small>k+1</small></sub></var>, ...<var>p<sub><small>k+d-1</small></sub></var> are the decimal digits of <var>n</var>, in the same order.<br/>\n",
    "Also, let <var>g</var>(<var>n</var>) be the expected value of <var>k</var>; it can be proven that <var>g</var>(<var>n</var>) is always finite and, interestingly, always an integer number.</p>\n",
    "<p>For example, if <var>n</var> = 535, then<br/>\n",
    "for <var>p</var> = 31415926<b>535</b>897...., we get <var>k</var> = 9<br/>\n",
    "for <var>p</var> = 35528714365004956000049084876408468<b>535</b>4..., we get <var>k</var> = 36<br/>\n",
    "etc and we find that <var>g</var>(535) = 1008.</p>\n",
    "<p>Given that <img alt=\"p316_decexp1.gif\" src=\"project/images/p316_decexp1.gif\" style=\"vertical-align:middle;\"/>, find <img alt=\"p316_decexp2.gif\" src=\"project/images/p316_decexp2.gif\" style=\"vertical-align:middle;\"/></p>\n",
    "<u><i>Note</i></u>: <img alt=\"p316_decexp3.gif\" src=\"project/images/p316_decexp3.gif\" style=\"vertical-align:middle;\"/> represents the floor function.\n",
    "</div>"
   ]
  },
  {
   "cell_type": "code",
   "execution_count": null,
   "metadata": {},
   "outputs": [],
   "source": [
    "def solve():\n",
    "    # Your code here\n",
    "    \n"
   ]
  },
  {
   "cell_type": "markdown",
   "metadata": {},
   "source": [
    "## Solution"
   ]
  },
  {
   "cell_type": "code",
   "execution_count": null,
   "metadata": {},
   "outputs": [],
   "source": [
    "solve()"
   ]
  }
 ],
 "metadata": {},
 "nbformat": 4,
 "nbformat_minor": 2
}
