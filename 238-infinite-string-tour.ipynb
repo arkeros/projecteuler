{
 "cells": [
  {
   "cell_type": "markdown",
   "metadata": {},
   "source": [
    "# Infinite string tour\n",
    "## Problem 238 \n",
    "\n",
    "<div class=\"problem_content\" role=\"problem\">\n",
    "<p>Create a sequence of numbers using the \"Blum Blum Shub\" pseudo-random number generator:</p>\n",
    "<center><table class=\"p238\"><tr><td style=\"text-align:right;\"><var>s</var><sub>0</sub></td>\n",
    "<td>=</td>\n",
    "<td>14025256</td>\n",
    "</tr><tr><td><var>s</var><sub><var>n</var>+1</sub></td>\n",
    "<td>=</td>\n",
    "<td><var>s</var><sub><var>n</var></sub><sup>2</sup> mod 20300713</td>\n",
    "</tr></table></center>\n",
    "<p>Concatenate these numbers &#8201;<var>s</var><sub>0</sub><var>s</var><sub>1</sub><var>s</var><sub>2</sub>&#8230; to create a string <var>w</var> of infinite length.<br/>\n",
    "Then, <var>w</var>&#8201;=&#8201;<span style=\"font-family:'courier new';font-size:12pt;color:#0000ff;\">14025256741014958470038053646&#8230;</span></p>\n",
    "<p>For a positive integer <var>k</var>, if no substring of <var>w</var> exists with a sum of digits equal to <var>k</var>, <var>p</var>(<var>k</var>) is defined to be zero. If at least one substring of <var>w</var> exists with a sum of digits equal to <var>k</var>, we define <var>p</var>(<var>k</var>)&#8201;=&#8201;<var>z</var>, where <var>z</var> is the starting position of the earliest such substring.</p>\n",
    "<p>For instance:</p>\n",
    "<p>The substrings <span style=\"font-family:'courier new';font-size:12pt;color:#0000ff;\">1</span>, <span style=\"font-family:'courier new';font-size:12pt;color:#0000ff;\">14</span>, <span style=\"font-family:'courier new';font-size:12pt;color:#0000ff;\">1402</span>, &#8230; <br/>\n",
    "with respective sums of digits equal to 1, 5, 7, &#8230;<br/>\n",
    "start at position <b>1</b>, hence <var>p</var>(1)&#8201;=&#8201;<var>p</var>(5)&#8201;=&#8201;<var>p</var>(7)&#8201;=&#8201;&#8230;&#8201;=&#8201;<b>1</b>.</p>\n",
    "<p>The substrings <span style=\"font-family:'courier new';font-size:12pt;color:#0000ff;\">4</span>, <span style=\"font-family:'courier new';font-size:12pt;color:#0000ff;\">402</span>, <span style=\"font-family:'courier new';font-size:12pt;color:#0000ff;\">4025</span>, &#8230;<br/>\n",
    "with respective sums of digits equal to 4, 6, 11, &#8230;<br/>\n",
    "start at position <b>2</b>, hence <var>p</var>(4)&#8201;=&#8201;<var>p</var>(6)&#8201;=&#8201;<var>p</var>(11)&#8201;=&#8201;&#8230;&#8201;=&#8201;<b>2</b>.</p>\n",
    "<p>The substrings <span style=\"font-family:'courier new';font-size:12pt;color:#0000ff;\">02</span>, <span style=\"font-family:'courier new';font-size:12pt;color:#0000ff;\">0252</span>, &#8230;<br/>\n",
    "with respective sums of digits equal to 2, 9, &#8230;<br/>\n",
    "start at position <b>3</b>, hence <var>p</var>(2)&#8201;=&#8201;<var>p</var>(9)&#8201;=&#8201;&#8230;&#8201;=&#8201;<b>3</b>.</p><p>\n",
    "</p><p>Note that substring <span style=\"font-family:'courier new';font-size:12pt;color:#0000ff;\">025</span> starting at position <b>3</b>, has a sum of digits equal to 7, but there was an earlier substring (starting at position <b>1</b>) with a sum of digits equal to 7, so <var>p</var>(7)&#8201;=&#8201;1, <i>not</i> 3.</p>\n",
    "<p>We can verify that, for 0&#8201;&lt;&#8201;<var>k</var>&#8201;&#8804;&#8201;10<sup>3</sup>, &#8721;&#8201;<var>p</var>(<var>k</var>) = 4742.</p>\n",
    "<p>Find &#8721;&#8201;<var>p</var>(<var>k</var>), for 0&#8201;&lt;&#8201;<var>k</var>&#8201;&#8804;&#8201;2&#183;10<sup>15</sup>.</p>\n",
    "</div>"
   ]
  },
  {
   "cell_type": "code",
   "execution_count": null,
   "metadata": {},
   "outputs": [],
   "source": [
    "def solve():\n",
    "    # Your code here\n",
    "    \n"
   ]
  },
  {
   "cell_type": "markdown",
   "metadata": {},
   "source": [
    "## Solution"
   ]
  },
  {
   "cell_type": "code",
   "execution_count": null,
   "metadata": {},
   "outputs": [],
   "source": [
    "solve()"
   ]
  }
 ],
 "metadata": {},
 "nbformat": 4,
 "nbformat_minor": 2
}
