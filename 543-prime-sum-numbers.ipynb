{
 "cells": [
  {
   "cell_type": "markdown",
   "metadata": {},
   "source": [
    "# Prime-Sum Numbers\n",
    "## Problem 543 \n",
    "\n",
    "<div class=\"problem_content\" role=\"problem\">\n",
    "<p>Define function P(<var>n</var>,<var>k</var>) = 1 if <var>n</var> can be written as the sum of <var>k</var> prime numbers (with repetitions allowed), and P(<var>n</var>,<var>k</var>) = 0 otherwise.</p>\n",
    "<p>For example, P(10,2) = 1 because 10 can be written as either 3 + 7 or 5 + 5, but P(11,2) = 0 because no two primes can sum to 11.</p>\n",
    "<p>Let S(<var>n</var>) be the sum of all P(<var>i</var>,<var>k</var>) over 1 &#8804; <var>i</var>,<var>k</var> &#8804; <var>n</var>.</p>\n",
    "<p>For example, S(10) = 20, S(100) = 2402, and S(1000) = 248838.</p>\n",
    "<p>Let F(<var>k</var>) be the <var>k</var>th Fibonacci number (with F(0) = 0 and F(1) = 1).</p>\n",
    "<p>Find the sum of all S(F(<var>k</var>)) over 3 &#8804; <var>k</var> &#8804; 44</p>\n",
    "</div>"
   ]
  },
  {
   "cell_type": "code",
   "execution_count": null,
   "metadata": {},
   "outputs": [],
   "source": [
    "def solve():\n",
    "    # Your code here\n",
    "    \n"
   ]
  },
  {
   "cell_type": "markdown",
   "metadata": {},
   "source": [
    "## Solution"
   ]
  },
  {
   "cell_type": "code",
   "execution_count": null,
   "metadata": {},
   "outputs": [],
   "source": [
    "solve()"
   ]
  }
 ],
 "metadata": {},
 "nbformat": 4,
 "nbformat_minor": 2
}
