{
 "cells": [
  {
   "cell_type": "markdown",
   "metadata": {},
   "source": [
    "# Maximal perimeter\n",
    "## Problem 562 \n",
    "\n",
    "<div class=\"problem_content\" role=\"problem\">\n",
    "<p>Construct triangle ABC such that:</p>\n",
    "<ul><li>Vertices A, B and C are lattice points inside or on the circle of radius <var>r</var> centered at the origin;</li>\n",
    "<li>the triangle contains no other lattice point inside or on its edges;</li>\n",
    "<li>the perimeter is maximum.</li></ul><p>Let <var>R</var> be the circumradius of triangle ABC and T(<var>r</var>) = <var>R</var>/<var>r</var>.<br/>\n",
    "For <var>r</var> = 5, one possible triangle has vertices (-4,-3), (4,2)  and (1,0) with perimeter $\\sqrt{13}+\\sqrt{34}+\\sqrt{89}$ and circumradius <var>R</var> = $\\sqrt {\\frac {19669} 2 }$, so T(5) =$\\sqrt {\\frac {19669} {50} }$.<br/>\n",
    "You are given T(10) ~ 97.26729 and T(100) ~ 9157.64707.</p>\n",
    "<p>Find T(10<sup>7</sup>). Give your answer rounded to the nearest integer.</p>\n",
    "</div>"
   ]
  },
  {
   "cell_type": "code",
   "execution_count": null,
   "metadata": {},
   "outputs": [],
   "source": [
    "def solve():\n",
    "    # Your code here\n",
    "    \n"
   ]
  },
  {
   "cell_type": "markdown",
   "metadata": {},
   "source": [
    "## Solution"
   ]
  },
  {
   "cell_type": "code",
   "execution_count": null,
   "metadata": {},
   "outputs": [],
   "source": [
    "solve()"
   ]
  }
 ],
 "metadata": {},
 "nbformat": 4,
 "nbformat_minor": 2
}
