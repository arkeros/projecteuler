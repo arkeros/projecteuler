{
 "cells": [
  {
   "cell_type": "markdown",
   "metadata": {},
   "source": [
    "# Coin sums\n",
    "## Problem 31 \n",
    "\n",
    "<div class=\"problem_content\" role=\"problem\">\n",
    "<p>In England the currency is made up of pound, &#163;, and pence, p, and there are eight coins in general circulation:</p>\n",
    "<blockquote>1p, 2p, 5p, 10p, 20p, 50p, &#163;1 (100p) and &#163;2 (200p).</blockquote>\n",
    "<p>It is possible to make &#163;2 in the following way:</p>\n",
    "<blockquote>1&#215;&#163;1 + 1&#215;50p + 2&#215;20p + 1&#215;5p + 1&#215;2p + 3&#215;1p</blockquote>\n",
    "<p>How many different ways can &#163;2 be made using any number of coins?</p>\n",
    "</div>"
   ]
  },
  {
   "cell_type": "code",
   "execution_count": null,
   "metadata": {},
   "outputs": [],
   "source": [
    "def solve():\n",
    "    # Your code here\n",
    "    \n"
   ]
  },
  {
   "cell_type": "markdown",
   "metadata": {},
   "source": [
    "## Solution"
   ]
  },
  {
   "cell_type": "code",
   "execution_count": null,
   "metadata": {},
   "outputs": [],
   "source": [
    "solve()"
   ]
  }
 ],
 "metadata": {},
 "nbformat": 4,
 "nbformat_minor": 2
}
