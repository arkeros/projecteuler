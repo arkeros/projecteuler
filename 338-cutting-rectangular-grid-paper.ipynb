{
 "cells": [
  {
   "cell_type": "markdown",
   "metadata": {},
   "source": [
    "# Cutting Rectangular Grid Paper\n",
    "## Problem 338 \n",
    "\n",
    "<div class=\"problem_content\" role=\"problem\">\n",
    "<p>A rectangular sheet of grid paper with integer dimensions <var>w</var> &#215; <var>h</var> is given. Its grid spacing is 1.<br/>\n",
    "When we cut the sheet along the grid lines into two pieces and rearrange those pieces without overlap, we can make new rectangles with different dimensions.</p>\n",
    "<p>For example, from a sheet with dimensions 9 &#215; 4 , we can make rectangles with dimensions 18 &#215; 2, 12 &#215; 3 and 6 &#215; 6 by cutting and rearranging as below:</p>\n",
    "<div align=\"center\">\n",
    "<img alt=\"p338_gridpaper.gif\" src=\"project/images/p338_gridpaper.gif\"/><br/></div>\n",
    "<p>Similarly, from a sheet with dimensions 9 &#215; 8 , we can make rectangles with dimensions 18 &#215; 4 and 12 &#215; 6 .</p>\n",
    "<p>For a pair <var>w</var> and <var>h</var>, let F(<var>w</var>,<var>h</var>) be the number of distinct rectangles that can be made from a sheet with dimensions <var>w</var> &#215; <var>h</var> .<br/>\n",
    "For example, F(2,1) = 0, F(2,2) = 1, F(9,4) = 3 and F(9,8) = 2. <br/>\n",
    "Note that rectangles congruent to the initial one are not counted in F(<var>w</var>,<var>h</var>).<br/>\n",
    "Note also that rectangles with dimensions <var>w</var> &#215; <var>h</var> and dimensions <var>h</var> &#215; <var>w</var> are not considered distinct.</p>\n",
    "<p>For an integer <var>N</var>, let G(<var>N</var>) be the sum of F(<var>w</var>,<var>h</var>) for all pairs <var>w</var> and <var>h</var> which satisfy 0 &lt; <var>h</var> &#8804; <var>w</var> &#8804; <var>N</var>.<br/>\n",
    "We can verify that G(10) = 55, G(10<sup>3</sup>) = 971745 and G(10<sup>5</sup>) = 9992617687.</p>\n",
    "<p>Find G(10<sup>12</sup>). Give your answer modulo 10<sup>8</sup>.</p>\n",
    "</div>"
   ]
  },
  {
   "cell_type": "code",
   "execution_count": null,
   "metadata": {},
   "outputs": [],
   "source": [
    "def solve():\n",
    "    # Your code here\n",
    "    \n"
   ]
  },
  {
   "cell_type": "markdown",
   "metadata": {},
   "source": [
    "## Solution"
   ]
  },
  {
   "cell_type": "code",
   "execution_count": null,
   "metadata": {},
   "outputs": [],
   "source": [
    "solve()"
   ]
  }
 ],
 "metadata": {},
 "nbformat": 4,
 "nbformat_minor": 2
}
