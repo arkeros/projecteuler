{
 "cells": [
  {
   "cell_type": "markdown",
   "metadata": {},
   "source": [
    "# Weak Queens\n",
    "## Problem 534 \n",
    "\n",
    "<div class=\"problem_content\" role=\"problem\">\n",
    "<p>The classical <b>eight queens puzzle</b> is the well known problem of placing eight chess queens on a 8&#215;8 chessboard so that no two queens threaten each other. Allowing configurations to reappear in rotated or mirrored form, a total of 92 distinct configurations can be found for eight queens. The general case asks for the number of distinct ways of placing <var>n</var> queens on a <var>n</var>&#215;<var>n</var> board, e.g. you can find 2 distinct configurations for <var>n</var>=4.</p>\n",
    "<p>Lets define a <i>weak queen</i> on a <var>n</var>&#215;<var>n</var> board to be a piece which can move any number of squares if moved horizontally, but a maximum of <var>n</var>&#8722;1&#8722;<var>w</var> squares if moved vertically or diagonally, 0&#8804;w&lt;n being the \"weakness factor\". For example, a weak queen on a <var>n</var>&#215;<var>n</var> board with a weakness factor of <var>w</var>=1 located in the bottom row will not be able to threaten any square in the top row as the weak queen would need to move <var>n</var>&#8722;1 squares vertically or diagonally to get there, but may only move <var>n</var>&#8722;2 squares in these directions. In contrast, the weak queen is not handicapped horizontally, thus threatening every square in its own row, independently from its current position in that row.</p>\n",
    "<p>Let Q(<var>n</var>,<var>w</var>) be the number of ways <var>n</var> weak queens with weakness factor <var>w</var> can be placed on a <var>n</var>&#215;<var>n</var> board so that no two queens threaten each other. It can be shown, for example, that Q(4,0)=2, Q(4,2)=16 and Q(4,3)=256.</p>\n",
    "<p>Let $S(n)=\\displaystyle\\sum_{w=0}^{n-1} Q(n,w)$.</p>\n",
    "<p>You are given that S(4)=276 and S(5)=3347.</p>\n",
    "<p>Find S(14).</p>\n",
    "</div>"
   ]
  },
  {
   "cell_type": "code",
   "execution_count": null,
   "metadata": {},
   "outputs": [],
   "source": [
    "def solve():\n",
    "    # Your code here\n",
    "    \n"
   ]
  },
  {
   "cell_type": "markdown",
   "metadata": {},
   "source": [
    "## Solution"
   ]
  },
  {
   "cell_type": "code",
   "execution_count": null,
   "metadata": {},
   "outputs": [],
   "source": [
    "solve()"
   ]
  }
 ],
 "metadata": {},
 "nbformat": 4,
 "nbformat_minor": 2
}
