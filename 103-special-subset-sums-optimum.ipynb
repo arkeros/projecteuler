{
 "cells": [
  {
   "cell_type": "markdown",
   "metadata": {},
   "source": [
    "# Special subset sums: optimum\n",
    "## Problem 103 \n",
    "\n",
    "<div class=\"problem_content\" role=\"problem\">\n",
    "<p>Let S(A) represent the sum of elements in set A of size <i>n</i>. We shall call it a special sum set if for any two non-empty disjoint subsets, B and C, the following properties are true:</p>\n",
    "<ol style=\"list-style-type:lower-roman;\"><li>S(B) &#8800; S(C); that is, sums of subsets cannot be equal.</li>\n",
    "<li>If B contains more elements than C then S(B) &gt; S(C).</li>\n",
    "</ol><p>If S(A) is minimised for a given <i>n</i>, we shall call it an optimum special sum set. The first five optimum special sum sets are given below.</p>\n",
    "<p style=\"margin-left:50px;\"><i>n</i> = 1: {1}<br/><i>n</i> = 2: {1, 2}<br/><i>n</i> = 3: {2, 3, 4}<br/><i>n</i> = 4: {3, 5, 6, 7}<br/><i>n</i> = 5: {6, 9, 11, 12, 13}</p>\n",
    "<p>It <i>seems</i> that for a given optimum set, A = {<i>a</i><sub>1</sub>, <i>a</i><sub>2</sub>, ... , <i>a</i><sub>n</sub>}, the next optimum set is of the form B = {<i>b</i>, <i>a</i><sub>1</sub>+<i>b</i>, <i>a</i><sub>2</sub>+<i>b</i>, ... ,<i>a</i><sub>n</sub>+<i>b</i>}, where <i>b</i> is the \"middle\" element on the previous row.</p>\n",
    "<p>By applying this \"rule\" we would expect the optimum set for <i>n</i> = 6 to be A = {11, 17, 20, 22, 23, 24}, with S(A) = 117. However, this is not the optimum set, as we have merely applied an algorithm to provide a near optimum set. The optimum set for <i>n</i> = 6 is A = {11, 18, 19, 20, 22, 25}, with S(A) = 115 and corresponding set string: 111819202225.</p>\n",
    "<p>Given that A is an optimum special sum set for <i>n</i> = 7, find its set string.</p>\n",
    "<p class=\"note\">NOTE: This problem is related to <a href=\"problem=105\">Problem 105</a> and <a href=\"problem=106\">Problem 106</a>.</p>\n",
    "</div>"
   ]
  },
  {
   "cell_type": "code",
   "execution_count": null,
   "metadata": {},
   "outputs": [],
   "source": [
    "def solve():\n",
    "    # Your code here\n",
    "    \n"
   ]
  },
  {
   "cell_type": "markdown",
   "metadata": {},
   "source": [
    "## Solution"
   ]
  },
  {
   "cell_type": "code",
   "execution_count": null,
   "metadata": {},
   "outputs": [],
   "source": [
    "solve()"
   ]
  }
 ],
 "metadata": {},
 "nbformat": 4,
 "nbformat_minor": 2
}
