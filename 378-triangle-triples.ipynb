{
 "cells": [
  {
   "cell_type": "markdown",
   "metadata": {},
   "source": [
    "# Triangle Triples\n",
    "## Problem 378 \n",
    "\n",
    "<div class=\"problem_content\" role=\"problem\">\n",
    "<p>\n",
    "</p><table class=\"formula\"><tr><td>\n",
    "Let T(<var>n</var>) be the <var>n</var><sup>th</sup> triangle number, so T(<var>n</var>) =\n",
    "</td>\n",
    "<td>\n",
    "<table class=\"frac\" style=\"font-size:smaller;\"><tr><td><var>n</var>&#8201;(<var>n</var>+1)</td></tr><tr><td class=\"overline\">2</td></tr></table></td>\n",
    "<td>\n",
    ".\n",
    "</td>\n",
    "</tr></table><p>\n",
    "Let dT(<var>n</var>) be the number of divisors of T(<var>n</var>).<br/>\n",
    "E.g.:\n",
    "T(7) = 28 and dT(7) = 6.\n",
    "</p>\n",
    "<p>\n",
    "Let Tr(<var>n</var>) be the number of triples (<var>i</var>, <var>j</var>, <var>k</var>) such that 1 &#8804; <var>i &lt; j &lt; k &#8804; n</var> and dT(<var>i</var>) &gt; dT(<var>j</var>) &gt; dT(<var>k</var>).<br/>\n",
    "Tr(20) = 14, Tr(100) = 5772 and Tr(1000) = 11174776.\n",
    "</p>\n",
    "<p>\n",
    "Find Tr(60 000 000). <br/>\n",
    "Give the last 18 digits of your answer.\n",
    "</p>\n",
    "</div>"
   ]
  },
  {
   "cell_type": "code",
   "execution_count": null,
   "metadata": {},
   "outputs": [],
   "source": [
    "def solve():\n",
    "    # Your code here\n",
    "    \n"
   ]
  },
  {
   "cell_type": "markdown",
   "metadata": {},
   "source": [
    "## Solution"
   ]
  },
  {
   "cell_type": "code",
   "execution_count": null,
   "metadata": {},
   "outputs": [],
   "source": [
    "solve()"
   ]
  }
 ],
 "metadata": {},
 "nbformat": 4,
 "nbformat_minor": 2
}
