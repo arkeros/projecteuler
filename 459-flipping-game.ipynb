{
 "cells": [
  {
   "cell_type": "markdown",
   "metadata": {},
   "source": [
    "# Flipping game\n",
    "## Problem 459 \n",
    "\n",
    "<div class=\"problem_content\" role=\"problem\">\n",
    "<p>The flipping game is a two player game played on a N by N square board.<br/>\n",
    "Each square contains a disk with one side white and one side black.<br/>\n",
    "The game starts with all disks showing their white side.</p>\n",
    "<p>A turn consists of flipping all disks in a rectangle with the following properties:\n",
    "</p><p></p><ul><li>the upper right corner of the rectangle contains a white disk</li>\n",
    "<li>the rectangle width is a perfect square (1, 4, 9, 16, ...)</li>\n",
    "<li>the rectangle height is a <dfn title=\"The triangular numbers are defined as &#189;&#160;n(n + 1) for positive integer n.\">triangular number</dfn> (1, 3, 6, 10, ...)</li>\n",
    "</ul><p align=\"center\"><img alt=\"p459-flipping-game-0.png\" src=\"project/images/p459-flipping-game-0.png\"/></p>\n",
    "<p>Players alternate turns. A player wins by turning the grid all black.</p>\n",
    "<p>Let W(N) be the number of <dfn title=\"The first move of a strategy that ensures a win no matter what the opponent plays.\">winning moves</dfn> for the first player on a N by N board with all disks white, assuming perfect play.<br/>\n",
    "W(1) = 1, W(2) = 0, W(5) = 8 and W(10<sup>2</sup>) = 31395.</p>\n",
    "<p>For N=5, the first player's eight winning first moves are:</p>\n",
    "<p align=\"center\"><img alt=\"p459-flipping-game-1.png\" src=\"project/images/p459-flipping-game-1.png\"/></p>\n",
    "<p align=\"center\"><img alt=\"p459-flipping-game-2.png\" src=\"project/images/p459-flipping-game-2.png\"/></p>\n",
    "<p>Find W(10<sup>6</sup>).</p>\n",
    "</div>"
   ]
  },
  {
   "cell_type": "code",
   "execution_count": null,
   "metadata": {},
   "outputs": [],
   "source": [
    "def solve():\n",
    "    # Your code here\n",
    "    \n"
   ]
  },
  {
   "cell_type": "markdown",
   "metadata": {},
   "source": [
    "## Solution"
   ]
  },
  {
   "cell_type": "code",
   "execution_count": null,
   "metadata": {},
   "outputs": [],
   "source": [
    "solve()"
   ]
  }
 ],
 "metadata": {},
 "nbformat": 4,
 "nbformat_minor": 2
}
