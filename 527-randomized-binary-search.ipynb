{
 "cells": [
  {
   "cell_type": "markdown",
   "metadata": {},
   "source": [
    "# Randomized Binary Search\n",
    "## Problem 527 \n",
    "\n",
    "<div class=\"problem_content\" role=\"problem\">\n",
    "<p>A secret integer <var>t</var> is selected at random within the range 1 &#8804; <var>t</var> &#8804; <var>n</var>. </p>\n",
    "<p>The goal is to guess the value of <var>t</var> by making repeated guesses, via integer <var>g</var>. After a guess is made, there are three possible outcomes, in which it will be revealed that either <var>g</var> &lt; <var>t</var>, <var>g</var> = <var>t</var>, or <var>g</var> &gt; <var>t</var>. Then the process can repeat as necessary.</p>\n",
    "<p>Normally, the number of guesses required on average can be minimized with a binary search: Given a lower bound <var>L</var> and upper bound <var>H</var> (initialized to <var>L</var> = 1 and <var>H</var> = <var>n</var>), let <var>g</var> = &#8970;(<var>L</var>+<var>H</var>)/2&#8971; where &#8970;&#8901;&#8971; is the integer floor function. If <var>g</var> = <var>t</var>, the process ends. Otherwise, if <var>g</var> &lt; <var>t</var>, set <var>L</var> = <var>g</var>+1, but if <var>g</var> &gt; <var>t</var> instead, set <var>H</var> = <var>g</var>&#8722;1. After setting the new bounds, the search process repeats, and ultimately ends once <var>t</var> is found. Even if <var>t</var> can be deduced without searching, assume that a search will be required anyway to confirm the value.</p>\n",
    "<p>Your friend Bob believes that the standard binary search is not that much better than his randomized variant: Instead of setting <var>g</var> = &#8970;(<var>L</var>+<var>H</var>)/2&#8971;, simply let <var>g</var> be a random integer between <var>L</var> and <var>H</var>, inclusive. The rest of the algorithm is the same as the standard binary search. This new search routine will be referred to as a <i>random binary search</i>.</p>\n",
    "<p>Given that 1 &#8804; <var>t</var> &#8804; <var>n</var> for random <var>t</var>, let B(<var>n</var>) be the expected number of guesses needed to find <var>t</var> using the standard binary search, and let R(<var>n</var>) be the expected number of guesses needed to find <var>t</var> using the random binary search. For example, B(6) = 2.33333333 and R(6) = 2.71666667 when rounded to 8 decimal places.</p>\n",
    "<p>Find R(10<sup>10</sup>) &#8722; B(10<sup>10</sup>) rounded to 8 decimal places.</p>\n",
    "</div>"
   ]
  },
  {
   "cell_type": "code",
   "execution_count": null,
   "metadata": {},
   "outputs": [],
   "source": [
    "def solve():\n",
    "    # Your code here\n",
    "    \n"
   ]
  },
  {
   "cell_type": "markdown",
   "metadata": {},
   "source": [
    "## Solution"
   ]
  },
  {
   "cell_type": "code",
   "execution_count": null,
   "metadata": {},
   "outputs": [],
   "source": [
    "solve()"
   ]
  }
 ],
 "metadata": {},
 "nbformat": 4,
 "nbformat_minor": 2
}
