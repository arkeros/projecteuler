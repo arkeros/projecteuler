{
 "cells": [
  {
   "cell_type": "markdown",
   "metadata": {},
   "source": [
    "# Mountain Range\n",
    "## Problem 262 \n",
    "\n",
    "<div class=\"problem_content\" role=\"problem\">\n",
    "<p>The following equation represents the <i>continuous</i> topography of a mountainous region, giving the <dfn title=\"height above sea level\">elevation</dfn> <var>h</var> at any point (<var>x</var>,<var>y</var>):</p>\n",
    "<div align=\"center\">\n",
    "<img alt=\"p262_formula1.gif\" src=\"project/images/p262_formula1.gif\"/><br/></div>\n",
    "<p>A mosquito intends to fly from A(200,200) to B(1400,1400), without leaving the area given by 0&#160;&#8804;&#160;<var>x</var>,&#160;<var>y</var>&#160;&#8804;&#160;1600.</p>\n",
    "<p>Because of the intervening mountains, it first rises straight up to a point A', having elevation <var>f</var>. Then, while remaining at the same elevation <var>f</var>, it flies around any obstacles until it arrives at a point B' directly above B.</p>\n",
    "<p>First, determine <var>f<sub>min</sub></var> which is the minimum constant elevation allowing such a trip from A to B, while remaining in the specified area.<br/>\n",
    "Then, find the length of the shortest path between A' and B', while flying at that constant elevation <var>f<sub>min</sub></var>.</p>\n",
    "<p>Give that length as your answer, rounded to three decimal places.</p>\n",
    "<p><font><u>Note</u>: For convenience, the elevation function shown above is repeated below, in a form suitable for most programming languages:<br/>\n",
    "h=( 5000-0.005*(x*x+y*y+x*y)+12.5*(x+y) ) * exp( -abs(0.000001*(x*x+y*y)-0.0015*(x+y)+0.7) )</font></p>\n",
    "</div>"
   ]
  },
  {
   "cell_type": "code",
   "execution_count": null,
   "metadata": {},
   "outputs": [],
   "source": [
    "def solve():\n",
    "    # Your code here\n",
    "    \n"
   ]
  },
  {
   "cell_type": "markdown",
   "metadata": {},
   "source": [
    "## Solution"
   ]
  },
  {
   "cell_type": "code",
   "execution_count": null,
   "metadata": {},
   "outputs": [],
   "source": [
    "solve()"
   ]
  }
 ],
 "metadata": {},
 "nbformat": 4,
 "nbformat_minor": 2
}
