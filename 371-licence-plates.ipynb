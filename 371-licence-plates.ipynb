{
 "cells": [
  {
   "cell_type": "markdown",
   "metadata": {},
   "source": [
    "# Licence plates\n",
    "## Problem 371 \n",
    "\n",
    "<div class=\"problem_content\" role=\"problem\">\n",
    "<p>\n",
    "Oregon licence plates consist of three letters followed by a three digit number (each digit can be from [0..9]).<br/>\n",
    "While driving to work Seth plays the following game:<br/>\n",
    "Whenever the numbers of two licence plates seen on his trip add to 1000 that's a win.\n",
    "</p>\n",
    "<p>\n",
    "E.g. MIC-012 and HAN-988 is a win and RYU-500 and SET-500 too. (as long as he sees them in the same trip). \n",
    "</p><p>\n",
    "</p><p>\n",
    "Find the expected number of plates he needs to see for a win.<br/>\n",
    "Give your answer rounded to 8 decimal places behind the decimal point.\n",
    "</p>\n",
    "<p style=\"font-size:88%;\">\n",
    "<b>Note:</b> We assume that each licence plate seen is equally likely to have any three digit number on it.\n",
    "</p>\n",
    "</div>"
   ]
  },
  {
   "cell_type": "code",
   "execution_count": null,
   "metadata": {},
   "outputs": [],
   "source": [
    "def solve():\n",
    "    # Your code here\n",
    "    \n"
   ]
  },
  {
   "cell_type": "markdown",
   "metadata": {},
   "source": [
    "## Solution"
   ]
  },
  {
   "cell_type": "code",
   "execution_count": null,
   "metadata": {},
   "outputs": [],
   "source": [
    "solve()"
   ]
  }
 ],
 "metadata": {},
 "nbformat": 4,
 "nbformat_minor": 2
}
