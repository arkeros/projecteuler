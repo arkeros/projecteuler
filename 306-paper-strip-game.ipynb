{
 "cells": [
  {
   "cell_type": "markdown",
   "metadata": {},
   "source": [
    "# Paper-strip Game\n",
    "## Problem 306 \n",
    "\n",
    "<div class=\"problem_content\" role=\"problem\">\n",
    "<p>The following game is a classic example of Combinatorial Game Theory:</p>\n",
    "<p>Two players start with a strip of <var>n</var> white squares and they take alternate turns.<br/>\n",
    "On each turn, a player picks two contiguous white squares and paints them black.<br/>\n",
    "The first player who cannot make a move loses.</p>\n",
    "<p></p><ul><li>If <var>n</var> = 1, there are no valid moves, so the first player loses automatically.</li>\n",
    "<li>If <var>n</var> = 2, there is only one valid move, after which the second player loses.</li>\n",
    "<li>If <var>n</var> = 3, there are two valid moves, but both leave a situation where the second player loses.</li>\n",
    "<li>If <var>n</var> = 4, there are three valid moves for the first player; she can win the game by painting the two middle squares.</li>\n",
    "<li>If <var>n</var> = 5, there are four valid moves for the first player (shown below in red); but no matter what she does, the second player (blue) wins.</li>\n",
    "</ul><div align=\"center\"><img alt=\"p306_pstrip.gif\" src=\"project/images/p306_pstrip.gif\"/></div>\n",
    "<p>So, for 1 &#8804; <var>n</var> &#8804; 5, there are 3 values of <var>n</var> for which the first player can force a win.<br/>\n",
    "Similarly, for 1 &#8804; <var>n</var> &#8804; 50, there are 40 values of <var>n</var> for which the first player can force a win.</p>\n",
    "<p>For 1 &#8804; <var>n</var> &#8804; 1 000 000, how many values of <var>n</var> are there for which the first player can force a win?</p>\n",
    "</div>"
   ]
  },
  {
   "cell_type": "code",
   "execution_count": null,
   "metadata": {},
   "outputs": [],
   "source": [
    "def solve():\n",
    "    # Your code here\n",
    "    \n"
   ]
  },
  {
   "cell_type": "markdown",
   "metadata": {},
   "source": [
    "## Solution"
   ]
  },
  {
   "cell_type": "code",
   "execution_count": null,
   "metadata": {},
   "outputs": [],
   "source": [
    "solve()"
   ]
  }
 ],
 "metadata": {},
 "nbformat": 4,
 "nbformat_minor": 2
}
