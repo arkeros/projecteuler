{
 "cells": [
  {
   "cell_type": "markdown",
   "metadata": {},
   "source": [
    "# Criss Cross\n",
    "## Problem 166 \n",
    "\n",
    "<div class=\"problem_content\" role=\"problem\">\n",
    "<p>A 4x4 grid is filled with digits d, 0 &#8804; d &#8804; 9.</p>\n",
    "<p>It can be seen that in the grid</p>\n",
    "<p style=\"text-align:center;\">\n",
    "6 3 3 0<br/>\n",
    "5 0 4 3<br/>\n",
    "0 7 1 4<br/>\n",
    "1 2 4 5</p>\n",
    "<p>the sum of each row and each column has the value 12. Moreover the sum of each diagonal is also 12.</p>\n",
    "<p>In how many ways can you fill a 4x4 grid with the digits d, 0 &#8804; d &#8804; 9 so that each row, each column, and both diagonals have the same sum?</p>\n",
    "</div>"
   ]
  },
  {
   "cell_type": "code",
   "execution_count": null,
   "metadata": {},
   "outputs": [],
   "source": [
    "def solve():\n",
    "    # Your code here\n",
    "    \n"
   ]
  },
  {
   "cell_type": "markdown",
   "metadata": {},
   "source": [
    "## Solution"
   ]
  },
  {
   "cell_type": "code",
   "execution_count": null,
   "metadata": {},
   "outputs": [],
   "source": [
    "solve()"
   ]
  }
 ],
 "metadata": {},
 "nbformat": 4,
 "nbformat_minor": 2
}
