{
 "cells": [
  {
   "cell_type": "markdown",
   "metadata": {},
   "source": [
    "# Repeated permutation\n",
    "## Problem 483 \n",
    "\n",
    "<div class=\"problem_content\" role=\"problem\">\n",
    "<p>\n",
    "We define a <i>permutation</i> as an operation that rearranges the order of the elements {1, 2, 3, ..., n}.\n",
    "There are n! such permutations, one of which leaves the elements in their initial order.\n",
    "For n = 3 we have 3! = 6 permutations:<br/>\n",
    "- P<sub>1</sub> = keep the initial order<br/>\n",
    "- P<sub>2</sub> = exchange the 1<sup>st</sup> and 2<sup>nd</sup> elements<br/>\n",
    "- P<sub>3</sub> = exchange the 1<sup>st</sup> and 3<sup>rd</sup> elements<br/>\n",
    "- P<sub>4</sub> = exchange the 2<sup>nd</sup> and 3<sup>rd</sup> elements<br/>\n",
    "- P<sub>5</sub> = rotate the elements to the right<br/>\n",
    "- P<sub>6</sub> = rotate the elements to the left\n",
    "</p>\n",
    "<p>\n",
    "If we select one of these permutations, and we re-apply the <span style=\"text-decoration:underline;\">same</span> permutation repeatedly, we eventually restore the initial order.<br/>For a permutation P<sub>i</sub>, let f(P<sub>i</sub>) be the number of steps required to restore the initial order by applying the permutation P<sub>i</sub> repeatedly.<br/>For n = 3, we obtain:<br/>- f(P<sub>1</sub>) = 1 : (1,2,3) &#8594; (1,2,3)<br/>- f(P<sub>2</sub>) = 2 : (1,2,3) &#8594; (2,1,3) &#8594; (1,2,3)<br/>- f(P<sub>3</sub>) = 2 : (1,2,3) &#8594; (3,2,1) &#8594; (1,2,3)<br/>- f(P<sub>4</sub>) = 2 : (1,2,3) &#8594; (1,3,2) &#8594; (1,2,3)<br/>- f(P<sub>5</sub>) = 3 : (1,2,3) &#8594; (3,1,2) &#8594; (2,3,1) &#8594; (1,2,3)<br/>- f(P<sub>6</sub>) = 3 : (1,2,3) &#8594; (2,3,1) &#8594; (3,1,2) &#8594; (1,2,3)\n",
    "</p>\n",
    "<p>\n",
    "Let g(n) be the average value of f<sup>2</sup>(P<sub>i</sub>) over all permutations P<sub>i</sub> of length n.<br/>g(3) = (1<sup>2</sup> + 2<sup>2</sup> + 2<sup>2</sup> + 2<sup>2</sup> + 3<sup>2</sup> + 3<sup>2</sup>)/3! = 31/6 &#8776; 5.166666667e0<br/>g(5) = 2081/120 &#8776; 1.734166667e1<br/>g(20) = 12422728886023769167301/2432902008176640000 &#8776; 5.106136147e3\n",
    "</p>\n",
    "<p>\n",
    "Find g(350) and write the answer in scientific notation rounded to 10 significant digits, using a lowercase e to separate mantissa and exponent, as in the examples above.\n",
    "</p>\n",
    "</div>"
   ]
  },
  {
   "cell_type": "code",
   "execution_count": null,
   "metadata": {},
   "outputs": [],
   "source": [
    "def solve():\n",
    "    # Your code here\n",
    "    \n"
   ]
  },
  {
   "cell_type": "markdown",
   "metadata": {},
   "source": [
    "## Solution"
   ]
  },
  {
   "cell_type": "code",
   "execution_count": null,
   "metadata": {},
   "outputs": [],
   "source": [
    "solve()"
   ]
  }
 ],
 "metadata": {},
 "nbformat": 4,
 "nbformat_minor": 2
}
