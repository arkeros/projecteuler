{
 "cells": [
  {
   "cell_type": "markdown",
   "metadata": {},
   "source": [
    "# Lowest-cost Search\n",
    "## Problem 328 \n",
    "\n",
    "<div class=\"problem_content\" role=\"problem\">\n",
    "<p>We are trying to find a hidden number selected from the set of integers {1, 2, ..., <var>n</var>} by asking questions. \n",
    "Each number (question) we ask, has a <u>cost equal to the number asked</u> and we get one of three possible answers:<br/></p><ul><li> \"Your guess is lower than the hidden number\", or</li>\n",
    "<li> \"Yes, that's it!\", or</li>\n",
    "<li> \"Your guess is higher than the hidden number\".</li>\n",
    "</ul><p>Given the value of <var>n</var>, an <i>optimal strategy</i> minimizes the total cost (i.e. the sum of all the questions asked) <u>for the worst possible case</u>. E.g.</p>\n",
    "<p>If <var>n</var>=3, the best we can do is obviously to ask the number \"<b>2</b>\". The answer will immediately lead us to find the hidden number (at a total cost = 2).</p>\n",
    "<p>If <var>n</var>=8, we might decide to use a \"binary search\" type of strategy: Our first question would be \"<b>4</b>\" and if the hidden number is higher than 4 we will need one or two additional questions.<br/>\n",
    "Let our second question be \"<b>6</b>\". If the hidden number is still higher than 6, we will need a third question in order to discriminate between 7 and 8.<br/>\n",
    "Thus, our third question will be \"<b>7</b>\" and the total cost for this worst-case scenario will be 4+6+7=<span style=\"color:#FF0000;\"><b>17</b></span>.</p>\n",
    "<p>We can improve considerably the worst-case cost for <var>n</var>=8, by asking \"<b>5</b>\" as our first question.<br/>\n",
    "If we are told that the hidden number is higher than 5, our second question will be \"<b>7</b>\", then we'll know for certain what the hidden number is (for a total cost of 5+7=<span style=\"color:#0000FF;\"><b>12</b></span>).<br/>\n",
    "If we are told that the hidden number is lower than 5, our second question will be \"<b>3</b>\" and if the hidden number is lower than 3 our third question will be \"<b>1</b>\", giving a total cost of 5+3+1=<span style=\"color:#0000FF;\"><b>9</b></span>.<br/>\n",
    "Since <span style=\"color:#0000FF;\"><b>12</b></span>&gt;<span style=\"color:#0000FF;\"><b>9</b></span>, the worst-case cost for this strategy is <span style=\"color:#FF0000;\"><b>12</b></span>. That's better than what we achieved previously with the \"binary search\" strategy; it is also better than or equal to any other strategy.<br/>\n",
    "So, in fact, we have just described an optimal strategy for <var>n</var>=8.</p>\n",
    "<p>Let C(<var>n</var>) be the worst-case cost achieved by an optimal strategy for <var>n</var>, as described above.<br/>\n",
    "Thus C(1) = 0, C(2) = 1, C(3) = 2 and C(8) = 12.<br/>\n",
    "Similarly, C(100) = 400 and <img alt=\"p328_sum1.gif\" src=\"project/images/p328_sum1.gif\" style=\"vertical-align:middle;\"/>C(<var>n</var>) = 17575.</p>\n",
    "<p>Find <img alt=\"p328_sum2.gif\" src=\"project/images/p328_sum2.gif\" style=\"vertical-align:middle;\"/>C(<var>n</var>).</p>\n",
    "</div>"
   ]
  },
  {
   "cell_type": "code",
   "execution_count": null,
   "metadata": {},
   "outputs": [],
   "source": [
    "def solve():\n",
    "    # Your code here\n",
    "    \n"
   ]
  },
  {
   "cell_type": "markdown",
   "metadata": {},
   "source": [
    "## Solution"
   ]
  },
  {
   "cell_type": "code",
   "execution_count": null,
   "metadata": {},
   "outputs": [],
   "source": [
    "solve()"
   ]
  }
 ],
 "metadata": {},
 "nbformat": 4,
 "nbformat_minor": 2
}
