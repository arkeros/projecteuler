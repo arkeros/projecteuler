{
 "cells": [
  {
   "cell_type": "markdown",
   "metadata": {},
   "source": [
    "# GCD sequence\n",
    "## Problem 443 \n",
    "\n",
    "<div class=\"problem_content\" role=\"problem\">\n",
    "<p>Let g(<var>n</var>) be a sequence defined as follows:<br/>\n",
    "g(4) = 13,<br/>\n",
    "g(<var>n</var>) = g(<var>n</var>-1) + gcd(<var>n</var>, g(<var>n</var>-1)) for <var>n</var> &gt; 4.</p>\n",
    "<p>The first few values are:</p>\n",
    "<div align=\"center\">\n",
    "<table align=\"center\" border=\"0\" cellpadding=\"5\" cellspacing=\"1\"><tr><td><var>n</var></td><td>4</td><td>5</td><td>6</td><td>7</td><td>8</td><td>9</td><td>10</td><td>11</td><td>12</td><td>13</td><td>14</td><td>15</td><td>16</td><td>17</td><td>18</td><td>19</td><td>20</td><td>...</td>\n",
    "</tr><tr><td>g(<var>n</var>)</td><td>13</td><td>14</td><td>16</td><td>17</td><td>18</td><td>27</td><td>28</td><td>29</td><td>30</td><td>31</td><td>32</td><td>33</td><td>34</td><td>51</td><td>54</td><td>55</td><td>60</td><td>...</td>\n",
    "</tr></table></div>\n",
    "<p>You are given that g(1&#160;000) = 2524 and g(1&#160;000&#160;000) = 2624152.</p>\n",
    "<p>Find g(10<sup>15</sup>).</p>\n",
    "</div>"
   ]
  },
  {
   "cell_type": "code",
   "execution_count": null,
   "metadata": {},
   "outputs": [],
   "source": [
    "def solve():\n",
    "    # Your code here\n",
    "    \n"
   ]
  },
  {
   "cell_type": "markdown",
   "metadata": {},
   "source": [
    "## Solution"
   ]
  },
  {
   "cell_type": "code",
   "execution_count": null,
   "metadata": {},
   "outputs": [],
   "source": [
    "solve()"
   ]
  }
 ],
 "metadata": {},
 "nbformat": 4,
 "nbformat_minor": 2
}
