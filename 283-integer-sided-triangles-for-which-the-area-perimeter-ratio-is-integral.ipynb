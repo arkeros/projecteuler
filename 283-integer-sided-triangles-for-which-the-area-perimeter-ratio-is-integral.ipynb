{
 "cells": [
  {
   "cell_type": "markdown",
   "metadata": {},
   "source": [
    "# Integer sided triangles for which the  area/perimeter ratio is integral\n",
    "## Problem 283 \n",
    "\n",
    "<div class=\"problem_content\" role=\"problem\">\n",
    "<p>\n",
    "Consider the triangle with sides 6, 8 and 10. It can be seen that the perimeter and the area are both equal to 24. \n",
    "So the area/perimeter ratio is equal to 1.<br/>\n",
    "Consider also the triangle with sides 13, 14 and 15. The perimeter equals 42 while the area is equal to 84. \n",
    "So for this triangle the area/perimeter ratio is equal to 2.\n",
    "</p>\n",
    "<p>\n",
    "Find the sum of the perimeters of all integer sided triangles for which the area/perimeter ratios are equal to positive integers not exceeding 1000.\n",
    "</p>\n",
    "</div>"
   ]
  },
  {
   "cell_type": "code",
   "execution_count": null,
   "metadata": {},
   "outputs": [],
   "source": [
    "def solve():\n",
    "    # Your code here\n",
    "    \n"
   ]
  },
  {
   "cell_type": "markdown",
   "metadata": {},
   "source": [
    "## Solution"
   ]
  },
  {
   "cell_type": "code",
   "execution_count": null,
   "metadata": {},
   "outputs": [],
   "source": [
    "solve()"
   ]
  }
 ],
 "metadata": {},
 "nbformat": 4,
 "nbformat_minor": 2
}
