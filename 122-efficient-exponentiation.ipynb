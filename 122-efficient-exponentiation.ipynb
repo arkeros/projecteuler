{
 "cells": [
  {
   "cell_type": "markdown",
   "metadata": {},
   "source": [
    "# Efficient exponentiation\n",
    "## Problem 122 \n",
    "\n",
    "<div class=\"problem_content\" role=\"problem\">\n",
    "<p>The most naive way of computing <i>n</i><sup>15</sup> requires fourteen multiplications:</p>\n",
    "<p style=\"margin-left:100px;\"><i>n</i> &#215; <i>n</i> &#215; ... &#215; <i>n</i> = <i>n</i><sup>15</sup></p>\n",
    "<p>But using a \"binary\" method you can compute it in six multiplications:</p>\n",
    "<p style=\"margin-left:100px;\"><i>n</i> &#215; <i>n</i> = <i>n</i><sup>2</sup><br/><i>n</i><sup>2</sup> &#215; <i>n</i><sup>2</sup> = <i>n</i><sup>4</sup><br/><i>n</i><sup>4</sup> &#215; <i>n</i><sup>4</sup> = <i>n</i><sup>8</sup><br/><i>n</i><sup>8</sup> &#215; <i>n</i><sup>4</sup> = <i>n</i><sup>12</sup><br/><i>n</i><sup>12</sup> &#215; <i>n</i><sup>2</sup> = <i>n</i><sup>14</sup><br/><i>n</i><sup>14</sup> &#215; <i>n</i> = <i>n</i><sup>15</sup></p>\n",
    "<p>However it is yet possible to compute it in only five multiplications:</p>\n",
    "<p style=\"margin-left:100px;\"><i>n</i> &#215; <i>n</i> = <i>n</i><sup>2</sup><br/><i>n</i><sup>2</sup> &#215; <i>n</i> = <i>n</i><sup>3</sup><br/><i>n</i><sup>3</sup> &#215; <i>n</i><sup>3</sup> = <i>n</i><sup>6</sup><br/><i>n</i><sup>6</sup> &#215; <i>n</i><sup>6</sup> = <i>n</i><sup>12</sup><br/><i>n</i><sup>12</sup> &#215; <i>n</i><sup>3</sup> = <i>n</i><sup>15</sup></p>\n",
    "<p>We shall define m(<i>k</i>) to be the minimum number of multiplications to compute <i>n</i><sup><i>k</i></sup>; for example m(15) = 5.</p>\n",
    "<p>For 1 &#8804; <i>k</i> &#8804; 200, find <span style=\"font-family:'times new roman';font-size:13pt;\">&#8721;</span> m(<i>k</i>).</p>\n",
    "</div>"
   ]
  },
  {
   "cell_type": "code",
   "execution_count": null,
   "metadata": {},
   "outputs": [],
   "source": [
    "def solve():\n",
    "    # Your code here\n",
    "    \n"
   ]
  },
  {
   "cell_type": "markdown",
   "metadata": {},
   "source": [
    "## Solution"
   ]
  },
  {
   "cell_type": "code",
   "execution_count": null,
   "metadata": {},
   "outputs": [],
   "source": [
    "solve()"
   ]
  }
 ],
 "metadata": {},
 "nbformat": 4,
 "nbformat_minor": 2
}
