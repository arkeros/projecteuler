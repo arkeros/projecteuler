{
 "cells": [
  {
   "cell_type": "markdown",
   "metadata": {},
   "source": [
    "# Fibonacci tree game\n",
    "## Problem 400 \n",
    "\n",
    "<div class=\"problem_content\" role=\"problem\">\n",
    "<p>\n",
    "A <b>Fibonacci tree</b> is a binary tree recursively defined as:</p><ul><li>T(0) is the empty tree.\n",
    "</li><li>T(1) is the binary tree with only one node.\n",
    "</li><li>T(<var>k</var>) consists of a root node that has T(<var>k</var>-1) and T(<var>k</var>-2) as children.\n",
    "</li></ul><p>\n",
    "On such a tree two players play a take-away game. On each turn a player selects a node and removes that node along with the subtree rooted at that node.<br/>\n",
    "The player who is forced to take the root node of the entire tree loses.</p><p>\n",
    "</p><p>\n",
    "Here are the winning moves of the first player on the first turn for T(<var>k</var>) from <var>k</var>=1 to <var>k</var>=6.\n",
    "</p><p align=\"center\"><img alt=\"p400_winning.png\" src=\"project/images/p400_winning.png\"/></p>\n",
    "\n",
    "\n",
    "\n",
    "Let <var>f</var>(<var>k</var>) be the number of winning moves of the first player (i.e. the moves for which the second player has no winning strategy) on the first turn of the game when this game is played on T(<var>k</var>).\n",
    "\n",
    "\n",
    "<p>\n",
    "For example, <var>f</var>(5) = 1 and <var>f</var>(10) = 17.\n",
    "</p>\n",
    "<p>\n",
    "Find <var>f</var>(10000). Give the last 18 digits of your answer.\n",
    "</p>\n",
    "</div>"
   ]
  },
  {
   "cell_type": "code",
   "execution_count": null,
   "metadata": {},
   "outputs": [],
   "source": [
    "def solve():\n",
    "    # Your code here\n",
    "    \n"
   ]
  },
  {
   "cell_type": "markdown",
   "metadata": {},
   "source": [
    "## Solution"
   ]
  },
  {
   "cell_type": "code",
   "execution_count": null,
   "metadata": {},
   "outputs": [],
   "source": [
    "solve()"
   ]
  }
 ],
 "metadata": {},
 "nbformat": 4,
 "nbformat_minor": 2
}
