{
 "cells": [
  {
   "cell_type": "markdown",
   "metadata": {},
   "source": [
    "# Singleton difference\n",
    "## Problem 136 \n",
    "\n",
    "<div class=\"problem_content\" role=\"problem\">\n",
    "<p>The positive integers, <i>x</i>, <i>y</i>, and <i>z</i>, are consecutive terms of an arithmetic progression. Given that <i>n</i> is a positive integer, the equation, <i>x</i><sup>2</sup> &#8722; <i>y</i><sup>2</sup> &#8722; <i>z</i><sup>2</sup> = <i>n</i>, has exactly one solution when <i>n</i> = 20:</p>\n",
    "<p style=\"text-align:center;\">13<sup>2</sup> &#8722; 10<sup>2</sup> &#8722; 7<sup>2</sup> = 20</p>\n",
    "<p>In fact there are twenty-five values of <i>n</i> below one hundred for which the equation has a unique solution.</p>\n",
    "<p>How many values of <i>n</i> less than fifty million have exactly one solution?</p>\n",
    "</div>"
   ]
  },
  {
   "cell_type": "code",
   "execution_count": null,
   "metadata": {},
   "outputs": [],
   "source": [
    "def solve():\n",
    "    # Your code here\n",
    "    \n"
   ]
  },
  {
   "cell_type": "markdown",
   "metadata": {},
   "source": [
    "## Solution"
   ]
  },
  {
   "cell_type": "code",
   "execution_count": null,
   "metadata": {},
   "outputs": [],
   "source": [
    "solve()"
   ]
  }
 ],
 "metadata": {},
 "nbformat": 4,
 "nbformat_minor": 2
}
