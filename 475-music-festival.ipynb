{
 "cells": [
  {
   "cell_type": "markdown",
   "metadata": {},
   "source": [
    "# Music festival\n",
    "## Problem 475 \n",
    "\n",
    "<div class=\"problem_content\" role=\"problem\">\n",
    "<p>12<var>n</var> musicians participate at a music festival. On the first day, they form 3<var>n</var> quartets and practice all day.</p>\n",
    "<p>It is a disaster. At the end of the day, all musicians decide they will never again agree to play with any member of their quartet.</p>\n",
    "<p>On the second day, they form 4<var>n</var> trios, each musician avoiding his previous quartet partners.</p>\n",
    "<p>Let <var>f</var>(12<var>n</var>) be the number of ways to organize the trios amongst the 12<var>n</var> musicians.</p>\n",
    "<p>You are given <var>f</var>(12) = 576 and <var>f</var>(24) mod 1 000 000 007 = 509089824.</p>\n",
    "<p>Find <var>f</var>(600) mod 1 000 000 007.</p>\n",
    "</div>"
   ]
  },
  {
   "cell_type": "code",
   "execution_count": null,
   "metadata": {},
   "outputs": [],
   "source": [
    "def solve():\n",
    "    # Your code here\n",
    "    \n"
   ]
  },
  {
   "cell_type": "markdown",
   "metadata": {},
   "source": [
    "## Solution"
   ]
  },
  {
   "cell_type": "code",
   "execution_count": null,
   "metadata": {},
   "outputs": [],
   "source": [
    "solve()"
   ]
  }
 ],
 "metadata": {},
 "nbformat": 4,
 "nbformat_minor": 2
}
