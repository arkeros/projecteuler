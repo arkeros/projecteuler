{
 "cells": [
  {
   "cell_type": "markdown",
   "metadata": {},
   "source": [
    "# Modulo Summations\n",
    "## Problem 326 \n",
    "\n",
    "<div class=\"problem_content\" role=\"problem\">\n",
    "<p>\n",
    "Let <var>a<sub>n</sub></var> be a sequence recursively defined by: <img alt=\"p326_formula1.gif\" src=\"project/images/p326_formula1.gif\" style=\"vertical-align:middle;\"/>. \n",
    "</p>\n",
    "<p>\n",
    "So the first 10 elements of <var>a<sub>n</sub></var> are: 1,1,0,3,0,3,5,4,1,9.\n",
    "</p>\n",
    "<p>Let <var>f</var>(<var>N,M</var>) represent the number of pairs (<var>p,q</var>) such that: </p><div align=\"center\"><img alt=\"p326_formula2.gif\" src=\"project/images/p326_formula2.gif\"/></div>\n",
    "<p>\n",
    "It can be seen that <var>f</var>(10,10)=4 with the pairs (3,3), (5,5), (7,9) and (9,10).\n",
    "</p>\n",
    "<p>\n",
    "You are also given that <var>f</var>(10<sup>4</sup>,10<sup>3</sup>)=97158.</p>\n",
    "<p>\n",
    "Find <var>f</var>(10<sup>12</sup>,10<sup>6</sup>).\n",
    "</p>\n",
    "</div>"
   ]
  },
  {
   "cell_type": "code",
   "execution_count": null,
   "metadata": {},
   "outputs": [],
   "source": [
    "def solve():\n",
    "    # Your code here\n",
    "    \n"
   ]
  },
  {
   "cell_type": "markdown",
   "metadata": {},
   "source": [
    "## Solution"
   ]
  },
  {
   "cell_type": "code",
   "execution_count": null,
   "metadata": {},
   "outputs": [],
   "source": [
    "solve()"
   ]
  }
 ],
 "metadata": {},
 "nbformat": 4,
 "nbformat_minor": 2
}
