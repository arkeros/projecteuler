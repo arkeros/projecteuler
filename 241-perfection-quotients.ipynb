{
 "cells": [
  {
   "cell_type": "markdown",
   "metadata": {},
   "source": [
    "# Perfection Quotients\n",
    "## Problem 241 \n",
    "\n",
    "<div class=\"problem_content\" role=\"problem\">\n",
    "<p>For a positive integer <var>n</var>, let &#963;(<var>n</var>) be the sum of all divisors of <var>n</var>, so e.g. &#963;(6) = 1 + 2 + 3 + 6 = 12.\n",
    "</p>\n",
    "<p>A perfect number, as you probably know, is a number with &#963;(<var>n</var>) = 2<var>n</var>.</p>\n",
    "<table><tr><td>Let us define the <b>perfection quotient</b> of a positive integer as</td><td><var>p</var>(<var>n</var>)</td><td>=&#160;</td>\n",
    "<td><div style=\"text-align:center;\"><span style=\"border-bottom:1px solid #000;\">&#963;(<var>n</var>)</span><br/><var>n</var></div></td>\n",
    "<td>.</td>\n",
    "</tr></table><p>Find the sum of all positive integers <var>n</var> &#8804; 10<sup>18</sup> for which <var>p</var>(<var>n</var>) has the form <var>k</var> + <sup>1</sup>&#8260;<sub>2</sub>, where <var>k</var> is an integer.</p>\n",
    "</div>"
   ]
  },
  {
   "cell_type": "code",
   "execution_count": null,
   "metadata": {},
   "outputs": [],
   "source": [
    "def solve():\n",
    "    # Your code here\n",
    "    \n"
   ]
  },
  {
   "cell_type": "markdown",
   "metadata": {},
   "source": [
    "## Solution"
   ]
  },
  {
   "cell_type": "code",
   "execution_count": null,
   "metadata": {},
   "outputs": [],
   "source": [
    "solve()"
   ]
  }
 ],
 "metadata": {},
 "nbformat": 4,
 "nbformat_minor": 2
}
