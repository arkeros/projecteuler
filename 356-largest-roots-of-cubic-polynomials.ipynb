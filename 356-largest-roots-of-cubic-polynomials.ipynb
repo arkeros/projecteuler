{
 "cells": [
  {
   "cell_type": "markdown",
   "metadata": {},
   "source": [
    "# Largest roots of cubic polynomials\n",
    "## Problem 356 \n",
    "\n",
    "<div class=\"problem_content\" role=\"problem\">\n",
    "<p>\n",
    "Let <var>a</var><sub><var>n</var></sub> be the largest real root of a polynomial <var>g</var>(x) = x<sup>3</sup> - 2<sup><var>n</var></sup>&#183;x<sup>2</sup> + <var>n</var>.<br/>\n",
    "For example, <var>a</var><sub>2</sub> = 3.86619826...</p>\n",
    "<p>\n",
    "Find the last eight digits of<img alt=\"p356_cubicpoly1.gif\" src=\"project/images/p356_cubicpoly1.gif\" style=\"vertical-align:middle;\"/>.</p>\n",
    "<p>\n",
    "<u><i>Note</i></u>: <img alt=\"p356_cubicpoly2.gif\" src=\"project/images/p356_cubicpoly2.gif\" style=\"vertical-align:middle;\"/> represents the floor function.</p>\n",
    "</div>"
   ]
  },
  {
   "cell_type": "code",
   "execution_count": null,
   "metadata": {},
   "outputs": [],
   "source": [
    "def solve():\n",
    "    # Your code here\n",
    "    \n"
   ]
  },
  {
   "cell_type": "markdown",
   "metadata": {},
   "source": [
    "## Solution"
   ]
  },
  {
   "cell_type": "code",
   "execution_count": null,
   "metadata": {},
   "outputs": [],
   "source": [
    "solve()"
   ]
  }
 ],
 "metadata": {},
 "nbformat": 4,
 "nbformat_minor": 2
}
