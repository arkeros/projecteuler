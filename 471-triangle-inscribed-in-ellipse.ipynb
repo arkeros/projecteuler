{
 "cells": [
  {
   "cell_type": "markdown",
   "metadata": {},
   "source": [
    "# Triangle inscribed in ellipse\n",
    "## Problem 471 \n",
    "\n",
    "<div class=\"problem_content\" role=\"problem\">\n",
    "<p>The triangle &#916;ABC is inscribed in an ellipse with equation $\\frac {x^2} {a^2} + \\frac {y^2} {b^2} = 1$, 0&#160;&lt;&#160;2<var>b</var>&#160;&lt;&#160;<var>a</var>, <var>a</var> and <var>b</var> integers.</p>\n",
    "<p>Let <var>r</var>(<var>a</var>,<var>b</var>) be the radius of the incircle of &#916;ABC when the incircle has center (2<var>b</var>, 0) and A has coordinates $\\left( \\frac a 2, \\frac {\\sqrt 3} 2 b\\right)$.</p>\n",
    "<p>For example, <var>r</var>(3,1)&#160;=&#160;&#189;, <var>r</var>(6,2)&#160;=&#160;1, <var>r</var>(12,3)&#160;=&#160;2.</p>\n",
    "<p align=\"center\"><img alt=\"p471-triangle-inscribed-in-ellipse-1.png\" src=\"project/images/p471-triangle-inscribed-in-ellipse-1.png\"/></p>\n",
    "<p align=\"center\"><img alt=\"p471-triangle-inscribed-in-ellipse-2.png\" src=\"project/images/p471-triangle-inscribed-in-ellipse-2.png\"/></p>\n",
    "<p>Let $G(n) = \\sum_{a=3}^n \\sum_{b=1}^{\\lfloor \\frac {a - 1} 2 \\rfloor} r(a, b)$</p>\n",
    "<p>You are given <var>G</var>(10) = 20.59722222, <var>G</var>(100) = 19223.60980 (rounded to 10 significant digits).</p>\n",
    "<p>Find <var>G</var>(10<sup>11</sup>).</p>\n",
    "<p>Give your answer in scientific notation rounded to 10 significant digits. Use a lowercase e to separate mantissa and exponent.</p>\n",
    "<p>For <var>G</var>(10) the answer would have been 2.059722222e1.</p>\n",
    "</div>"
   ]
  },
  {
   "cell_type": "code",
   "execution_count": null,
   "metadata": {},
   "outputs": [],
   "source": [
    "def solve():\n",
    "    # Your code here\n",
    "    \n"
   ]
  },
  {
   "cell_type": "markdown",
   "metadata": {},
   "source": [
    "## Solution"
   ]
  },
  {
   "cell_type": "code",
   "execution_count": null,
   "metadata": {},
   "outputs": [],
   "source": [
    "solve()"
   ]
  }
 ],
 "metadata": {},
 "nbformat": 4,
 "nbformat_minor": 2
}
