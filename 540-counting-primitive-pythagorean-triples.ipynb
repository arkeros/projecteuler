{
 "cells": [
  {
   "cell_type": "markdown",
   "metadata": {},
   "source": [
    "# Counting primitive Pythagorean triples\n",
    "## Problem 540 \n",
    "\n",
    "<div class=\"problem_content\" role=\"problem\">\n",
    "<p>\n",
    "A <b>Pythagorean triple</b> consists of three positive integers $a, b$ and $c$ satisfying $a^2+b^2=c^2$.<br/>\n",
    "The triple is called primitive if $a, b$ and $c$ are relatively prime.<br/>\n",
    "Let P($n$) be the number of <b>primitive Pythagorean triples</b> with $a &lt; b &lt; c &lt;= n$.<br/>\n",
    "For example P(20) = 3, since there are three triples: (3,4,5), (5,12,13) and (8,15,17).\n",
    "</p>\n",
    "<p>\n",
    "You are given that P(10<sup>6</sup>) = 159139.<br/>\n",
    "Find P(3141592653589793).\n",
    "</p>\n",
    "</div>"
   ]
  },
  {
   "cell_type": "code",
   "execution_count": null,
   "metadata": {},
   "outputs": [],
   "source": [
    "def solve():\n",
    "    # Your code here\n",
    "    \n"
   ]
  },
  {
   "cell_type": "markdown",
   "metadata": {},
   "source": [
    "## Solution"
   ]
  },
  {
   "cell_type": "code",
   "execution_count": null,
   "metadata": {},
   "outputs": [],
   "source": [
    "solve()"
   ]
  }
 ],
 "metadata": {},
 "nbformat": 4,
 "nbformat_minor": 2
}
