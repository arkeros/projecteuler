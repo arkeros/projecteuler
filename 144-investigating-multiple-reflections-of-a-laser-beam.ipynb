{
 "cells": [
  {
   "cell_type": "markdown",
   "metadata": {},
   "source": [
    "# Investigating multiple reflections of a laser beam\n",
    "## Problem 144 \n",
    "\n",
    "<div class=\"problem_content\" role=\"problem\">\n",
    "<p>In laser physics, a \"white cell\" is a mirror system that acts as a delay line for the laser beam. The beam enters the cell, bounces around on the mirrors, and eventually works its way back out.</p>\n",
    "<p>The specific white cell we will be considering is an ellipse with the equation 4<i>x</i><sup>2</sup> + <i>y</i><sup>2</sup> = 100</p>\n",
    "<p>The section corresponding to &#8722;0.01 &#8804; <i>x</i> &#8804; +0.01 at the top is missing, allowing the light to enter and exit through the hole.</p>\n",
    "<div style=\"text-align:center;\"><img alt=\"\" height=\"240\" src=\"project/images/p144_1.gif\" width=\"268\"/><img alt=\"\" height=\"287\" src=\"project/images/p144_2.gif\" width=\"141\"/></div>\n",
    "<p>The light beam in this problem starts at the point (0.0,10.1) just outside the white cell, and the beam first impacts the mirror at (1.4,-9.6).</p>\n",
    "<p>Each time the laser beam hits the surface of the ellipse, it follows the usual law of reflection \"angle of incidence equals angle of reflection.\" That is, both the incident and reflected beams make the same angle with the normal line at the point of incidence.</p>\n",
    "<p>In the figure on the left, the red line shows the first two points of contact between the laser beam and the wall of the white cell; the blue line shows the line tangent to the ellipse at the point of incidence of the first bounce.</p><p>The slope <i>m</i> of the tangent line at any point (<i>x</i>,<i>y</i>) of the given ellipse is: <i>m</i> = &#8722;4<i>x</i>/<i>y</i></p><p>The normal line is perpendicular to this tangent line at the point of incidence.</p>\n",
    "<p>The animation on the right shows the first 10 reflections of the beam.</p>\n",
    "<p>How many times does the beam hit the internal surface of the white cell before exiting?</p>\n",
    "</div>"
   ]
  },
  {
   "cell_type": "code",
   "execution_count": null,
   "metadata": {},
   "outputs": [],
   "source": [
    "def solve():\n",
    "    # Your code here\n",
    "    \n"
   ]
  },
  {
   "cell_type": "markdown",
   "metadata": {},
   "source": [
    "## Solution"
   ]
  },
  {
   "cell_type": "code",
   "execution_count": null,
   "metadata": {},
   "outputs": [],
   "source": [
    "solve()"
   ]
  }
 ],
 "metadata": {},
 "nbformat": 4,
 "nbformat_minor": 2
}
