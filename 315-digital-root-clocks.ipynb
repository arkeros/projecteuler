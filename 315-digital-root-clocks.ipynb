{
 "cells": [
  {
   "cell_type": "markdown",
   "metadata": {},
   "source": [
    "# Digital root clocks\n",
    "## Problem 315 \n",
    "\n",
    "<div class=\"problem_content\" role=\"problem\">\n",
    "<p></p><div align=\"center\"><img alt=\"p315_clocks.gif\" src=\"project/images/p315_clocks.gif\"/></div>\n",
    "<p>Sam and Max are asked to transform two digital clocks into two \"digital root\" clocks.<br/>\n",
    "A digital root clock is a digital clock that calculates digital roots step by step.</p>\n",
    "<p>When a clock is fed a number, it will show it and then it will start the calculation, showing all the intermediate values until it gets to the result.<br/>\n",
    "For example, if the clock is fed the number 137, it will show: \"<b>137</b>\" &#8594; \"<b>11</b>\" &#8594; \"<b>2</b>\" and then it will go black, waiting for the next number.</p>\n",
    "<p>Every digital number consists of some light segments: three horizontal (top, middle, bottom) and four vertical (top-left, top-right, bottom-left, bottom-right).<br/>\n",
    "Number \"<b>1</b>\" is made of vertical top-right and bottom-right, number \"<b>4</b>\" is made by middle horizontal and vertical top-left, top-right and bottom-right. Number \"<b>8</b>\" lights them all.</p>\n",
    "<p>The clocks consume energy only when segments are turned on/off.<br/>\n",
    "To turn on a \"<b>2</b>\" will cost 5 transitions, while a \"<b>7</b>\" will cost only 4 transitions.</p>\n",
    "<p>Sam and Max built two different clocks.</p>\n",
    "<p>Sam's clock is fed e.g. number 137: the clock shows \"<b>137</b>\", then the panel is turned off, then the next number (\"<b>11</b>\") is turned on, then the panel is turned off again and finally the last number (\"<b>2</b>\") is turned on and, after some time, off.<br/>\n",
    "For the example, with number 137, Sam's clock requires:<br/></p><table><tr><td>\"<b>137</b>\"</td>\n",
    "<td>:</td>\n",
    "<td>(2 + 5 + 4) &#215; 2 = 22 transitions (\"<b>137</b>\" on/off).</td>\n",
    "</tr><tr><td>\"<b>11</b>\"</td>\n",
    "<td>:</td>\n",
    "<td>(2 + 2) &#215; 2 = 8 transitions (\"<b>11</b>\" on/off).</td>\n",
    "</tr><tr><td>\"<b>2</b>\"</td>\n",
    "<td>:</td>\n",
    "<td>(5) &#215; 2 = 10 transitions (\"<b>2</b>\" on/off).</td>\n",
    "</tr></table>\n",
    "For a grand total of 40 transitions.\n",
    "\n",
    "<p>Max's clock works differently. Instead of turning off the whole panel, it is smart enough to turn off only those segments that won't be needed for the next number.<br/>\n",
    "For number 137, Max's clock requires:<br/></p><table><tr><td>\"<b>137</b>\"<br/><br/></td>\n",
    "<td>:<br/><br/></td>\n",
    "<td>2 + 5 + 4 = 11 transitions (\"<b>137</b>\" on)<br/>\n",
    "7 transitions (to turn off the segments that are not needed for number \"<b>11</b>\").</td>\n",
    "</tr><tr><td>\"<b>11</b>\"<br/><br/><br/></td>\n",
    "<td>:<br/><br/><br/></td>\n",
    "<td>0 transitions (number \"<b>11</b>\" is already turned on correctly)<br/>\n",
    "3 transitions (to turn off the first \"<b>1</b>\" and the bottom part of the second \"<b>1</b>\"; <br/>\n",
    "the top part is common with number \"<b>2</b>\").</td>\n",
    "</tr><tr><td>\"<b>2</b>\"<br/><br/></td>\n",
    "<td>:<br/><br/></td>\n",
    "<td>4 transitions (to turn on the remaining segments in order to get a \"<b>2</b>\")<br/>\n",
    "5 transitions (to turn off number \"<b>2</b>\").</td>\n",
    "</tr></table>\n",
    "For a grand total of 30 transitions.\n",
    "\n",
    "<p>Of course, Max's clock consumes less power than Sam's one.<br/>\n",
    "The two clocks are fed all the prime numbers between A = 10<sup>7</sup> and B = 2&#215;10<sup>7</sup>. <br/>\n",
    "Find the difference between the total number of transitions needed by Sam's clock and that needed by Max's one.</p>\n",
    "</div>"
   ]
  },
  {
   "cell_type": "code",
   "execution_count": null,
   "metadata": {},
   "outputs": [],
   "source": [
    "def solve():\n",
    "    # Your code here\n",
    "    \n"
   ]
  },
  {
   "cell_type": "markdown",
   "metadata": {},
   "source": [
    "## Solution"
   ]
  },
  {
   "cell_type": "code",
   "execution_count": null,
   "metadata": {},
   "outputs": [],
   "source": [
    "solve()"
   ]
  }
 ],
 "metadata": {},
 "nbformat": 4,
 "nbformat_minor": 2
}
