{
 "cells": [
  {
   "cell_type": "markdown",
   "metadata": {},
   "source": [
    "# Cyclic paths on Sierpinski graphs\n",
    "## Problem 312 \n",
    "\n",
    "<div class=\"problem_content\" role=\"problem\">\n",
    "<p>- A <b>Sierpi&#324;ski graph</b> of order-1 (<var>S</var><sub>1</sub>) is an equilateral triangle.<br/>\n",
    "- <var>S</var><sub><var>n</var>+1</sub> is obtained from <var>S</var><sub><var>n</var></sub> by positioning three copies of <var>S</var><sub><var>n</var></sub> so that every pair of copies has one common corner.\n",
    "</p>\n",
    "<div align=\"center\"><img alt=\"p312_sierpinskyAt.gif\" src=\"project/images/p312_sierpinskyAt.gif\"/></div>\n",
    "<p>Let C(<var>n</var>) be the number of cycles that pass exactly once through all the vertices of <var>S</var><sub><var>n</var></sub>.<br/>\n",
    "For example, C(3) = 8 because eight such cycles can be drawn on <var>S</var><sub>3</sub>, as shown below:\n",
    "</p>\n",
    "<div align=\"center\"><img alt=\"p312_sierpinsky8t.gif\" src=\"project/images/p312_sierpinsky8t.gif\"/></div>\n",
    "<p>It can also be verified that :<br/>\n",
    "C(1) = C(2) = 1<br/>\n",
    "C(5) = 71328803586048<br/>\n",
    "C(10 000) mod 10<sup>8</sup> = 37652224<br/>\n",
    "C(10 000) mod 13<sup>8</sup> = 617720485<br/></p>\n",
    "<p>Find C(C(C(10 000))) mod 13<sup>8</sup>.\n",
    "</p>\n",
    "</div>"
   ]
  },
  {
   "cell_type": "code",
   "execution_count": null,
   "metadata": {},
   "outputs": [],
   "source": [
    "def solve():\n",
    "    # Your code here\n",
    "    \n"
   ]
  },
  {
   "cell_type": "markdown",
   "metadata": {},
   "source": [
    "## Solution"
   ]
  },
  {
   "cell_type": "code",
   "execution_count": null,
   "metadata": {},
   "outputs": [],
   "source": [
    "solve()"
   ]
  }
 ],
 "metadata": {},
 "nbformat": 4,
 "nbformat_minor": 2
}
