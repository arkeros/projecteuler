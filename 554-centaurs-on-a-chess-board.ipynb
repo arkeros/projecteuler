{
 "cells": [
  {
   "cell_type": "markdown",
   "metadata": {},
   "source": [
    "# Centaurs on a chess board\n",
    "## Problem 554 \n",
    "\n",
    "<div class=\"problem_content\" role=\"problem\">\n",
    "<p>On a chess board, a centaur moves like a king or a knight. The diagram below shows the valid moves of a centaur (represented by an inverted king) on an 8x8 board.</p>\n",
    "<div align=\"center\"><img alt=\"p554-centaurs.png\" src=\"project/images/p554-centaurs.png\"/></div>\n",
    "<p>It can be shown that at most <var>n</var><sup>2</sup> non-attacking centaurs can be placed on a board of size 2<var>n</var>&#215;2<var>n</var>.<br/>\n",
    "Let <var>C</var>(<var>n</var>) be the number of ways to place <var>n</var><sup>2</sup> centaurs on a 2<var>n</var>&#215;2<var>n</var> board so that no centaur attacks another directly.<br/>\n",
    "For example <var>C</var>(1)&#160;=&#160;4, <var>C</var>(2)&#160;=&#160;25, <var>C</var>(10)&#160;=&#160;1477721.</p>\n",
    "<p>Let <var>F<sub>i</sub></var> be the <var>i</var><sup>th</sup> Fibonacci number defined as <var>F</var><sub>1</sub>&#160;=&#160;<var>F</var><sub>2</sub>&#160;=&#160;1 and <var>F</var><sub>i</sub>&#160;=&#160;<var>F</var><sub><var>i</var>-1</sub>&#160;+&#160;<var>F</var><sub><var>i</var>-2</sub> for <var>i</var>&#160;&gt;&#160;2.</p>\n",
    "<p>Find $\\displaystyle \\left( \\sum_{i=2}^{90} C(F_i) \\right) \\text{mod } (10^8+7)$.</p>\n",
    "</div>"
   ]
  },
  {
   "cell_type": "code",
   "execution_count": null,
   "metadata": {},
   "outputs": [],
   "source": [
    "def solve():\n",
    "    # Your code here\n",
    "    \n"
   ]
  },
  {
   "cell_type": "markdown",
   "metadata": {},
   "source": [
    "## Solution"
   ]
  },
  {
   "cell_type": "code",
   "execution_count": null,
   "metadata": {},
   "outputs": [],
   "source": [
    "solve()"
   ]
  }
 ],
 "metadata": {},
 "nbformat": 4,
 "nbformat_minor": 2
}
