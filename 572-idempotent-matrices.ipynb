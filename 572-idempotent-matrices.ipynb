{
 "cells": [
  {
   "cell_type": "markdown",
   "metadata": {},
   "source": [
    "# Idempotent matrices\n",
    "## Problem 572 \n",
    "\n",
    "<div class=\"problem_content\" role=\"problem\">\n",
    "<p>\n",
    "A matrix $M$ is called idempotent if $M^2 = M$.<br/>\n",
    "Let $M$ be a three by three matrix : \n",
    "$M=\\begin{pmatrix} \n",
    "  a &amp; b &amp; c\\\\ \n",
    "  d &amp; e &amp; f\\\\\n",
    "  g &amp;h &amp;i\\\\\n",
    "\\end{pmatrix}$.<br/>\n",
    "Let C(<var>n</var>) be the number of  idempotent three by three matrices $M$ with integer elements such that<br/>\n",
    "$ -n \\le a,b,c,d,e,f,g,h,i \\le n$.</p>\n",
    "<p>\n",
    "C(1)=164 and C(2)=848.\n",
    "</p>\n",
    "<p>\n",
    "Find C(200).\n",
    "</p>\n",
    "</div>"
   ]
  },
  {
   "cell_type": "code",
   "execution_count": null,
   "metadata": {},
   "outputs": [],
   "source": [
    "def solve():\n",
    "    # Your code here\n",
    "    \n"
   ]
  },
  {
   "cell_type": "markdown",
   "metadata": {},
   "source": [
    "## Solution"
   ]
  },
  {
   "cell_type": "code",
   "execution_count": null,
   "metadata": {},
   "outputs": [],
   "source": [
    "solve()"
   ]
  }
 ],
 "metadata": {},
 "nbformat": 4,
 "nbformat_minor": 2
}
