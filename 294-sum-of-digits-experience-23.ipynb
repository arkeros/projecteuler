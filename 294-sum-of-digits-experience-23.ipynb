{
 "cells": [
  {
   "cell_type": "markdown",
   "metadata": {},
   "source": [
    "# Sum of digits - experience #23\n",
    "## Problem 294 \n",
    "\n",
    "<div class=\"problem_content\" role=\"problem\">\n",
    "<p>\n",
    "For a positive integer k, define d(k) as the sum of the digits of k in its usual decimal representation.\n",
    "Thus d(42) = 4+2 = 6.\n",
    "</p>\n",
    "<p>\n",
    "For a positive integer n, define S(n) as the number of positive integers k &lt; 10<sup>n</sup> with the following properties :\n",
    "</p><ul><li>k is divisible by 23 and\n",
    "</li><li>d(k) = 23.\n",
    "</li></ul>\n",
    "You are given that S(9) = 263626 and S(42) = 6377168878570056.\n",
    "\n",
    "<p>\n",
    "Find S(11<sup>12</sup>) and give your answer mod 10<sup>9</sup>.\n",
    "</p>\n",
    "</div>"
   ]
  },
  {
   "cell_type": "code",
   "execution_count": null,
   "metadata": {},
   "outputs": [],
   "source": [
    "def solve():\n",
    "    # Your code here\n",
    "    \n"
   ]
  },
  {
   "cell_type": "markdown",
   "metadata": {},
   "source": [
    "## Solution"
   ]
  },
  {
   "cell_type": "code",
   "execution_count": null,
   "metadata": {},
   "outputs": [],
   "source": [
    "solve()"
   ]
  }
 ],
 "metadata": {},
 "nbformat": 4,
 "nbformat_minor": 2
}
