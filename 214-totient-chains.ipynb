{
 "cells": [
  {
   "cell_type": "markdown",
   "metadata": {},
   "source": [
    "# Totient Chains\n",
    "## Problem 214 \n",
    "\n",
    "<div class=\"problem_content\" role=\"problem\">\n",
    "<p>Let &#966; be Euler's totient function, i.e. for a natural number <var>n</var>,\n",
    "&#966;(<var>n</var>) is the number of <var>k</var>, 1 &#8804; <var>k</var> &#8804; <var>n</var>, for which gcd(<var>k</var>,<var>n</var>) = 1.</p>\n",
    "<p>By iterating &#966;, each positive integer generates a decreasing chain of numbers ending in 1.<br/>\n",
    "E.g. if we start with 5 the sequence 5,4,2,1 is generated.<br/>\n",
    "Here is a listing of all chains with length 4:</p>\n",
    "<div style=\"text-align:right;margin-right:350px;\">\n",
    "5,4,2,1<br/>\n",
    "7,6,2,1<br/>\n",
    "8,4,2,1<br/>\n",
    "9,6,2,1<br/>\n",
    "10,4,2,1<br/>\n",
    "12,4,2,1<br/>\n",
    "14,6,2,1<br/>\n",
    "18,6,2,1</div>\n",
    "<p>Only two of these chains start with a prime, their sum is 12.</p>\n",
    "<p>What is the sum of all primes less than 40000000 which generate a chain of length 25?</p>\n",
    "</div>"
   ]
  },
  {
   "cell_type": "code",
   "execution_count": null,
   "metadata": {},
   "outputs": [],
   "source": [
    "def solve():\n",
    "    # Your code here\n",
    "    \n"
   ]
  },
  {
   "cell_type": "markdown",
   "metadata": {},
   "source": [
    "## Solution"
   ]
  },
  {
   "cell_type": "code",
   "execution_count": null,
   "metadata": {},
   "outputs": [],
   "source": [
    "solve()"
   ]
  }
 ],
 "metadata": {},
 "nbformat": 4,
 "nbformat_minor": 2
}
