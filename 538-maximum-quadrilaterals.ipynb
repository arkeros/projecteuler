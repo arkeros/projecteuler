{
 "cells": [
  {
   "cell_type": "markdown",
   "metadata": {},
   "source": [
    "# Maximum quadrilaterals\n",
    "## Problem 538 \n",
    "\n",
    "<div class=\"problem_content\" role=\"problem\">\n",
    "<p>Consider a positive integer sequence <var>S</var>&#160;=&#160;(<var>s</var><sub>1</sub>,&#160;<var>s</var><sub>2</sub>,&#160;...,&#160;<var>s<sub>n</sub></var>).</p>\n",
    "<p>Let f(<var>S</var>) be the perimeter of the maximum-area quadrilateral whose side lengths are 4 elements (<var>s<sub>i</sub></var>, <var>s<sub>j</sub></var>, <var>s<sub>k</sub></var>, <var>s<sub>l</sub></var>) of <var>S</var> (all <var>i</var>, <var>j</var>, <var>k</var>, <var>l</var> distinct). If there are many quadrilaterals with the same maximum area, then choose the one with the largest perimeter.</p>\n",
    "<p>For example, if <var>S</var>&#160;=&#160;(8,&#160;9,&#160;14,&#160;9,&#160;27), then we can take the elements (9,&#160;14,&#160;9,&#160;27) and form an <dfn title=\"An isosceles trapezium (US: trapezoid) is a quadrilateral where one pair of opposite sides are parallel and of different lengths, and the other pair has the same length.\"><b>isosceles trapezium</b></dfn> with parallel side lengths 14 and 27 and both leg lengths 9. The area of this quadrilateral is 127.611470879... It can be shown that this is the largest area for any quadrilateral that can be formed using side lengths from <var>S</var>. Therefore, f(<var>S</var>)&#160;=&#160;9&#160;+&#160;14&#160;+&#160;9&#160;+&#160;27&#160;=&#160;59.</p>\n",
    "<p>Let <var>u<sub>n</sub></var>&#160;=&#160;2<sup>B(3<var>n</var>)</sup>&#160;+&#160;3<sup>B(2<var>n</var>)</sup>&#160;+&#160;B(<var>n</var>+1), where B(<var>k</var>) is the number of 1 bits of <var>k</var> in base 2.<br/>\n",
    "For example, B(6)&#160;=&#160;2, B(10)&#160;=&#160;2 and B(15)&#160;=&#160;4, and <var>u</var><sub>5</sub>&#160;=&#160;2<sup>4</sup>&#160;+&#160;3<sup>2</sup>&#160;+&#160;2&#160;=&#160;27.</p>\n",
    "<p>Also, let <var>U<sub>n</sub></var> be the sequence (<var>u</var><sub>1</sub>,&#160;<var>u</var><sub>2</sub>,&#160;...,&#160;<var>u<sub>n</sub></var>).<br/>\n",
    "For example, <var>U</var><sub>10</sub>&#160;=&#160;(8,&#160;9,&#160;14,&#160;9,&#160;27,&#160;16,&#160;36,&#160;9,&#160;27,&#160;28).</p>\n",
    "<p>It can be shown that f(<var>U</var><sub>5</sub>)&#160;=&#160;59, f(<var>U</var><sub>10</sub>)&#160;=&#160;118, f(<var>U</var><sub>150</sub>)&#160;=&#160;3223.<br/>\n",
    "It can also be shown that &#931;&#160;f(<var>U<sub>n</sub></var>)&#160;=&#160;234761 for 4&#160;&#8804;&#160;n&#160;&#8804;&#160;150.<br/>\n",
    "Find &#931;&#160;f(<var>U<sub>n</sub></var>) for 4&#160;&#8804;&#160;n&#160;&#8804;&#160;3&#160;000&#160;000.</p>\n",
    "</div>"
   ]
  },
  {
   "cell_type": "code",
   "execution_count": null,
   "metadata": {},
   "outputs": [],
   "source": [
    "def solve():\n",
    "    # Your code here\n",
    "    \n"
   ]
  },
  {
   "cell_type": "markdown",
   "metadata": {},
   "source": [
    "## Solution"
   ]
  },
  {
   "cell_type": "code",
   "execution_count": null,
   "metadata": {},
   "outputs": [],
   "source": [
    "solve()"
   ]
  }
 ],
 "metadata": {},
 "nbformat": 4,
 "nbformat_minor": 2
}
