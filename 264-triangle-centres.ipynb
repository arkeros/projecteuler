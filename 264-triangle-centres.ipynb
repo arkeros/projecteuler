{
 "cells": [
  {
   "cell_type": "markdown",
   "metadata": {},
   "source": [
    "# Triangle Centres\n",
    "## Problem 264 \n",
    "\n",
    "<div class=\"problem_content\" role=\"problem\">\n",
    "<p>Consider all the triangles having:\n",
    "</p><ul><li>All their vertices on <dfn title=\"Integer coordinates\">lattice points</dfn>.</li>\n",
    "<li><dfn title=\"Centre of the circumscribed circle\">Circumcentre</dfn> at the origin O.</li>\n",
    "<li><dfn title=\"Point where the three altitudes meet\">Orthocentre</dfn> at the point H(5, 0).</li>\n",
    "</ul><p>There are nine such triangles having a perimeter &#8804; 50.<br/>\n",
    "Listed and shown in ascending order of their perimeter, they are:</p>\n",
    "<p></p><table><tr><td>A(-4, 3), B(5, 0), C(4, -3)<br/>\n",
    "A(4, 3), B(5, 0), C(-4, -3)<br/>\n",
    "A(-3, 4), B(5, 0), C(3, -4)<br/><br/><br/>\n",
    "A(3, 4), B(5, 0), C(-3, -4)<br/>\n",
    "A(0, 5), B(5, 0), C(0, -5)<br/>\n",
    "A(1, 8), B(8, -1), C(-4, -7)<br/><br/><br/>\n",
    "A(8, 1), B(1, -8), C(-4, 7)<br/>\n",
    "A(2, 9), B(9, -2), C(-6, -7)<br/>\n",
    "A(9, 2), B(2, -9), C(-6, 7)<br/></td>\n",
    "<td><img alt=\"p264_TriangleCentres.gif\" src=\"project/images/p264_TriangleCentres.gif\"/></td>\n",
    "</tr></table><p>The sum of their perimeters, rounded to four decimal places, is 291.0089.</p>\n",
    "<p>Find all such triangles with a perimeter &#8804; 10<sup>5</sup>.<br/>\n",
    "Enter as your answer the sum of their perimeters rounded to four decimal places.</p>\n",
    "</div>"
   ]
  },
  {
   "cell_type": "code",
   "execution_count": null,
   "metadata": {},
   "outputs": [],
   "source": [
    "def solve():\n",
    "    # Your code here\n",
    "    \n"
   ]
  },
  {
   "cell_type": "markdown",
   "metadata": {},
   "source": [
    "## Solution"
   ]
  },
  {
   "cell_type": "code",
   "execution_count": null,
   "metadata": {},
   "outputs": [],
   "source": [
    "solve()"
   ]
  }
 ],
 "metadata": {},
 "nbformat": 4,
 "nbformat_minor": 2
}
