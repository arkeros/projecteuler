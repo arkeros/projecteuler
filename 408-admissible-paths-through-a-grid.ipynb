{
 "cells": [
  {
   "cell_type": "markdown",
   "metadata": {},
   "source": [
    "# Admissible paths through a grid\n",
    "## Problem 408 \n",
    "\n",
    "<div class=\"problem_content\" role=\"problem\">\n",
    "<p>Let's call a lattice point (<var>x</var>, <var>y</var>) <i>inadmissible</i> if <var>x</var>, <var>y</var> and <var>x</var>&#160;+&#160;<var>y</var> are all positive perfect squares.<br/>\n",
    "For example, (9, 16) is inadmissible, while (0, 4), (3, 1) and (9, 4) are not.</p>\n",
    "<p>Consider a path from point (<var>x</var><sub>1</sub>, <var>y</var><sub>1</sub>) to point (<var>x</var><sub>2</sub>, <var>y</var><sub>2</sub>) using only unit steps north or east.<br/>\n",
    "Let's call such a path <i>admissible</i> if none of its intermediate points are inadmissible.</p>\n",
    "<p>Let P(<var>n</var>) be the number of admissible paths from (0, 0) to (<var>n</var>, <var>n</var>).<br/>\n",
    "It can be verified that P(5) = 252, P(16) = 596994440 and P(1000) mod 1&#160;000&#160;000&#160;007 = 341920854.</p>\n",
    "<p>Find P(10&#160;000&#160;000) mod 1&#160;000&#160;000&#160;007.</p>\n",
    "</div>"
   ]
  },
  {
   "cell_type": "code",
   "execution_count": null,
   "metadata": {},
   "outputs": [],
   "source": [
    "def solve():\n",
    "    # Your code here\n",
    "    \n"
   ]
  },
  {
   "cell_type": "markdown",
   "metadata": {},
   "source": [
    "## Solution"
   ]
  },
  {
   "cell_type": "code",
   "execution_count": null,
   "metadata": {},
   "outputs": [],
   "source": [
    "solve()"
   ]
  }
 ],
 "metadata": {},
 "nbformat": 4,
 "nbformat_minor": 2
}
