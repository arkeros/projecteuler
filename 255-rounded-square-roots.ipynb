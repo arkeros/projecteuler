{
 "cells": [
  {
   "cell_type": "markdown",
   "metadata": {},
   "source": [
    "# Rounded Square Roots\n",
    "## Problem 255 \n",
    "\n",
    "<div class=\"problem_content\" role=\"problem\">\n",
    "<p>We define the <i>rounded-square-root</i> of a positive integer <var>n</var> as the square root of <var>n</var> rounded to the nearest integer.</p>\n",
    "<p>The following procedure (essentially Heron's method adapted to integer arithmetic) finds the rounded-square-root of <var>n</var>:</p>\n",
    "<p>Let <var>d</var> be the number of digits of the number <var>n</var>.<br/>\n",
    "If <var>d</var> is odd, set <var>x</var><sub>0</sub> = 2&#215;10<sup>(<var>d</var>-1)&#8260;2</sup>.<br/>\n",
    "If <var>d</var> is even, set <var>x</var><sub>0</sub> = 7&#215;10<sup>(<var>d</var>-2)&#8260;2</sup>.<br/>\n",
    "Repeat:</p>\n",
    "<p align=\"center\">\n",
    "<img alt=\"p255_Heron.gif\" src=\"project/images/p255_Heron.gif\"/></p>\n",
    "<p>until <var>x</var><sub><var>k</var>+1</sub> = <var>x</var><sub><var>k</var></sub>.\n",
    "</p>\n",
    "<p>As an example, let us find the rounded-square-root of <var>n</var> = 4321.<br/><var>n</var> has 4 digits, so <var>x</var><sub>0</sub> = 7&#215;10<sup>(4-2)&#8260;2</sup> = 70.<br/><img alt=\"p255_Example.gif\" src=\"project/images/p255_Example.gif\"/><br/>\n",
    "Since <var>x</var><sub>2</sub> = <var>x</var><sub>1</sub>, we stop here.<br/>\n",
    "So, after just two iterations, we have found that the rounded-square-root of 4321 is 66 (the actual square root is 65.7343137&#8230;).\n",
    "</p>\n",
    "<p>The number of iterations required when using this method is surprisingly low.<br/>\n",
    "For example, we can find the rounded-square-root of a 5-digit integer (10,000 &#8804; <var>n</var> &#8804; 99,999) with an average of 3.2102888889 iterations (the average value was rounded to 10 decimal places).\n",
    "</p>\n",
    "<p>Using the procedure described above, what is the average number of iterations required to find the rounded-square-root of a 14-digit number (10<sup>13</sup> &#8804; <var>n</var> &lt; 10<sup>14</sup>)?<br/>\n",
    "Give your answer rounded to 10 decimal places.\n",
    "</p>\n",
    "<p>Note: The symbols &#8970;<var>x</var>&#8971; and &#8968;<var>x</var>&#8969; represent the <dfn title=\"the largest integer not greater than x\">floor function</dfn> and <dfn title=\"the smallest integer not less than x\">ceiling function</dfn> respectively.\n",
    "</p>\n",
    "</div>"
   ]
  },
  {
   "cell_type": "code",
   "execution_count": null,
   "metadata": {},
   "outputs": [],
   "source": [
    "def solve():\n",
    "    # Your code here\n",
    "    \n"
   ]
  },
  {
   "cell_type": "markdown",
   "metadata": {},
   "source": [
    "## Solution"
   ]
  },
  {
   "cell_type": "code",
   "execution_count": null,
   "metadata": {},
   "outputs": [],
   "source": [
    "solve()"
   ]
  }
 ],
 "metadata": {},
 "nbformat": 4,
 "nbformat_minor": 2
}
