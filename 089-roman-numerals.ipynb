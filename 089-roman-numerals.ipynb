{
 "cells": [
  {
   "cell_type": "markdown",
   "metadata": {},
   "source": [
    "# Roman numerals\n",
    "## Problem 89 \n",
    "\n",
    "<div class=\"problem_content\" role=\"problem\">\n",
    "<p>For a number written in Roman numerals to be considered valid there are basic rules which must be followed. Even though the rules allow some numbers to be expressed in more than one way there is always a \"best\" way of writing a particular number.</p>\n",
    "<p>For example, it would appear that there are at least six ways of writing the number sixteen:</p>\n",
    "<p style=\"margin-left:50px;font-family:'courier new', monospace;\">IIIIIIIIIIIIIIII<br/>\n",
    "VIIIIIIIIIII<br/>\n",
    "VVIIIIII<br/>\n",
    "XIIIIII<br/>\n",
    "VVVI<br/>\n",
    "XVI</p>\n",
    "<p>However, according to the rules only <span style=\"font-family:'courier new', monospace;\">XIIIIII</span> and <span style=\"font-family:'courier new', monospace;\">XVI</span> are valid, and the last example is considered to be the most efficient, as it uses the least number of numerals.</p>\n",
    "<p>The 11K text file, <a href=\"project/resources/p089_roman.txt\">roman.txt</a> (right click and 'Save Link/Target As...'), contains one thousand numbers written in valid, but not necessarily minimal, Roman numerals; see <a href=\"about=roman_numerals\">About... Roman Numerals</a> for the definitive rules for this problem.</p>\n",
    "<p>Find the number of characters saved by writing each of these in their minimal form.</p>\n",
    "<p class=\"note\">Note: You can assume that all the Roman numerals in the file contain no more than four consecutive identical units.</p>\n",
    "</div>"
   ]
  },
  {
   "cell_type": "code",
   "execution_count": null,
   "metadata": {},
   "outputs": [],
   "source": [
    "def solve():\n",
    "    # Your code here\n",
    "    \n"
   ]
  },
  {
   "cell_type": "markdown",
   "metadata": {},
   "source": [
    "## Solution"
   ]
  },
  {
   "cell_type": "code",
   "execution_count": null,
   "metadata": {},
   "outputs": [],
   "source": [
    "solve()"
   ]
  }
 ],
 "metadata": {},
 "nbformat": 4,
 "nbformat_minor": 2
}
