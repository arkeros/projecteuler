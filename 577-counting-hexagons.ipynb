{
 "cells": [
  {
   "cell_type": "markdown",
   "metadata": {},
   "source": [
    "# Counting hexagons\n",
    "## Problem 577 \n",
    "\n",
    "<div class=\"problem_content\" role=\"problem\">\n",
    "<p>An equilateral triangle with integer side length $n \\ge 3$ is divided into $n^2$ equilateral triangles with side length 1 as shown in the diagram below.<br/>\n",
    "The vertices of these triangles constitute a triangular lattice with $\\frac{(n+1)(n+2)} 2$ lattice points.</p>\n",
    "<p>Let $H(n)$ be the number of all regular hexagons that can be found by connecting 6 of these points.</p>\n",
    "<div style=\"text-align:center;\">\n",
    "<img alt=\"p577_counting_hexagons.png\" src=\"project/images/p577_counting_hexagons.png\"/></div>\n",
    "<p>\n",
    "For example, $H(3)=1$, $H(6)=12$ and $H(20)=966$.</p>\n",
    "<p>Find $\\displaystyle \\sum_{n=3}^{12345} H(n)$.</p>\n",
    "</div>"
   ]
  },
  {
   "cell_type": "code",
   "execution_count": null,
   "metadata": {},
   "outputs": [],
   "source": [
    "def solve():\n",
    "    # Your code here\n",
    "    \n"
   ]
  },
  {
   "cell_type": "markdown",
   "metadata": {},
   "source": [
    "## Solution"
   ]
  },
  {
   "cell_type": "code",
   "execution_count": null,
   "metadata": {},
   "outputs": [],
   "source": [
    "solve()"
   ]
  }
 ],
 "metadata": {},
 "nbformat": 4,
 "nbformat_minor": 2
}
