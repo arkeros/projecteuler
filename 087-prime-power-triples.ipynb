{
 "cells": [
  {
   "cell_type": "markdown",
   "metadata": {},
   "source": [
    "# Prime power triples\n",
    "## Problem 87 \n",
    "\n",
    "<div class=\"problem_content\" role=\"problem\">\n",
    "<p>The smallest number expressible as the sum of a prime square, prime cube, and prime fourth power is 28. In fact, there are exactly four numbers below fifty that can be expressed in such a way:</p>\n",
    "<p style=\"margin-left:50px;\">28 = 2<sup>2</sup> + 2<sup>3</sup> + 2<sup>4</sup><br/>\n",
    "33 = 3<sup>2</sup> + 2<sup>3</sup> + 2<sup>4</sup><br/>\n",
    "49 = 5<sup>2</sup> + 2<sup>3</sup> + 2<sup>4</sup><br/>\n",
    "47 = 2<sup>2</sup> + 3<sup>3</sup> + 2<sup>4</sup></p>\n",
    "<p>How many numbers below fifty million can be expressed as the sum of a prime square, prime cube, and prime fourth power?</p>\n",
    "</div>"
   ]
  },
  {
   "cell_type": "code",
   "execution_count": null,
   "metadata": {},
   "outputs": [],
   "source": [
    "def solve():\n",
    "    # Your code here\n",
    "    \n"
   ]
  },
  {
   "cell_type": "markdown",
   "metadata": {},
   "source": [
    "## Solution"
   ]
  },
  {
   "cell_type": "code",
   "execution_count": null,
   "metadata": {},
   "outputs": [],
   "source": [
    "solve()"
   ]
  }
 ],
 "metadata": {},
 "nbformat": 4,
 "nbformat_minor": 2
}
