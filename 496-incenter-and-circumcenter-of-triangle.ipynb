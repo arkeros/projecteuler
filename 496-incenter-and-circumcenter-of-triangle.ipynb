{
 "cells": [
  {
   "cell_type": "markdown",
   "metadata": {},
   "source": [
    "# Incenter and circumcenter of triangle\n",
    "## Problem 496 \n",
    "\n",
    "<div class=\"problem_content\" role=\"problem\">\n",
    "<p>Given an integer sided triangle ABC:<br/>\n",
    "Let I be the incenter of ABC.<br/>\n",
    "Let D be the intersection between the line AI and the circumcircle of ABC (A &#8800; D).</p>\n",
    "<p>We define F(<var>L</var>) as the sum of BC for the triangles ABC that satisfy AC = DI and BC &#8804; <var>L</var>.</p>\n",
    "<p>For example, F(15) = 45 because the triangles ABC with (BC,AC,AB) = (6,4,5), (12,8,10), (12,9,7), (15,9,16) satisfy the conditions.</p>\n",
    "<p>Find F(10<sup>9</sup>).</p>\n",
    "</div>"
   ]
  },
  {
   "cell_type": "code",
   "execution_count": null,
   "metadata": {},
   "outputs": [],
   "source": [
    "def solve():\n",
    "    # Your code here\n",
    "    \n"
   ]
  },
  {
   "cell_type": "markdown",
   "metadata": {},
   "source": [
    "## Solution"
   ]
  },
  {
   "cell_type": "code",
   "execution_count": null,
   "metadata": {},
   "outputs": [],
   "source": [
    "solve()"
   ]
  }
 ],
 "metadata": {},
 "nbformat": 4,
 "nbformat_minor": 2
}
