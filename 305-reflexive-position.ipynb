{
 "cells": [
  {
   "cell_type": "markdown",
   "metadata": {},
   "source": [
    "# Reflexive Position\n",
    "## Problem 305 \n",
    "\n",
    "<div class=\"problem_content\" role=\"problem\">\n",
    "<p>\n",
    "Let's call S the (infinite) string that is made by concatenating the consecutive positive integers (starting from 1)  written down in base 10.<br/> \n",
    "Thus, S = 1234567891011121314151617181920212223242...\n",
    "</p>\n",
    "<p>\n",
    "It's easy to see that any number will show up an infinite number of times in S.\n",
    "</p>\n",
    "<p>\n",
    "Let's call f(n) the starting position of the n<sup>th</sup> occurrence of n in S.<br/> \n",
    "For example, f(1)=1, f(5)=81, f(12)=271 and f(7780)=111111365.\n",
    "</p>\n",
    "<p>\n",
    "Find &#8721;f(3<sup>k</sup>) for 1&#8804;k&#8804;13.\n",
    "</p>\n",
    "</div>"
   ]
  },
  {
   "cell_type": "code",
   "execution_count": null,
   "metadata": {},
   "outputs": [],
   "source": [
    "def solve():\n",
    "    # Your code here\n",
    "    \n"
   ]
  },
  {
   "cell_type": "markdown",
   "metadata": {},
   "source": [
    "## Solution"
   ]
  },
  {
   "cell_type": "code",
   "execution_count": null,
   "metadata": {},
   "outputs": [],
   "source": [
    "solve()"
   ]
  }
 ],
 "metadata": {},
 "nbformat": 4,
 "nbformat_minor": 2
}
