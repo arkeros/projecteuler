{
 "cells": [
  {
   "cell_type": "markdown",
   "metadata": {},
   "source": [
    "# Super Pandigital Numbers\n",
    "## Problem 571 \n",
    "\n",
    "<div class=\"problem_content\" role=\"problem\">\n",
    "<p>A positive number is <b>pandigital</b> in base <var>b</var> if it contains all digits from 0 to <var>b</var>&#160;-&#160;1 at least once when written in base <var>b</var>.</p>\n",
    "<p>A <i>n-super-pandigital</i> number is a number that is simultaneously pandigital in all bases from 2 to <var>n</var> inclusively.<br/>\n",
    "For example 978&#160;=&#160;1111010010<sub>2</sub>&#160;=&#160;1100020<sub>3</sub>&#160;=&#160;33102<sub>4</sub>&#160;=&#160;12403<sub>5</sub> is the smallest 5-super-pandigital number.<br/>\n",
    "Similarly, 1093265784 is the smallest 10-super-pandigital number.<br/>\n",
    "The sum of the 10 smallest 10-super-pandigital numbers is 20319792309.</p>\n",
    "<p>What is the sum of the 10 smallest 12-super-pandigital numbers?</p>\n",
    "</div>"
   ]
  },
  {
   "cell_type": "code",
   "execution_count": null,
   "metadata": {},
   "outputs": [],
   "source": [
    "def solve():\n",
    "    # Your code here\n",
    "    \n"
   ]
  },
  {
   "cell_type": "markdown",
   "metadata": {},
   "source": [
    "## Solution"
   ]
  },
  {
   "cell_type": "code",
   "execution_count": null,
   "metadata": {},
   "outputs": [],
   "source": [
    "solve()"
   ]
  }
 ],
 "metadata": {},
 "nbformat": 4,
 "nbformat_minor": 2
}
