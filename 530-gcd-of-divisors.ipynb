{
 "cells": [
  {
   "cell_type": "markdown",
   "metadata": {},
   "source": [
    "# GCD of Divisors\n",
    "## Problem 530 \n",
    "\n",
    "<div class=\"problem_content\" role=\"problem\">\n",
    "<p>Every divisor <var>d</var> of a number <var>n</var> has a <b>complementary divisor</b> <var>n</var>/<var>d</var>.</p>\n",
    "<p>Let <var>f</var>(<var>n</var>) be the sum of the <b>greatest common divisor</b> of <var>d</var> and <var>n</var>/<var>d</var> over all positive divisors <var>d</var> of <var>n</var>, that is\n",
    "$f(n)=\\displaystyle\\sum\\limits_{d|n}\\, \\text{gcd}(d,\\frac n d)$.</p>\n",
    "<p>Let <var>F</var> be the summatory function of <var>f</var>, that is\n",
    "$F(k)=\\displaystyle\\sum\\limits_{n=1}^k \\, f(n)$.</p>\n",
    "<p>You are given that <var>F</var>(10)=32 and <var>F</var>(1000)=12776.</p>\n",
    "<p>Find <var>F</var>(10<sup>15</sup>).</p>\n",
    "</div>"
   ]
  },
  {
   "cell_type": "code",
   "execution_count": null,
   "metadata": {},
   "outputs": [],
   "source": [
    "def solve():\n",
    "    # Your code here\n",
    "    \n"
   ]
  },
  {
   "cell_type": "markdown",
   "metadata": {},
   "source": [
    "## Solution"
   ]
  },
  {
   "cell_type": "code",
   "execution_count": null,
   "metadata": {},
   "outputs": [],
   "source": [
    "solve()"
   ]
  }
 ],
 "metadata": {},
 "nbformat": 4,
 "nbformat_minor": 2
}
