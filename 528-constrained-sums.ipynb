{
 "cells": [
  {
   "cell_type": "markdown",
   "metadata": {},
   "source": [
    "# Constrained Sums\n",
    "## Problem 528 \n",
    "\n",
    "<div class=\"problem_content\" role=\"problem\">\n",
    "<p>Let S(<var>n</var>,<var>k</var>,<var>b</var>) represent the number of valid solutions to <var>x</var><sub>1</sub> + <var>x</var><sub>2</sub> + ... + <var>x</var><sub><var>k</var></sub> &#8804; <var>n</var>, where 0 &#8804; <var>x</var><sub><var>m</var></sub> &#8804; <var>b</var><sup><var>m</var></sup> for all 1 &#8804; <var>m</var> &#8804; <var>k</var>.</p>\n",
    "<p>For example, S(14,3,2) = 135, S(200,5,3) = 12949440, and S(1000,10,5) mod 1 000 000 007 = 624839075.</p>\n",
    "<p>Find (&#8721;<sub>10 &#8804; <var>k</var> &#8804; 15</sub> S(10<sup><var>k</var></sup>,<var>k</var>,<var>k</var>)) mod 1 000 000 007.</p>\n",
    "</div>"
   ]
  },
  {
   "cell_type": "code",
   "execution_count": null,
   "metadata": {},
   "outputs": [],
   "source": [
    "def solve():\n",
    "    # Your code here\n",
    "    \n"
   ]
  },
  {
   "cell_type": "markdown",
   "metadata": {},
   "source": [
    "## Solution"
   ]
  },
  {
   "cell_type": "code",
   "execution_count": null,
   "metadata": {},
   "outputs": [],
   "source": [
    "solve()"
   ]
  }
 ],
 "metadata": {},
 "nbformat": 4,
 "nbformat_minor": 2
}
