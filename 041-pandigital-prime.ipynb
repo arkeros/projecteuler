{
 "cells": [
  {
   "cell_type": "markdown",
   "metadata": {},
   "source": [
    "# Pandigital prime\n",
    "## Problem 41 \n",
    "\n",
    "<div class=\"problem_content\" role=\"problem\">\n",
    "<p>We shall say that an <i>n</i>-digit number is pandigital if it makes use of all the digits 1 to <i>n</i> exactly once. For example, 2143 is a 4-digit pandigital and is also prime.</p>\n",
    "<p>What is the largest <i>n</i>-digit pandigital prime that exists?</p>\n",
    "</div>"
   ]
  },
  {
   "cell_type": "code",
   "execution_count": 1,
   "metadata": {
    "collapsed": true
   },
   "outputs": [],
   "source": [
    "def get_int_from_digits(digits):\n",
    "    \"\"\"\n",
    "    Recursive function that builds an integer from a list of their digits\n",
    "    \n",
    "    get_int_from_digits([1, 2, 3, 4]) -> 1234\n",
    "    \"\"\"\n",
    "    if len(digits) == 1:\n",
    "        return digits[0]\n",
    "    else:\n",
    "        return digits[-1] + 10*get_int_from_digits(digits[:-1])"
   ]
  },
  {
   "cell_type": "code",
   "execution_count": 2,
   "metadata": {
    "collapsed": true
   },
   "outputs": [],
   "source": [
    "from itertools import permutations\n",
    "\n",
    "def gen_pandigitals():\n",
    "    \"\"\"Generate all pandigital numbers not multiple of 3 in descending order\"\"\"\n",
    "    # we want numbers d such that 1+2+...+d = d(d+1)/2 are not multiple of 3.\n",
    "    for d in [7, 4, 1]:\n",
    "        n = range(d, 0, -1)\n",
    "        for digits in permutations(n):\n",
    "            m = get_int_from_digits(digits)\n",
    "            yield m"
   ]
  },
  {
   "cell_type": "code",
   "execution_count": 3,
   "metadata": {
    "collapsed": false
   },
   "outputs": [],
   "source": [
    "from math import sqrt\n",
    "\n",
    "def is_prime(n):\n",
    "    \"\"\"Returns True if the given number is prime, False if otherwise\"\"\"\n",
    "    # dirty hack for get integer square roots\n",
    "    i_sqrt = int(sqrt(n))\n",
    "    return all(n%p for p in xrange(2, i_sqrt))"
   ]
  },
  {
   "cell_type": "code",
   "execution_count": 4,
   "metadata": {
    "collapsed": false
   },
   "outputs": [],
   "source": [
    "def solve():\n",
    "    for n in gen_pandigitals():\n",
    "        if is_prime(n):\n",
    "            return n"
   ]
  },
  {
   "cell_type": "markdown",
   "metadata": {},
   "source": [
    "## Solution"
   ]
  },
  {
   "cell_type": "code",
   "execution_count": 5,
   "metadata": {
    "collapsed": false
   },
   "outputs": [
    {
     "data": {
      "text/plain": [
       "7652413"
      ]
     },
     "execution_count": 5,
     "metadata": {},
     "output_type": "execute_result"
    }
   ],
   "source": [
    "solve()"
   ]
  }
 ],
 "metadata": {
  "kernelspec": {
   "display_name": "Python 2",
   "language": "python",
   "name": "python2"
  },
  "language_info": {
   "codemirror_mode": {
    "name": "ipython",
    "version": 2
   },
   "file_extension": ".py",
   "mimetype": "text/x-python",
   "name": "python",
   "nbconvert_exporter": "python",
   "pygments_lexer": "ipython2",
   "version": "2.7.10"
  }
 },
 "nbformat": 4,
 "nbformat_minor": 2
}
