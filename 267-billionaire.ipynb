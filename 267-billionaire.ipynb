{
 "cells": [
  {
   "cell_type": "markdown",
   "metadata": {},
   "source": [
    "# Billionaire\n",
    "## Problem 267 \n",
    "\n",
    "<div class=\"problem_content\" role=\"problem\">\n",
    "<p>You are given a unique investment opportunity.</p>\n",
    "<p>Starting with &#163;1 of capital, you can choose a fixed proportion, <var>f</var>, of your capital to bet on a fair coin toss repeatedly for 1000 tosses.</p>\n",
    "<p>Your return is double your bet for heads and you lose your bet for tails.</p>\n",
    "<p>For example, if <var>f</var>&#8201;=&#8201;1/4,  for the first toss you bet &#163;0.25, and if heads comes up you win &#163;0.5 and so then have &#163;1.5. You then bet &#163;0.375 and if the second toss is tails, you have &#163;1.125.</p>\n",
    "<p>Choosing <var>f</var> to maximize your chances of having at least &#163;1,000,000,000 after 1,000 flips, what is the chance that you become a billionaire?</p>\n",
    "<p>All computations are assumed to be exact (no rounding), but give your answer rounded to 12 digits behind the decimal point in the form 0.abcdefghijkl.</p>\n",
    "</div>"
   ]
  },
  {
   "cell_type": "code",
   "execution_count": null,
   "metadata": {},
   "outputs": [],
   "source": [
    "def solve():\n",
    "    # Your code here\n",
    "    \n"
   ]
  },
  {
   "cell_type": "markdown",
   "metadata": {},
   "source": [
    "## Solution"
   ]
  },
  {
   "cell_type": "code",
   "execution_count": null,
   "metadata": {},
   "outputs": [],
   "source": [
    "solve()"
   ]
  }
 ],
 "metadata": {},
 "nbformat": 4,
 "nbformat_minor": 2
}
