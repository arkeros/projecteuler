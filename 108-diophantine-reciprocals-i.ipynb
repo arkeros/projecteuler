{
 "cells": [
  {
   "cell_type": "markdown",
   "metadata": {},
   "source": [
    "# Diophantine reciprocals I\n",
    "## Problem 108 \n",
    "\n",
    "<div class=\"problem_content\" role=\"problem\">\n",
    "<p>In the following equation <var>x</var>, <var>y</var>, and <var>n</var> are positive integers.</p>\n",
    "<div style=\"text-align:center;\">\n",
    "<table align=\"center\"><tr><td><div style=\"text-align:center;\">1<br/><span style=\"border-top:1px solid #000;\"><var>x</var></span></div></td>\n",
    "<td> + </td>\n",
    "<td><div style=\"text-align:center;\">1<br/><span style=\"border-top:1px solid #000;\"><var>y</var></span></div></td>\n",
    "<td> = </td>\n",
    "<td><div style=\"text-align:center;\">1<br/><span style=\"border-top:1px solid #000;\"><var>n</var></span></div></td>\n",
    "</tr></table></div>\n",
    "<p>For <var>n</var> = 4 there are exactly three distinct solutions:</p>\n",
    "<div style=\"text-align:center;\">\n",
    "<table align=\"center\"><tr><td><div style=\"text-align:center;\">1<br/><span style=\"border-top:1px solid #000;\">5</span></div></td>\n",
    "<td> + </td>\n",
    "<td><div style=\"text-align:center;\">1<br/><span style=\"border-top:1px solid #000;\">20</span></div></td>\n",
    "<td> = </td>\n",
    "<td><div style=\"text-align:center;\">1<br/><span style=\"border-top:1px solid #000;\">4</span></div></td>\n",
    "</tr><tr><td><div style=\"text-align:center;\">1<br/><span style=\"border-top:1px solid #000;\">6</span></div></td>\n",
    "<td> + </td>\n",
    "<td><div style=\"text-align:center;\">1<br/><span style=\"border-top:1px solid #000;\">12</span></div></td>\n",
    "<td> = </td>\n",
    "<td><div style=\"text-align:center;\">1<br/><span style=\"border-top:1px solid #000;\">4</span></div></td>\n",
    "</tr><tr><td><div style=\"text-align:center;\">1<br/><span style=\"border-top:1px solid #000;\">8</span></div></td>\n",
    "<td> + </td>\n",
    "<td><div style=\"text-align:center;\">1<br/><span style=\"border-top:1px solid #000;\">8</span></div></td>\n",
    "<td> = </td>\n",
    "<td><div style=\"text-align:center;\">1<br/><span style=\"border-top:1px solid #000;\">4</span></div></td>\n",
    "</tr></table></div>\n",
    "<p>What is the least value of <var>n</var> for which the number of distinct solutions exceeds one-thousand?</p>\n",
    "<p class=\"note\">NOTE: This problem is an easier version of <a href=\"problem=110\">Problem 110</a>; it is strongly advised that you solve this one first.</p>\n",
    "</div>"
   ]
  },
  {
   "cell_type": "code",
   "execution_count": null,
   "metadata": {},
   "outputs": [],
   "source": [
    "def solve():\n",
    "    # Your code here\n",
    "    \n"
   ]
  },
  {
   "cell_type": "markdown",
   "metadata": {},
   "source": [
    "## Solution"
   ]
  },
  {
   "cell_type": "code",
   "execution_count": null,
   "metadata": {},
   "outputs": [],
   "source": [
    "solve()"
   ]
  }
 ],
 "metadata": {},
 "nbformat": 4,
 "nbformat_minor": 2
}
