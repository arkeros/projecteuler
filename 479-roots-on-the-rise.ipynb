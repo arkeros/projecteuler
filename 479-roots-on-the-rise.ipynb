{
 "cells": [
  {
   "cell_type": "markdown",
   "metadata": {},
   "source": [
    "# Roots on the Rise\n",
    "## Problem 479 \n",
    "\n",
    "<div class=\"problem_content\" role=\"problem\">\n",
    "<p>Let <var>a</var><sub>k</sub>, <var>b</var><sub>k</sub>, and <var>c</var><sub>k</sub> represent the three solutions (real or complex numbers) to the expression 1/<var>x</var> = (<var>k</var>/<var>x</var>)<sup>2</sup>(<var>k</var>+<var>x</var><sup>2</sup>) - <var>kx</var>.</p>\n",
    "<p>For instance, for <var>k</var> = 5, we see that {<var>a</var><sub>5</sub>, <var>b</var><sub>5</sub>, <var>c</var><sub>5</sub>} is approximately {5.727244, -0.363622+2.057397i, -0.363622-2.057397i}.</p>\n",
    "<p>Let S(<var>n</var>) = &#931; (<var>a</var><sub>k</sub>+<var>b</var><sub>k</sub>)<sup><var>p</var></sup>(<var>b</var><sub>k</sub>+<var>c</var><sub>k</sub>)<sup><var>p</var></sup>(<var>c</var><sub>k</sub>+<var>a</var><sub>k</sub>)<sup><var>p</var></sup> for all integers <var>p</var>, <var>k</var> such that 1 &#8804; <var>p</var>, <var>k</var> &#8804; <var>n</var>. </p>\n",
    "<p>Interestingly, S(<var>n</var>) is always an integer. For example, S(4) = 51160.</p>\n",
    "<p>Find S(10<sup>6</sup>) modulo 1 000 000 007.</p>\n",
    "</div>"
   ]
  },
  {
   "cell_type": "code",
   "execution_count": null,
   "metadata": {},
   "outputs": [],
   "source": [
    "def solve():\n",
    "    # Your code here\n",
    "    \n"
   ]
  },
  {
   "cell_type": "markdown",
   "metadata": {},
   "source": [
    "## Solution"
   ]
  },
  {
   "cell_type": "code",
   "execution_count": null,
   "metadata": {},
   "outputs": [],
   "source": [
    "solve()"
   ]
  }
 ],
 "metadata": {},
 "nbformat": 4,
 "nbformat_minor": 2
}
