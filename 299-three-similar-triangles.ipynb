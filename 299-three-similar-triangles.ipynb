{
 "cells": [
  {
   "cell_type": "markdown",
   "metadata": {},
   "source": [
    "# Three similar triangles\n",
    "## Problem 299 \n",
    "\n",
    "<div class=\"problem_content\" role=\"problem\">\n",
    "<p>Four points with integer coordinates are selected:<br/>A(<var>a</var>,&#160;0), B(<var>b</var>,&#160;0), C(0,&#160;<var>c</var>) and D(0,&#160;<var>d</var>), \n",
    "with 0&#160;&lt;&#160;<var>a</var>&#160;&lt;&#160;<var>b</var> and 0&#160;&lt;&#160;<var>c</var>&#160;&lt;&#160;<var>d</var>.<br/>\n",
    "Point P, also with integer coordinates, is chosen on the line AC so that the three triangles ABP, CDP and BDP are all <dfn title=\"Have equal angles\">similar</dfn>.</p>\n",
    "<div align=\"center\"><img alt=\"p299_ThreeSimTri.gif\" src=\"project/images/p299_ThreeSimTri.gif\"/></div>\n",
    "<p>It is easy to prove that the three triangles can be similar, only if <var>a</var>=<var>c</var>.</p>\n",
    "<p>So, given that <var>a</var>=<var>c</var>, we are looking for triplets (<var>a</var>,<var>b</var>,<var>d</var>) such that at least one point P (with integer coordinates) exists on AC, making the three triangles ABP, CDP and BDP all similar.</p>\n",
    "<p>For example, if (<var>a</var>,<var>b</var>,<var>d</var>)=(2,3,4), it can be easily verified that point P(1,1) satisfies the above condition. \n",
    "Note that the triplets (2,3,4) and (2,4,3) are considered as distinct, although point P(1,1) is common for both.</p>\n",
    "<p>If <var>b</var>+<var>d</var>&#160;&lt;&#160;100, there are 92 distinct triplets (<var>a</var>,<var>b</var>,<var>d</var>) such that point P exists.<br/>\n",
    "If <var>b</var>+<var>d</var>&#160;&lt;&#160;100 000, there are 320471 distinct triplets (<var>a</var>,<var>b</var>,<var>d</var>) such that point P exists.</p>\n",
    "<p>If <var>b</var>+<var>d</var>&#160;&lt;&#160;100 000 000, how many distinct triplets (<var>a</var>,<var>b</var>,<var>d</var>) are there such that point P exists?</p>\n",
    "</div>"
   ]
  },
  {
   "cell_type": "code",
   "execution_count": null,
   "metadata": {},
   "outputs": [],
   "source": [
    "def solve():\n",
    "    # Your code here\n",
    "    \n"
   ]
  },
  {
   "cell_type": "markdown",
   "metadata": {},
   "source": [
    "## Solution"
   ]
  },
  {
   "cell_type": "code",
   "execution_count": null,
   "metadata": {},
   "outputs": [],
   "source": [
    "solve()"
   ]
  }
 ],
 "metadata": {},
 "nbformat": 4,
 "nbformat_minor": 2
}
