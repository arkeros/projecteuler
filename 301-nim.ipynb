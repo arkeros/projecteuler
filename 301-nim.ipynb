{
 "cells": [
  {
   "cell_type": "markdown",
   "metadata": {},
   "source": [
    "# Nim\n",
    "## Problem 301 \n",
    "\n",
    "<div class=\"problem_content\" role=\"problem\">\n",
    "<p><i>Nim</i> is a game played with heaps of stones, where two players take it in turn to remove any number of stones from any heap until no stones remain.</p>\n",
    "<p>We'll consider the three-heap normal-play version of Nim, which works as follows:<br/>\n",
    "- At the start of the game there are three heaps of stones.<br/>\n",
    "- On his turn the player removes any positive number of stones from any single heap.<br/>\n",
    "- The first player unable to move (because no stones remain) loses.</p>\n",
    "<p> If (<var>n</var><sub>1</sub>,<var>n</var><sub>2</sub>,<var>n</var><sub>3</sub>) indicates a Nim position consisting of heaps of size <var>n</var><sub>1</sub>, <var>n</var><sub>2</sub> and <var>n</var><sub>3</sub> then there is a simple function <var>X</var>(<var>n</var><sub>1</sub>,<var>n</var><sub>2</sub>,<var>n</var><sub>3</sub>) &#8212; that you may look up or attempt to deduce for yourself &#8212; that returns:\n",
    "</p><ul><li>zero if, with perfect strategy, the player about to move will eventually lose; or</li>\n",
    "<li>non-zero if, with perfect strategy, the player about to move will eventually win.</li></ul><p>For example <var>X</var>(1,2,3) = 0 because, no matter what the current player does, his opponent can respond with a move that leaves two heaps of equal size, at which point every move by the current player can be mirrored by his opponent until no stones remain; so the current player loses. To illustrate:<br/>\n",
    "- current player moves to (1,2,1)<br/>\n",
    "- opponent moves to (1,0,1)<br/>\n",
    "- current player moves to (0,0,1)<br/>\n",
    "- opponent moves to (0,0,0), and so wins.</p>\n",
    "<p>For how many positive integers <var>n</var>&#8201;&#8804;&#8201;2<sup>30</sup> does <var>X</var>(<var>n</var>,2<var>n</var>,3<var>n</var>) = 0 ?\n",
    "</p>\n",
    "</div>"
   ]
  },
  {
   "cell_type": "code",
   "execution_count": null,
   "metadata": {},
   "outputs": [],
   "source": [
    "def solve():\n",
    "    # Your code here\n",
    "    \n"
   ]
  },
  {
   "cell_type": "markdown",
   "metadata": {},
   "source": [
    "## Solution"
   ]
  },
  {
   "cell_type": "code",
   "execution_count": null,
   "metadata": {},
   "outputs": [],
   "source": [
    "solve()"
   ]
  }
 ],
 "metadata": {},
 "nbformat": 4,
 "nbformat_minor": 2
}
