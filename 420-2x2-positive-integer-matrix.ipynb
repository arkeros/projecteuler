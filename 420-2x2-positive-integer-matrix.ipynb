{
 "cells": [
  {
   "cell_type": "markdown",
   "metadata": {},
   "source": [
    "# 2x2 positive integer matrix\n",
    "## Problem 420 \n",
    "\n",
    "<div class=\"problem_content\" role=\"problem\">\n",
    "<p>A <i>positive integer matrix</i> is a matrix whose elements are all positive integers.<br/>\n",
    "Some positive integer matrices can be expressed as a square of a positive integer matrix in two different ways. Here is an example:</p>\n",
    "<div align=\"center\">\n",
    "<img alt=\"p420_matrix.gif\" src=\"project/images/p420_matrix.gif\"/></div>\n",
    "<p>\n",
    "We define F(<var>N</var>) as the number of the 2x2 positive integer matrices which have a <dfn title=\"the sum of the elements on the main diagonal\">trace</dfn> less than <var>N</var> and which can be expressed as a square of a positive integer matrix in two different ways.<br/>\n",
    "We can verify that F(50) = 7 and F(1000) = 1019.\n",
    "</p>\n",
    "<p>\n",
    "Find F(10<sup>7</sup>).\n",
    "</p>\n",
    "</div>"
   ]
  },
  {
   "cell_type": "code",
   "execution_count": null,
   "metadata": {},
   "outputs": [],
   "source": [
    "def solve():\n",
    "    # Your code here\n",
    "    \n"
   ]
  },
  {
   "cell_type": "markdown",
   "metadata": {},
   "source": [
    "## Solution"
   ]
  },
  {
   "cell_type": "code",
   "execution_count": null,
   "metadata": {},
   "outputs": [],
   "source": [
    "solve()"
   ]
  }
 ],
 "metadata": {},
 "nbformat": 4,
 "nbformat_minor": 2
}
