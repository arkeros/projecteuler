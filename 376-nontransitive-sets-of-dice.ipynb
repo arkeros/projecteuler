{
 "cells": [
  {
   "cell_type": "markdown",
   "metadata": {},
   "source": [
    "# Nontransitive sets of dice\n",
    "## Problem 376 \n",
    "\n",
    "<div class=\"problem_content\" role=\"problem\">\n",
    "<p>\n",
    "Consider the following set of dice with nonstandard pips:\n",
    "</p>\n",
    "<p>\n",
    "Die A: 1 4 4 4 4 4<br/>\n",
    "Die B: 2 2 2 5 5 5<br/>\n",
    "Die C: 3 3 3 3 3 6<br/></p>\n",
    "<p>\n",
    "A game is played by two players picking a die in turn and rolling it. The player who rolls the highest value wins.\n",
    "</p>\n",
    "<p>\n",
    "If the first player picks die A and the second player picks die B we get<br/>\n",
    "P(second player wins) = <sup>7</sup>/<sub>12</sub> &gt; <sup>1</sup>/<sub>2</sub></p>\n",
    "<p>\n",
    "If the first player picks die B and the second player picks die C we get<br/>\n",
    "P(second player wins) = <sup>7</sup>/<sub>12</sub> &gt; <sup>1</sup>/<sub>2</sub></p>\n",
    "<p>\n",
    "If the first player picks die C and the second player picks die A we get<br/>\n",
    "P(second player wins) = <sup>25</sup>/<sub>36</sub> &gt; <sup>1</sup>/<sub>2</sub></p>\n",
    "<p>\n",
    "So whatever die the first player picks, the second player can pick another die and have a larger than 50% chance of winning.<br/>\n",
    "A set of dice having this property is called a <b>nontransitive set of dice</b>.\n",
    "</p>\n",
    "<p>\n",
    "We wish to investigate how many sets of nontransitive dice exist. We will assume the following conditions:</p><ul><li>There are three six-sided dice with each side having between 1 and <var>N</var> pips, inclusive.</li>\n",
    "<li>Dice with the same set of pips are equal, regardless of which side on the die the pips are located.</li>\n",
    "<li>The same pip value may appear on multiple dice; if both players roll the same value neither player wins.</li>\n",
    "<li>The sets of dice {A,B,C}, {B,C,A} and {C,A,B} are the same set.</li>\n",
    "</ul><p>\n",
    "For <var>N</var> = 7 we find there are 9780 such sets.<br/>\n",
    "How many are there for <var>N</var> = 30 ?\n",
    "</p>\n",
    "</div>"
   ]
  },
  {
   "cell_type": "code",
   "execution_count": null,
   "metadata": {},
   "outputs": [],
   "source": [
    "def solve():\n",
    "    # Your code here\n",
    "    \n"
   ]
  },
  {
   "cell_type": "markdown",
   "metadata": {},
   "source": [
    "## Solution"
   ]
  },
  {
   "cell_type": "code",
   "execution_count": null,
   "metadata": {},
   "outputs": [],
   "source": [
    "solve()"
   ]
  }
 ],
 "metadata": {},
 "nbformat": 4,
 "nbformat_minor": 2
}
