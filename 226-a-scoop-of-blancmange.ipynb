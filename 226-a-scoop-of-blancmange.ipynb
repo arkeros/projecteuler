{
 "cells": [
  {
   "cell_type": "markdown",
   "metadata": {},
   "source": [
    "# A Scoop of Blancmange\n",
    "## Problem 226 \n",
    "\n",
    "<div class=\"problem_content\" role=\"problem\">\n",
    "<p>The <i>blancmange curve</i> is the set of points (<var>x</var>,<var>y</var>) such that 0&#8201;&#8804;&#8201;<var>x</var>&#8201;&#8804;&#8201;1 and <img alt=\"\" src=\"project/images/p226_formula.gif\" style=\"vertical-align:middle;\"/> ,<br/>where <var>s</var>(<var>x</var>) = the distance from <var>x</var> to the nearest integer.</p>\n",
    "<p>The area under the blancmange curve is equal to &#189;, shown in pink in the diagram below.</p>\n",
    "<div style=\"text-align:center;\">\n",
    "<img alt=\"blancmange curve\" src=\"project/images/p226_scoop2.gif\"/></div>\n",
    "<p>Let <var>C</var> be the circle with centre (&#188;,&#189;) and radius &#188;, shown in black in the diagram.</p>\n",
    "<p>What area under the blancmange curve is enclosed by <var>C</var>?<br/>Give your answer rounded to eight decimal places in the form <i>0.abcdefgh</i></p>\n",
    "</div>"
   ]
  },
  {
   "cell_type": "code",
   "execution_count": null,
   "metadata": {},
   "outputs": [],
   "source": [
    "def solve():\n",
    "    # Your code here\n",
    "    \n"
   ]
  },
  {
   "cell_type": "markdown",
   "metadata": {},
   "source": [
    "## Solution"
   ]
  },
  {
   "cell_type": "code",
   "execution_count": null,
   "metadata": {},
   "outputs": [],
   "source": [
    "solve()"
   ]
  }
 ],
 "metadata": {},
 "nbformat": 4,
 "nbformat_minor": 2
}
