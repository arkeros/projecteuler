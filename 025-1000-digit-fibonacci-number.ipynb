{
 "cells": [
  {
   "cell_type": "markdown",
   "metadata": {},
   "source": [
    "# 1000-digit Fibonacci number\n",
    "## Problem 25 \n",
    "\n",
    "<div class=\"problem_content\" role=\"problem\">\n",
    "<p>The Fibonacci sequence is defined by the recurrence relation:</p>\n",
    "<blockquote>F<sub><i>n</i></sub> = F<sub><i>n</i>&#8722;1</sub> + F<sub><i>n</i>&#8722;2</sub>, where F<sub>1</sub> = 1 and F<sub>2</sub> = 1.</blockquote>\n",
    "<p>Hence the first 12 terms will be:</p>\n",
    "<blockquote>F<sub>1</sub> = 1<br/>\n",
    "F<sub>2</sub> = 1<br/>\n",
    "F<sub>3</sub> = 2<br/>\n",
    "F<sub>4</sub> = 3<br/>\n",
    "F<sub>5</sub> = 5<br/>\n",
    "F<sub>6</sub> = 8<br/>\n",
    "F<sub>7</sub> = 13<br/>\n",
    "F<sub>8</sub> = 21<br/>\n",
    "F<sub>9</sub> = 34<br/>\n",
    "F<sub>10</sub> = 55<br/>\n",
    "F<sub>11</sub> = 89<br/>\n",
    "F<sub>12</sub> = 144</blockquote>\n",
    "<p>The 12th term, F<sub>12</sub>, is the first term to contain three digits.</p>\n",
    "<p>What is the index of the first term in the Fibonacci sequence to contain 1000 digits?</p>\n",
    "</div>"
   ]
  },
  {
   "cell_type": "code",
   "execution_count": null,
   "metadata": {},
   "outputs": [],
   "source": [
    "def solve():\n",
    "    # Your code here\n",
    "    \n"
   ]
  },
  {
   "cell_type": "markdown",
   "metadata": {},
   "source": [
    "## Solution"
   ]
  },
  {
   "cell_type": "code",
   "execution_count": null,
   "metadata": {},
   "outputs": [],
   "source": [
    "solve()"
   ]
  }
 ],
 "metadata": {},
 "nbformat": 4,
 "nbformat_minor": 2
}
