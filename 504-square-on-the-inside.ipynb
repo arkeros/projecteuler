{
 "cells": [
  {
   "cell_type": "markdown",
   "metadata": {},
   "source": [
    "# Square on the Inside\n",
    "## Problem 504 \n",
    "\n",
    "<div class=\"problem_content\" role=\"problem\">\n",
    "<p>Let <var>ABCD</var> be a quadrilateral whose vertices are lattice points lying on the coordinate axes as follows:</p>\n",
    "<p><var>A</var>(<var>a</var>, 0), <var>B</var>(0, <var>b</var>), <var>C</var>(<var>&#8722;c</var>, 0), <var>D</var>(0, <var>&#8722;d</var>), where 1 &#8804; <var>a</var>, <var>b</var>, <var>c</var>, <var>d</var> &#8804; <var>m</var> and <var>a</var>, <var>b</var>, <var>c</var>, <var>d</var>, <var>m</var> are integers.</p>\n",
    "<p>It can be shown that for <var>m</var> = 4 there are exactly 256 valid ways to construct <var>ABCD</var>. Of these 256 quadrilaterals, 42 of them <u>strictly</u> contain a square number of lattice points.</p>\n",
    "<p>How many quadrilaterals <var>ABCD</var> strictly contain a square number of lattice points for <var>m</var> = 100?</p>\n",
    "</div>"
   ]
  },
  {
   "cell_type": "code",
   "execution_count": null,
   "metadata": {},
   "outputs": [],
   "source": [
    "def solve():\n",
    "    # Your code here\n",
    "    \n"
   ]
  },
  {
   "cell_type": "markdown",
   "metadata": {},
   "source": [
    "## Solution"
   ]
  },
  {
   "cell_type": "code",
   "execution_count": null,
   "metadata": {},
   "outputs": [],
   "source": [
    "solve()"
   ]
  }
 ],
 "metadata": {},
 "nbformat": 4,
 "nbformat_minor": 2
}
