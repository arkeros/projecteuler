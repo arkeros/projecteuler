{
 "cells": [
  {
   "cell_type": "markdown",
   "metadata": {},
   "source": [
    "# Box-ball system\n",
    "## Problem 426 \n",
    "\n",
    "<div class=\"problem_content\" role=\"problem\">\n",
    "<p>\n",
    "Consider an infinite row of boxes. Some of the boxes contain a ball. For example, an initial configuration of 2 consecutive occupied boxes followed by 2 empty boxes, 2 occupied boxes, 1 empty box, and 2 occupied boxes can be denoted by the sequence (2, 2, 2, 1, 2), in which the number of consecutive occupied and empty boxes appear alternately.\n",
    "</p>\n",
    "<p>\n",
    "A turn consists of moving each ball exactly once according to the following rule: Transfer the leftmost ball which has not been moved to the nearest empty box to its right.\n",
    "</p>\n",
    "<p>\n",
    "After one turn the sequence (2, 2, 2, 1, 2) becomes (2, 2, 1, 2, 3) as can be seen below; note that we begin the new sequence starting at the first occupied box.\n",
    "</p>\n",
    "<div align=\"center\">\n",
    "<img alt=\"p426_baxball1.gif\" src=\"project/images/p426_baxball1.gif\"/></div>\n",
    "<p>\n",
    "A system like this is called a <b>Box-Ball System</b> or <b>BBS</b> for short.\n",
    "</p>\n",
    "<p>\n",
    "It can be shown that after a sufficient number of turns, the system evolves to a state where the consecutive numbers of occupied boxes is invariant. In the example below, the consecutive numbers of <b>occupied boxes</b> evolves to [1, 2, 3]; we shall call this the final state.\n",
    "</p>\n",
    "<div align=\"center\">\n",
    "<img alt=\"p426_baxball2.gif\" src=\"project/images/p426_baxball2.gif\"/></div>\n",
    "<p>\n",
    "We define the sequence {<var>t</var><sub><var>i</var></sub>}:<br/></p><ul><li><var>s</var><sub>0</sub> = 290797\n",
    "</li><li><var>s</var><sub><var>k</var>+1</sub> = <var>s</var><sub><var>k</var></sub><sup>2</sup> mod 50515093\n",
    "</li><li><var>t</var><sub><var>k</var></sub> = (<var>s</var><sub><var>k</var></sub> mod 64) + 1\n",
    "</li></ul><p>\n",
    "Starting from the initial configuration (<var>t</var><sub>0</sub>, <var>t</var><sub>1</sub>, &#8230;, <var>t</var><sub>10</sub>), the final state becomes [1, 3, 10, 24, 51, 75].<br/>\n",
    "Starting from the initial configuration (<var>t</var><sub>0</sub>, <var>t</var><sub>1</sub>, &#8230;, <var>t</var><sub>10 000 000</sub>), find the final state.<br/>\n",
    "Give as your answer the sum of the squares of the elements of the final state. For example, if the final state is [1, 2, 3] then 14 ( = 1<sup>2</sup> + 2<sup>2</sup> + 3<sup>2</sup>) is your answer.\n",
    "</p>\n",
    "</div>"
   ]
  },
  {
   "cell_type": "code",
   "execution_count": null,
   "metadata": {},
   "outputs": [],
   "source": [
    "def solve():\n",
    "    # Your code here\n",
    "    \n"
   ]
  },
  {
   "cell_type": "markdown",
   "metadata": {},
   "source": [
    "## Solution"
   ]
  },
  {
   "cell_type": "code",
   "execution_count": null,
   "metadata": {},
   "outputs": [],
   "source": [
    "solve()"
   ]
  }
 ],
 "metadata": {},
 "nbformat": 4,
 "nbformat_minor": 2
}
