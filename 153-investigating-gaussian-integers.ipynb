{
 "cells": [
  {
   "cell_type": "markdown",
   "metadata": {},
   "source": [
    "# Investigating Gaussian Integers\n",
    "## Problem 153 \n",
    "\n",
    "<div class=\"problem_content\" role=\"problem\">\n",
    "<p>As we all know the equation <var>x</var><sup>2</sup>=-1 has no solutions for real <var>x</var>.\n",
    "<br/>\n",
    "If we however introduce the imaginary number <var>i</var> this equation has two solutions: <var>x=i</var> and <var>x=-i</var>.\n",
    "<br/>\n",
    "If we go a step further the equation (<var>x</var>-3)<sup>2</sup>=-4 has two complex solutions: <var>x</var>=3+2<var>i</var> and <var>x</var>=3-2<var>i</var>.\n",
    "<br/><var>x</var>=3+2<var>i</var> and <var>x</var>=3-2<var>i</var> are called each others' complex conjugate.\n",
    "<br/>\n",
    "Numbers of the form <var>a</var>+<var>bi</var> are called complex numbers.\n",
    "<br/>\n",
    "In general <var>a</var>+<var>bi</var> and <var>a</var>&#8722;<var>bi</var> are each other's complex conjugate.</p>\n",
    "<p>A Gaussian Integer is a complex number <var>a</var>+<var>bi</var> such that both <var>a</var> and <var>b</var> are integers.\n",
    "<br/>\n",
    "The regular integers are also Gaussian integers (with <var>b</var>=0).\n",
    "<br/>\n",
    "To distinguish them from Gaussian integers with <var>b</var> &#8800; 0 we call such integers \"rational integers.\"\n",
    "<br/>\n",
    "A Gaussian integer is called a divisor of a rational integer <var>n</var> if the result is also a Gaussian integer.\n",
    "<br/>\n",
    "If for example we divide 5 by 1+2<var>i</var> we can simplify <img alt=\"\" border=\"0\" src=\"project/images/p153_formule1.gif\" style=\"vertical-align:middle;\"/> in the following manner:\n",
    "<br/>\n",
    "Multiply numerator and denominator by the complex conjugate of 1+2<var>i</var>: 1&#8722;2<var>i</var>.\n",
    "<br/>\n",
    "The result is \n",
    "<img alt=\"\" border=\"0\" src=\"project/images/p153_formule2.gif\" style=\"vertical-align:middle;\"/>.\n",
    "<br/>\n",
    "So 1+2<var>i</var> is a divisor of 5.\n",
    "<br/>\n",
    "Note that 1+<var>i</var> is not a divisor of 5 because <img alt=\"\" border=\"0\" src=\"project/images/p153_formule5.gif\" style=\"vertical-align:middle;\"/>.\n",
    "<br/>\n",
    "Note also that if the Gaussian Integer (<var>a</var>+<var>bi</var>) is a divisor of a rational integer <var>n</var>, then its complex conjugate (<var>a</var>&#8722;<var>bi</var>) is also a divisor of <var>n</var>.</p>\n",
    "<p>In fact, 5 has six divisors such that the real part is positive: {1, 1 + 2<var>i</var>, 1 &#8722; 2<var>i</var>, 2 + <var>i</var>, 2 &#8722; <var>i</var>, 5}.\n",
    "<br/>\n",
    "The following is a table of all of the divisors for the first five positive rational integers:</p>\n",
    "<table align=\"center\" border=\"1\"><tr><td width=\"20\">\n",
    "<var>n</var></td><td> Gaussian integer divisors<br/>\n",
    "with positive real part</td><td>Sum s(<var>n</var>) of <br/>these\n",
    "\n",
    "divisors</td></tr><tr><td>1</td><td>1</td><td>1</td>\n",
    "</tr><tr><td>2</td><td>1, 1+<var>i</var>, 1-<var>i</var>, 2</td><td>5</td>\n",
    "</tr><tr><td>3</td><td>1, 3</td><td>4</td>\n",
    "</tr><tr><td>4</td><td>1, 1+<var>i</var>, 1-<var>i</var>, 2, 2+2<var>i</var>, 2-2<var>i</var>,4</td><td>13</td>\n",
    "</tr><tr><td>5</td><td>1, 1+2<var>i</var>, 1-2<var>i</var>, 2+<var>i</var>, 2-<var>i</var>, 5</td><td>12</td>\n",
    "</tr></table><p>For divisors with positive real parts, then, we have: <img alt=\"\" border=\"0\" src=\"project/images/p153_formule6.gif\" style=\"vertical-align:middle;\"/>.</p>\n",
    "<p>For 1 &#8804; <var>n</var> &#8804; 10<sup>5</sup>, &#8721; s(<var>n</var>)=17924657155.</p>\n",
    "<p>What is &#8721; s(<var>n</var>) for 1 &#8804; <var>n</var> &#8804; 10<sup>8</sup>?</p>\n",
    "</div>"
   ]
  },
  {
   "cell_type": "code",
   "execution_count": null,
   "metadata": {},
   "outputs": [],
   "source": [
    "def solve():\n",
    "    # Your code here\n",
    "    \n"
   ]
  },
  {
   "cell_type": "markdown",
   "metadata": {},
   "source": [
    "## Solution"
   ]
  },
  {
   "cell_type": "code",
   "execution_count": null,
   "metadata": {},
   "outputs": [],
   "source": [
    "solve()"
   ]
  }
 ],
 "metadata": {},
 "nbformat": 4,
 "nbformat_minor": 2
}
