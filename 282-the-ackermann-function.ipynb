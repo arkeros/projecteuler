{
 "cells": [
  {
   "cell_type": "markdown",
   "metadata": {},
   "source": [
    "# The Ackermann function\n",
    "## Problem 282 \n",
    "\n",
    "<div class=\"problem_content\" role=\"problem\">\n",
    "<p>\n",
    "For non-negative integers <var>m</var>, <var>n</var>, the Ackermann function <var>A</var>(<var>m</var>, <var>n</var>) is defined as follows:\n",
    "</p>\n",
    "<div align=\"center\"><img alt=\"p282_formula.gif\" src=\"project/images/p282_formula.gif\"/></div>\n",
    "<p>\n",
    "For example <var>A</var>(1, 0) = 2, <var>A</var>(2, 2) = 7 and <var>A</var>(3, 4) = 125.\n",
    "</p>\n",
    "<p>\n",
    "Find <img alt=\"p282formula3.gif\" src=\"project/images/p282formula3.gif\" style=\"vertical-align:middle;\"/><var>A</var>(<var>n</var>, <var>n</var>) and give your answer mod 14<sup>8</sup>.</p>\n",
    "</div>"
   ]
  },
  {
   "cell_type": "code",
   "execution_count": null,
   "metadata": {},
   "outputs": [],
   "source": [
    "def solve():\n",
    "    # Your code here\n",
    "    \n"
   ]
  },
  {
   "cell_type": "markdown",
   "metadata": {},
   "source": [
    "## Solution"
   ]
  },
  {
   "cell_type": "code",
   "execution_count": null,
   "metadata": {},
   "outputs": [],
   "source": [
    "solve()"
   ]
  }
 ],
 "metadata": {},
 "nbformat": 4,
 "nbformat_minor": 2
}
