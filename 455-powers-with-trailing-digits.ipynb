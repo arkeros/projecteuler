{
 "cells": [
  {
   "cell_type": "markdown",
   "metadata": {},
   "source": [
    "# Powers With Trailing Digits\n",
    "## Problem 455 \n",
    "\n",
    "<div class=\"problem_content\" role=\"problem\">\n",
    "<p>Let f(n) be the largest positive integer x less than 10<sup>9</sup> such that the last 9 digits of n<sup>x</sup> form the number <i>x</i> (including leading zeros), or zero if no such integer exists.</p>\n",
    "<p>For example:</p>\n",
    "<ul><li>f(4) = 411728896 (4<sup>411728896</sup> = ...490<u>411728896</u>) </li>\n",
    "<li>f(10) = 0</li>\n",
    "<li>f(157) = 743757 (157<sup>743757</sup> = ...567<u>000743757</u>)</li>\n",
    "<li>&#931;f(n), 2 &#8804; n &#8804; 10<sup>3</sup> = 442530011399</li>\n",
    "</ul><p>Find &#931;f(n), 2 &#8804; n &#8804; 10<sup>6</sup>.</p>\n",
    "</div>"
   ]
  },
  {
   "cell_type": "code",
   "execution_count": null,
   "metadata": {},
   "outputs": [],
   "source": [
    "def solve():\n",
    "    # Your code here\n",
    "    \n"
   ]
  },
  {
   "cell_type": "markdown",
   "metadata": {},
   "source": [
    "## Solution"
   ]
  },
  {
   "cell_type": "code",
   "execution_count": null,
   "metadata": {},
   "outputs": [],
   "source": [
    "solve()"
   ]
  }
 ],
 "metadata": {},
 "nbformat": 4,
 "nbformat_minor": 2
}
