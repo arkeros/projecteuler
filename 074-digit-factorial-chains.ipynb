{
 "cells": [
  {
   "cell_type": "markdown",
   "metadata": {},
   "source": [
    "# Digit factorial chains\n",
    "## Problem 74 \n",
    "\n",
    "<div class=\"problem_content\" role=\"problem\">\n",
    "<p>The number 145 is well known for the property that the sum of the factorial of its digits is equal to 145:</p>\n",
    "<p style=\"margin-left:50px;\">1! + 4! + 5! = 1 + 24 + 120 = 145</p>\n",
    "<p>Perhaps less well known is 169, in that it produces the longest chain of numbers that link back to 169; it turns out that there are only three such loops that exist:</p>\n",
    "<p style=\"margin-left:50px;\">169 &#8594; 363601 &#8594; 1454 &#8594; 169<br/>\n",
    "871 &#8594; 45361 &#8594; 871<br/>\n",
    "872 &#8594; 45362 &#8594; 872</p>\n",
    "<p>It is not difficult to prove that EVERY starting number will eventually get stuck in a loop. For example,</p>\n",
    "<p style=\"margin-left:50px;\">69 &#8594; 363600 &#8594; 1454 &#8594; 169 &#8594; 363601 (&#8594; 1454)<br/>\n",
    "78 &#8594; 45360 &#8594; 871 &#8594; 45361 (&#8594; 871)<br/>\n",
    "540 &#8594; 145 (&#8594; 145)</p>\n",
    "<p>Starting with 69 produces a chain of five non-repeating terms, but the longest non-repeating chain with a starting number below one million is sixty terms.</p>\n",
    "<p>How many chains, with a starting number below one million, contain exactly sixty non-repeating terms?</p>\n",
    "</div>"
   ]
  },
  {
   "cell_type": "code",
   "execution_count": null,
   "metadata": {},
   "outputs": [],
   "source": [
    "def solve():\n",
    "    # Your code here\n",
    "    \n"
   ]
  },
  {
   "cell_type": "markdown",
   "metadata": {},
   "source": [
    "## Solution"
   ]
  },
  {
   "cell_type": "code",
   "execution_count": null,
   "metadata": {},
   "outputs": [],
   "source": [
    "solve()"
   ]
  }
 ],
 "metadata": {},
 "nbformat": 4,
 "nbformat_minor": 2
}
