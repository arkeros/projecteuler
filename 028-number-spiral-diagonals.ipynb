{
 "cells": [
  {
   "cell_type": "markdown",
   "metadata": {},
   "source": [
    "# Number spiral diagonals\n",
    "## Problem 28 \n",
    "\n",
    "<div class=\"problem_content\" role=\"problem\">\n",
    "<p>Starting with the number 1 and moving to the right in a clockwise direction a 5 by 5 spiral is formed as follows:</p>\n",
    "<p style=\"text-align:center;font-family:'courier new';\"><span style=\"color:#ff0000;font-family:'courier new';\"><b>21</b></span> 22 23 24 <span style=\"color:#ff0000;font-family:'courier new';\"><b>25</b></span><br/>\n",
    "20 &#160;<span style=\"color:#ff0000;font-family:'courier new';\"><b>7</b></span> &#160;8 &#160;<span style=\"color:#ff0000;font-family:'courier new';\"><b>9</b></span> 10<br/>\n",
    "19 &#160;6 &#160;<span style=\"color:#ff0000;font-family:'courier new';\"><b>1</b></span> &#160;2 11<br/>\n",
    "18 &#160;<span style=\"color:#ff0000;font-family:'courier new';\"><b>5</b></span> &#160;4 &#160;<span style=\"color:#ff0000;font-family:'courier new';\"><b>3</b></span> 12<br/><span style=\"color:#ff0000;font-family:'courier new';\"><b>17</b></span> 16 15 14 <span style=\"color:#ff0000;font-family:'courier new';\"><b>13</b></span></p>\n",
    "<p>It can be verified that the sum of the numbers on the diagonals is 101.</p>\n",
    "<p>What is the sum of the numbers on the diagonals in a 1001 by 1001 spiral formed in the same way?</p>\n",
    "</div>"
   ]
  },
  {
   "cell_type": "code",
   "execution_count": null,
   "metadata": {},
   "outputs": [],
   "source": [
    "def solve():\n",
    "    # Your code here\n",
    "    \n"
   ]
  },
  {
   "cell_type": "markdown",
   "metadata": {},
   "source": [
    "## Solution"
   ]
  },
  {
   "cell_type": "code",
   "execution_count": null,
   "metadata": {},
   "outputs": [],
   "source": [
    "solve()"
   ]
  }
 ],
 "metadata": {},
 "nbformat": 4,
 "nbformat_minor": 2
}
