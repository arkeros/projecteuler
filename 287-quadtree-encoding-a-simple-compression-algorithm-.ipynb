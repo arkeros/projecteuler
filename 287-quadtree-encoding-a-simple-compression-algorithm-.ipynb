{
 "cells": [
  {
   "cell_type": "markdown",
   "metadata": {},
   "source": [
    "# Quadtree encoding (a simple compression algorithm)\n",
    "## Problem 287 \n",
    "\n",
    "<div class=\"problem_content\" role=\"problem\">\n",
    "<p>The quadtree encoding allows us to describe a 2<sup><var>N</var></sup>&#215;2<sup><var>N</var></sup>  black and white image as a sequence of bits (0 and 1). Those sequences are to be read from left to right like this:\n",
    "</p><ul><li>the first bit deals with the complete 2<sup><var>N</var></sup>&#215;2<sup><var>N</var></sup> region;</li>\n",
    "<li>\"0\" denotes a split:\n",
    "<br/>the current 2<sup><var>n</var></sup>&#215;2<sup><var>n</var></sup> region is divided into 4 sub-regions of dimension 2<sup><var>n</var>-1</sup>&#215;2<sup><var>n</var>-1</sup>,<br/>\n",
    "the next bits contains the description of the top left, top right, bottom left and bottom right sub-regions - in that order;</li>\n",
    "<li>\"10\" indicates that the current region contains only black pixels;</li>\n",
    "<li>\"11\" indicates that the current region contains only white pixels.</li></ul><p>Consider the following 4&#215;4 image (colored marks denote places where a split can occur):</p>\n",
    "<div align=\"center\"><img alt=\"p287_quadtree.gif\" src=\"project/images/p287_quadtree.gif\"/></div>\n",
    "<p>This image can be described by several sequences, for example :\n",
    "\"<span style=\"color:#FF0000;\"><b>0</b></span><span style=\"color:#0000FF;\"><b>0</b></span>10101010<span style=\"color:#008000;\"><b>0</b></span>1011111011<span style=\"color:#FFA500;\"><b>0</b></span>10101010\", of length 30, or<br/>\n",
    "\"<span style=\"color:#FF0000;\"><b>0</b></span>10<span style=\"color:#008000;\"><b>0</b></span>101111101110\", of length 16, which is the minimal sequence for this image.</p>\n",
    "<p>For a positive integer <var>N</var>, define <var>D<sub>N</sub></var> as the 2<sup><var>N</var></sup>&#215;2<sup><var>N</var></sup> image with the following coloring scheme:\n",
    "</p><ul><li>the pixel with coordinates <var>x</var>&#8201;=&#8201;0, <var>y</var>&#8201;=&#8201;0 corresponds to the bottom left pixel,</li>\n",
    "<li>if (<var>x</var>&#8201;-&#8201;2<sup><var>N</var>-1</sup>)<sup>2</sup>&#8201;+&#8201;(<var>y</var>&#8201;-&#8201;2<sup><var>N</var>-1</sup>)<sup>2</sup>&#8201;&#8804;&#8201;2<sup>2<var>N</var>-2</sup> then the pixel is black,</li>\n",
    "<li>otherwise the pixel is white.</li></ul><p>What is the length of the minimal sequence describing <var>D</var><sub>24</sub>&#8201;?</p>\n",
    "</div>"
   ]
  },
  {
   "cell_type": "code",
   "execution_count": null,
   "metadata": {},
   "outputs": [],
   "source": [
    "def solve():\n",
    "    # Your code here\n",
    "    \n"
   ]
  },
  {
   "cell_type": "markdown",
   "metadata": {},
   "source": [
    "## Solution"
   ]
  },
  {
   "cell_type": "code",
   "execution_count": null,
   "metadata": {},
   "outputs": [],
   "source": [
    "solve()"
   ]
  }
 ],
 "metadata": {},
 "nbformat": 4,
 "nbformat_minor": 2
}
